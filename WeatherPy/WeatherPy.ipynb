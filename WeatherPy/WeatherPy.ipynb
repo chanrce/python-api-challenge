{
 "cells": [
  {
   "cell_type": "markdown",
   "metadata": {},
   "source": [
    "# WeatherPy\n",
    "----\n",
    "\n",
    "#### Note\n",
    "* Instructions have been included for each segment. You do not have to follow them exactly, but they are included to help you think through the steps."
   ]
  },
  {
   "cell_type": "code",
   "execution_count": 1,
   "metadata": {
    "scrolled": true
   },
   "outputs": [],
   "source": [
    "# Dependencies and Setup\n",
    "import matplotlib.pyplot as plt\n",
    "import pandas as pd\n",
    "import numpy as np\n",
    "import requests\n",
    "import time\n",
    "from scipy.stats import linregress\n",
    "import json\n",
    "import datetime\n",
    "\n",
    "# Import API key\n",
    "from api_keys_1 import weather_api_key\n",
    "\n",
    "# Incorporated citipy to determine city based on latitude and longitude\n",
    "from citipy import citipy\n",
    "\n",
    "# Output File (CSV)\n",
    "output_data_file = \"output_data/cities.csv\"\n",
    "\n",
    "# Range of latitudes and longitudes\n",
    "lat_range = (-90, 90)\n",
    "lng_range = (-180, 180)"
   ]
  },
  {
   "cell_type": "markdown",
   "metadata": {},
   "source": [
    "## Generate Cities List"
   ]
  },
  {
   "cell_type": "code",
   "execution_count": 2,
   "metadata": {},
   "outputs": [
    {
     "data": {
      "text/plain": [
       "582"
      ]
     },
     "execution_count": 2,
     "metadata": {},
     "output_type": "execute_result"
    }
   ],
   "source": [
    "# List for holding lat_lngs and cities\n",
    "lat_lngs = []\n",
    "cities = []\n",
    "\n",
    "# Create a set of random lat and lng combinations\n",
    "lats = np.random.uniform(lat_range[0], lat_range[1], size=1500)\n",
    "lngs = np.random.uniform(lng_range[0], lng_range[1], size=1500)\n",
    "lat_lngs = zip(lats, lngs)\n",
    "\n",
    "# Identify nearest city for each lat, lng combination\n",
    "for lat_lng in lat_lngs:\n",
    "    city = citipy.nearest_city(lat_lng[0], lat_lng[1]).city_name\n",
    "    \n",
    "    # If the city is unique, then add it to a our cities list\n",
    "    if city not in cities:\n",
    "        cities.append(city)\n",
    "\n",
    "# Print the city count to confirm sufficient count\n",
    "len(cities)"
   ]
  },
  {
   "cell_type": "code",
   "execution_count": 3,
   "metadata": {
    "scrolled": false
   },
   "outputs": [],
   "source": [
    "#cities"
   ]
  },
  {
   "cell_type": "code",
   "execution_count": 4,
   "metadata": {},
   "outputs": [],
   "source": [
    "original_cities = cities\n",
    "#cities =[\"London\", \"Boston\",\"Cape Town\", \"Sydney\", \"Rachel City\"]"
   ]
  },
  {
   "cell_type": "markdown",
   "metadata": {},
   "source": [
    "## Perform API Calls\n",
    "* Perform a weather check on each city using a series of successive API calls.\n",
    "* Include a print log of each city as it'sbeing processed (with the city number and city name).\n"
   ]
  },
  {
   "cell_type": "code",
   "execution_count": 5,
   "metadata": {},
   "outputs": [],
   "source": [
    "# Save config information.\n",
    "url = \"http://api.openweathermap.org/data/2.5/weather?\"\n",
    "units = \"imperial\"\n",
    "\n",
    "# Build partial query URL. PUT THIS IN FOR LOOP.\n",
    "query_url = url + \"appid=\"+ weather_api_key + \"&q=\" + city\n"
   ]
  },
  {
   "cell_type": "code",
   "execution_count": 6,
   "metadata": {},
   "outputs": [],
   "source": [
    "# #Looking at json print to see categories on test city, London\n",
    "# test_query_url = f\"{url}appid={weather_api_key}&units={units}&q={testcity}\"\n",
    "# testcity = \"London\"\n",
    "# weather_response = requests.get(test_query_url)\n",
    "# weather_json = weather_response.json()\n",
    "# print(json.dumps(weather_json, indent=2))"
   ]
  },
  {
   "cell_type": "code",
   "execution_count": 7,
   "metadata": {},
   "outputs": [
    {
     "name": "stdout",
     "output_type": "stream",
     "text": [
      "Beginning Data Retrieval\n",
      "------------------------\n",
      "Processing Record 1 of Set 1 | mahebourg\n",
      "Processing Record 2 of Set 1 | tasiilaq\n",
      "Processing Record 3 of Set 1 | bluff\n",
      "Processing Record 4 of Set 1 | geraldton\n",
      "City attawapiskat not found. Skipping...\n",
      "Processing Record 5 of Set 1 | mataura\n",
      "Processing Record 6 of Set 1 | biak\n",
      "City kamenskoye not found. Skipping...\n",
      "Processing Record 7 of Set 1 | ushuaia\n",
      "Processing Record 8 of Set 1 | kadyy\n",
      "Processing Record 9 of Set 1 | kaitangata\n",
      "Processing Record 10 of Set 1 | lasa\n",
      "Processing Record 11 of Set 1 | kapaa\n",
      "Processing Record 12 of Set 1 | saint-philippe\n",
      "Processing Record 13 of Set 1 | luwuk\n",
      "Processing Record 14 of Set 1 | souillac\n",
      "Processing Record 15 of Set 1 | rikitea\n",
      "Processing Record 16 of Set 1 | haines junction\n",
      "Processing Record 17 of Set 1 | garissa\n",
      "Processing Record 18 of Set 1 | tuktoyaktuk\n",
      "City el faiyum not found. Skipping...\n",
      "Processing Record 19 of Set 1 | khanewal\n",
      "City urdzhar not found. Skipping...\n",
      "Processing Record 20 of Set 1 | ancud\n",
      "Processing Record 21 of Set 1 | jamestown\n",
      "Processing Record 22 of Set 1 | albany\n",
      "Processing Record 23 of Set 1 | new norfolk\n",
      "Processing Record 24 of Set 1 | georgetown\n",
      "Processing Record 25 of Set 1 | vaini\n",
      "Processing Record 26 of Set 1 | aklavik\n",
      "Processing Record 27 of Set 1 | hobart\n",
      "Processing Record 28 of Set 1 | port alfred\n",
      "Processing Record 29 of Set 1 | vanavara\n",
      "Processing Record 30 of Set 1 | suntar\n",
      "Processing Record 31 of Set 1 | santa clarita\n",
      "Processing Record 32 of Set 1 | tiksi\n",
      "Processing Record 33 of Set 1 | bambous virieux\n",
      "Processing Record 34 of Set 1 | bethel\n",
      "Processing Record 35 of Set 1 | esperance\n",
      "Processing Record 36 of Set 1 | nikolskoye\n",
      "Processing Record 37 of Set 1 | pocoes\n",
      "Processing Record 38 of Set 1 | kodiak\n",
      "Processing Record 39 of Set 1 | gao\n",
      "Processing Record 40 of Set 1 | carnarvon\n",
      "Processing Record 41 of Set 1 | luderitz\n",
      "Processing Record 42 of Set 1 | marzuq\n",
      "Processing Record 43 of Set 1 | tautira\n",
      "Processing Record 44 of Set 1 | pangnirtung\n",
      "City taolanaro not found. Skipping...\n",
      "Processing Record 45 of Set 1 | arraial do cabo\n",
      "Processing Record 46 of Set 1 | bahia blanca\n",
      "City linshu not found. Skipping...\n",
      "Processing Record 47 of Set 1 | shelburne\n",
      "Processing Record 48 of Set 1 | bodden town\n",
      "Processing Record 49 of Set 1 | aquidaba\n",
      "Processing Record 50 of Set 1 | henderson\n",
      "Processing Record 1 of Set 2 | mercedes\n",
      "Processing Record 2 of Set 2 | sorland\n",
      "Processing Record 3 of Set 2 | port macquarie\n",
      "City barentsburg not found. Skipping...\n",
      "Processing Record 4 of Set 2 | kieta\n",
      "Processing Record 5 of Set 2 | saskylakh\n",
      "Processing Record 6 of Set 2 | cape town\n",
      "Processing Record 7 of Set 2 | daru\n",
      "Processing Record 8 of Set 2 | raudeberg\n",
      "Processing Record 9 of Set 2 | port lincoln\n",
      "Processing Record 10 of Set 2 | sur\n",
      "Processing Record 11 of Set 2 | whyalla\n",
      "Processing Record 12 of Set 2 | chokurdakh\n",
      "Processing Record 13 of Set 2 | hilo\n",
      "Processing Record 14 of Set 2 | puerto ayora\n",
      "Processing Record 15 of Set 2 | khatanga\n",
      "Processing Record 16 of Set 2 | busselton\n",
      "Processing Record 17 of Set 2 | ponta do sol\n",
      "Processing Record 18 of Set 2 | thompson\n",
      "Processing Record 19 of Set 2 | provideniya\n",
      "City viligili not found. Skipping...\n",
      "City nizhneyansk not found. Skipping...\n",
      "City lolua not found. Skipping...\n",
      "Processing Record 20 of Set 2 | airai\n",
      "Processing Record 21 of Set 2 | alytus\n",
      "Processing Record 22 of Set 2 | brae\n",
      "Processing Record 23 of Set 2 | velikodvorskiy\n",
      "City illoqqortoormiut not found. Skipping...\n",
      "Processing Record 24 of Set 2 | sisimiut\n",
      "Processing Record 25 of Set 2 | hithadhoo\n",
      "Processing Record 26 of Set 2 | punta arenas\n",
      "Processing Record 27 of Set 2 | rio grande\n",
      "City palabuhanratu not found. Skipping...\n",
      "Processing Record 28 of Set 2 | charters towers\n",
      "Processing Record 29 of Set 2 | mtwara\n",
      "Processing Record 30 of Set 2 | masagua\n",
      "Processing Record 31 of Set 2 | atuona\n",
      "Processing Record 32 of Set 2 | seydi\n",
      "Processing Record 33 of Set 2 | torbay\n",
      "Processing Record 34 of Set 2 | moron\n",
      "Processing Record 35 of Set 2 | coihaique\n",
      "Processing Record 36 of Set 2 | along\n",
      "Processing Record 37 of Set 2 | sao jose da coroa grande\n",
      "City yuzhno-yeniseyskiy not found. Skipping...\n",
      "Processing Record 38 of Set 2 | praia da vitoria\n",
      "Processing Record 39 of Set 2 | barrow\n",
      "Processing Record 40 of Set 2 | henties bay\n",
      "Processing Record 41 of Set 2 | barcelos\n",
      "Processing Record 42 of Set 2 | hochstadt\n",
      "Processing Record 43 of Set 2 | avarua\n",
      "Processing Record 44 of Set 2 | mount gambier\n",
      "Processing Record 45 of Set 2 | nome\n",
      "Processing Record 46 of Set 2 | batemans bay\n",
      "Processing Record 47 of Set 2 | port hardy\n",
      "Processing Record 48 of Set 2 | port elizabeth\n",
      "Processing Record 49 of Set 2 | kavieng\n",
      "Processing Record 50 of Set 2 | evensk\n",
      "Processing Record 1 of Set 3 | pevek\n",
      "Processing Record 2 of Set 3 | dikson\n",
      "Processing Record 3 of Set 3 | lebu\n",
      "Processing Record 4 of Set 3 | ribeira grande\n",
      "Processing Record 5 of Set 3 | aban\n",
      "Processing Record 6 of Set 3 | camacupa\n",
      "Processing Record 7 of Set 3 | mar del plata\n",
      "City louisbourg not found. Skipping...\n",
      "Processing Record 8 of Set 3 | sao felix do xingu\n",
      "Processing Record 9 of Set 3 | alvaraes\n",
      "Processing Record 10 of Set 3 | porangatu\n",
      "Processing Record 11 of Set 3 | siloam springs\n",
      "City tsihombe not found. Skipping...\n",
      "Processing Record 12 of Set 3 | mindelo\n",
      "Processing Record 13 of Set 3 | butaritari\n",
      "Processing Record 14 of Set 3 | clyde river\n",
      "Processing Record 15 of Set 3 | bredasdorp\n",
      "Processing Record 16 of Set 3 | kruisfontein\n",
      "Processing Record 17 of Set 3 | tomatlan\n",
      "Processing Record 18 of Set 3 | hermanus\n",
      "Processing Record 19 of Set 3 | tarifa\n",
      "Processing Record 20 of Set 3 | diego de almagro\n",
      "Processing Record 21 of Set 3 | goderich\n",
      "Processing Record 22 of Set 3 | buta\n",
      "Processing Record 23 of Set 3 | qandala\n",
      "Processing Record 24 of Set 3 | maridi\n",
      "City umzimvubu not found. Skipping...\n",
      "Processing Record 25 of Set 3 | hamilton\n",
      "Processing Record 26 of Set 3 | qaanaaq\n",
      "Processing Record 27 of Set 3 | liuzhou\n",
      "Processing Record 28 of Set 3 | pachino\n",
      "Processing Record 29 of Set 3 | vila franca do campo\n",
      "Processing Record 30 of Set 3 | weligama\n",
      "Processing Record 31 of Set 3 | chuy\n",
      "Processing Record 32 of Set 3 | yellowknife\n",
      "City halalo not found. Skipping...\n",
      "City cagayan de tawi-tawi not found. Skipping...\n",
      "Processing Record 33 of Set 3 | lata\n",
      "Processing Record 34 of Set 3 | renqiu\n",
      "Processing Record 35 of Set 3 | santana do mundau\n",
      "City belushya guba not found. Skipping...\n",
      "Processing Record 36 of Set 3 | tilichiki\n",
      "Processing Record 37 of Set 3 | thinadhoo\n",
      "City sentyabrskiy not found. Skipping...\n",
      "Processing Record 38 of Set 3 | christchurch\n",
      "Processing Record 39 of Set 3 | ribeira brava\n",
      "Processing Record 40 of Set 3 | mugur-aksy\n",
      "Processing Record 41 of Set 3 | kenai\n",
      "Processing Record 42 of Set 3 | bathsheba\n",
      "Processing Record 43 of Set 3 | isangel\n",
      "Processing Record 44 of Set 3 | klaksvik\n",
      "Processing Record 45 of Set 3 | elizabeth city\n",
      "Processing Record 46 of Set 3 | iquique\n",
      "Processing Record 47 of Set 3 | santa cruz\n",
      "Processing Record 48 of Set 3 | sobolevo\n",
      "Processing Record 49 of Set 3 | avera\n",
      "Processing Record 50 of Set 3 | castro\n",
      "Processing Record 1 of Set 4 | iqaluit\n",
      "City eldikan not found. Skipping...\n",
      "Processing Record 2 of Set 4 | whitianga\n",
      "Processing Record 3 of Set 4 | opuwo\n",
      "Processing Record 4 of Set 4 | palmer\n",
      "Processing Record 5 of Set 4 | ahipara\n",
      "Processing Record 6 of Set 4 | gamba\n",
      "Processing Record 7 of Set 4 | mehamn\n",
      "Processing Record 8 of Set 4 | monastyrshchina\n",
      "City samusu not found. Skipping...\n",
      "Processing Record 9 of Set 4 | east london\n",
      "Processing Record 10 of Set 4 | songwa\n",
      "Processing Record 11 of Set 4 | nyurba\n",
      "Processing Record 12 of Set 4 | xining\n",
      "City ruatoria not found. Skipping...\n",
      "Processing Record 13 of Set 4 | xuanhua\n",
      "Processing Record 14 of Set 4 | terrace\n",
      "Processing Record 15 of Set 4 | mayo\n",
      "Processing Record 16 of Set 4 | grand gaube\n",
      "Processing Record 17 of Set 4 | dalvik\n",
      "Processing Record 18 of Set 4 | rawson\n",
      "City tumannyy not found. Skipping...\n",
      "Processing Record 19 of Set 4 | constitucion\n",
      "Processing Record 20 of Set 4 | acapulco\n",
      "Processing Record 21 of Set 4 | cherskiy\n",
      "Processing Record 22 of Set 4 | mundo nuevo\n",
      "Processing Record 23 of Set 4 | lorengau\n",
      "Processing Record 24 of Set 4 | cirie\n",
      "City candawaga not found. Skipping...\n",
      "Processing Record 25 of Set 4 | dingle\n"
     ]
    },
    {
     "name": "stdout",
     "output_type": "stream",
     "text": [
      "Processing Record 26 of Set 4 | cidreira\n",
      "Processing Record 27 of Set 4 | elat\n",
      "City karaul not found. Skipping...\n",
      "Processing Record 28 of Set 4 | pietermaritzburg\n",
      "Processing Record 29 of Set 4 | xingyi\n",
      "Processing Record 30 of Set 4 | synya\n",
      "Processing Record 31 of Set 4 | kamenka\n",
      "Processing Record 32 of Set 4 | mandalgovi\n",
      "Processing Record 33 of Set 4 | college\n",
      "Processing Record 34 of Set 4 | anyang\n",
      "Processing Record 35 of Set 4 | batouri\n",
      "Processing Record 36 of Set 4 | torbat-e jam\n",
      "Processing Record 37 of Set 4 | chengde\n",
      "Processing Record 38 of Set 4 | san cristobal\n",
      "Processing Record 39 of Set 4 | hasaki\n",
      "City saleaula not found. Skipping...\n",
      "City bargal not found. Skipping...\n",
      "Processing Record 40 of Set 4 | salalah\n",
      "City mys shmidta not found. Skipping...\n",
      "Processing Record 41 of Set 4 | saint-joseph\n",
      "Processing Record 42 of Set 4 | coquimbo\n",
      "Processing Record 43 of Set 4 | poum\n",
      "Processing Record 44 of Set 4 | ust-kuyga\n",
      "Processing Record 45 of Set 4 | nenjiang\n",
      "Processing Record 46 of Set 4 | colares\n",
      "Processing Record 47 of Set 4 | kovdor\n",
      "Processing Record 48 of Set 4 | husavik\n",
      "Processing Record 49 of Set 4 | norman wells\n",
      "City ngukurr not found. Skipping...\n",
      "Processing Record 50 of Set 4 | taitung\n",
      "Processing Record 1 of Set 5 | langfang\n",
      "Processing Record 2 of Set 5 | leningradskiy\n",
      "Processing Record 3 of Set 5 | asau\n",
      "Processing Record 4 of Set 5 | san rafael\n",
      "Processing Record 5 of Set 5 | brookings\n",
      "Processing Record 6 of Set 5 | hasilpur\n",
      "Processing Record 7 of Set 5 | vaxjo\n",
      "City vaitupu not found. Skipping...\n",
      "Processing Record 8 of Set 5 | denpasar\n",
      "Processing Record 9 of Set 5 | longyearbyen\n",
      "Processing Record 10 of Set 5 | saint-pierre\n",
      "Processing Record 11 of Set 5 | puerto del rosario\n",
      "Processing Record 12 of Set 5 | pochutla\n",
      "Processing Record 13 of Set 5 | grindavik\n",
      "Processing Record 14 of Set 5 | vicuna\n",
      "Processing Record 15 of Set 5 | touros\n",
      "Processing Record 16 of Set 5 | sterling\n",
      "Processing Record 17 of Set 5 | severo-kurilsk\n",
      "Processing Record 18 of Set 5 | merauke\n",
      "Processing Record 19 of Set 5 | tarrafal\n",
      "Processing Record 20 of Set 5 | kulhudhuffushi\n",
      "Processing Record 21 of Set 5 | bereznik\n",
      "Processing Record 22 of Set 5 | kiama\n",
      "Processing Record 23 of Set 5 | machali\n",
      "Processing Record 24 of Set 5 | laguna\n",
      "Processing Record 25 of Set 5 | adrar\n",
      "Processing Record 26 of Set 5 | ontario\n",
      "Processing Record 27 of Set 5 | caravelas\n",
      "Processing Record 28 of Set 5 | hokitika\n",
      "Processing Record 29 of Set 5 | sao filipe\n",
      "Processing Record 30 of Set 5 | paita\n",
      "Processing Record 31 of Set 5 | bandarbeyla\n",
      "Processing Record 32 of Set 5 | camacha\n",
      "Processing Record 33 of Set 5 | mangrol\n",
      "Processing Record 34 of Set 5 | damara\n",
      "Processing Record 35 of Set 5 | takhatpur\n",
      "Processing Record 36 of Set 5 | redlands\n",
      "Processing Record 37 of Set 5 | san patricio\n",
      "Processing Record 38 of Set 5 | talnakh\n",
      "Processing Record 39 of Set 5 | tshela\n",
      "Processing Record 40 of Set 5 | bubaque\n",
      "Processing Record 41 of Set 5 | guane\n",
      "Processing Record 42 of Set 5 | luganville\n",
      "Processing Record 43 of Set 5 | shingu\n",
      "Processing Record 44 of Set 5 | nunoa\n",
      "Processing Record 45 of Set 5 | lumby\n",
      "Processing Record 46 of Set 5 | hohhot\n",
      "Processing Record 47 of Set 5 | agucadoura\n",
      "Processing Record 48 of Set 5 | te anau\n",
      "Processing Record 49 of Set 5 | chilliwack\n",
      "Processing Record 50 of Set 5 | jian\n",
      "City lushunkou not found. Skipping...\n",
      "Processing Record 1 of Set 6 | athabasca\n",
      "Processing Record 2 of Set 6 | cabo san lucas\n",
      "Processing Record 3 of Set 6 | meulaboh\n",
      "Processing Record 4 of Set 6 | aktash\n",
      "Processing Record 5 of Set 6 | buala\n",
      "City falaleu not found. Skipping...\n",
      "Processing Record 6 of Set 6 | zhigansk\n",
      "Processing Record 7 of Set 6 | guerrero negro\n",
      "Processing Record 8 of Set 6 | awbari\n",
      "Processing Record 9 of Set 6 | nouakchott\n",
      "Processing Record 10 of Set 6 | banjar\n",
      "Processing Record 11 of Set 6 | flin flon\n",
      "Processing Record 12 of Set 6 | tukrah\n",
      "Processing Record 13 of Set 6 | kipushi\n",
      "Processing Record 14 of Set 6 | cassilandia\n",
      "Processing Record 15 of Set 6 | yerbogachen\n",
      "Processing Record 16 of Set 6 | cayenne\n",
      "Processing Record 17 of Set 6 | lesnikovo\n",
      "Processing Record 18 of Set 6 | lompoc\n",
      "Processing Record 19 of Set 6 | great bend\n",
      "City amderma not found. Skipping...\n",
      "Processing Record 20 of Set 6 | telde\n",
      "Processing Record 21 of Set 6 | pathein\n",
      "Processing Record 22 of Set 6 | puerto ayacucho\n",
      "Processing Record 23 of Set 6 | trairi\n",
      "Processing Record 24 of Set 6 | anadyr\n",
      "Processing Record 25 of Set 6 | fort nelson\n",
      "Processing Record 26 of Set 6 | clinton\n",
      "Processing Record 27 of Set 6 | vestmannaeyjar\n",
      "Processing Record 28 of Set 6 | berlevag\n",
      "Processing Record 29 of Set 6 | muravlenko\n",
      "Processing Record 30 of Set 6 | floresta\n",
      "Processing Record 31 of Set 6 | kyaukse\n",
      "Processing Record 32 of Set 6 | mombetsu\n",
      "Processing Record 33 of Set 6 | sikonge\n",
      "Processing Record 34 of Set 6 | ust-nera\n",
      "Processing Record 35 of Set 6 | iralaya\n",
      "Processing Record 36 of Set 6 | fairbanks\n",
      "Processing Record 37 of Set 6 | oxapampa\n",
      "Processing Record 38 of Set 6 | kayes\n",
      "Processing Record 39 of Set 6 | umm lajj\n",
      "Processing Record 40 of Set 6 | liwale\n",
      "Processing Record 41 of Set 6 | kincardine\n",
      "Processing Record 42 of Set 6 | moses lake\n",
      "Processing Record 43 of Set 6 | great falls\n",
      "Processing Record 44 of Set 6 | lyuban\n",
      "Processing Record 45 of Set 6 | newton\n",
      "Processing Record 46 of Set 6 | weyburn\n",
      "Processing Record 47 of Set 6 | kaka\n",
      "Processing Record 48 of Set 6 | sitka\n",
      "Processing Record 49 of Set 6 | la tuque\n",
      "Processing Record 50 of Set 6 | zanesville\n",
      "Processing Record 1 of Set 7 | marsa matruh\n",
      "Processing Record 2 of Set 7 | richards bay\n",
      "Processing Record 3 of Set 7 | puerto madryn\n",
      "Processing Record 4 of Set 7 | nalut\n",
      "Processing Record 5 of Set 7 | shenjiamen\n",
      "Processing Record 6 of Set 7 | miraflores\n",
      "Processing Record 7 of Set 7 | maloy\n",
      "Processing Record 8 of Set 7 | cockburn town\n",
      "Processing Record 9 of Set 7 | upernavik\n",
      "Processing Record 10 of Set 7 | abu zabad\n",
      "Processing Record 11 of Set 7 | cabatuan\n",
      "Processing Record 12 of Set 7 | westport\n",
      "Processing Record 13 of Set 7 | ogori\n",
      "Processing Record 14 of Set 7 | abu kamal\n",
      "Processing Record 15 of Set 7 | springdale\n",
      "Processing Record 16 of Set 7 | camopi\n",
      "Processing Record 17 of Set 7 | puerto carreno\n",
      "Processing Record 18 of Set 7 | vardo\n",
      "Processing Record 19 of Set 7 | alofi\n",
      "Processing Record 20 of Set 7 | saldanha\n",
      "Processing Record 21 of Set 7 | komsomolskiy\n",
      "Processing Record 22 of Set 7 | lumut\n",
      "Processing Record 23 of Set 7 | severnyy\n",
      "Processing Record 24 of Set 7 | kavaratti\n",
      "City formoso do araguaia not found. Skipping...\n",
      "Processing Record 25 of Set 7 | dunedin\n",
      "Processing Record 26 of Set 7 | saint-gedeon\n",
      "Processing Record 27 of Set 7 | salisbury\n",
      "Processing Record 28 of Set 7 | kargil\n",
      "City grand river south east not found. Skipping...\n",
      "Processing Record 29 of Set 7 | belaya gora\n",
      "Processing Record 30 of Set 7 | sokoni\n",
      "City sedelnikovo not found. Skipping...\n",
      "Processing Record 31 of Set 7 | mayumba\n",
      "Processing Record 32 of Set 7 | takoradi\n",
      "Processing Record 33 of Set 7 | saint-francois\n",
      "Processing Record 34 of Set 7 | nadbai\n",
      "Processing Record 35 of Set 7 | port hawkesbury\n",
      "Processing Record 36 of Set 7 | namibe\n",
      "Processing Record 37 of Set 7 | green river\n",
      "City inderborskiy not found. Skipping...\n",
      "Processing Record 38 of Set 7 | itoman\n",
      "Processing Record 39 of Set 7 | vostok\n",
      "Processing Record 40 of Set 7 | omboue\n",
      "Processing Record 41 of Set 7 | north bend\n",
      "City bengkalis not found. Skipping...\n",
      "Processing Record 42 of Set 7 | hambantota\n",
      "Processing Record 43 of Set 7 | port-gentil\n",
      "Processing Record 44 of Set 7 | taunggyi\n",
      "Processing Record 45 of Set 7 | quang ngai\n",
      "City mrirt not found. Skipping...\n",
      "Processing Record 46 of Set 7 | francisco beltrao\n",
      "Processing Record 47 of Set 7 | bengkulu\n",
      "Processing Record 48 of Set 7 | ust-koksa\n",
      "Processing Record 49 of Set 7 | los llanos de aridane\n",
      "Processing Record 50 of Set 7 | ojinaga\n",
      "Processing Record 1 of Set 8 | general roca\n",
      "Processing Record 2 of Set 8 | sinnamary\n",
      "Processing Record 3 of Set 8 | half moon bay\n",
      "Processing Record 4 of Set 8 | naron\n",
      "Processing Record 5 of Set 8 | deputatskiy\n",
      "Processing Record 6 of Set 8 | vredefort\n",
      "Processing Record 7 of Set 8 | yar-sale\n",
      "City uk not found. Skipping...\n",
      "Processing Record 8 of Set 8 | okhotsk\n",
      "Processing Record 9 of Set 8 | maarianhamina\n"
     ]
    },
    {
     "name": "stdout",
     "output_type": "stream",
     "text": [
      "Processing Record 10 of Set 8 | mazatlan\n",
      "Processing Record 11 of Set 8 | pisco\n",
      "Processing Record 12 of Set 8 | koslan\n",
      "Processing Record 13 of Set 8 | ozernovskiy\n",
      "Processing Record 14 of Set 8 | chateaubelair\n",
      "Processing Record 15 of Set 8 | beni suef\n",
      "Processing Record 16 of Set 8 | saquarema\n",
      "Processing Record 17 of Set 8 | huarmey\n",
      "Processing Record 18 of Set 8 | stawell\n",
      "Processing Record 19 of Set 8 | butembo\n",
      "Processing Record 20 of Set 8 | yakeshi\n",
      "Processing Record 21 of Set 8 | pangai\n",
      "Processing Record 22 of Set 8 | naze\n",
      "City santa eulalia del rio not found. Skipping...\n",
      "Processing Record 23 of Set 8 | mareeba\n",
      "Processing Record 24 of Set 8 | hastings\n",
      "Processing Record 25 of Set 8 | roald\n",
      "Processing Record 26 of Set 8 | kaeo\n",
      "Processing Record 27 of Set 8 | coahuayana\n",
      "Processing Record 28 of Set 8 | srednekolymsk\n",
      "Processing Record 29 of Set 8 | treinta y tres\n",
      "Processing Record 30 of Set 8 | fortuna\n",
      "Processing Record 31 of Set 8 | portobelo\n",
      "Processing Record 32 of Set 8 | alcamo\n",
      "City evenskjaer not found. Skipping...\n",
      "Processing Record 33 of Set 8 | rafsanjan\n",
      "Processing Record 34 of Set 8 | balikpapan\n",
      "Processing Record 35 of Set 8 | victoria\n",
      "Processing Record 36 of Set 8 | pacocha\n",
      "Processing Record 37 of Set 8 | zarand\n",
      "City malwan not found. Skipping...\n",
      "Processing Record 38 of Set 8 | gazojak\n",
      "Processing Record 39 of Set 8 | el playon\n",
      "Processing Record 40 of Set 8 | bang saphan\n",
      "Processing Record 41 of Set 8 | mabamba\n",
      "Processing Record 42 of Set 8 | salinas\n",
      "Processing Record 43 of Set 8 | kutum\n",
      "Processing Record 44 of Set 8 | natal\n",
      "Processing Record 45 of Set 8 | trindade\n",
      "City barawe not found. Skipping...\n",
      "Processing Record 46 of Set 8 | olafsvik\n",
      "Processing Record 47 of Set 8 | rocha\n",
      "Processing Record 48 of Set 8 | la ronge\n",
      "Processing Record 49 of Set 8 | necochea\n",
      "Processing Record 50 of Set 8 | arkhangelskoye\n",
      "Processing Record 1 of Set 9 | yumen\n",
      "Processing Record 2 of Set 9 | altotonga\n",
      "Processing Record 3 of Set 9 | mitsamiouli\n",
      "Processing Record 4 of Set 9 | kandi\n",
      "Processing Record 5 of Set 9 | jaca\n",
      "Processing Record 6 of Set 9 | los cedrales\n",
      "Processing Record 7 of Set 9 | rapid valley\n",
      "Processing Record 8 of Set 9 | mahanoro\n",
      "City geresk not found. Skipping...\n",
      "Processing Record 9 of Set 9 | dhidhdhoo\n",
      "Processing Record 10 of Set 9 | abay\n",
      "Processing Record 11 of Set 9 | lar\n",
      "Processing Record 12 of Set 9 | faanui\n",
      "Processing Record 13 of Set 9 | nyagan\n",
      "Processing Record 14 of Set 9 | puerto narino\n",
      "Processing Record 15 of Set 9 | pincher creek\n",
      "Processing Record 16 of Set 9 | guayaramerin\n",
      "City rungata not found. Skipping...\n",
      "Processing Record 17 of Set 9 | nouadhibou\n",
      "Processing Record 18 of Set 9 | shache\n",
      "Processing Record 19 of Set 9 | gaogou\n",
      "Processing Record 20 of Set 9 | samarinda\n",
      "Processing Record 21 of Set 9 | finnsnes\n",
      "Processing Record 22 of Set 9 | erzin\n",
      "Processing Record 23 of Set 9 | nioro\n",
      "Processing Record 24 of Set 9 | leeton\n",
      "City haapu not found. Skipping...\n",
      "Processing Record 25 of Set 9 | oktyabrskoye\n",
      "Processing Record 26 of Set 9 | vidor\n",
      "Processing Record 27 of Set 9 | xiaoweizhai\n",
      "Processing Record 28 of Set 9 | iracoubo\n",
      "Processing Record 29 of Set 9 | grand forks\n",
      "Processing Record 30 of Set 9 | tsaratanana\n",
      "Processing Record 31 of Set 9 | tsiroanomandidy\n",
      "Processing Record 32 of Set 9 | turinsk\n",
      "Processing Record 33 of Set 9 | teruel\n",
      "Processing Record 34 of Set 9 | stirion\n",
      "Processing Record 35 of Set 9 | pervomayskiy\n",
      "Processing Record 36 of Set 9 | coldingham\n",
      "Processing Record 37 of Set 9 | hudiksvall\n",
      "Processing Record 38 of Set 9 | hagere selam\n",
      "Processing Record 39 of Set 9 | wanning\n",
      "Processing Record 40 of Set 9 | terme\n",
      "Processing Record 41 of Set 9 | altea\n",
      "City yefira not found. Skipping...\n",
      "City kazalinsk not found. Skipping...\n",
      "Processing Record 42 of Set 9 | alice springs\n",
      "Processing Record 43 of Set 9 | almetyevsk\n",
      "Processing Record 44 of Set 9 | vila velha\n",
      "Processing Record 45 of Set 9 | matay\n",
      "Processing Record 46 of Set 9 | quatre cocos\n",
      "Processing Record 47 of Set 9 | mazyr\n",
      "Processing Record 48 of Set 9 | yeniseysk\n",
      "Processing Record 49 of Set 9 | narsaq\n",
      "Processing Record 50 of Set 9 | chiredzi\n",
      "Processing Record 1 of Set 10 | sao joao da ponte\n",
      "Processing Record 2 of Set 10 | luba\n",
      "Processing Record 3 of Set 10 | san jose\n",
      "Processing Record 4 of Set 10 | uruzgan\n",
      "City coatlan not found. Skipping...\n",
      "Processing Record 5 of Set 10 | nisia floresta\n",
      "Processing Record 6 of Set 10 | bara\n",
      "Processing Record 7 of Set 10 | havoysund\n",
      "Processing Record 8 of Set 10 | yarensk\n",
      "Processing Record 9 of Set 10 | pangoa\n",
      "Processing Record 10 of Set 10 | carutapera\n",
      "Processing Record 11 of Set 10 | kamaishi\n",
      "Processing Record 12 of Set 10 | estelle\n",
      "Processing Record 13 of Set 10 | ambovombe\n",
      "Processing Record 14 of Set 10 | mabaruma\n",
      "Processing Record 15 of Set 10 | iwanai\n",
      "Processing Record 16 of Set 10 | port blair\n",
      "Processing Record 17 of Set 10 | trincomalee\n",
      "Processing Record 18 of Set 10 | marystown\n",
      "Processing Record 19 of Set 10 | tuatapere\n",
      "Processing Record 20 of Set 10 | nacala\n",
      "Processing Record 21 of Set 10 | sumbe\n",
      "Processing Record 22 of Set 10 | verkh-usugli\n",
      "Processing Record 23 of Set 10 | nurota\n",
      "Processing Record 24 of Set 10 | lavrentiya\n",
      "Processing Record 25 of Set 10 | broome\n",
      "Processing Record 26 of Set 10 | ruteng\n",
      "Processing Record 27 of Set 10 | cervo\n",
      "Processing Record 28 of Set 10 | beringovskiy\n",
      "Processing Record 29 of Set 10 | la union\n",
      "Processing Record 30 of Set 10 | gubkinskiy\n",
      "Processing Record 31 of Set 10 | tiarei\n",
      "Processing Record 32 of Set 10 | am timan\n",
      "Processing Record 33 of Set 10 | sechura\n",
      "Processing Record 34 of Set 10 | kwinana\n",
      "Processing Record 35 of Set 10 | porto santo\n",
      "Processing Record 36 of Set 10 | brynmawr\n",
      "Processing Record 37 of Set 10 | birakan\n",
      "Processing Record 38 of Set 10 | lubango\n",
      "Processing Record 39 of Set 10 | pacific grove\n",
      "Processing Record 40 of Set 10 | ambon\n",
      "Processing Record 41 of Set 10 | whitehorse\n",
      "Processing Record 42 of Set 10 | phalombe\n",
      "Processing Record 43 of Set 10 | kalianget\n",
      "Processing Record 44 of Set 10 | berezovyy\n",
      "Processing Record 45 of Set 10 | puerto escondido\n",
      "Processing Record 46 of Set 10 | mlonggo\n",
      "Processing Record 47 of Set 10 | tangjiazhuang\n",
      "Processing Record 48 of Set 10 | janossomorja\n",
      "Processing Record 49 of Set 10 | alamosa\n",
      "Processing Record 50 of Set 10 | chulman\n",
      "Processing Record 1 of Set 11 | kalmunai\n",
      "Processing Record 2 of Set 11 | morondava\n",
      "Processing Record 3 of Set 11 | sambava\n",
      "Processing Record 4 of Set 11 | katsuura\n",
      "Processing Record 5 of Set 11 | vila do maio\n",
      "Processing Record 6 of Set 11 | torres\n",
      "Processing Record 7 of Set 11 | fairborn\n",
      "Processing Record 8 of Set 11 | lima\n",
      "Processing Record 9 of Set 11 | ocampo\n",
      "Processing Record 10 of Set 11 | padang\n",
      "Processing Record 11 of Set 11 | faya\n",
      "Processing Record 12 of Set 11 | tupik\n",
      "Processing Record 13 of Set 11 | noumea\n",
      "City utiroa not found. Skipping...\n",
      "Processing Record 14 of Set 11 | alekseyevka\n",
      "Processing Record 15 of Set 11 | santa rosa\n",
      "Processing Record 16 of Set 11 | batagay\n",
      "City cheuskiny not found. Skipping...\n",
      "Processing Record 17 of Set 11 | tayu\n",
      "Processing Record 18 of Set 11 | hongjiang\n",
      "Processing Record 19 of Set 11 | luis correia\n",
      "Processing Record 20 of Set 11 | pak phanang\n",
      "Processing Record 21 of Set 11 | bardiyah\n",
      "Processing Record 22 of Set 11 | hindang\n",
      "Processing Record 23 of Set 11 | alyangula\n",
      "Processing Record 24 of Set 11 | jintur\n",
      "Processing Record 25 of Set 11 | luwero\n",
      "Processing Record 26 of Set 11 | mocorito\n",
      "Processing Record 27 of Set 11 | kununurra\n",
      "Processing Record 28 of Set 11 | khandyga\n",
      "Processing Record 29 of Set 11 | cap malheureux\n",
      "-----------------------\n",
      "Data Retrieval Complete\n",
      "-----------------------\n"
     ]
    }
   ],
   "source": [
    "#Lists to hold response information:\n",
    "\n",
    "cityname = []\n",
    "lat = []\n",
    "lng = []\n",
    "maxtemp = []\n",
    "humidity = []\n",
    "cloudiness = []\n",
    "windspeed = []\n",
    "country = []\n",
    "date = []\n",
    "\n",
    "#City and set counters initializing\n",
    "counter = 0\n",
    "setnumber = 1\n",
    "\n",
    "#Loop through the city list and perform data requests\n",
    "print(\"Beginning Data Retrieval\")\n",
    "print(\"------------------------\")\n",
    "for city in cities:\n",
    "    query_url = url + \"appid=\"+ weather_api_key + \"&q=\" + city + \"&units=\" +\"imperial\"\n",
    "    try:\n",
    "        response=requests.get(query_url).json()\n",
    "        cityname.append(response[\"name\"])\n",
    "        lat.append(response[\"coord\"][\"lat\"])\n",
    "        lng.append(response[\"coord\"][\"lon\"])\n",
    "        maxtemp.append(response[\"main\"][\"temp_max\"])\n",
    "        humidity.append(response[\"main\"][\"humidity\"])\n",
    "        cloudiness.append(response[\"clouds\"][\"all\"])\n",
    "        windspeed.append(response[\"wind\"][\"speed\"])\n",
    "        country.append(response[\"sys\"][\"country\"])\n",
    "        date.append(response[\"dt\"])\n",
    "        \n",
    "        #Including the counters within the for loop so the print statement updates\n",
    "        if counter == 50:\n",
    "            counter = 1\n",
    "            setnumber += 1\n",
    "\n",
    "        else:\n",
    "            counter += 1\n",
    "\n",
    "        \n",
    "        #Printing each record for every city\n",
    "        print(f\"Processing Record {counter} of Set {setnumber} | {city}\")\n",
    "        \n",
    "        time.sleep(1)\n",
    "    except:\n",
    "        print(f\"City {city} not found. Skipping...\")\n",
    "print(\"-----------------------\")\n",
    "print(\"Data Retrieval Complete\")\n",
    "print(\"-----------------------\")"
   ]
  },
  {
   "cell_type": "code",
   "execution_count": 8,
   "metadata": {},
   "outputs": [
    {
     "name": "stdout",
     "output_type": "stream",
     "text": [
      "529\n",
      "529\n",
      "529\n",
      "529\n",
      "529\n",
      "529\n",
      "529\n",
      "529\n",
      "529\n"
     ]
    }
   ],
   "source": [
    "#Checking array length for dataframe assembly\n",
    "print(len(cityname))\n",
    "print(len(lat))\n",
    "print(len(lng))\n",
    "print(len(maxtemp))\n",
    "print(len(humidity))\n",
    "print(len(cloudiness))\n",
    "print(len(windspeed))\n",
    "print(len(country))\n",
    "print(len(date))"
   ]
  },
  {
   "cell_type": "code",
   "execution_count": null,
   "metadata": {},
   "outputs": [],
   "source": []
  },
  {
   "cell_type": "code",
   "execution_count": null,
   "metadata": {
    "scrolled": true
   },
   "outputs": [],
   "source": []
  },
  {
   "cell_type": "markdown",
   "metadata": {},
   "source": [
    "## Convert Raw Data to DataFrame\n",
    "* Save as csv"
   ]
  },
  {
   "cell_type": "code",
   "execution_count": 9,
   "metadata": {},
   "outputs": [],
   "source": [
    "#Create a data frame from the following dictionary:\n",
    "\n",
    "#Dictionary\n",
    "weather_dict = {\n",
    "    \"City\": cityname,\n",
    "    \"Lat\": lat,\n",
    "    \"Lng\": lng,\n",
    "    \"Max Temp\": maxtemp,\n",
    "    \"Humidity\": humidity,\n",
    "    \"Cloudiness\": cloudiness,\n",
    "    \"Wind Speed\": windspeed,\n",
    "    \"Country\": country,\n",
    "    \"Date\": date\n",
    "}\n",
    "weather_data = pd.DataFrame(weather_dict)\n",
    "\n",
    "#Saving as csv\n",
    "weather_data.to_csv(\"Weather CSV\")"
   ]
  },
  {
   "cell_type": "code",
   "execution_count": 10,
   "metadata": {},
   "outputs": [
    {
     "data": {
      "text/html": [
       "<div>\n",
       "<style scoped>\n",
       "    .dataframe tbody tr th:only-of-type {\n",
       "        vertical-align: middle;\n",
       "    }\n",
       "\n",
       "    .dataframe tbody tr th {\n",
       "        vertical-align: top;\n",
       "    }\n",
       "\n",
       "    .dataframe thead th {\n",
       "        text-align: right;\n",
       "    }\n",
       "</style>\n",
       "<table border=\"1\" class=\"dataframe\">\n",
       "  <thead>\n",
       "    <tr style=\"text-align: right;\">\n",
       "      <th></th>\n",
       "      <th>City</th>\n",
       "      <th>Lat</th>\n",
       "      <th>Lng</th>\n",
       "      <th>Max Temp</th>\n",
       "      <th>Humidity</th>\n",
       "      <th>Cloudiness</th>\n",
       "      <th>Wind Speed</th>\n",
       "      <th>Country</th>\n",
       "      <th>Date</th>\n",
       "    </tr>\n",
       "  </thead>\n",
       "  <tbody>\n",
       "    <tr>\n",
       "      <th>0</th>\n",
       "      <td>Mahébourg</td>\n",
       "      <td>-20.41</td>\n",
       "      <td>57.70</td>\n",
       "      <td>75.20</td>\n",
       "      <td>73</td>\n",
       "      <td>40</td>\n",
       "      <td>5.82</td>\n",
       "      <td>MU</td>\n",
       "      <td>1602862136</td>\n",
       "    </tr>\n",
       "    <tr>\n",
       "      <th>1</th>\n",
       "      <td>Tasiilaq</td>\n",
       "      <td>65.61</td>\n",
       "      <td>-37.64</td>\n",
       "      <td>42.80</td>\n",
       "      <td>93</td>\n",
       "      <td>75</td>\n",
       "      <td>3.36</td>\n",
       "      <td>GL</td>\n",
       "      <td>1602862403</td>\n",
       "    </tr>\n",
       "    <tr>\n",
       "      <th>2</th>\n",
       "      <td>Bluff</td>\n",
       "      <td>-46.60</td>\n",
       "      <td>168.33</td>\n",
       "      <td>41.16</td>\n",
       "      <td>69</td>\n",
       "      <td>20</td>\n",
       "      <td>1.28</td>\n",
       "      <td>NZ</td>\n",
       "      <td>1602862404</td>\n",
       "    </tr>\n",
       "    <tr>\n",
       "      <th>3</th>\n",
       "      <td>Geraldton</td>\n",
       "      <td>-28.77</td>\n",
       "      <td>114.60</td>\n",
       "      <td>64.40</td>\n",
       "      <td>72</td>\n",
       "      <td>15</td>\n",
       "      <td>17.22</td>\n",
       "      <td>AU</td>\n",
       "      <td>1602862405</td>\n",
       "    </tr>\n",
       "    <tr>\n",
       "      <th>4</th>\n",
       "      <td>Mataura</td>\n",
       "      <td>-46.19</td>\n",
       "      <td>168.86</td>\n",
       "      <td>33.39</td>\n",
       "      <td>94</td>\n",
       "      <td>33</td>\n",
       "      <td>1.95</td>\n",
       "      <td>NZ</td>\n",
       "      <td>1602862406</td>\n",
       "    </tr>\n",
       "  </tbody>\n",
       "</table>\n",
       "</div>"
      ],
      "text/plain": [
       "        City    Lat     Lng  Max Temp  Humidity  Cloudiness  Wind Speed  \\\n",
       "0  Mahébourg -20.41   57.70     75.20        73          40        5.82   \n",
       "1   Tasiilaq  65.61  -37.64     42.80        93          75        3.36   \n",
       "2      Bluff -46.60  168.33     41.16        69          20        1.28   \n",
       "3  Geraldton -28.77  114.60     64.40        72          15       17.22   \n",
       "4    Mataura -46.19  168.86     33.39        94          33        1.95   \n",
       "\n",
       "  Country        Date  \n",
       "0      MU  1602862136  \n",
       "1      GL  1602862403  \n",
       "2      NZ  1602862404  \n",
       "3      AU  1602862405  \n",
       "4      NZ  1602862406  "
      ]
     },
     "execution_count": 10,
     "metadata": {},
     "output_type": "execute_result"
    }
   ],
   "source": [
    "weather_data.head()"
   ]
  },
  {
   "cell_type": "code",
   "execution_count": null,
   "metadata": {},
   "outputs": [],
   "source": []
  },
  {
   "cell_type": "markdown",
   "metadata": {},
   "source": [
    "## Plotting the Data\n",
    "* Use proper labeling of the plots using plot titles (including date of analysis) and axes labels.\n",
    "* Save the plotted figures as .pngs."
   ]
  },
  {
   "cell_type": "markdown",
   "metadata": {},
   "source": [
    "### Latitude vs. Temperature Plot"
   ]
  },
  {
   "cell_type": "code",
   "execution_count": 11,
   "metadata": {},
   "outputs": [
    {
     "name": "stdout",
     "output_type": "stream",
     "text": [
      "(10/16/2020)\n"
     ]
    },
    {
     "data": {
      "image/png": "[encoded data removed]",
      "text/plain": [
       "<Figure size 432x288 with 1 Axes>"
      ]
     },
     "metadata": {
      "needs_background": "light"
     },
     "output_type": "display_data"
    }
   ],
   "source": [
    "# Build a scatter plot for each data type\n",
    "plt.scatter(weather_data[\"Lat\"], weather_data[\"Max Temp\"], marker=\"o\")\n",
    "\n",
    "#Converting the unix so that it reads from the dataframe date and converts it to month/day/year\n",
    "\n",
    "todaysdate=datetime.datetime.fromtimestamp(int(date[1])).strftime('(%m/%d/%Y)')\n",
    "print(todaysdate)\n",
    "\n",
    "\n",
    "# Incorporate the other graph properties\n",
    "plt.title(\"City Latitude vs. Max Temperature \"+str(todaysdate))\n",
    "plt.ylabel(\"Max Temperature (F)\")\n",
    "plt.xlabel(\"Latitude\")\n",
    "plt.grid(True)\n",
    "\n",
    "# Save the figure\n",
    "plt.savefig(\"City Latitude vs Max Temperature.png\")\n",
    "\n",
    "# Show plot\n",
    "plt.show()"
   ]
  },
  {
   "cell_type": "code",
   "execution_count": null,
   "metadata": {
    "scrolled": true
   },
   "outputs": [],
   "source": []
  },
  {
   "cell_type": "markdown",
   "metadata": {},
   "source": [
    "### Latitude vs. Humidity Plot"
   ]
  },
  {
   "cell_type": "code",
   "execution_count": 12,
   "metadata": {},
   "outputs": [
    {
     "name": "stdout",
     "output_type": "stream",
     "text": [
      "(10/16/2020)\n"
     ]
    },
    {
     "data": {
      "image/png": "[encoded data removed]",
      "text/plain": [
       "<Figure size 432x288 with 1 Axes>"
      ]
     },
     "metadata": {
      "needs_background": "light"
     },
     "output_type": "display_data"
    }
   ],
   "source": [
    "# Build a scatter plot for each data type\n",
    "plt.scatter(weather_data[\"Lat\"], weather_data[\"Humidity\"], marker=\"o\")\n",
    "\n",
    "#Converting the unix so that it reads from the dataframe date and converts it to month/day/year\n",
    "\n",
    "todaysdate=datetime.datetime.fromtimestamp(int(date[1])).strftime('(%m/%d/%Y)')\n",
    "print(todaysdate)\n",
    "\n",
    "\n",
    "# Incorporate the other graph properties\n",
    "plt.title(\"City Latitude vs. Humidity \"+str(todaysdate))\n",
    "plt.ylabel(\"Humidity (%))\")\n",
    "plt.xlabel(\"Latitude\")\n",
    "plt.grid(True)\n",
    "\n",
    "# Save the figure\n",
    "plt.savefig(\"City Latitude vs Humidity.png\")\n",
    "\n",
    "# Show plot\n",
    "plt.show()"
   ]
  },
  {
   "cell_type": "code",
   "execution_count": null,
   "metadata": {},
   "outputs": [],
   "source": []
  },
  {
   "cell_type": "markdown",
   "metadata": {},
   "source": [
    "### Latitude vs. Cloudiness Plot"
   ]
  },
  {
   "cell_type": "code",
   "execution_count": 25,
   "metadata": {},
   "outputs": [
    {
     "name": "stdout",
     "output_type": "stream",
     "text": [
      "(10/16/2020)\n"
     ]
    },
    {
     "data": {
      "image/png": "[encoded data removed]",
      "text/plain": [
       "<Figure size 432x288 with 1 Axes>"
      ]
     },
     "metadata": {
      "needs_background": "light"
     },
     "output_type": "display_data"
    }
   ],
   "source": [
    "# Build a scatter plot for each data type\n",
    "plt.scatter(weather_data[\"Lat\"], weather_data[\"Cloudiness\"], marker=\"o\")\n",
    "\n",
    "#Converting the unix so that it reads from the dataframe date and converts it to month/day/year\n",
    "\n",
    "todaysdate=datetime.datetime.fromtimestamp(int(date[1])).strftime('(%m/%d/%Y)')\n",
    "print(todaysdate)\n",
    "\n",
    "\n",
    "# Incorporate the other graph properties\n",
    "plt.title(\"City Latitude vs. Cloudiness \"+str(todaysdate))\n",
    "plt.ylabel(\"Cloudiness (%)\")\n",
    "plt.xlabel(\"Latitude\")\n",
    "plt.grid(True)\n",
    "\n",
    "# Save the figure\n",
    "plt.savefig(\"City Latitude vs Cloudiness.png\")\n",
    "\n",
    "# Show plot\n",
    "plt.show()"
   ]
  },
  {
   "cell_type": "markdown",
   "metadata": {},
   "source": [
    "### Latitude vs. Wind Speed Plot"
   ]
  },
  {
   "cell_type": "code",
   "execution_count": 14,
   "metadata": {
    "scrolled": true
   },
   "outputs": [
    {
     "name": "stdout",
     "output_type": "stream",
     "text": [
      "(10/16/2020)\n"
     ]
    },
    {
     "data": {
      "image/png": "[encoded data removed]",
      "text/plain": [
       "<Figure size 432x288 with 1 Axes>"
      ]
     },
     "metadata": {
      "needs_background": "light"
     },
     "output_type": "display_data"
    }
   ],
   "source": [
    "# Build a scatter plot for each data type\n",
    "plt.scatter(weather_data[\"Lat\"], weather_data[\"Wind Speed\"], marker=\"o\")\n",
    "\n",
    "#Converting the unix so that it reads from the dataframe date and converts it to month/day/year\n",
    "\n",
    "todaysdate=datetime.datetime.fromtimestamp(int(date[1])).strftime('(%m/%d/%Y)')\n",
    "print(todaysdate)\n",
    "\n",
    "\n",
    "# Incorporate the other graph properties\n",
    "plt.title(\"City Latitude vs. Wind Speed \"+str(todaysdate))\n",
    "plt.ylabel(\"Wind Speed\")\n",
    "plt.xlabel(\"Latitude\")\n",
    "plt.grid(True)\n",
    "\n",
    "# Save the figure\n",
    "plt.savefig(\"City Latitude vs Wind Speed.png\")\n",
    "\n",
    "# Show plot\n",
    "plt.show()"
   ]
  },
  {
   "cell_type": "code",
   "execution_count": null,
   "metadata": {},
   "outputs": [],
   "source": []
  },
  {
   "cell_type": "markdown",
   "metadata": {},
   "source": [
    "## Linear Regression"
   ]
  },
  {
   "cell_type": "markdown",
   "metadata": {},
   "source": [
    "### Write linear regression plot function (optional)"
   ]
  },
  {
   "cell_type": "code",
   "execution_count": 15,
   "metadata": {},
   "outputs": [
    {
     "data": {
      "text/html": [
       "<div>\n",
       "<style scoped>\n",
       "    .dataframe tbody tr th:only-of-type {\n",
       "        vertical-align: middle;\n",
       "    }\n",
       "\n",
       "    .dataframe tbody tr th {\n",
       "        vertical-align: top;\n",
       "    }\n",
       "\n",
       "    .dataframe thead th {\n",
       "        text-align: right;\n",
       "    }\n",
       "</style>\n",
       "<table border=\"1\" class=\"dataframe\">\n",
       "  <thead>\n",
       "    <tr style=\"text-align: right;\">\n",
       "      <th></th>\n",
       "      <th>City</th>\n",
       "      <th>Lat</th>\n",
       "      <th>Lng</th>\n",
       "      <th>Max Temp</th>\n",
       "      <th>Humidity</th>\n",
       "      <th>Cloudiness</th>\n",
       "      <th>Wind Speed</th>\n",
       "      <th>Country</th>\n",
       "      <th>Date</th>\n",
       "    </tr>\n",
       "  </thead>\n",
       "  <tbody>\n",
       "    <tr>\n",
       "      <th>0</th>\n",
       "      <td>Mahébourg</td>\n",
       "      <td>-20.41</td>\n",
       "      <td>57.70</td>\n",
       "      <td>75.20</td>\n",
       "      <td>73</td>\n",
       "      <td>40</td>\n",
       "      <td>5.82</td>\n",
       "      <td>MU</td>\n",
       "      <td>1602862136</td>\n",
       "    </tr>\n",
       "    <tr>\n",
       "      <th>2</th>\n",
       "      <td>Bluff</td>\n",
       "      <td>-46.60</td>\n",
       "      <td>168.33</td>\n",
       "      <td>41.16</td>\n",
       "      <td>69</td>\n",
       "      <td>20</td>\n",
       "      <td>1.28</td>\n",
       "      <td>NZ</td>\n",
       "      <td>1602862404</td>\n",
       "    </tr>\n",
       "    <tr>\n",
       "      <th>3</th>\n",
       "      <td>Geraldton</td>\n",
       "      <td>-28.77</td>\n",
       "      <td>114.60</td>\n",
       "      <td>64.40</td>\n",
       "      <td>72</td>\n",
       "      <td>15</td>\n",
       "      <td>17.22</td>\n",
       "      <td>AU</td>\n",
       "      <td>1602862405</td>\n",
       "    </tr>\n",
       "    <tr>\n",
       "      <th>4</th>\n",
       "      <td>Mataura</td>\n",
       "      <td>-46.19</td>\n",
       "      <td>168.86</td>\n",
       "      <td>33.39</td>\n",
       "      <td>94</td>\n",
       "      <td>33</td>\n",
       "      <td>1.95</td>\n",
       "      <td>NZ</td>\n",
       "      <td>1602862406</td>\n",
       "    </tr>\n",
       "    <tr>\n",
       "      <th>5</th>\n",
       "      <td>Biak</td>\n",
       "      <td>-0.91</td>\n",
       "      <td>122.88</td>\n",
       "      <td>77.85</td>\n",
       "      <td>81</td>\n",
       "      <td>95</td>\n",
       "      <td>3.78</td>\n",
       "      <td>ID</td>\n",
       "      <td>1602862407</td>\n",
       "    </tr>\n",
       "    <tr>\n",
       "      <th>...</th>\n",
       "      <td>...</td>\n",
       "      <td>...</td>\n",
       "      <td>...</td>\n",
       "      <td>...</td>\n",
       "      <td>...</td>\n",
       "      <td>...</td>\n",
       "      <td>...</td>\n",
       "      <td>...</td>\n",
       "      <td>...</td>\n",
       "    </tr>\n",
       "    <tr>\n",
       "      <th>516</th>\n",
       "      <td>Tayu</td>\n",
       "      <td>-6.54</td>\n",
       "      <td>111.05</td>\n",
       "      <td>78.30</td>\n",
       "      <td>75</td>\n",
       "      <td>95</td>\n",
       "      <td>9.42</td>\n",
       "      <td>ID</td>\n",
       "      <td>1602862975</td>\n",
       "    </tr>\n",
       "    <tr>\n",
       "      <th>518</th>\n",
       "      <td>Luís Correia</td>\n",
       "      <td>-2.88</td>\n",
       "      <td>-41.67</td>\n",
       "      <td>87.37</td>\n",
       "      <td>58</td>\n",
       "      <td>16</td>\n",
       "      <td>15.32</td>\n",
       "      <td>BR</td>\n",
       "      <td>1602862978</td>\n",
       "    </tr>\n",
       "    <tr>\n",
       "      <th>522</th>\n",
       "      <td>Alyangula</td>\n",
       "      <td>-13.85</td>\n",
       "      <td>136.42</td>\n",
       "      <td>75.20</td>\n",
       "      <td>94</td>\n",
       "      <td>4</td>\n",
       "      <td>7.54</td>\n",
       "      <td>AU</td>\n",
       "      <td>1602862823</td>\n",
       "    </tr>\n",
       "    <tr>\n",
       "      <th>526</th>\n",
       "      <td>Kununurra</td>\n",
       "      <td>-15.77</td>\n",
       "      <td>128.73</td>\n",
       "      <td>80.60</td>\n",
       "      <td>83</td>\n",
       "      <td>13</td>\n",
       "      <td>6.93</td>\n",
       "      <td>AU</td>\n",
       "      <td>1602862986</td>\n",
       "    </tr>\n",
       "    <tr>\n",
       "      <th>528</th>\n",
       "      <td>Cap Malheureux</td>\n",
       "      <td>-19.98</td>\n",
       "      <td>57.61</td>\n",
       "      <td>75.00</td>\n",
       "      <td>70</td>\n",
       "      <td>1</td>\n",
       "      <td>5.01</td>\n",
       "      <td>MU</td>\n",
       "      <td>1602862989</td>\n",
       "    </tr>\n",
       "  </tbody>\n",
       "</table>\n",
       "<p>179 rows × 9 columns</p>\n",
       "</div>"
      ],
      "text/plain": [
       "               City    Lat     Lng  Max Temp  Humidity  Cloudiness  \\\n",
       "0         Mahébourg -20.41   57.70     75.20        73          40   \n",
       "2             Bluff -46.60  168.33     41.16        69          20   \n",
       "3         Geraldton -28.77  114.60     64.40        72          15   \n",
       "4           Mataura -46.19  168.86     33.39        94          33   \n",
       "5              Biak  -0.91  122.88     77.85        81          95   \n",
       "..              ...    ...     ...       ...       ...         ...   \n",
       "516            Tayu  -6.54  111.05     78.30        75          95   \n",
       "518    Luís Correia  -2.88  -41.67     87.37        58          16   \n",
       "522       Alyangula -13.85  136.42     75.20        94           4   \n",
       "526       Kununurra -15.77  128.73     80.60        83          13   \n",
       "528  Cap Malheureux -19.98   57.61     75.00        70           1   \n",
       "\n",
       "     Wind Speed Country        Date  \n",
       "0          5.82      MU  1602862136  \n",
       "2          1.28      NZ  1602862404  \n",
       "3         17.22      AU  1602862405  \n",
       "4          1.95      NZ  1602862406  \n",
       "5          3.78      ID  1602862407  \n",
       "..          ...     ...         ...  \n",
       "516        9.42      ID  1602862975  \n",
       "518       15.32      BR  1602862978  \n",
       "522        7.54      AU  1602862823  \n",
       "526        6.93      AU  1602862986  \n",
       "528        5.01      MU  1602862989  \n",
       "\n",
       "[179 rows x 9 columns]"
      ]
     },
     "execution_count": 15,
     "metadata": {},
     "output_type": "execute_result"
    }
   ],
   "source": [
    "#Creating dataframe for southern hemisphere\n",
    "southerndf=weather_data.loc[weather_data[\"Lat\"]<0]\n",
    "southerndf\n"
   ]
  },
  {
   "cell_type": "code",
   "execution_count": 16,
   "metadata": {},
   "outputs": [
    {
     "data": {
      "text/html": [
       "<div>\n",
       "<style scoped>\n",
       "    .dataframe tbody tr th:only-of-type {\n",
       "        vertical-align: middle;\n",
       "    }\n",
       "\n",
       "    .dataframe tbody tr th {\n",
       "        vertical-align: top;\n",
       "    }\n",
       "\n",
       "    .dataframe thead th {\n",
       "        text-align: right;\n",
       "    }\n",
       "</style>\n",
       "<table border=\"1\" class=\"dataframe\">\n",
       "  <thead>\n",
       "    <tr style=\"text-align: right;\">\n",
       "      <th></th>\n",
       "      <th>City</th>\n",
       "      <th>Lat</th>\n",
       "      <th>Lng</th>\n",
       "      <th>Max Temp</th>\n",
       "      <th>Humidity</th>\n",
       "      <th>Cloudiness</th>\n",
       "      <th>Wind Speed</th>\n",
       "      <th>Country</th>\n",
       "      <th>Date</th>\n",
       "    </tr>\n",
       "  </thead>\n",
       "  <tbody>\n",
       "    <tr>\n",
       "      <th>1</th>\n",
       "      <td>Tasiilaq</td>\n",
       "      <td>65.61</td>\n",
       "      <td>-37.64</td>\n",
       "      <td>42.80</td>\n",
       "      <td>93</td>\n",
       "      <td>75</td>\n",
       "      <td>3.36</td>\n",
       "      <td>GL</td>\n",
       "      <td>1602862403</td>\n",
       "    </tr>\n",
       "    <tr>\n",
       "      <th>7</th>\n",
       "      <td>Kadyy</td>\n",
       "      <td>57.79</td>\n",
       "      <td>43.19</td>\n",
       "      <td>39.61</td>\n",
       "      <td>76</td>\n",
       "      <td>100</td>\n",
       "      <td>4.85</td>\n",
       "      <td>RU</td>\n",
       "      <td>1602862409</td>\n",
       "    </tr>\n",
       "    <tr>\n",
       "      <th>9</th>\n",
       "      <td>Laas</td>\n",
       "      <td>46.62</td>\n",
       "      <td>10.70</td>\n",
       "      <td>51.01</td>\n",
       "      <td>86</td>\n",
       "      <td>40</td>\n",
       "      <td>8.05</td>\n",
       "      <td>IT</td>\n",
       "      <td>1602862412</td>\n",
       "    </tr>\n",
       "    <tr>\n",
       "      <th>10</th>\n",
       "      <td>Kapaa</td>\n",
       "      <td>22.08</td>\n",
       "      <td>-159.32</td>\n",
       "      <td>73.40</td>\n",
       "      <td>100</td>\n",
       "      <td>40</td>\n",
       "      <td>6.93</td>\n",
       "      <td>US</td>\n",
       "      <td>1602862413</td>\n",
       "    </tr>\n",
       "    <tr>\n",
       "      <th>15</th>\n",
       "      <td>Haines Junction</td>\n",
       "      <td>60.75</td>\n",
       "      <td>-137.51</td>\n",
       "      <td>23.72</td>\n",
       "      <td>90</td>\n",
       "      <td>100</td>\n",
       "      <td>5.41</td>\n",
       "      <td>CA</td>\n",
       "      <td>1602862418</td>\n",
       "    </tr>\n",
       "    <tr>\n",
       "      <th>...</th>\n",
       "      <td>...</td>\n",
       "      <td>...</td>\n",
       "      <td>...</td>\n",
       "      <td>...</td>\n",
       "      <td>...</td>\n",
       "      <td>...</td>\n",
       "      <td>...</td>\n",
       "      <td>...</td>\n",
       "      <td>...</td>\n",
       "    </tr>\n",
       "    <tr>\n",
       "      <th>521</th>\n",
       "      <td>Hindang</td>\n",
       "      <td>10.43</td>\n",
       "      <td>124.73</td>\n",
       "      <td>78.33</td>\n",
       "      <td>81</td>\n",
       "      <td>100</td>\n",
       "      <td>3.33</td>\n",
       "      <td>PH</td>\n",
       "      <td>1602862981</td>\n",
       "    </tr>\n",
       "    <tr>\n",
       "      <th>523</th>\n",
       "      <td>Jintūr</td>\n",
       "      <td>19.62</td>\n",
       "      <td>76.70</td>\n",
       "      <td>76.42</td>\n",
       "      <td>81</td>\n",
       "      <td>62</td>\n",
       "      <td>4.76</td>\n",
       "      <td>IN</td>\n",
       "      <td>1602862983</td>\n",
       "    </tr>\n",
       "    <tr>\n",
       "      <th>524</th>\n",
       "      <td>Luwero</td>\n",
       "      <td>0.85</td>\n",
       "      <td>32.47</td>\n",
       "      <td>71.08</td>\n",
       "      <td>77</td>\n",
       "      <td>59</td>\n",
       "      <td>2.04</td>\n",
       "      <td>UG</td>\n",
       "      <td>1602862984</td>\n",
       "    </tr>\n",
       "    <tr>\n",
       "      <th>525</th>\n",
       "      <td>Mocorito</td>\n",
       "      <td>25.48</td>\n",
       "      <td>-107.92</td>\n",
       "      <td>82.99</td>\n",
       "      <td>77</td>\n",
       "      <td>0</td>\n",
       "      <td>3.00</td>\n",
       "      <td>MX</td>\n",
       "      <td>1602862985</td>\n",
       "    </tr>\n",
       "    <tr>\n",
       "      <th>527</th>\n",
       "      <td>Khandyga</td>\n",
       "      <td>62.67</td>\n",
       "      <td>135.60</td>\n",
       "      <td>13.60</td>\n",
       "      <td>93</td>\n",
       "      <td>4</td>\n",
       "      <td>3.38</td>\n",
       "      <td>RU</td>\n",
       "      <td>1602862988</td>\n",
       "    </tr>\n",
       "  </tbody>\n",
       "</table>\n",
       "<p>350 rows × 9 columns</p>\n",
       "</div>"
      ],
      "text/plain": [
       "                City    Lat     Lng  Max Temp  Humidity  Cloudiness  \\\n",
       "1           Tasiilaq  65.61  -37.64     42.80        93          75   \n",
       "7              Kadyy  57.79   43.19     39.61        76         100   \n",
       "9               Laas  46.62   10.70     51.01        86          40   \n",
       "10             Kapaa  22.08 -159.32     73.40       100          40   \n",
       "15   Haines Junction  60.75 -137.51     23.72        90         100   \n",
       "..               ...    ...     ...       ...       ...         ...   \n",
       "521          Hindang  10.43  124.73     78.33        81         100   \n",
       "523           Jintūr  19.62   76.70     76.42        81          62   \n",
       "524           Luwero   0.85   32.47     71.08        77          59   \n",
       "525         Mocorito  25.48 -107.92     82.99        77           0   \n",
       "527         Khandyga  62.67  135.60     13.60        93           4   \n",
       "\n",
       "     Wind Speed Country        Date  \n",
       "1          3.36      GL  1602862403  \n",
       "7          4.85      RU  1602862409  \n",
       "9          8.05      IT  1602862412  \n",
       "10         6.93      US  1602862413  \n",
       "15         5.41      CA  1602862418  \n",
       "..          ...     ...         ...  \n",
       "521        3.33      PH  1602862981  \n",
       "523        4.76      IN  1602862983  \n",
       "524        2.04      UG  1602862984  \n",
       "525        3.00      MX  1602862985  \n",
       "527        3.38      RU  1602862988  \n",
       "\n",
       "[350 rows x 9 columns]"
      ]
     },
     "execution_count": 16,
     "metadata": {},
     "output_type": "execute_result"
    }
   ],
   "source": [
    "#Creating dataframe for northern hemisphere\n",
    "northerndf=weather_data.loc[weather_data[\"Lat\"]>=0]\n",
    "northerndf\n",
    "\n"
   ]
  },
  {
   "cell_type": "markdown",
   "metadata": {},
   "source": [
    "###  Northern Hemisphere - Max Temp vs. Latitude Linear Regression"
   ]
  },
  {
   "cell_type": "code",
   "execution_count": 17,
   "metadata": {},
   "outputs": [
    {
     "data": {
      "image/png": "[encoded data removed]",
      "text/plain": [
       "<Figure size 432x288 with 1 Axes>"
      ]
     },
     "metadata": {
      "needs_background": "light"
     },
     "output_type": "display_data"
    },
    {
     "name": "stdout",
     "output_type": "stream",
     "text": [
      "rvalue: -0.8601314939385614\n"
     ]
    },
    {
     "data": {
      "text/plain": [
       "<Figure size 432x288 with 0 Axes>"
      ]
     },
     "metadata": {},
     "output_type": "display_data"
    }
   ],
   "source": [
    "#Northern Hemisphere: max temp vs latitude linear regression\n",
    "\n",
    "x_values = northerndf['Lat']\n",
    "y_values = northerndf['Max Temp']\n",
    "(slope, intercept, rvalue, pvalue, stderr) = linregress(x_values, y_values)\n",
    "regress_values = x_values * slope + intercept\n",
    "line_eq = \"y = \" + str(round(slope,2)) + \"x + \" + str(round(intercept,2))\n",
    "plt.scatter(x_values,y_values)\n",
    "plt.plot(x_values,regress_values,\"r-\")\n",
    "\n",
    "\n",
    "plt.annotate(line_eq,(20,40),fontsize=15,color=\"red\")\n",
    "plt.xlabel('Latitude')\n",
    "plt.ylabel('Max Temp (F)')\n",
    "plt.title(\"Northern Hemisphere - Max Temp vs. Latitude Linear Regression\")\n",
    "plt.xlim(0, 85)\n",
    "plt.ylim(30, 120)\n",
    "plt.show()\n",
    "\n",
    "print(\"rvalue: \" + str(rvalue))\n",
    "\n",
    "plt.savefig(\"Northern Hemisphere - Max Temp vs. Latitude Linear Regression.png\")\n",
    "\n",
    "\n",
    "\n"
   ]
  },
  {
   "cell_type": "code",
   "execution_count": null,
   "metadata": {},
   "outputs": [],
   "source": []
  },
  {
   "cell_type": "markdown",
   "metadata": {},
   "source": [
    "###  Southern Hemisphere - Max Temp vs. Latitude Linear Regression"
   ]
  },
  {
   "cell_type": "code",
   "execution_count": 18,
   "metadata": {},
   "outputs": [
    {
     "data": {
      "image/png": "[encoded data removed]",
      "text/plain": [
       "<Figure size 432x288 with 1 Axes>"
      ]
     },
     "metadata": {
      "needs_background": "light"
     },
     "output_type": "display_data"
    },
    {
     "name": "stdout",
     "output_type": "stream",
     "text": [
      "rvalue: 0.665613075163191\n"
     ]
    },
    {
     "data": {
      "text/plain": [
       "<Figure size 432x288 with 0 Axes>"
      ]
     },
     "metadata": {},
     "output_type": "display_data"
    }
   ],
   "source": [
    "#Southern Hemisphere: max temp vs latitude linear regression\n",
    "\n",
    "x_values = southerndf['Lat']\n",
    "y_values = southerndf['Max Temp']\n",
    "(slope, intercept, rvalue, pvalue, stderr) = linregress(x_values, y_values)\n",
    "regress_values = x_values * slope + intercept\n",
    "line_eq = \"y = \" + str(round(slope,2)) + \"x + \" + str(round(intercept,2))\n",
    "plt.scatter(x_values,y_values)\n",
    "plt.plot(x_values,regress_values,\"r-\")\n",
    "\n",
    "\n",
    "plt.annotate(line_eq,(-40,90),fontsize=15,color=\"red\")\n",
    "plt.xlabel('Latitude')\n",
    "plt.ylabel('Max Temp (F)')\n",
    "plt.title(\"Southern Hemisphere - Max Temp vs. Latitude Linear Regression\")\n",
    "plt.xlim(-60, 0)\n",
    "plt.ylim(0, 110)\n",
    "plt.show()\n",
    "\n",
    "print(\"rvalue: \" + str(rvalue))\n",
    "\n",
    "plt.savefig(\"Southern Hemisphere - Max Temp vs. Latitude Linear Regression.png\")\n",
    "\n"
   ]
  },
  {
   "cell_type": "code",
   "execution_count": null,
   "metadata": {},
   "outputs": [],
   "source": []
  },
  {
   "cell_type": "markdown",
   "metadata": {},
   "source": [
    "###  Northern Hemisphere - Humidity (%) vs. Latitude Linear Regression"
   ]
  },
  {
   "cell_type": "code",
   "execution_count": 19,
   "metadata": {},
   "outputs": [
    {
     "data": {
      "image/png": "[encoded data removed]",
      "text/plain": [
       "<Figure size 432x288 with 1 Axes>"
      ]
     },
     "metadata": {
      "needs_background": "light"
     },
     "output_type": "display_data"
    },
    {
     "name": "stdout",
     "output_type": "stream",
     "text": [
      "rvalue: 0.3082105186874202\n"
     ]
    },
    {
     "data": {
      "text/plain": [
       "<Figure size 432x288 with 0 Axes>"
      ]
     },
     "metadata": {},
     "output_type": "display_data"
    }
   ],
   "source": [
    "#Northern Hemisphere: humidity vs latitude linear regression\n",
    "\n",
    "x_values = northerndf['Lat']\n",
    "y_values = northerndf['Humidity']\n",
    "(slope, intercept, rvalue, pvalue, stderr) = linregress(x_values, y_values)\n",
    "regress_values = x_values * slope + intercept\n",
    "line_eq = \"y = \" + str(round(slope,2)) + \"x + \" + str(round(intercept,2))\n",
    "plt.scatter(x_values,y_values)\n",
    "plt.plot(x_values,regress_values,\"r-\")\n",
    "\n",
    "plt.annotate(line_eq,(40,20),fontsize=15,color=\"red\")\n",
    "plt.xlabel('Latitude')\n",
    "plt.ylabel('Humidity (%)')\n",
    "plt.title(\"Northern Hemisphere - Humidity (%) vs. Latitude Linear Regression\")\n",
    "plt.xlim(-5, 85)\n",
    "plt.ylim(0, 110)\n",
    "plt.show()\n",
    "\n",
    "print(\"rvalue: \" + str(rvalue))\n",
    "\n",
    "plt.savefig(\"Northern Hemisphere - Humidity (%) vs. Latitude Linear Regression.png\")\n",
    "\n",
    "\n"
   ]
  },
  {
   "cell_type": "code",
   "execution_count": null,
   "metadata": {},
   "outputs": [],
   "source": []
  },
  {
   "cell_type": "markdown",
   "metadata": {},
   "source": [
    "###  Southern Hemisphere - Humidity (%) vs. Latitude Linear Regression"
   ]
  },
  {
   "cell_type": "code",
   "execution_count": 20,
   "metadata": {},
   "outputs": [
    {
     "data": {
      "image/png": "[encoded data removed]",
      "text/plain": [
       "<Figure size 432x288 with 1 Axes>"
      ]
     },
     "metadata": {
      "needs_background": "light"
     },
     "output_type": "display_data"
    },
    {
     "name": "stdout",
     "output_type": "stream",
     "text": [
      "rvalue: -0.03854673885517347\n"
     ]
    },
    {
     "data": {
      "text/plain": [
       "<Figure size 432x288 with 0 Axes>"
      ]
     },
     "metadata": {},
     "output_type": "display_data"
    }
   ],
   "source": [
    "#Southern Hemisphere: humidity vs latitude linear regression\n",
    "\n",
    "x_values = southerndf['Lat']\n",
    "y_values = southerndf['Humidity']\n",
    "(slope, intercept, rvalue, pvalue, stderr) = linregress(x_values, y_values)\n",
    "regress_values = x_values * slope + intercept\n",
    "line_eq = \"y = \" + str(round(slope,2)) + \"x + \" + str(round(intercept,2))\n",
    "plt.scatter(x_values,y_values)\n",
    "plt.plot(x_values,regress_values,\"r-\")\n",
    "\n",
    "\n",
    "plt.annotate(line_eq,(-50,20),fontsize=15,color=\"red\")\n",
    "plt.xlabel('Latitude')\n",
    "plt.ylabel('Humidity (%)')\n",
    "plt.title(\"Southern Hemisphere - Humidity (%) vs. Latitude Linear Regression\")\n",
    "plt.xlim(-60, 0)\n",
    "plt.ylim(0, 110)\n",
    "plt.show()\n",
    "\n",
    "print(\"rvalue: \" + str(rvalue))\n",
    "\n",
    "plt.savefig(\"Southern Hemisphere - Humidity (%) vs. Latitude Linear Regression.png\")\n",
    "\n"
   ]
  },
  {
   "cell_type": "code",
   "execution_count": null,
   "metadata": {},
   "outputs": [],
   "source": []
  },
  {
   "cell_type": "markdown",
   "metadata": {},
   "source": [
    "###  Northern Hemisphere - Cloudiness (%) vs. Latitude Linear Regression"
   ]
  },
  {
   "cell_type": "code",
   "execution_count": 21,
   "metadata": {},
   "outputs": [
    {
     "data": {
      "image/png": "[encoded data removed]",
      "text/plain": [
       "<Figure size 432x288 with 1 Axes>"
      ]
     },
     "metadata": {
      "needs_background": "light"
     },
     "output_type": "display_data"
    },
    {
     "name": "stdout",
     "output_type": "stream",
     "text": [
      "rvalue: 0.23447639650881993\n"
     ]
    },
    {
     "data": {
      "text/plain": [
       "<Figure size 432x288 with 0 Axes>"
      ]
     },
     "metadata": {},
     "output_type": "display_data"
    }
   ],
   "source": [
    "#Northern Hemisphere: cloudiness vs latitude linear regression\n",
    "\n",
    "x_values = northerndf['Lat']\n",
    "y_values = northerndf['Cloudiness']\n",
    "(slope, intercept, rvalue, pvalue, stderr) = linregress(x_values, y_values)\n",
    "regress_values = x_values * slope + intercept\n",
    "line_eq = \"y = \" + str(round(slope,2)) + \"x + \" + str(round(intercept,2))\n",
    "plt.scatter(x_values,y_values)\n",
    "plt.plot(x_values,regress_values,\"r-\")\n",
    "\n",
    "plt.annotate(line_eq,(30,20),fontsize=15,color=\"red\")\n",
    "plt.xlabel('Latitude')\n",
    "plt.ylabel('Cloudiness (%)')\n",
    "plt.title(\"Northern Hemisphere - Cloudiness (%) vs. Latitude Linear Regression\")\n",
    "plt.xlim(0, 85)\n",
    "plt.ylim(0, 110)\n",
    "plt.show()\n",
    "\n",
    "print(\"rvalue: \" + str(rvalue))\n",
    "\n",
    "plt.savefig(\"Northern Hemisphere - Cloudiness (%) vs. Latitude Linear Regression.png\")\n"
   ]
  },
  {
   "cell_type": "code",
   "execution_count": null,
   "metadata": {},
   "outputs": [],
   "source": []
  },
  {
   "cell_type": "markdown",
   "metadata": {},
   "source": [
    "###  Southern Hemisphere - Cloudiness (%) vs. Latitude Linear Regression"
   ]
  },
  {
   "cell_type": "code",
   "execution_count": 22,
   "metadata": {},
   "outputs": [
    {
     "data": {
      "image/png": "[encoded data removed]",
      "text/plain": [
       "<Figure size 432x288 with 1 Axes>"
      ]
     },
     "metadata": {
      "needs_background": "light"
     },
     "output_type": "display_data"
    },
    {
     "name": "stdout",
     "output_type": "stream",
     "text": [
      "rvalue: 0.151379499058425\n"
     ]
    },
    {
     "data": {
      "text/plain": [
       "<Figure size 432x288 with 0 Axes>"
      ]
     },
     "metadata": {},
     "output_type": "display_data"
    }
   ],
   "source": [
    "#Southern Hemisphere: cloudiness vs latitude linear regression\n",
    "\n",
    "x_values = southerndf['Lat']\n",
    "y_values = southerndf['Cloudiness']\n",
    "(slope, intercept, rvalue, pvalue, stderr) = linregress(x_values, y_values)\n",
    "regress_values = x_values * slope + intercept\n",
    "line_eq = \"y = \" + str(round(slope,2)) + \"x + \" + str(round(intercept,2))\n",
    "plt.scatter(x_values,y_values)\n",
    "plt.plot(x_values,regress_values,\"r-\")\n",
    "\n",
    "\n",
    "plt.annotate(line_eq,(-30,30),fontsize=15,color=\"red\")\n",
    "plt.xlabel('Latitude')\n",
    "plt.ylabel('Cloudiness (%)')\n",
    "plt.title(\"Southern Hemisphere - Cloudiness (%) vs. Latitude Linear Regression\")\n",
    "plt.xlim(-60,0)\n",
    "plt.ylim(-5,110)\n",
    "plt.show()\n",
    "\n",
    "print(\"rvalue: \" + str(rvalue))\n",
    "\n",
    "plt.savefig(\"Southern Hemisphere - Cloudiness (%) vs. Latitude Linear Regression.png\")"
   ]
  },
  {
   "cell_type": "code",
   "execution_count": null,
   "metadata": {},
   "outputs": [],
   "source": []
  },
  {
   "cell_type": "markdown",
   "metadata": {},
   "source": [
    "###  Northern Hemisphere - Wind Speed (mph) vs. Latitude Linear Regression"
   ]
  },
  {
   "cell_type": "code",
   "execution_count": 26,
   "metadata": {},
   "outputs": [
    {
     "data": {
      "image/png": "[encoded data removed]",
      "text/plain": [
       "<Figure size 432x288 with 1 Axes>"
      ]
     },
     "metadata": {
      "needs_background": "light"
     },
     "output_type": "display_data"
    },
    {
     "name": "stdout",
     "output_type": "stream",
     "text": [
      "rvalue: 0.14295473118771332\n"
     ]
    },
    {
     "data": {
      "text/plain": [
       "<Figure size 432x288 with 0 Axes>"
      ]
     },
     "metadata": {},
     "output_type": "display_data"
    }
   ],
   "source": [
    "#Northern Hemisphere: wind speed vs latitude linear regression\n",
    "\n",
    "x_values = northerndf['Lat']\n",
    "y_values = northerndf['Wind Speed']\n",
    "(slope, intercept, rvalue, pvalue, stderr) = linregress(x_values, y_values)\n",
    "regress_values = x_values * slope + intercept\n",
    "line_eq = \"y = \" + str(round(slope,2)) + \"x + \" + str(round(intercept,2))\n",
    "plt.scatter(x_values,y_values)\n",
    "plt.plot(x_values,regress_values,\"r-\")\n",
    "\n",
    "plt.annotate(line_eq,(46,16),fontsize=15,color=\"red\")\n",
    "plt.xlabel('Latitude')\n",
    "plt.ylabel('Wind Speed')\n",
    "plt.title(\"Northern Hemisphere - Wind Speed (mph) vs. Latitude Linear Regression\")\n",
    "plt.xlim(0, 85)\n",
    "plt.ylim(0, 35)\n",
    "plt.show()\n",
    "\n",
    "\n",
    "print(\"rvalue: \" + str(rvalue))\n",
    "\n",
    "plt.savefig(\"Northern Hemisphere - Wind Speed (mph) vs. Latitude Linear Regression.png\")\n",
    "\n",
    "\n"
   ]
  },
  {
   "cell_type": "code",
   "execution_count": null,
   "metadata": {},
   "outputs": [],
   "source": []
  },
  {
   "cell_type": "markdown",
   "metadata": {},
   "source": [
    "###  Southern Hemisphere - Wind Speed (mph) vs. Latitude Linear Regression"
   ]
  },
  {
   "cell_type": "code",
   "execution_count": 24,
   "metadata": {},
   "outputs": [
    {
     "data": {
      "image/png": "[encoded data removed]",
      "text/plain": [
       "<Figure size 432x288 with 1 Axes>"
      ]
     },
     "metadata": {
      "needs_background": "light"
     },
     "output_type": "display_data"
    },
    {
     "name": "stdout",
     "output_type": "stream",
     "text": [
      "rvalue: -0.021051923735810784\n"
     ]
    },
    {
     "data": {
      "text/plain": [
       "<Figure size 432x288 with 0 Axes>"
      ]
     },
     "metadata": {},
     "output_type": "display_data"
    }
   ],
   "source": [
    "#Southern Hemisphere: wind speed vs latitude linear regression\n",
    "\n",
    "x_values = southerndf['Lat']\n",
    "y_values = southerndf['Wind Speed']\n",
    "(slope, intercept, rvalue, pvalue, stderr) = linregress(x_values, y_values)\n",
    "regress_values = x_values * slope + intercept\n",
    "line_eq = \"y = \" + str(round(slope,2)) + \"x + \" + str(round(intercept,2))\n",
    "plt.scatter(x_values,y_values)\n",
    "plt.plot(x_values,regress_values,\"r-\")\n",
    "\n",
    "\n",
    "plt.annotate(line_eq,(-50,20),fontsize=15,color=\"red\")\n",
    "plt.xlabel('Latitude')\n",
    "plt.ylabel('Wind Speed (mph)')\n",
    "plt.title(\"Southern Hemisphere - Wind Speed (mph) vs. Latitude Linear Regression\")\n",
    "plt.xlim(-60, 0)\n",
    "plt.ylim(0, 50)\n",
    "plt.show()\n",
    "\n",
    "print(\"rvalue: \" + str(rvalue))\n",
    "\n",
    "plt.savefig(\"Southern Hemisphere - Wind Speed (mph) vs. Latitude Linear Regression.png\")\n"
   ]
  },
  {
   "cell_type": "code",
   "execution_count": null,
   "metadata": {},
   "outputs": [],
   "source": []
  },
  {
   "cell_type": "code",
   "execution_count": null,
   "metadata": {},
   "outputs": [],
   "source": []
  }
 ],
 "metadata": {
  "anaconda-cloud": {},
  "kernel_info": {
   "name": "python3"
  },
  "kernelspec": {
   "display_name": "Python 3",
   "language": "python",
   "name": "python3"
  },
  "language_info": {
   "codemirror_mode": {
    "name": "ipython",
    "version": 3
   },
   "file_extension": ".py",
   "mimetype": "text/x-python",
   "name": "python",
   "nbconvert_exporter": "python",
   "pygments_lexer": "ipython3",
   "version": "3.6.10"
  },
  "latex_envs": {
   "LaTeX_envs_menu_present": true,
   "autoclose": false,
   "autocomplete": true,
   "bibliofile": "biblio.bib",
   "cite_by": "apalike",
   "current_citInitial": 1,
   "eqLabelWithNumbers": true,
   "eqNumInitial": 1,
   "hotkeys": {
    "equation": "Ctrl-E",
    "itemize": "Ctrl-I"
   },
   "labels_anchors": false,
   "latex_user_defs": false,
   "report_style_numbering": false,
   "user_envs_cfg": false
  },
  "nteract": {
   "version": "0.12.3"
  },
  "toc": {
   "base_numbering": 1,
   "nav_menu": {},
   "number_sections": true,
   "sideBar": true,
   "skip_h1_title": false,
   "title_cell": "Table of Contents",
   "title_sidebar": "Contents",
   "toc_cell": false,
   "toc_position": {},
   "toc_section_display": true,
   "toc_window_display": false
  },
  "varInspector": {
   "cols": {
    "lenName": 16,
    "lenType": 16,
    "lenVar": 40
   },
   "kernels_config": {
    "python": {
     "delete_cmd_postfix": "",
     "delete_cmd_prefix": "del ",
     "library": "var_list.py",
     "varRefreshCmd": "print(var_dic_list())"
    },
    "r": {
     "delete_cmd_postfix": ") ",
     "delete_cmd_prefix": "rm(",
     "library": "var_list.r",
     "varRefreshCmd": "cat(var_dic_list()) "
    }
   },
   "types_to_exclude": [
    "module",
    "function",
    "builtin_function_or_method",
    "instance",
    "_Feature"
   ],
   "window_display": false
  }
 },
 "nbformat": 4,
 "nbformat_minor": 2
}
