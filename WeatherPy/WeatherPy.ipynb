{
 "cells": [
  {
   "cell_type": "markdown",
   "metadata": {},
   "source": [
    "# WeatherPy\n",
    "----\n",
    "\n",
    "#### Note\n",
    "* Instructions have been included for each segment. You do not have to follow them exactly, but they are included to help you think through the steps."
   ]
  },
  {
   "cell_type": "code",
   "execution_count": 1,
   "metadata": {
    "scrolled": true
   },
   "outputs": [],
   "source": [
    "# Dependencies and Setup\n",
    "import matplotlib.pyplot as plt\n",
    "import pandas as pd\n",
    "import numpy as np\n",
    "import requests\n",
    "import time\n",
    "from scipy.stats import linregress\n",
    "import json\n",
    "import datetime\n",
    "\n",
    "# Import API key\n",
    "from keys import weather_api_key\n",
    "\n",
    "# Incorporated citipy to determine city based on latitude and longitude\n",
    "from citipy import citipy\n",
    "\n",
    "# Output File (CSV)\n",
    "output_data_file = \"output_data/cities.csv\"\n",
    "\n",
    "# Range of latitudes and longitudes\n",
    "lat_range = (-90, 90)\n",
    "lng_range = (-180, 180)"
   ]
  },
  {
   "cell_type": "markdown",
   "metadata": {},
   "source": [
    "## Generate Cities List"
   ]
  },
  {
   "cell_type": "code",
   "execution_count": 2,
   "metadata": {},
   "outputs": [
    {
     "data": {
      "text/plain": [
       "583"
      ]
     },
     "execution_count": 2,
     "metadata": {},
     "output_type": "execute_result"
    }
   ],
   "source": [
    "# List for holding lat_lngs and cities\n",
    "lat_lngs = []\n",
    "cities = []\n",
    "\n",
    "# Create a set of random lat and lng combinations\n",
    "lats = np.random.uniform(lat_range[0], lat_range[1], size=1500)\n",
    "lngs = np.random.uniform(lng_range[0], lng_range[1], size=1500)\n",
    "lat_lngs = zip(lats, lngs)\n",
    "\n",
    "# Identify nearest city for each lat, lng combination\n",
    "for lat_lng in lat_lngs:\n",
    "    city = citipy.nearest_city(lat_lng[0], lat_lng[1]).city_name\n",
    "    \n",
    "    # If the city is unique, then add it to a our cities list\n",
    "    if city not in cities:\n",
    "        cities.append(city)\n",
    "\n",
    "# Print the city count to confirm sufficient count\n",
    "len(cities)"
   ]
  },
  {
   "cell_type": "code",
   "execution_count": 3,
   "metadata": {
    "scrolled": false
   },
   "outputs": [],
   "source": [
    "#cities"
   ]
  },
  {
   "cell_type": "code",
   "execution_count": 4,
   "metadata": {},
   "outputs": [],
   "source": [
    "original_cities = cities\n",
    "#cities =[\"London\", \"Boston\",\"Cape Town\", \"Sydney\", \"Rachel City\"]"
   ]
  },
  {
   "cell_type": "markdown",
   "metadata": {},
   "source": [
    "## Perform API Calls\n",
    "* Perform a weather check on each city using a series of successive API calls.\n",
    "* Include a print log of each city as it'sbeing processed (with the city number and city name).\n"
   ]
  },
  {
   "cell_type": "code",
   "execution_count": 5,
   "metadata": {},
   "outputs": [],
   "source": [
    "# Save config information.\n",
    "url = \"http://api.openweathermap.org/data/2.5/weather?\"\n",
    "units = \"imperial\"\n",
    "\n",
    "# Build partial query URL. PUT THIS IN FOR LOOP.\n",
    "query_url = url + \"appid=\"+ weather_api_key + \"&q=\" + city\n"
   ]
  },
  {
   "cell_type": "code",
   "execution_count": 6,
   "metadata": {},
   "outputs": [],
   "source": [
    "# #Looking at json print to see categories on test city, London\n",
    "# test_query_url = f\"{url}appid={weather_api_key}&units={units}&q={testcity}\"\n",
    "# testcity = \"London\"\n",
    "# weather_response = requests.get(test_query_url)\n",
    "# weather_json = weather_response.json()\n",
    "# print(json.dumps(weather_json, indent=2))"
   ]
  },
  {
   "cell_type": "code",
   "execution_count": 7,
   "metadata": {},
   "outputs": [
    {
     "name": "stdout",
     "output_type": "stream",
     "text": [
      "Beginning Data Retrieval\n",
      "------------------------\n",
      "Processing Record 1 of Set 1 | pevek\n",
      "Processing Record 2 of Set 1 | albany\n",
      "City illoqqortoormiut not found. Skipping...\n",
      "Processing Record 3 of Set 1 | minas\n",
      "Processing Record 4 of Set 1 | puerto ayora\n",
      "Processing Record 5 of Set 1 | prince rupert\n",
      "Processing Record 6 of Set 1 | klyuchi\n",
      "Processing Record 7 of Set 1 | kaitangata\n",
      "Processing Record 8 of Set 1 | kadnikov\n",
      "Processing Record 9 of Set 1 | te anau\n",
      "Processing Record 10 of Set 1 | kloulklubed\n",
      "Processing Record 11 of Set 1 | pisco\n",
      "Processing Record 12 of Set 1 | agadez\n",
      "Processing Record 13 of Set 1 | kodiak\n",
      "Processing Record 14 of Set 1 | sebastian\n",
      "Processing Record 15 of Set 1 | waingapu\n",
      "Processing Record 16 of Set 1 | flinders\n",
      "Processing Record 17 of Set 1 | upernavik\n",
      "Processing Record 18 of Set 1 | avarua\n",
      "Processing Record 19 of Set 1 | atuona\n",
      "Processing Record 20 of Set 1 | airai\n",
      "Processing Record 21 of Set 1 | rikitea\n",
      "Processing Record 22 of Set 1 | kargasok\n",
      "Processing Record 23 of Set 1 | golden\n",
      "Processing Record 24 of Set 1 | kimbe\n",
      "City belushya guba not found. Skipping...\n",
      "City bolshoy tsaryn not found. Skipping...\n",
      "Processing Record 25 of Set 1 | punta arenas\n",
      "Processing Record 26 of Set 1 | oktyabrskoye\n",
      "Processing Record 27 of Set 1 | nouadhibou\n",
      "Processing Record 28 of Set 1 | atherton\n",
      "Processing Record 29 of Set 1 | moerai\n",
      "Processing Record 30 of Set 1 | hermanus\n",
      "Processing Record 31 of Set 1 | galle\n",
      "Processing Record 32 of Set 1 | rincon\n",
      "Processing Record 33 of Set 1 | nanortalik\n",
      "Processing Record 34 of Set 1 | dikson\n",
      "Processing Record 35 of Set 1 | acarau\n",
      "Processing Record 36 of Set 1 | san angelo\n",
      "Processing Record 37 of Set 1 | bluff\n",
      "Processing Record 38 of Set 1 | souillac\n",
      "City viligili not found. Skipping...\n",
      "City taolanaro not found. Skipping...\n",
      "Processing Record 39 of Set 1 | ribeira grande\n",
      "Processing Record 40 of Set 1 | hobart\n",
      "Processing Record 41 of Set 1 | dobryanka\n",
      "Processing Record 42 of Set 1 | manadhoo\n",
      "Processing Record 43 of Set 1 | norman wells\n",
      "Processing Record 44 of Set 1 | huainan\n",
      "Processing Record 45 of Set 1 | tambacounda\n",
      "Processing Record 46 of Set 1 | busselton\n",
      "Processing Record 47 of Set 1 | ushuaia\n",
      "Processing Record 48 of Set 1 | narsaq\n",
      "Processing Record 49 of Set 1 | yellowknife\n",
      "Processing Record 50 of Set 1 | victoria\n",
      "Processing Record 1 of Set 2 | hithadhoo\n",
      "Processing Record 2 of Set 2 | bethel\n",
      "City grand river south east not found. Skipping...\n",
      "Processing Record 3 of Set 2 | hilo\n",
      "Processing Record 4 of Set 2 | narasannapeta\n",
      "Processing Record 5 of Set 2 | butaritari\n",
      "Processing Record 6 of Set 2 | new norfolk\n",
      "Processing Record 7 of Set 2 | barrow\n",
      "Processing Record 8 of Set 2 | port alfred\n",
      "Processing Record 9 of Set 2 | mataura\n",
      "Processing Record 10 of Set 2 | provideniya\n",
      "Processing Record 11 of Set 2 | shimoda\n",
      "City vaitupu not found. Skipping...\n",
      "City attawapiskat not found. Skipping...\n",
      "Processing Record 12 of Set 2 | ust-koksa\n",
      "Processing Record 13 of Set 2 | severo-kurilsk\n",
      "Processing Record 14 of Set 2 | port elizabeth\n",
      "Processing Record 15 of Set 2 | vardo\n",
      "Processing Record 16 of Set 2 | la ronge\n",
      "Processing Record 17 of Set 2 | jamestown\n",
      "Processing Record 18 of Set 2 | arrifes\n",
      "Processing Record 19 of Set 2 | cape town\n",
      "Processing Record 20 of Set 2 | acajutla\n",
      "Processing Record 21 of Set 2 | tasiilaq\n",
      "Processing Record 22 of Set 2 | georgetown\n",
      "City lolua not found. Skipping...\n",
      "Processing Record 23 of Set 2 | mizque\n",
      "Processing Record 24 of Set 2 | kapaa\n",
      "Processing Record 25 of Set 2 | bhabua\n",
      "Processing Record 26 of Set 2 | olafsvik\n",
      "City grand centre not found. Skipping...\n",
      "Processing Record 27 of Set 2 | qaanaaq\n",
      "Processing Record 28 of Set 2 | bredasdorp\n",
      "Processing Record 29 of Set 2 | arraial do cabo\n",
      "Processing Record 30 of Set 2 | bengkulu\n",
      "Processing Record 31 of Set 2 | camacha\n",
      "Processing Record 32 of Set 2 | melfort\n",
      "Processing Record 33 of Set 2 | puerto escondido\n",
      "Processing Record 34 of Set 2 | noumea\n",
      "Processing Record 35 of Set 2 | mesetas\n",
      "City karamea not found. Skipping...\n",
      "Processing Record 36 of Set 2 | tuktoyaktuk\n",
      "Processing Record 37 of Set 2 | dandong\n",
      "Processing Record 38 of Set 2 | coahuayana\n",
      "Processing Record 39 of Set 2 | castro\n",
      "Processing Record 40 of Set 2 | mahebourg\n",
      "Processing Record 41 of Set 2 | baykit\n",
      "Processing Record 42 of Set 2 | luwuk\n",
      "Processing Record 43 of Set 2 | ancud\n",
      "Processing Record 44 of Set 2 | vaini\n",
      "Processing Record 45 of Set 2 | san jose\n",
      "Processing Record 46 of Set 2 | bambous virieux\n",
      "Processing Record 47 of Set 2 | marana\n",
      "Processing Record 48 of Set 2 | karratha\n",
      "Processing Record 49 of Set 2 | laguna\n",
      "Processing Record 50 of Set 2 | ngunguru\n",
      "Processing Record 1 of Set 3 | pochutla\n",
      "Processing Record 2 of Set 3 | crossville\n",
      "Processing Record 3 of Set 3 | thompson\n",
      "Processing Record 4 of Set 3 | khani\n",
      "Processing Record 5 of Set 3 | isangel\n",
      "Processing Record 6 of Set 3 | ostrovnoy\n",
      "Processing Record 7 of Set 3 | husavik\n",
      "Processing Record 8 of Set 3 | richards bay\n",
      "Processing Record 9 of Set 3 | atar\n",
      "Processing Record 10 of Set 3 | mar del plata\n",
      "Processing Record 11 of Set 3 | manokwari\n",
      "Processing Record 12 of Set 3 | lavrentiya\n",
      "Processing Record 13 of Set 3 | lesnyye polyany\n",
      "Processing Record 14 of Set 3 | chokurdakh\n",
      "Processing Record 15 of Set 3 | takoradi\n",
      "City barentsburg not found. Skipping...\n",
      "Processing Record 16 of Set 3 | zhigansk\n",
      "Processing Record 17 of Set 3 | saskylakh\n",
      "Processing Record 18 of Set 3 | chuy\n",
      "Processing Record 19 of Set 3 | deputatskiy\n",
      "Processing Record 20 of Set 3 | palora\n",
      "Processing Record 21 of Set 3 | hofn\n",
      "Processing Record 22 of Set 3 | east london\n",
      "Processing Record 23 of Set 3 | bulalacao\n",
      "Processing Record 24 of Set 3 | cherskiy\n",
      "Processing Record 25 of Set 3 | quang ngai\n",
      "Processing Record 26 of Set 3 | byron bay\n",
      "Processing Record 27 of Set 3 | huaihua\n",
      "Processing Record 28 of Set 3 | haines junction\n",
      "Processing Record 29 of Set 3 | touros\n",
      "Processing Record 30 of Set 3 | druzhba\n",
      "Processing Record 31 of Set 3 | eganville\n",
      "Processing Record 32 of Set 3 | soyo\n",
      "City utiroa not found. Skipping...\n",
      "Processing Record 33 of Set 3 | luderitz\n",
      "City siutu not found. Skipping...\n",
      "Processing Record 34 of Set 3 | atasu\n",
      "Processing Record 35 of Set 3 | maniitsoq\n",
      "City tsihombe not found. Skipping...\n",
      "Processing Record 36 of Set 3 | goure\n",
      "Processing Record 37 of Set 3 | kourou\n",
      "Processing Record 38 of Set 3 | sharlyk\n",
      "Processing Record 39 of Set 3 | cabo san lucas\n",
      "Processing Record 40 of Set 3 | nikolskoye\n",
      "Processing Record 41 of Set 3 | xining\n",
      "City amderma not found. Skipping...\n",
      "Processing Record 42 of Set 3 | dubai\n",
      "Processing Record 43 of Set 3 | senanga\n",
      "Processing Record 44 of Set 3 | sibolga\n",
      "Processing Record 45 of Set 3 | peace river\n",
      "City riese not found. Skipping...\n",
      "Processing Record 46 of Set 3 | hangu\n",
      "Processing Record 47 of Set 3 | smithers\n",
      "Processing Record 48 of Set 3 | semey\n",
      "Processing Record 49 of Set 3 | caravelas\n",
      "Processing Record 50 of Set 3 | barra patuca\n",
      "Processing Record 1 of Set 4 | buala\n",
      "Processing Record 2 of Set 4 | ilulissat\n",
      "Processing Record 3 of Set 4 | port lincoln\n",
      "Processing Record 4 of Set 4 | paamiut\n",
      "City warqla not found. Skipping...\n",
      "Processing Record 5 of Set 4 | port hardy\n",
      "Processing Record 6 of Set 4 | hasaki\n",
      "City zhaocheng not found. Skipping...\n",
      "Processing Record 7 of Set 4 | japura\n",
      "City sentyabrskiy not found. Skipping...\n",
      "Processing Record 8 of Set 4 | lagoa\n",
      "Processing Record 9 of Set 4 | puerto quijarro\n",
      "Processing Record 10 of Set 4 | lubango\n",
      "Processing Record 11 of Set 4 | barmer\n",
      "Processing Record 12 of Set 4 | saint-philippe\n",
      "Processing Record 13 of Set 4 | zagare\n",
      "Processing Record 14 of Set 4 | aykhal\n",
      "Processing Record 15 of Set 4 | eregli\n",
      "Processing Record 16 of Set 4 | roseburg\n",
      "Processing Record 17 of Set 4 | sitka\n",
      "Processing Record 18 of Set 4 | zykovo\n",
      "Processing Record 19 of Set 4 | saint george\n",
      "Processing Record 20 of Set 4 | yar-sale\n",
      "Processing Record 21 of Set 4 | doka\n",
      "Processing Record 22 of Set 4 | ashland\n",
      "Processing Record 23 of Set 4 | westport\n",
      "Processing Record 24 of Set 4 | barranca\n",
      "Processing Record 25 of Set 4 | comodoro rivadavia\n",
      "Processing Record 26 of Set 4 | hami\n",
      "Processing Record 27 of Set 4 | rawson\n",
      "Processing Record 28 of Set 4 | frontera\n",
      "Processing Record 29 of Set 4 | novoseleznevo\n",
      "Processing Record 30 of Set 4 | bandarbeyla\n"
     ]
    },
    {
     "name": "stdout",
     "output_type": "stream",
     "text": [
      "Processing Record 31 of Set 4 | amahai\n",
      "Processing Record 32 of Set 4 | merauke\n",
      "Processing Record 33 of Set 4 | gat\n",
      "Processing Record 34 of Set 4 | lebu\n",
      "Processing Record 35 of Set 4 | los llanos de aridane\n",
      "Processing Record 36 of Set 4 | yantal\n",
      "Processing Record 37 of Set 4 | colesberg\n",
      "Processing Record 38 of Set 4 | manta\n",
      "Processing Record 39 of Set 4 | sao filipe\n",
      "Processing Record 40 of Set 4 | pierre\n",
      "City palabuhanratu not found. Skipping...\n",
      "Processing Record 41 of Set 4 | esmeraldas\n",
      "Processing Record 42 of Set 4 | mbekenyera\n",
      "Processing Record 43 of Set 4 | manoel urbano\n",
      "Processing Record 44 of Set 4 | inirida\n",
      "Processing Record 45 of Set 4 | totness\n",
      "Processing Record 46 of Set 4 | geraldton\n",
      "Processing Record 47 of Set 4 | yumen\n",
      "Processing Record 48 of Set 4 | roma\n",
      "Processing Record 49 of Set 4 | mehamn\n",
      "Processing Record 50 of Set 4 | virginia beach\n",
      "Processing Record 1 of Set 5 | college\n",
      "Processing Record 2 of Set 5 | cururupu\n",
      "Processing Record 3 of Set 5 | tabory\n",
      "Processing Record 4 of Set 5 | lichinga\n",
      "Processing Record 5 of Set 5 | san andres\n",
      "Processing Record 6 of Set 5 | khatanga\n",
      "Processing Record 7 of Set 5 | sakakah\n",
      "Processing Record 8 of Set 5 | port hedland\n",
      "Processing Record 9 of Set 5 | flagstaff\n",
      "Processing Record 10 of Set 5 | oranjemund\n",
      "Processing Record 11 of Set 5 | biak\n",
      "Processing Record 12 of Set 5 | vostok\n",
      "Processing Record 13 of Set 5 | carnarvon\n",
      "Processing Record 14 of Set 5 | superior\n",
      "Processing Record 15 of Set 5 | dudinka\n",
      "Processing Record 16 of Set 5 | preobrazheniye\n",
      "Processing Record 17 of Set 5 | green river\n",
      "Processing Record 18 of Set 5 | wajir\n",
      "Processing Record 19 of Set 5 | alofi\n",
      "Processing Record 20 of Set 5 | mingaora\n",
      "Processing Record 21 of Set 5 | perpignan\n",
      "Processing Record 22 of Set 5 | tabuk\n",
      "Processing Record 23 of Set 5 | cidreira\n",
      "Processing Record 24 of Set 5 | coruripe\n",
      "Processing Record 25 of Set 5 | jinxiang\n",
      "City mys shmidta not found. Skipping...\n",
      "Processing Record 26 of Set 5 | oktyabrskiy\n",
      "Processing Record 27 of Set 5 | santa rosa\n",
      "Processing Record 28 of Set 5 | tezu\n",
      "Processing Record 29 of Set 5 | methala\n",
      "City aflu not found. Skipping...\n",
      "City saleaula not found. Skipping...\n",
      "Processing Record 30 of Set 5 | ugoofaaru\n",
      "Processing Record 31 of Set 5 | okhotsk\n",
      "City huazolotitlan not found. Skipping...\n",
      "Processing Record 32 of Set 5 | talnakh\n",
      "Processing Record 33 of Set 5 | xianshuigu\n",
      "Processing Record 34 of Set 5 | karatuzskoye\n",
      "Processing Record 35 of Set 5 | carauari\n",
      "Processing Record 36 of Set 5 | yzeure\n",
      "Processing Record 37 of Set 5 | aklavik\n",
      "Processing Record 38 of Set 5 | chenzhou\n",
      "Processing Record 39 of Set 5 | volovo\n",
      "Processing Record 40 of Set 5 | nabire\n",
      "Processing Record 41 of Set 5 | longyearbyen\n",
      "Processing Record 42 of Set 5 | henties bay\n",
      "Processing Record 43 of Set 5 | emet\n",
      "Processing Record 44 of Set 5 | ponta do sol\n",
      "Processing Record 45 of Set 5 | changli\n",
      "City nizhneyansk not found. Skipping...\n",
      "Processing Record 46 of Set 5 | svetlyy\n",
      "Processing Record 47 of Set 5 | kruisfontein\n",
      "Processing Record 48 of Set 5 | wuwei\n",
      "Processing Record 49 of Set 5 | satkhira\n",
      "Processing Record 50 of Set 5 | darnah\n",
      "Processing Record 1 of Set 6 | pangody\n",
      "Processing Record 2 of Set 6 | pimentel\n",
      "Processing Record 3 of Set 6 | niquero\n",
      "Processing Record 4 of Set 6 | kurilsk\n",
      "Processing Record 5 of Set 6 | mindelo\n",
      "City nguiu not found. Skipping...\n",
      "Processing Record 6 of Set 6 | sao francisco\n",
      "Processing Record 7 of Set 6 | ronne\n",
      "Processing Record 8 of Set 6 | kununurra\n",
      "Processing Record 9 of Set 6 | savannah bight\n",
      "Processing Record 10 of Set 6 | nabagram\n",
      "Processing Record 11 of Set 6 | consuegra\n",
      "Processing Record 12 of Set 6 | mahon\n",
      "Processing Record 13 of Set 6 | elk city\n",
      "Processing Record 14 of Set 6 | eureka\n",
      "Processing Record 15 of Set 6 | lorengau\n",
      "Processing Record 16 of Set 6 | bubaque\n",
      "Processing Record 17 of Set 6 | nosy varika\n",
      "Processing Record 18 of Set 6 | zhangjiakou\n",
      "Processing Record 19 of Set 6 | salalah\n",
      "Processing Record 20 of Set 6 | ahipara\n",
      "Processing Record 21 of Set 6 | coihaique\n",
      "City khormuj not found. Skipping...\n",
      "Processing Record 22 of Set 6 | kabanjahe\n",
      "Processing Record 23 of Set 6 | san patricio\n",
      "Processing Record 24 of Set 6 | nome\n",
      "Processing Record 25 of Set 6 | niksic\n",
      "Processing Record 26 of Set 6 | viedma\n",
      "Processing Record 27 of Set 6 | kindu\n",
      "Processing Record 28 of Set 6 | khadyzhensk\n",
      "Processing Record 29 of Set 6 | sungaipenuh\n",
      "Processing Record 30 of Set 6 | vila velha\n",
      "City meyungs not found. Skipping...\n",
      "Processing Record 31 of Set 6 | saint-georges\n",
      "City yuzhno-yeniseyskiy not found. Skipping...\n",
      "Processing Record 32 of Set 6 | vestmannaeyjar\n",
      "Processing Record 33 of Set 6 | sao joao da barra\n",
      "Processing Record 34 of Set 6 | maloy\n",
      "Processing Record 35 of Set 6 | saldanha\n",
      "Processing Record 36 of Set 6 | iracoubo\n",
      "City yeehaw junction not found. Skipping...\n",
      "Processing Record 37 of Set 6 | pimampiro\n",
      "Processing Record 38 of Set 6 | kyaikkami\n",
      "Processing Record 39 of Set 6 | kurchum\n",
      "Processing Record 40 of Set 6 | cooma\n",
      "Processing Record 41 of Set 6 | kudahuvadhoo\n",
      "Processing Record 42 of Set 6 | montmagny\n",
      "Processing Record 43 of Set 6 | itapora\n",
      "Processing Record 44 of Set 6 | lata\n",
      "Processing Record 45 of Set 6 | challapata\n",
      "Processing Record 46 of Set 6 | emba\n",
      "Processing Record 47 of Set 6 | nalut\n",
      "Processing Record 48 of Set 6 | lovozero\n",
      "Processing Record 49 of Set 6 | wajima\n",
      "Processing Record 50 of Set 6 | havoysund\n",
      "Processing Record 1 of Set 7 | salvador\n",
      "Processing Record 2 of Set 7 | dingle\n",
      "Processing Record 3 of Set 7 | berlevag\n",
      "Processing Record 4 of Set 7 | bandar-e lengeh\n",
      "City hihifo not found. Skipping...\n",
      "Processing Record 5 of Set 7 | lishan\n",
      "Processing Record 6 of Set 7 | telenesti\n",
      "Processing Record 7 of Set 7 | khandyga\n",
      "Processing Record 8 of Set 7 | shelburne\n",
      "Processing Record 9 of Set 7 | srednekolymsk\n",
      "City raozan not found. Skipping...\n",
      "Processing Record 10 of Set 7 | marabba\n",
      "Processing Record 11 of Set 7 | ortigueira\n",
      "Processing Record 12 of Set 7 | esperance\n",
      "Processing Record 13 of Set 7 | abatskoye\n",
      "Processing Record 14 of Set 7 | clinton\n",
      "Processing Record 15 of Set 7 | jieshi\n",
      "Processing Record 16 of Set 7 | salihorsk\n",
      "Processing Record 17 of Set 7 | tiksi\n",
      "Processing Record 18 of Set 7 | batagay-alyta\n",
      "Processing Record 19 of Set 7 | huixtla\n",
      "Processing Record 20 of Set 7 | mayo\n",
      "Processing Record 21 of Set 7 | san carlos de bariloche\n",
      "Processing Record 22 of Set 7 | bathsheba\n",
      "Processing Record 23 of Set 7 | katherine\n",
      "Processing Record 24 of Set 7 | sudak\n",
      "Processing Record 25 of Set 7 | manicore\n",
      "Processing Record 26 of Set 7 | clyde river\n",
      "Processing Record 27 of Set 7 | saint-pierre\n",
      "Processing Record 28 of Set 7 | ichnya\n",
      "Processing Record 29 of Set 7 | pachino\n",
      "City gurgan not found. Skipping...\n",
      "Processing Record 30 of Set 7 | asau\n",
      "Processing Record 31 of Set 7 | bereda\n",
      "Processing Record 32 of Set 7 | numan\n",
      "Processing Record 33 of Set 7 | katangli\n",
      "Processing Record 34 of Set 7 | inuvik\n",
      "Processing Record 35 of Set 7 | waipawa\n",
      "Processing Record 36 of Set 7 | parchim\n",
      "Processing Record 37 of Set 7 | torbay\n",
      "Processing Record 38 of Set 7 | alghero\n",
      "Processing Record 39 of Set 7 | san juan del sur\n",
      "Processing Record 40 of Set 7 | makakilo city\n",
      "Processing Record 41 of Set 7 | marsa matruh\n",
      "Processing Record 42 of Set 7 | alamogordo\n",
      "Processing Record 43 of Set 7 | sabha\n",
      "Processing Record 44 of Set 7 | tulum\n",
      "Processing Record 45 of Set 7 | vaitape\n",
      "Processing Record 46 of Set 7 | karasjok\n",
      "Processing Record 47 of Set 7 | peniche\n",
      "Processing Record 48 of Set 7 | lethem\n",
      "Processing Record 49 of Set 7 | muros\n",
      "Processing Record 50 of Set 7 | alice springs\n",
      "Processing Record 1 of Set 8 | kondoa\n",
      "Processing Record 2 of Set 8 | port moresby\n",
      "Processing Record 3 of Set 8 | morondava\n",
      "Processing Record 4 of Set 8 | chapais\n",
      "Processing Record 5 of Set 8 | khash\n",
      "Processing Record 6 of Set 8 | cordoba\n",
      "Processing Record 7 of Set 8 | belaya gora\n",
      "Processing Record 8 of Set 8 | ondjiva\n",
      "Processing Record 9 of Set 8 | darab\n",
      "Processing Record 10 of Set 8 | kapoeta\n",
      "City solovetskiy not found. Skipping...\n",
      "Processing Record 11 of Set 8 | kayerkan\n",
      "Processing Record 12 of Set 8 | constitucion\n",
      "Processing Record 13 of Set 8 | whitianga\n",
      "Processing Record 14 of Set 8 | ballina\n",
      "Processing Record 15 of Set 8 | soloneshnoye\n",
      "Processing Record 16 of Set 8 | portland\n"
     ]
    },
    {
     "name": "stdout",
     "output_type": "stream",
     "text": [
      "Processing Record 17 of Set 8 | biloela\n",
      "Processing Record 18 of Set 8 | anadyr\n",
      "Processing Record 19 of Set 8 | denpasar\n",
      "Processing Record 20 of Set 8 | batagay\n",
      "Processing Record 21 of Set 8 | lokachi\n",
      "Processing Record 22 of Set 8 | lasa\n",
      "Processing Record 23 of Set 8 | togur\n",
      "Processing Record 24 of Set 8 | minab\n",
      "Processing Record 25 of Set 8 | manitowoc\n",
      "Processing Record 26 of Set 8 | bac lieu\n",
      "Processing Record 27 of Set 8 | orange\n",
      "Processing Record 28 of Set 8 | ashtabula\n",
      "Processing Record 29 of Set 8 | sorong\n",
      "City cockburn harbour not found. Skipping...\n",
      "Processing Record 30 of Set 8 | road town\n",
      "Processing Record 31 of Set 8 | velventos\n",
      "City alotau not found. Skipping...\n",
      "Processing Record 32 of Set 8 | mantua\n",
      "Processing Record 33 of Set 8 | kita\n",
      "Processing Record 34 of Set 8 | namatanai\n",
      "Processing Record 35 of Set 8 | praia da vitoria\n",
      "Processing Record 36 of Set 8 | tessalit\n",
      "Processing Record 37 of Set 8 | stuttgart\n",
      "Processing Record 38 of Set 8 | benemerito de las americas\n",
      "City tumannyy not found. Skipping...\n",
      "Processing Record 39 of Set 8 | akyab\n",
      "Processing Record 40 of Set 8 | margate\n",
      "Processing Record 41 of Set 8 | talara\n",
      "Processing Record 42 of Set 8 | lompoc\n",
      "City katsiveli not found. Skipping...\n",
      "Processing Record 43 of Set 8 | haimen\n",
      "Processing Record 44 of Set 8 | kavaratti\n",
      "Processing Record 45 of Set 8 | marsh harbour\n",
      "Processing Record 46 of Set 8 | half moon bay\n",
      "Processing Record 47 of Set 8 | simbahan\n",
      "Processing Record 48 of Set 8 | matiri\n",
      "Processing Record 49 of Set 8 | montague\n",
      "Processing Record 50 of Set 8 | challans\n",
      "Processing Record 1 of Set 9 | babayurt\n",
      "Processing Record 2 of Set 9 | tilichiki\n",
      "Processing Record 3 of Set 9 | guerrero negro\n",
      "City mudyuga not found. Skipping...\n",
      "City sint michiel not found. Skipping...\n",
      "Processing Record 4 of Set 9 | araouane\n",
      "Processing Record 5 of Set 9 | faanui\n",
      "Processing Record 6 of Set 9 | adrar\n",
      "Processing Record 7 of Set 9 | tual\n",
      "Processing Record 8 of Set 9 | maxixe\n",
      "Processing Record 9 of Set 9 | guozhen\n",
      "City bacuit not found. Skipping...\n",
      "Processing Record 10 of Set 9 | leh\n",
      "Processing Record 11 of Set 9 | manono\n",
      "Processing Record 12 of Set 9 | borgarnes\n",
      "Processing Record 13 of Set 9 | grand gaube\n",
      "Processing Record 14 of Set 9 | san marcos\n",
      "Processing Record 15 of Set 9 | huarmey\n",
      "Processing Record 16 of Set 9 | koygorodok\n",
      "Processing Record 17 of Set 9 | brora\n",
      "Processing Record 18 of Set 9 | gizo\n",
      "Processing Record 19 of Set 9 | kieta\n",
      "Processing Record 20 of Set 9 | ankpa\n",
      "Processing Record 21 of Set 9 | freeport\n",
      "Processing Record 22 of Set 9 | swan hill\n",
      "Processing Record 23 of Set 9 | aviles\n",
      "Processing Record 24 of Set 9 | katsuura\n",
      "Processing Record 25 of Set 9 | caborca\n",
      "Processing Record 26 of Set 9 | banda aceh\n",
      "Processing Record 27 of Set 9 | cabedelo\n",
      "Processing Record 28 of Set 9 | ranikhet\n",
      "Processing Record 29 of Set 9 | san cristobal\n",
      "Processing Record 30 of Set 9 | hovd\n",
      "Processing Record 31 of Set 9 | severnyy\n",
      "Processing Record 32 of Set 9 | broken hill\n",
      "Processing Record 33 of Set 9 | kannod\n",
      "Processing Record 34 of Set 9 | ciprian porumbescu\n",
      "Processing Record 35 of Set 9 | vila\n",
      "Processing Record 36 of Set 9 | atambua\n",
      "Processing Record 37 of Set 9 | kenai\n",
      "Processing Record 38 of Set 9 | korla\n",
      "Processing Record 39 of Set 9 | quepos\n",
      "Processing Record 40 of Set 9 | raghogarh\n",
      "Processing Record 41 of Set 9 | zhenlai\n",
      "Processing Record 42 of Set 9 | kijang\n",
      "Processing Record 43 of Set 9 | shumikha\n",
      "Processing Record 44 of Set 9 | kyra\n",
      "Processing Record 45 of Set 9 | dubbo\n",
      "Processing Record 46 of Set 9 | peleduy\n",
      "Processing Record 47 of Set 9 | svecha\n",
      "Processing Record 48 of Set 9 | vila franca do campo\n",
      "Processing Record 49 of Set 9 | tabou\n",
      "Processing Record 50 of Set 9 | kampong thum\n",
      "Processing Record 1 of Set 10 | solnechnyy\n",
      "Processing Record 2 of Set 10 | ferme-neuve\n",
      "Processing Record 3 of Set 10 | neuquen\n",
      "Processing Record 4 of Set 10 | iberia\n",
      "Processing Record 5 of Set 10 | takefu\n",
      "Processing Record 6 of Set 10 | tolaga bay\n",
      "Processing Record 7 of Set 10 | nelson\n",
      "Processing Record 8 of Set 10 | rush\n",
      "Processing Record 9 of Set 10 | leningradskiy\n",
      "Processing Record 10 of Set 10 | severo-yeniseyskiy\n",
      "Processing Record 11 of Set 10 | mahibadhoo\n",
      "Processing Record 12 of Set 10 | avera\n",
      "Processing Record 13 of Set 10 | bairiki\n",
      "Processing Record 14 of Set 10 | maceio\n",
      "Processing Record 15 of Set 10 | port macquarie\n",
      "Processing Record 16 of Set 10 | suchil\n",
      "Processing Record 17 of Set 10 | carutapera\n",
      "Processing Record 18 of Set 10 | kamenka\n",
      "Processing Record 19 of Set 10 | mount isa\n",
      "Processing Record 20 of Set 10 | mzimba\n",
      "Processing Record 21 of Set 10 | antofagasta\n",
      "Processing Record 22 of Set 10 | yarada\n",
      "Processing Record 23 of Set 10 | kaeo\n",
      "Processing Record 24 of Set 10 | hastings\n",
      "Processing Record 25 of Set 10 | hauterive\n",
      "Processing Record 26 of Set 10 | vao\n",
      "Processing Record 27 of Set 10 | zhangye\n",
      "Processing Record 28 of Set 10 | folldal\n",
      "Processing Record 29 of Set 10 | nyurba\n",
      "Processing Record 30 of Set 10 | plymouth\n",
      "Processing Record 31 of Set 10 | trairi\n",
      "Processing Record 32 of Set 10 | yurga\n",
      "Processing Record 33 of Set 10 | ambajogai\n",
      "Processing Record 34 of Set 10 | conde\n",
      "Processing Record 35 of Set 10 | rafsanjan\n",
      "Processing Record 36 of Set 10 | grand-lahou\n",
      "Processing Record 37 of Set 10 | iqaluit\n",
      "Processing Record 38 of Set 10 | klaksvik\n",
      "Processing Record 39 of Set 10 | temerloh\n",
      "Processing Record 40 of Set 10 | san miguel acatan\n",
      "City jabiru not found. Skipping...\n",
      "Processing Record 41 of Set 10 | egvekinot\n",
      "Processing Record 42 of Set 10 | billings\n",
      "Processing Record 43 of Set 10 | quatre cocos\n",
      "Processing Record 44 of Set 10 | tuatapere\n",
      "Processing Record 45 of Set 10 | kostomuksha\n",
      "Processing Record 46 of Set 10 | coolum beach\n",
      "Processing Record 47 of Set 10 | thung song\n",
      "Processing Record 48 of Set 10 | xichang\n",
      "Processing Record 49 of Set 10 | champerico\n",
      "Processing Record 50 of Set 10 | matara\n",
      "Processing Record 1 of Set 11 | poum\n",
      "Processing Record 2 of Set 11 | waddan\n",
      "Processing Record 3 of Set 11 | borba\n",
      "Processing Record 4 of Set 11 | khovu-aksy\n",
      "Processing Record 5 of Set 11 | wencheng\n",
      "Processing Record 6 of Set 11 | kendari\n",
      "Processing Record 7 of Set 11 | portobelo\n",
      "Processing Record 8 of Set 11 | luklukan\n",
      "Processing Record 9 of Set 11 | zelenoborskiy\n",
      "Processing Record 10 of Set 11 | san antonio\n",
      "Processing Record 11 of Set 11 | albanel\n",
      "Processing Record 12 of Set 11 | sur\n",
      "Processing Record 13 of Set 11 | najran\n",
      "Processing Record 14 of Set 11 | tuy hoa\n",
      "Processing Record 15 of Set 11 | dalian\n",
      "Processing Record 16 of Set 11 | port antonio\n",
      "Processing Record 17 of Set 11 | acari\n",
      "Processing Record 18 of Set 11 | anloga\n",
      "Processing Record 19 of Set 11 | astoria\n",
      "Processing Record 20 of Set 11 | russell\n",
      "Processing Record 21 of Set 11 | maricaban\n",
      "Processing Record 22 of Set 11 | urcos\n",
      "Processing Record 23 of Set 11 | codrington\n",
      "Processing Record 24 of Set 11 | moron\n",
      "Processing Record 25 of Set 11 | alexandroupoli\n",
      "Processing Record 26 of Set 11 | jiazi\n",
      "Processing Record 27 of Set 11 | baruun-urt\n",
      "Processing Record 28 of Set 11 | aswan\n",
      "Processing Record 29 of Set 11 | toguchin\n",
      "Processing Record 30 of Set 11 | jardim\n",
      "Processing Record 31 of Set 11 | dukat\n",
      "Processing Record 32 of Set 11 | khargone\n",
      "City makung not found. Skipping...\n",
      "Processing Record 33 of Set 11 | cascais\n",
      "Processing Record 34 of Set 11 | usinsk\n",
      "Processing Record 35 of Set 11 | kirs\n",
      "Processing Record 36 of Set 11 | kavieng\n",
      "Processing Record 37 of Set 11 | tura\n",
      "Processing Record 38 of Set 11 | joshimath\n",
      "Processing Record 39 of Set 11 | yerbogachen\n",
      "-----------------------\n",
      "Data Retrieval Complete\n",
      "-----------------------\n"
     ]
    }
   ],
   "source": [
    "#Lists to hold response information:\n",
    "\n",
    "cityname = []\n",
    "lat = []\n",
    "lng = []\n",
    "maxtemp = []\n",
    "humidity = []\n",
    "cloudiness = []\n",
    "windspeed = []\n",
    "country = []\n",
    "date = []\n",
    "\n",
    "#City and set counters initializing\n",
    "counter = 0\n",
    "setnumber = 1\n",
    "\n",
    "#Loop through the city list and perform data requests\n",
    "print(\"Beginning Data Retrieval\")\n",
    "print(\"------------------------\")\n",
    "for city in cities:\n",
    "    query_url = url + \"appid=\"+ weather_api_key + \"&q=\" + city + \"&units=\" +\"imperial\"\n",
    "    try:\n",
    "        response=requests.get(query_url).json()\n",
    "        cityname.append(response[\"name\"])\n",
    "        lat.append(response[\"coord\"][\"lat\"])\n",
    "        lng.append(response[\"coord\"][\"lon\"])\n",
    "        maxtemp.append(response[\"main\"][\"temp_max\"])\n",
    "        humidity.append(response[\"main\"][\"humidity\"])\n",
    "        cloudiness.append(response[\"clouds\"][\"all\"])\n",
    "        windspeed.append(response[\"wind\"][\"speed\"])\n",
    "        country.append(response[\"sys\"][\"country\"])\n",
    "        date.append(response[\"dt\"])\n",
    "        \n",
    "        #Including the counters within the for loop so the print statement updates\n",
    "        if counter == 50:\n",
    "            counter = 1\n",
    "            setnumber += 1\n",
    "\n",
    "        else:\n",
    "            counter += 1\n",
    "\n",
    "        \n",
    "        #Printing each record for every city\n",
    "        print(f\"Processing Record {counter} of Set {setnumber} | {city}\")\n",
    "        \n",
    "        time.sleep(1)\n",
    "    except:\n",
    "        print(f\"City {city} not found. Skipping...\")\n",
    "print(\"-----------------------\")\n",
    "print(\"Data Retrieval Complete\")\n",
    "print(\"-----------------------\")"
   ]
  },
  {
   "cell_type": "code",
   "execution_count": 8,
   "metadata": {},
   "outputs": [
    {
     "name": "stdout",
     "output_type": "stream",
     "text": [
      "539\n",
      "539\n",
      "539\n",
      "539\n",
      "539\n",
      "539\n",
      "539\n",
      "539\n",
      "539\n"
     ]
    }
   ],
   "source": [
    "#Checking array length for dataframe assembly\n",
    "print(len(cityname))\n",
    "print(len(lat))\n",
    "print(len(lng))\n",
    "print(len(maxtemp))\n",
    "print(len(humidity))\n",
    "print(len(cloudiness))\n",
    "print(len(windspeed))\n",
    "print(len(country))\n",
    "print(len(date))"
   ]
  },
  {
   "cell_type": "markdown",
   "metadata": {},
   "source": [
    "## Convert Raw Data to DataFrame\n",
    "* Save as csv"
   ]
  },
  {
   "cell_type": "code",
   "execution_count": 9,
   "metadata": {},
   "outputs": [],
   "source": [
    "#Create a data frame from the following dictionary:\n",
    "\n",
    "#Dictionary\n",
    "weather_dict = {\n",
    "    \"City\": cityname,\n",
    "    \"Lat\": lat,\n",
    "    \"Lng\": lng,\n",
    "    \"Max Temp\": maxtemp,\n",
    "    \"Humidity\": humidity,\n",
    "    \"Cloudiness\": cloudiness,\n",
    "    \"Wind Speed\": windspeed,\n",
    "    \"Country\": country,\n",
    "    \"Date\": date\n",
    "}\n",
    "weather_data = pd.DataFrame(weather_dict)\n",
    "\n",
    "#Saving as csv\n",
    "weather_data.to_csv(\"Weather CSV\")"
   ]
  },
  {
   "cell_type": "code",
   "execution_count": 10,
   "metadata": {},
   "outputs": [
    {
     "data": {
      "text/html": [
       "<div>\n",
       "<style scoped>\n",
       "    .dataframe tbody tr th:only-of-type {\n",
       "        vertical-align: middle;\n",
       "    }\n",
       "\n",
       "    .dataframe tbody tr th {\n",
       "        vertical-align: top;\n",
       "    }\n",
       "\n",
       "    .dataframe thead th {\n",
       "        text-align: right;\n",
       "    }\n",
       "</style>\n",
       "<table border=\"1\" class=\"dataframe\">\n",
       "  <thead>\n",
       "    <tr style=\"text-align: right;\">\n",
       "      <th></th>\n",
       "      <th>City</th>\n",
       "      <th>Lat</th>\n",
       "      <th>Lng</th>\n",
       "      <th>Max Temp</th>\n",
       "      <th>Humidity</th>\n",
       "      <th>Cloudiness</th>\n",
       "      <th>Wind Speed</th>\n",
       "      <th>Country</th>\n",
       "      <th>Date</th>\n",
       "    </tr>\n",
       "  </thead>\n",
       "  <tbody>\n",
       "    <tr>\n",
       "      <th>0</th>\n",
       "      <td>Pevek</td>\n",
       "      <td>69.70</td>\n",
       "      <td>170.31</td>\n",
       "      <td>25.84</td>\n",
       "      <td>94</td>\n",
       "      <td>9</td>\n",
       "      <td>16.69</td>\n",
       "      <td>RU</td>\n",
       "      <td>1603085585</td>\n",
       "    </tr>\n",
       "    <tr>\n",
       "      <th>1</th>\n",
       "      <td>Albany</td>\n",
       "      <td>42.60</td>\n",
       "      <td>-73.97</td>\n",
       "      <td>52.00</td>\n",
       "      <td>70</td>\n",
       "      <td>66</td>\n",
       "      <td>4.83</td>\n",
       "      <td>US</td>\n",
       "      <td>1603085587</td>\n",
       "    </tr>\n",
       "    <tr>\n",
       "      <th>2</th>\n",
       "      <td>Minas</td>\n",
       "      <td>-34.38</td>\n",
       "      <td>-55.24</td>\n",
       "      <td>68.00</td>\n",
       "      <td>82</td>\n",
       "      <td>1</td>\n",
       "      <td>9.17</td>\n",
       "      <td>UY</td>\n",
       "      <td>1603085588</td>\n",
       "    </tr>\n",
       "    <tr>\n",
       "      <th>3</th>\n",
       "      <td>Puerto Ayora</td>\n",
       "      <td>-0.74</td>\n",
       "      <td>-90.35</td>\n",
       "      <td>71.01</td>\n",
       "      <td>89</td>\n",
       "      <td>99</td>\n",
       "      <td>8.01</td>\n",
       "      <td>EC</td>\n",
       "      <td>1603085056</td>\n",
       "    </tr>\n",
       "    <tr>\n",
       "      <th>4</th>\n",
       "      <td>Prince Rupert</td>\n",
       "      <td>54.32</td>\n",
       "      <td>-130.32</td>\n",
       "      <td>42.80</td>\n",
       "      <td>100</td>\n",
       "      <td>90</td>\n",
       "      <td>5.82</td>\n",
       "      <td>CA</td>\n",
       "      <td>1603085457</td>\n",
       "    </tr>\n",
       "  </tbody>\n",
       "</table>\n",
       "</div>"
      ],
      "text/plain": [
       "            City    Lat     Lng  Max Temp  Humidity  Cloudiness  Wind Speed  \\\n",
       "0          Pevek  69.70  170.31     25.84        94           9       16.69   \n",
       "1         Albany  42.60  -73.97     52.00        70          66        4.83   \n",
       "2          Minas -34.38  -55.24     68.00        82           1        9.17   \n",
       "3   Puerto Ayora  -0.74  -90.35     71.01        89          99        8.01   \n",
       "4  Prince Rupert  54.32 -130.32     42.80       100          90        5.82   \n",
       "\n",
       "  Country        Date  \n",
       "0      RU  1603085585  \n",
       "1      US  1603085587  \n",
       "2      UY  1603085588  \n",
       "3      EC  1603085056  \n",
       "4      CA  1603085457  "
      ]
     },
     "execution_count": 10,
     "metadata": {},
     "output_type": "execute_result"
    }
   ],
   "source": [
    "weather_data.head()"
   ]
  },
  {
   "cell_type": "markdown",
   "metadata": {},
   "source": [
    "## Plotting the Data\n",
    "* Use proper labeling of the plots using plot titles (including date of analysis) and axes labels.\n",
    "* Save the plotted figures as .pngs."
   ]
  },
  {
   "cell_type": "markdown",
   "metadata": {},
   "source": [
    "### Latitude vs. Temperature Plot"
   ]
  },
  {
   "cell_type": "code",
   "execution_count": 11,
   "metadata": {},
   "outputs": [
    {
     "name": "stdout",
     "output_type": "stream",
     "text": [
      "(10/19/2020)\n"
     ]
    },
    {
     "data": {
      "image/png": "[encoded data removed]",
      "text/plain": [
       "<Figure size 432x288 with 1 Axes>"
      ]
     },
     "metadata": {
      "needs_background": "light"
     },
     "output_type": "display_data"
    }
   ],
   "source": [
    "# Build a scatter plot for each data type\n",
    "plt.scatter(weather_data[\"Lat\"], weather_data[\"Max Temp\"], marker=\"o\")\n",
    "\n",
    "#Converting the unix so that it reads from the dataframe date and converts it to month/day/year\n",
    "\n",
    "todaysdate=datetime.datetime.fromtimestamp(int(date[1])).strftime('(%m/%d/%Y)')\n",
    "print(todaysdate)\n",
    "\n",
    "\n",
    "# Incorporate the other graph properties\n",
    "plt.title(\"City Latitude vs. Max Temperature \"+str(todaysdate))\n",
    "plt.ylabel(\"Max Temperature (F)\")\n",
    "plt.xlabel(\"Latitude\")\n",
    "plt.grid(True)\n",
    "\n",
    "# Save the figure\n",
    "plt.savefig(\"City Latitude vs Max Temperature.png\")\n",
    "\n",
    "# Show plot\n",
    "plt.show()"
   ]
  },
  {
   "cell_type": "code",
   "execution_count": 12,
   "metadata": {
    "scrolled": true
   },
   "outputs": [],
   "source": [
    "#Analysis of City Latitude vs Max Temperature plot:\n",
    "    #This scatter plot suggests that temperature generally increases as latitude approaches zero. The value of the maximum temperature generally increases if a city's distance is closer to the equator. \n",
    "    \n",
    "    \n",
    "    \n",
    "    "
   ]
  },
  {
   "cell_type": "markdown",
   "metadata": {},
   "source": [
    "### Latitude vs. Humidity Plot"
   ]
  },
  {
   "cell_type": "code",
   "execution_count": 13,
   "metadata": {},
   "outputs": [
    {
     "name": "stdout",
     "output_type": "stream",
     "text": [
      "(10/19/2020)\n"
     ]
    },
    {
     "data": {
      "image/png": "[encoded data removed]",
      "text/plain": [
       "<Figure size 432x288 with 1 Axes>"
      ]
     },
     "metadata": {
      "needs_background": "light"
     },
     "output_type": "display_data"
    }
   ],
   "source": [
    "# Build a scatter plot for each data type\n",
    "plt.scatter(weather_data[\"Lat\"], weather_data[\"Humidity\"], marker=\"o\")\n",
    "\n",
    "#Converting the unix so that it reads from the dataframe date and converts it to month/day/year\n",
    "\n",
    "todaysdate=datetime.datetime.fromtimestamp(int(date[1])).strftime('(%m/%d/%Y)')\n",
    "print(todaysdate)\n",
    "\n",
    "\n",
    "# Incorporate the other graph properties\n",
    "plt.title(\"City Latitude vs. Humidity \"+str(todaysdate))\n",
    "plt.ylabel(\"Humidity (%))\")\n",
    "plt.xlabel(\"Latitude\")\n",
    "plt.grid(True)\n",
    "\n",
    "# Save the figure\n",
    "plt.savefig(\"City Latitude vs Humidity.png\")\n",
    "\n",
    "# Show plot\n",
    "plt.show()"
   ]
  },
  {
   "cell_type": "code",
   "execution_count": 14,
   "metadata": {},
   "outputs": [],
   "source": [
    "#Analysis of City Latitude vs Humidity plot:\n",
    "    #There was not a clear, visual correlation betwen city latitude and humidity based on this scatter plot. There was a cluster of high humidity just below the equator, as well as a cluster of high humidity around the 60-70 degree latitude.\n",
    "    \n",
    "    \n",
    "    "
   ]
  },
  {
   "cell_type": "markdown",
   "metadata": {},
   "source": [
    "### Latitude vs. Cloudiness Plot"
   ]
  },
  {
   "cell_type": "code",
   "execution_count": 15,
   "metadata": {},
   "outputs": [
    {
     "name": "stdout",
     "output_type": "stream",
     "text": [
      "(10/19/2020)\n"
     ]
    },
    {
     "data": {
      "image/png": "[encoded data removed]",
      "text/plain": [
       "<Figure size 432x288 with 1 Axes>"
      ]
     },
     "metadata": {
      "needs_background": "light"
     },
     "output_type": "display_data"
    }
   ],
   "source": [
    "# Build a scatter plot for each data type\n",
    "plt.scatter(weather_data[\"Lat\"], weather_data[\"Cloudiness\"], marker=\"o\")\n",
    "\n",
    "#Converting the unix so that it reads from the dataframe date and converts it to month/day/year\n",
    "\n",
    "todaysdate=datetime.datetime.fromtimestamp(int(date[1])).strftime('(%m/%d/%Y)')\n",
    "print(todaysdate)\n",
    "\n",
    "\n",
    "# Incorporate the other graph properties\n",
    "plt.title(\"City Latitude vs. Cloudiness \"+str(todaysdate))\n",
    "plt.ylabel(\"Cloudiness (%)\")\n",
    "plt.xlabel(\"Latitude\")\n",
    "plt.grid(True)\n",
    "\n",
    "# Save the figure\n",
    "plt.savefig(\"City Latitude vs Cloudiness.png\")\n",
    "\n",
    "# Show plot\n",
    "plt.show()"
   ]
  },
  {
   "cell_type": "code",
   "execution_count": 16,
   "metadata": {},
   "outputs": [],
   "source": [
    "#Analysis of City Latitude vs Cloudiness plot:\n",
    "    #There is no clear relationship between latitude and cloudiness. Even at a given latitude, the cloudiness data appears to be spread out."
   ]
  },
  {
   "cell_type": "markdown",
   "metadata": {},
   "source": [
    "### Latitude vs. Wind Speed Plot"
   ]
  },
  {
   "cell_type": "code",
   "execution_count": 17,
   "metadata": {
    "scrolled": true
   },
   "outputs": [
    {
     "name": "stdout",
     "output_type": "stream",
     "text": [
      "(10/19/2020)\n"
     ]
    },
    {
     "data": {
      "image/png": "[encoded data removed]",
      "text/plain": [
       "<Figure size 432x288 with 1 Axes>"
      ]
     },
     "metadata": {
      "needs_background": "light"
     },
     "output_type": "display_data"
    }
   ],
   "source": [
    "# Build a scatter plot for each data type\n",
    "plt.scatter(weather_data[\"Lat\"], weather_data[\"Wind Speed\"], marker=\"o\")\n",
    "\n",
    "#Converting the unix so that it reads from the dataframe date and converts it to month/day/year\n",
    "\n",
    "todaysdate=datetime.datetime.fromtimestamp(int(date[1])).strftime('(%m/%d/%Y)')\n",
    "print(todaysdate)\n",
    "\n",
    "\n",
    "# Incorporate the other graph properties\n",
    "plt.title(\"City Latitude vs. Wind Speed \"+str(todaysdate))\n",
    "plt.ylabel(\"Wind Speed\")\n",
    "plt.xlabel(\"Latitude\")\n",
    "plt.grid(True)\n",
    "\n",
    "# Save the figure\n",
    "plt.savefig(\"City Latitude vs Wind Speed.png\")\n",
    "\n",
    "# Show plot\n",
    "plt.show()"
   ]
  },
  {
   "cell_type": "code",
   "execution_count": 18,
   "metadata": {},
   "outputs": [],
   "source": [
    "#Analysis of City Latitude vs Wind Speed plot:\n",
    "    #There is no clear relationship between latitude and wind speed. Wind speeds, however, are generally low. At any given latitude, the wind speed data is dispersed.\n",
    "    \n",
    "    \n",
    "    \n",
    "    \n",
    "    "
   ]
  },
  {
   "cell_type": "markdown",
   "metadata": {},
   "source": [
    "## Linear Regression"
   ]
  },
  {
   "cell_type": "markdown",
   "metadata": {},
   "source": [
    "### Write linear regression plot function (optional)"
   ]
  },
  {
   "cell_type": "code",
   "execution_count": 19,
   "metadata": {},
   "outputs": [
    {
     "data": {
      "text/html": [
       "<div>\n",
       "<style scoped>\n",
       "    .dataframe tbody tr th:only-of-type {\n",
       "        vertical-align: middle;\n",
       "    }\n",
       "\n",
       "    .dataframe tbody tr th {\n",
       "        vertical-align: top;\n",
       "    }\n",
       "\n",
       "    .dataframe thead th {\n",
       "        text-align: right;\n",
       "    }\n",
       "</style>\n",
       "<table border=\"1\" class=\"dataframe\">\n",
       "  <thead>\n",
       "    <tr style=\"text-align: right;\">\n",
       "      <th></th>\n",
       "      <th>City</th>\n",
       "      <th>Lat</th>\n",
       "      <th>Lng</th>\n",
       "      <th>Max Temp</th>\n",
       "      <th>Humidity</th>\n",
       "      <th>Cloudiness</th>\n",
       "      <th>Wind Speed</th>\n",
       "      <th>Country</th>\n",
       "      <th>Date</th>\n",
       "    </tr>\n",
       "  </thead>\n",
       "  <tbody>\n",
       "    <tr>\n",
       "      <th>2</th>\n",
       "      <td>Minas</td>\n",
       "      <td>-34.38</td>\n",
       "      <td>-55.24</td>\n",
       "      <td>68.00</td>\n",
       "      <td>82</td>\n",
       "      <td>1</td>\n",
       "      <td>9.17</td>\n",
       "      <td>UY</td>\n",
       "      <td>1603085588</td>\n",
       "    </tr>\n",
       "    <tr>\n",
       "      <th>3</th>\n",
       "      <td>Puerto Ayora</td>\n",
       "      <td>-0.74</td>\n",
       "      <td>-90.35</td>\n",
       "      <td>71.01</td>\n",
       "      <td>89</td>\n",
       "      <td>99</td>\n",
       "      <td>8.01</td>\n",
       "      <td>EC</td>\n",
       "      <td>1603085056</td>\n",
       "    </tr>\n",
       "    <tr>\n",
       "      <th>6</th>\n",
       "      <td>Kaitangata</td>\n",
       "      <td>-46.28</td>\n",
       "      <td>169.85</td>\n",
       "      <td>47.25</td>\n",
       "      <td>91</td>\n",
       "      <td>100</td>\n",
       "      <td>8.88</td>\n",
       "      <td>NZ</td>\n",
       "      <td>1603085592</td>\n",
       "    </tr>\n",
       "    <tr>\n",
       "      <th>8</th>\n",
       "      <td>Te Anau</td>\n",
       "      <td>-45.42</td>\n",
       "      <td>167.72</td>\n",
       "      <td>47.35</td>\n",
       "      <td>85</td>\n",
       "      <td>93</td>\n",
       "      <td>1.68</td>\n",
       "      <td>NZ</td>\n",
       "      <td>1603085594</td>\n",
       "    </tr>\n",
       "    <tr>\n",
       "      <th>10</th>\n",
       "      <td>Pisco</td>\n",
       "      <td>-13.70</td>\n",
       "      <td>-76.22</td>\n",
       "      <td>62.60</td>\n",
       "      <td>77</td>\n",
       "      <td>0</td>\n",
       "      <td>9.17</td>\n",
       "      <td>PE</td>\n",
       "      <td>1603085596</td>\n",
       "    </tr>\n",
       "    <tr>\n",
       "      <th>...</th>\n",
       "      <td>...</td>\n",
       "      <td>...</td>\n",
       "      <td>...</td>\n",
       "      <td>...</td>\n",
       "      <td>...</td>\n",
       "      <td>...</td>\n",
       "      <td>...</td>\n",
       "      <td>...</td>\n",
       "      <td>...</td>\n",
       "    </tr>\n",
       "    <tr>\n",
       "      <th>521</th>\n",
       "      <td>Urcos</td>\n",
       "      <td>-13.69</td>\n",
       "      <td>-71.62</td>\n",
       "      <td>50.85</td>\n",
       "      <td>64</td>\n",
       "      <td>67</td>\n",
       "      <td>5.35</td>\n",
       "      <td>PE</td>\n",
       "      <td>1603086152</td>\n",
       "    </tr>\n",
       "    <tr>\n",
       "      <th>522</th>\n",
       "      <td>Codrington</td>\n",
       "      <td>-38.27</td>\n",
       "      <td>141.97</td>\n",
       "      <td>56.37</td>\n",
       "      <td>74</td>\n",
       "      <td>90</td>\n",
       "      <td>8.66</td>\n",
       "      <td>AU</td>\n",
       "      <td>1603086153</td>\n",
       "    </tr>\n",
       "    <tr>\n",
       "      <th>523</th>\n",
       "      <td>Morón</td>\n",
       "      <td>-34.65</td>\n",
       "      <td>-58.62</td>\n",
       "      <td>78.01</td>\n",
       "      <td>71</td>\n",
       "      <td>0</td>\n",
       "      <td>1.99</td>\n",
       "      <td>AR</td>\n",
       "      <td>1603086154</td>\n",
       "    </tr>\n",
       "    <tr>\n",
       "      <th>529</th>\n",
       "      <td>Jardim</td>\n",
       "      <td>-21.48</td>\n",
       "      <td>-56.14</td>\n",
       "      <td>67.71</td>\n",
       "      <td>96</td>\n",
       "      <td>16</td>\n",
       "      <td>3.02</td>\n",
       "      <td>BR</td>\n",
       "      <td>1603086160</td>\n",
       "    </tr>\n",
       "    <tr>\n",
       "      <th>535</th>\n",
       "      <td>Kavieng</td>\n",
       "      <td>-2.57</td>\n",
       "      <td>150.80</td>\n",
       "      <td>85.35</td>\n",
       "      <td>63</td>\n",
       "      <td>46</td>\n",
       "      <td>5.14</td>\n",
       "      <td>PG</td>\n",
       "      <td>1603085998</td>\n",
       "    </tr>\n",
       "  </tbody>\n",
       "</table>\n",
       "<p>161 rows × 9 columns</p>\n",
       "</div>"
      ],
      "text/plain": [
       "             City    Lat     Lng  Max Temp  Humidity  Cloudiness  Wind Speed  \\\n",
       "2           Minas -34.38  -55.24     68.00        82           1        9.17   \n",
       "3    Puerto Ayora  -0.74  -90.35     71.01        89          99        8.01   \n",
       "6      Kaitangata -46.28  169.85     47.25        91         100        8.88   \n",
       "8         Te Anau -45.42  167.72     47.35        85          93        1.68   \n",
       "10          Pisco -13.70  -76.22     62.60        77           0        9.17   \n",
       "..            ...    ...     ...       ...       ...         ...         ...   \n",
       "521         Urcos -13.69  -71.62     50.85        64          67        5.35   \n",
       "522    Codrington -38.27  141.97     56.37        74          90        8.66   \n",
       "523         Morón -34.65  -58.62     78.01        71           0        1.99   \n",
       "529        Jardim -21.48  -56.14     67.71        96          16        3.02   \n",
       "535       Kavieng  -2.57  150.80     85.35        63          46        5.14   \n",
       "\n",
       "    Country        Date  \n",
       "2        UY  1603085588  \n",
       "3        EC  1603085056  \n",
       "6        NZ  1603085592  \n",
       "8        NZ  1603085594  \n",
       "10       PE  1603085596  \n",
       "..      ...         ...  \n",
       "521      PE  1603086152  \n",
       "522      AU  1603086153  \n",
       "523      AR  1603086154  \n",
       "529      BR  1603086160  \n",
       "535      PG  1603085998  \n",
       "\n",
       "[161 rows x 9 columns]"
      ]
     },
     "execution_count": 19,
     "metadata": {},
     "output_type": "execute_result"
    }
   ],
   "source": [
    "#Creating dataframe for southern hemisphere\n",
    "southerndf=weather_data.loc[weather_data[\"Lat\"]<0]\n",
    "southerndf\n"
   ]
  },
  {
   "cell_type": "code",
   "execution_count": 20,
   "metadata": {},
   "outputs": [
    {
     "data": {
      "text/html": [
       "<div>\n",
       "<style scoped>\n",
       "    .dataframe tbody tr th:only-of-type {\n",
       "        vertical-align: middle;\n",
       "    }\n",
       "\n",
       "    .dataframe tbody tr th {\n",
       "        vertical-align: top;\n",
       "    }\n",
       "\n",
       "    .dataframe thead th {\n",
       "        text-align: right;\n",
       "    }\n",
       "</style>\n",
       "<table border=\"1\" class=\"dataframe\">\n",
       "  <thead>\n",
       "    <tr style=\"text-align: right;\">\n",
       "      <th></th>\n",
       "      <th>City</th>\n",
       "      <th>Lat</th>\n",
       "      <th>Lng</th>\n",
       "      <th>Max Temp</th>\n",
       "      <th>Humidity</th>\n",
       "      <th>Cloudiness</th>\n",
       "      <th>Wind Speed</th>\n",
       "      <th>Country</th>\n",
       "      <th>Date</th>\n",
       "    </tr>\n",
       "  </thead>\n",
       "  <tbody>\n",
       "    <tr>\n",
       "      <th>0</th>\n",
       "      <td>Pevek</td>\n",
       "      <td>69.70</td>\n",
       "      <td>170.31</td>\n",
       "      <td>25.84</td>\n",
       "      <td>94</td>\n",
       "      <td>9</td>\n",
       "      <td>16.69</td>\n",
       "      <td>RU</td>\n",
       "      <td>1603085585</td>\n",
       "    </tr>\n",
       "    <tr>\n",
       "      <th>1</th>\n",
       "      <td>Albany</td>\n",
       "      <td>42.60</td>\n",
       "      <td>-73.97</td>\n",
       "      <td>52.00</td>\n",
       "      <td>70</td>\n",
       "      <td>66</td>\n",
       "      <td>4.83</td>\n",
       "      <td>US</td>\n",
       "      <td>1603085587</td>\n",
       "    </tr>\n",
       "    <tr>\n",
       "      <th>4</th>\n",
       "      <td>Prince Rupert</td>\n",
       "      <td>54.32</td>\n",
       "      <td>-130.32</td>\n",
       "      <td>42.80</td>\n",
       "      <td>100</td>\n",
       "      <td>90</td>\n",
       "      <td>5.82</td>\n",
       "      <td>CA</td>\n",
       "      <td>1603085457</td>\n",
       "    </tr>\n",
       "    <tr>\n",
       "      <th>5</th>\n",
       "      <td>Klyuchi</td>\n",
       "      <td>52.27</td>\n",
       "      <td>79.17</td>\n",
       "      <td>41.68</td>\n",
       "      <td>61</td>\n",
       "      <td>40</td>\n",
       "      <td>8.75</td>\n",
       "      <td>RU</td>\n",
       "      <td>1603085591</td>\n",
       "    </tr>\n",
       "    <tr>\n",
       "      <th>7</th>\n",
       "      <td>Kadnikov</td>\n",
       "      <td>59.50</td>\n",
       "      <td>40.34</td>\n",
       "      <td>37.38</td>\n",
       "      <td>87</td>\n",
       "      <td>96</td>\n",
       "      <td>11.59</td>\n",
       "      <td>RU</td>\n",
       "      <td>1603085593</td>\n",
       "    </tr>\n",
       "    <tr>\n",
       "      <th>...</th>\n",
       "      <td>...</td>\n",
       "      <td>...</td>\n",
       "      <td>...</td>\n",
       "      <td>...</td>\n",
       "      <td>...</td>\n",
       "      <td>...</td>\n",
       "      <td>...</td>\n",
       "      <td>...</td>\n",
       "      <td>...</td>\n",
       "    </tr>\n",
       "    <tr>\n",
       "      <th>533</th>\n",
       "      <td>Usinsk</td>\n",
       "      <td>65.99</td>\n",
       "      <td>57.53</td>\n",
       "      <td>26.40</td>\n",
       "      <td>96</td>\n",
       "      <td>84</td>\n",
       "      <td>8.86</td>\n",
       "      <td>RU</td>\n",
       "      <td>1603086165</td>\n",
       "    </tr>\n",
       "    <tr>\n",
       "      <th>534</th>\n",
       "      <td>Kirs</td>\n",
       "      <td>59.34</td>\n",
       "      <td>52.24</td>\n",
       "      <td>40.19</td>\n",
       "      <td>87</td>\n",
       "      <td>100</td>\n",
       "      <td>12.50</td>\n",
       "      <td>RU</td>\n",
       "      <td>1603086166</td>\n",
       "    </tr>\n",
       "    <tr>\n",
       "      <th>536</th>\n",
       "      <td>Tura</td>\n",
       "      <td>25.52</td>\n",
       "      <td>90.22</td>\n",
       "      <td>83.97</td>\n",
       "      <td>77</td>\n",
       "      <td>12</td>\n",
       "      <td>2.19</td>\n",
       "      <td>IN</td>\n",
       "      <td>1603085993</td>\n",
       "    </tr>\n",
       "    <tr>\n",
       "      <th>537</th>\n",
       "      <td>Joshīmath</td>\n",
       "      <td>30.57</td>\n",
       "      <td>79.57</td>\n",
       "      <td>70.83</td>\n",
       "      <td>20</td>\n",
       "      <td>0</td>\n",
       "      <td>7.27</td>\n",
       "      <td>IN</td>\n",
       "      <td>1603086169</td>\n",
       "    </tr>\n",
       "    <tr>\n",
       "      <th>538</th>\n",
       "      <td>Yerbogachën</td>\n",
       "      <td>61.28</td>\n",
       "      <td>108.01</td>\n",
       "      <td>30.61</td>\n",
       "      <td>89</td>\n",
       "      <td>76</td>\n",
       "      <td>14.50</td>\n",
       "      <td>RU</td>\n",
       "      <td>1603086170</td>\n",
       "    </tr>\n",
       "  </tbody>\n",
       "</table>\n",
       "<p>378 rows × 9 columns</p>\n",
       "</div>"
      ],
      "text/plain": [
       "              City    Lat     Lng  Max Temp  Humidity  Cloudiness  Wind Speed  \\\n",
       "0            Pevek  69.70  170.31     25.84        94           9       16.69   \n",
       "1           Albany  42.60  -73.97     52.00        70          66        4.83   \n",
       "4    Prince Rupert  54.32 -130.32     42.80       100          90        5.82   \n",
       "5          Klyuchi  52.27   79.17     41.68        61          40        8.75   \n",
       "7         Kadnikov  59.50   40.34     37.38        87          96       11.59   \n",
       "..             ...    ...     ...       ...       ...         ...         ...   \n",
       "533         Usinsk  65.99   57.53     26.40        96          84        8.86   \n",
       "534           Kirs  59.34   52.24     40.19        87         100       12.50   \n",
       "536           Tura  25.52   90.22     83.97        77          12        2.19   \n",
       "537      Joshīmath  30.57   79.57     70.83        20           0        7.27   \n",
       "538    Yerbogachën  61.28  108.01     30.61        89          76       14.50   \n",
       "\n",
       "    Country        Date  \n",
       "0        RU  1603085585  \n",
       "1        US  1603085587  \n",
       "4        CA  1603085457  \n",
       "5        RU  1603085591  \n",
       "7        RU  1603085593  \n",
       "..      ...         ...  \n",
       "533      RU  1603086165  \n",
       "534      RU  1603086166  \n",
       "536      IN  1603085993  \n",
       "537      IN  1603086169  \n",
       "538      RU  1603086170  \n",
       "\n",
       "[378 rows x 9 columns]"
      ]
     },
     "execution_count": 20,
     "metadata": {},
     "output_type": "execute_result"
    }
   ],
   "source": [
    "#Creating dataframe for northern hemisphere\n",
    "northerndf=weather_data.loc[weather_data[\"Lat\"]>=0]\n",
    "northerndf\n",
    "\n"
   ]
  },
  {
   "cell_type": "markdown",
   "metadata": {},
   "source": [
    "###  Northern Hemisphere - Max Temp vs. Latitude Linear Regression"
   ]
  },
  {
   "cell_type": "code",
   "execution_count": 21,
   "metadata": {},
   "outputs": [
    {
     "data": {
      "image/png": "[encoded data removed]",
      "text/plain": [
       "<Figure size 432x288 with 1 Axes>"
      ]
     },
     "metadata": {
      "needs_background": "light"
     },
     "output_type": "display_data"
    },
    {
     "name": "stdout",
     "output_type": "stream",
     "text": [
      "rvalue: -0.9034522829525725\n",
      "rquared: 0.8162260275722152\n"
     ]
    },
    {
     "data": {
      "text/plain": [
       "<Figure size 432x288 with 0 Axes>"
      ]
     },
     "metadata": {},
     "output_type": "display_data"
    }
   ],
   "source": [
    "#Northern Hemisphere: max temp vs latitude linear regression\n",
    "\n",
    "x_values = northerndf['Lat']\n",
    "y_values = northerndf['Max Temp']\n",
    "(slope, intercept, rvalue, pvalue, stderr) = linregress(x_values, y_values)\n",
    "regress_values = x_values * slope + intercept\n",
    "line_eq = \"y = \" + str(round(slope,2)) + \"x + \" + str(round(intercept,2))\n",
    "plt.scatter(x_values,y_values)\n",
    "plt.plot(x_values,regress_values,\"r-\")\n",
    "\n",
    "\n",
    "plt.annotate(line_eq,(20,40),fontsize=15,color=\"red\")\n",
    "plt.xlabel('Latitude')\n",
    "plt.ylabel('Max Temp (F)')\n",
    "plt.title(\"Northern Hemisphere - Max Temp vs. Latitude Linear Regression\")\n",
    "plt.xlim(0, 85)\n",
    "plt.ylim(30, 120)\n",
    "plt.show()\n",
    "\n",
    "print(\"rvalue: \" + str(rvalue))\n",
    "print(\"rquared: \" + str(rvalue**2))\n",
    "\n",
    "plt.savefig(\"Northern Hemisphere - Max Temp vs. Latitude Linear Regression.png\")\n",
    "\n",
    "\n",
    "\n"
   ]
  },
  {
   "cell_type": "code",
   "execution_count": 22,
   "metadata": {},
   "outputs": [],
   "source": [
    "#Analysis: Northern Hemisphere - Max Temp vs. Latitude Linear Regression\n",
    "    #The r-value of -0.9 is close to -1, suggesting a strong negative correlation between max temperature and latitude.\n",
    "    #The high rsquared value of 0.81 suggests that the model fits the data well, with 81% of the data fitting the regression model.\n",
    "    \n",
    "    \n",
    "    "
   ]
  },
  {
   "cell_type": "markdown",
   "metadata": {},
   "source": [
    "###  Southern Hemisphere - Max Temp vs. Latitude Linear Regression"
   ]
  },
  {
   "cell_type": "code",
   "execution_count": 23,
   "metadata": {},
   "outputs": [
    {
     "data": {
      "image/png": "[encoded data removed]",
      "text/plain": [
       "<Figure size 432x288 with 1 Axes>"
      ]
     },
     "metadata": {
      "needs_background": "light"
     },
     "output_type": "display_data"
    },
    {
     "name": "stdout",
     "output_type": "stream",
     "text": [
      "rvalue: 0.6712153045941329\n",
      "rquared: 0.45052998512139464\n"
     ]
    },
    {
     "data": {
      "text/plain": [
       "<Figure size 432x288 with 0 Axes>"
      ]
     },
     "metadata": {},
     "output_type": "display_data"
    }
   ],
   "source": [
    "#Southern Hemisphere: max temp vs latitude linear regression\n",
    "\n",
    "x_values = southerndf['Lat']\n",
    "y_values = southerndf['Max Temp']\n",
    "(slope, intercept, rvalue, pvalue, stderr) = linregress(x_values, y_values)\n",
    "regress_values = x_values * slope + intercept\n",
    "line_eq = \"y = \" + str(round(slope,2)) + \"x + \" + str(round(intercept,2))\n",
    "plt.scatter(x_values,y_values)\n",
    "plt.plot(x_values,regress_values,\"r-\")\n",
    "\n",
    "\n",
    "plt.annotate(line_eq,(-40,90),fontsize=15,color=\"red\")\n",
    "plt.xlabel('Latitude')\n",
    "plt.ylabel('Max Temp (F)')\n",
    "plt.title(\"Southern Hemisphere - Max Temp vs. Latitude Linear Regression\")\n",
    "plt.xlim(-60, 0)\n",
    "plt.ylim(0, 110)\n",
    "plt.show()\n",
    "\n",
    "print(\"rvalue: \" + str(rvalue))\n",
    "print(\"rquared: \" + str(rvalue**2))\n",
    "\n",
    "plt.savefig(\"Southern Hemisphere - Max Temp vs. Latitude Linear Regression.png\")\n",
    "\n"
   ]
  },
  {
   "cell_type": "code",
   "execution_count": 24,
   "metadata": {},
   "outputs": [],
   "source": [
    "#Analysis: Southern Hemisphere - Max Temp vs. Latitude Linear Regression\n",
    "    #The r-value of 0.67 is close to 1, suggesting a positive correlation between max temperature and latitude in the Southern Hemisphere.\n",
    "    #The rsquared value of 0.45 suggests that 45% of the data fits the regression model.\n",
    "    \n",
    "    "
   ]
  },
  {
   "cell_type": "markdown",
   "metadata": {},
   "source": [
    "###  Northern Hemisphere - Humidity (%) vs. Latitude Linear Regression"
   ]
  },
  {
   "cell_type": "code",
   "execution_count": 25,
   "metadata": {},
   "outputs": [
    {
     "data": {
      "image/png": "[encoded data removed]",
      "text/plain": [
       "<Figure size 432x288 with 1 Axes>"
      ]
     },
     "metadata": {
      "needs_background": "light"
     },
     "output_type": "display_data"
    },
    {
     "name": "stdout",
     "output_type": "stream",
     "text": [
      "rvalue: 0.26836335627479185\n",
      "rquared: 0.07201889099107087\n"
     ]
    },
    {
     "data": {
      "text/plain": [
       "<Figure size 432x288 with 0 Axes>"
      ]
     },
     "metadata": {},
     "output_type": "display_data"
    }
   ],
   "source": [
    "#Northern Hemisphere: humidity vs latitude linear regression\n",
    "\n",
    "x_values = northerndf['Lat']\n",
    "y_values = northerndf['Humidity']\n",
    "(slope, intercept, rvalue, pvalue, stderr) = linregress(x_values, y_values)\n",
    "regress_values = x_values * slope + intercept\n",
    "line_eq = \"y = \" + str(round(slope,2)) + \"x + \" + str(round(intercept,2))\n",
    "plt.scatter(x_values,y_values)\n",
    "plt.plot(x_values,regress_values,\"r-\")\n",
    "\n",
    "plt.annotate(line_eq,(40,20),fontsize=15,color=\"red\")\n",
    "plt.xlabel('Latitude')\n",
    "plt.ylabel('Humidity (%)')\n",
    "plt.title(\"Northern Hemisphere - Humidity (%) vs. Latitude Linear Regression\")\n",
    "plt.xlim(-5, 85)\n",
    "plt.ylim(0, 110)\n",
    "plt.show()\n",
    "\n",
    "print(\"rvalue: \" + str(rvalue))\n",
    "print(\"rquared: \" + str(rvalue**2))\n",
    "\n",
    "plt.savefig(\"Northern Hemisphere - Humidity (%) vs. Latitude Linear Regression.png\")\n",
    "\n",
    "\n"
   ]
  },
  {
   "cell_type": "code",
   "execution_count": 26,
   "metadata": {},
   "outputs": [],
   "source": [
    "#Analysis: Northern Hemisphere - Humidity (%) vs. Latitude Linear Regression\n",
    "    #The r-value of 0.27 is not very close to one, suggesting a weakly positive correlation between humidity and latitude in the Northern Hemisphere.\n",
    "    #The rsquared value of implies that only 7% of the data fits the regression model.\n",
    "    "
   ]
  },
  {
   "cell_type": "markdown",
   "metadata": {},
   "source": [
    "###  Southern Hemisphere - Humidity (%) vs. Latitude Linear Regression"
   ]
  },
  {
   "cell_type": "code",
   "execution_count": 27,
   "metadata": {},
   "outputs": [
    {
     "data": {
      "image/png": "[encoded data removed]",
      "text/plain": [
       "<Figure size 432x288 with 1 Axes>"
      ]
     },
     "metadata": {
      "needs_background": "light"
     },
     "output_type": "display_data"
    },
    {
     "name": "stdout",
     "output_type": "stream",
     "text": [
      "rvalue: 0.0882298042299372\n",
      "rquared: 0.007784498354453045\n"
     ]
    },
    {
     "data": {
      "text/plain": [
       "<Figure size 432x288 with 0 Axes>"
      ]
     },
     "metadata": {},
     "output_type": "display_data"
    }
   ],
   "source": [
    "#Southern Hemisphere: humidity vs latitude linear regression\n",
    "\n",
    "x_values = southerndf['Lat']\n",
    "y_values = southerndf['Humidity']\n",
    "(slope, intercept, rvalue, pvalue, stderr) = linregress(x_values, y_values)\n",
    "regress_values = x_values * slope + intercept\n",
    "line_eq = \"y = \" + str(round(slope,2)) + \"x + \" + str(round(intercept,2))\n",
    "plt.scatter(x_values,y_values)\n",
    "plt.plot(x_values,regress_values,\"r-\")\n",
    "\n",
    "\n",
    "plt.annotate(line_eq,(-50,20),fontsize=15,color=\"red\")\n",
    "plt.xlabel('Latitude')\n",
    "plt.ylabel('Humidity (%)')\n",
    "plt.title(\"Southern Hemisphere - Humidity (%) vs. Latitude Linear Regression\")\n",
    "plt.xlim(-60, 0)\n",
    "plt.ylim(0, 110)\n",
    "plt.show()\n",
    "\n",
    "print(\"rvalue: \" + str(rvalue))\n",
    "print(\"rquared: \" + str(rvalue**2))\n",
    "\n",
    "plt.savefig(\"Southern Hemisphere - Humidity (%) vs. Latitude Linear Regression.png\")\n",
    "\n"
   ]
  },
  {
   "cell_type": "code",
   "execution_count": 28,
   "metadata": {},
   "outputs": [],
   "source": [
    "#Analysis: Southern Hemisphere - Humidity (%) vs. Latitude Linear Regression\n",
    "    #The r-value of 0.08 is not very close to 1, suggesting an extremely weak positive correlation between humidity and latitude in the Southern Hemisphere.\n",
    "    #The rsquared value of implies that only .7% of the data fits the regression model.\n",
    "    #There is almost no correlation implied by this model.\n",
    "    "
   ]
  },
  {
   "cell_type": "markdown",
   "metadata": {},
   "source": [
    "###  Northern Hemisphere - Cloudiness (%) vs. Latitude Linear Regression"
   ]
  },
  {
   "cell_type": "code",
   "execution_count": 29,
   "metadata": {},
   "outputs": [
    {
     "data": {
      "image/png": "[encoded data removed]",
      "text/plain": [
       "<Figure size 432x288 with 1 Axes>"
      ]
     },
     "metadata": {
      "needs_background": "light"
     },
     "output_type": "display_data"
    },
    {
     "name": "stdout",
     "output_type": "stream",
     "text": [
      "rvalue: 0.17376860401737185\n",
      "rquared: 0.030195527742146178\n"
     ]
    },
    {
     "data": {
      "text/plain": [
       "<Figure size 432x288 with 0 Axes>"
      ]
     },
     "metadata": {},
     "output_type": "display_data"
    }
   ],
   "source": [
    "#Northern Hemisphere: cloudiness vs latitude linear regression\n",
    "\n",
    "x_values = northerndf['Lat']\n",
    "y_values = northerndf['Cloudiness']\n",
    "(slope, intercept, rvalue, pvalue, stderr) = linregress(x_values, y_values)\n",
    "regress_values = x_values * slope + intercept\n",
    "line_eq = \"y = \" + str(round(slope,2)) + \"x + \" + str(round(intercept,2))\n",
    "plt.scatter(x_values,y_values)\n",
    "plt.plot(x_values,regress_values,\"r-\")\n",
    "\n",
    "plt.annotate(line_eq,(30,20),fontsize=15,color=\"red\")\n",
    "plt.xlabel('Latitude')\n",
    "plt.ylabel('Cloudiness (%)')\n",
    "plt.title(\"Northern Hemisphere - Cloudiness (%) vs. Latitude Linear Regression\")\n",
    "plt.xlim(0, 85)\n",
    "plt.ylim(0, 110)\n",
    "plt.show()\n",
    "\n",
    "print(\"rvalue: \" + str(rvalue))\n",
    "print(\"rquared: \" + str(rvalue**2))\n",
    "\n",
    "plt.savefig(\"Northern Hemisphere - Cloudiness (%) vs. Latitude Linear Regression.png\")\n"
   ]
  },
  {
   "cell_type": "code",
   "execution_count": 30,
   "metadata": {},
   "outputs": [],
   "source": [
    "#Analysis: Northern Hemisphere - Cloudiness (%) vs. Latitude Linear Regression\n",
    "    #The r-value of 0.17 is not very close to 1, suggesting a weakly positive correlation between cloudiness and latitude in the Northern Hemisphere.\n",
    "    #The rsquared value of implies that only 3% of the data fits the regression model.\n",
    "    "
   ]
  },
  {
   "cell_type": "markdown",
   "metadata": {},
   "source": [
    "###  Southern Hemisphere - Cloudiness (%) vs. Latitude Linear Regression"
   ]
  },
  {
   "cell_type": "code",
   "execution_count": 31,
   "metadata": {},
   "outputs": [
    {
     "data": {
      "image/png": "[encoded data removed]",
      "text/plain": [
       "<Figure size 432x288 with 1 Axes>"
      ]
     },
     "metadata": {
      "needs_background": "light"
     },
     "output_type": "display_data"
    },
    {
     "name": "stdout",
     "output_type": "stream",
     "text": [
      "rvalue: 0.061118027151686294\n",
      "rquared: 0.003735413242914263\n"
     ]
    },
    {
     "data": {
      "text/plain": [
       "<Figure size 432x288 with 0 Axes>"
      ]
     },
     "metadata": {},
     "output_type": "display_data"
    }
   ],
   "source": [
    "#Southern Hemisphere: cloudiness vs latitude linear regression\n",
    "\n",
    "x_values = southerndf['Lat']\n",
    "y_values = southerndf['Cloudiness']\n",
    "(slope, intercept, rvalue, pvalue, stderr) = linregress(x_values, y_values)\n",
    "regress_values = x_values * slope + intercept\n",
    "line_eq = \"y = \" + str(round(slope,2)) + \"x + \" + str(round(intercept,2))\n",
    "plt.scatter(x_values,y_values)\n",
    "plt.plot(x_values,regress_values,\"r-\")\n",
    "\n",
    "\n",
    "plt.annotate(line_eq,(-30,30),fontsize=15,color=\"red\")\n",
    "plt.xlabel('Latitude')\n",
    "plt.ylabel('Cloudiness (%)')\n",
    "plt.title(\"Southern Hemisphere - Cloudiness (%) vs. Latitude Linear Regression\")\n",
    "plt.xlim(-60,0)\n",
    "plt.ylim(-5,110)\n",
    "plt.show()\n",
    "\n",
    "print(\"rvalue: \" + str(rvalue))\n",
    "print(\"rquared: \" + str(rvalue**2))\n",
    "\n",
    "plt.savefig(\"Southern Hemisphere - Cloudiness (%) vs. Latitude Linear Regression.png\")"
   ]
  },
  {
   "cell_type": "code",
   "execution_count": 32,
   "metadata": {},
   "outputs": [],
   "source": [
    "#Analysis: Southern Hemisphere - Cloudiness (%) vs. Latitude Linear Regression\n",
    "    #The r-value of 0.06 is far from 1, suggesting an extremely weak (almost no correlation) positive correlation between cloudiness and latitude in the Southern Hemisphere.\n",
    "    #The rsquared value of implies that only .3% of the data fits the regression model.\n",
    "    "
   ]
  },
  {
   "cell_type": "markdown",
   "metadata": {},
   "source": [
    "###  Northern Hemisphere - Wind Speed (mph) vs. Latitude Linear Regression"
   ]
  },
  {
   "cell_type": "code",
   "execution_count": 33,
   "metadata": {},
   "outputs": [
    {
     "data": {
      "image/png": "[encoded data removed]",
      "text/plain": [
       "<Figure size 432x288 with 1 Axes>"
      ]
     },
     "metadata": {
      "needs_background": "light"
     },
     "output_type": "display_data"
    },
    {
     "name": "stdout",
     "output_type": "stream",
     "text": [
      "rvalue: 0.15883342287652719\n",
      "rquared: 0.025228056222673708\n"
     ]
    },
    {
     "data": {
      "text/plain": [
       "<Figure size 432x288 with 0 Axes>"
      ]
     },
     "metadata": {},
     "output_type": "display_data"
    }
   ],
   "source": [
    "#Northern Hemisphere: wind speed vs latitude linear regression\n",
    "\n",
    "x_values = northerndf['Lat']\n",
    "y_values = northerndf['Wind Speed']\n",
    "(slope, intercept, rvalue, pvalue, stderr) = linregress(x_values, y_values)\n",
    "regress_values = x_values * slope + intercept\n",
    "line_eq = \"y = \" + str(round(slope,2)) + \"x + \" + str(round(intercept,2))\n",
    "plt.scatter(x_values,y_values)\n",
    "plt.plot(x_values,regress_values,\"r-\")\n",
    "\n",
    "plt.annotate(line_eq,(46,16),fontsize=15,color=\"red\")\n",
    "plt.xlabel('Latitude')\n",
    "plt.ylabel('Wind Speed')\n",
    "plt.title(\"Northern Hemisphere - Wind Speed (mph) vs. Latitude Linear Regression\")\n",
    "plt.xlim(0, 85)\n",
    "plt.ylim(0, 35)\n",
    "plt.show()\n",
    "\n",
    "\n",
    "print(\"rvalue: \" + str(rvalue))\n",
    "print(\"rquared: \" + str(rvalue**2))\n",
    "\n",
    "plt.savefig(\"Northern Hemisphere - Wind Speed (mph) vs. Latitude Linear Regression.png\")\n",
    "\n",
    "\n"
   ]
  },
  {
   "cell_type": "code",
   "execution_count": 34,
   "metadata": {},
   "outputs": [],
   "source": [
    "#Analysis: Northern Hemisphere - Wind Speed vs. Latitude Linear Regression\n",
    "    #The r-value of 0.15 not close to 1, suggesting a weak positive correlation between wind speed and latitude in the Northern Hemisphere.\n",
    "    #The rsquared value of implies that only 2.5% of the data fits the regression model.\n",
    "    "
   ]
  },
  {
   "cell_type": "markdown",
   "metadata": {},
   "source": [
    "###  Southern Hemisphere - Wind Speed (mph) vs. Latitude Linear Regression"
   ]
  },
  {
   "cell_type": "code",
   "execution_count": 35,
   "metadata": {},
   "outputs": [
    {
     "data": {
      "image/png": "[encoded data removed]",
      "text/plain": [
       "<Figure size 432x288 with 1 Axes>"
      ]
     },
     "metadata": {
      "needs_background": "light"
     },
     "output_type": "display_data"
    },
    {
     "name": "stdout",
     "output_type": "stream",
     "text": [
      "rvalue: -0.2634616849944678\n",
      "rquared: 0.06941205946012419\n"
     ]
    },
    {
     "data": {
      "text/plain": [
       "<Figure size 432x288 with 0 Axes>"
      ]
     },
     "metadata": {},
     "output_type": "display_data"
    }
   ],
   "source": [
    "#Southern Hemisphere: wind speed vs latitude linear regression\n",
    "\n",
    "x_values = southerndf['Lat']\n",
    "y_values = southerndf['Wind Speed']\n",
    "(slope, intercept, rvalue, pvalue, stderr) = linregress(x_values, y_values)\n",
    "regress_values = x_values * slope + intercept\n",
    "line_eq = \"y = \" + str(round(slope,2)) + \"x + \" + str(round(intercept,2))\n",
    "plt.scatter(x_values,y_values)\n",
    "plt.plot(x_values,regress_values,\"r-\")\n",
    "\n",
    "\n",
    "plt.annotate(line_eq,(-50,20),fontsize=15,color=\"red\")\n",
    "plt.xlabel('Latitude')\n",
    "plt.ylabel('Wind Speed (mph)')\n",
    "plt.title(\"Southern Hemisphere - Wind Speed (mph) vs. Latitude Linear Regression\")\n",
    "plt.xlim(-60, 0)\n",
    "plt.ylim(0, 50)\n",
    "plt.show()\n",
    "\n",
    "print(\"rvalue: \" + str(rvalue))\n",
    "print(\"rquared: \" + str(rvalue**2))\n",
    "\n",
    "plt.savefig(\"Southern Hemisphere - Wind Speed (mph) vs. Latitude Linear Regression.png\")\n"
   ]
  },
  {
   "cell_type": "code",
   "execution_count": 36,
   "metadata": {},
   "outputs": [],
   "source": [
    "#Analysis: Northern Hemisphere - Wind Speed vs. Latitude Linear Regression\n",
    "    #The r-value of -0.26 not close to -1, suggesting a weak negative correlation between wind speed and latitude in the Southern Hemisphere.\n",
    "    #The rsquared value of implies that only 6% of the data fits the regression model.\n",
    "    "
   ]
  },
  {
   "cell_type": "code",
   "execution_count": null,
   "metadata": {},
   "outputs": [],
   "source": []
  }
 ],
 "metadata": {
  "anaconda-cloud": {},
  "kernel_info": {
   "name": "python3"
  },
  "kernelspec": {
   "display_name": "Python 3",
   "language": "python",
   "name": "python3"
  },
  "language_info": {
   "codemirror_mode": {
    "name": "ipython",
    "version": 3
   },
   "file_extension": ".py",
   "mimetype": "text/x-python",
   "name": "python",
   "nbconvert_exporter": "python",
   "pygments_lexer": "ipython3",
   "version": "3.6.10"
  },
  "latex_envs": {
   "LaTeX_envs_menu_present": true,
   "autoclose": false,
   "autocomplete": true,
   "bibliofile": "biblio.bib",
   "cite_by": "apalike",
   "current_citInitial": 1,
   "eqLabelWithNumbers": true,
   "eqNumInitial": 1,
   "hotkeys": {
    "equation": "Ctrl-E",
    "itemize": "Ctrl-I"
   },
   "labels_anchors": false,
   "latex_user_defs": false,
   "report_style_numbering": false,
   "user_envs_cfg": false
  },
  "nteract": {
   "version": "0.12.3"
  },
  "toc": {
   "base_numbering": 1,
   "nav_menu": {},
   "number_sections": true,
   "sideBar": true,
   "skip_h1_title": false,
   "title_cell": "Table of Contents",
   "title_sidebar": "Contents",
   "toc_cell": false,
   "toc_position": {},
   "toc_section_display": true,
   "toc_window_display": false
  },
  "varInspector": {
   "cols": {
    "lenName": 16,
    "lenType": 16,
    "lenVar": 40
   },
   "kernels_config": {
    "python": {
     "delete_cmd_postfix": "",
     "delete_cmd_prefix": "del ",
     "library": "var_list.py",
     "varRefreshCmd": "print(var_dic_list())"
    },
    "r": {
     "delete_cmd_postfix": ") ",
     "delete_cmd_prefix": "rm(",
     "library": "var_list.r",
     "varRefreshCmd": "cat(var_dic_list()) "
    }
   },
   "types_to_exclude": [
    "module",
    "function",
    "builtin_function_or_method",
    "instance",
    "_Feature"
   ],
   "window_display": false
  }
 },
 "nbformat": 4,
 "nbformat_minor": 2
}
