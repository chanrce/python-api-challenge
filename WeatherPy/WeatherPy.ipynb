{
 "cells": [
  {
   "cell_type": "markdown",
   "metadata": {},
   "source": [
    "# WeatherPy\n",
    "----\n",
    "\n",
    "#### Note\n",
    "* Instructions have been included for each segment. You do not have to follow them exactly, but they are included to help you think through the steps."
   ]
  },
  {
   "cell_type": "code",
   "execution_count": 1,
   "metadata": {
    "scrolled": true
   },
   "outputs": [],
   "source": [
    "# Dependencies and Setup\n",
    "import matplotlib.pyplot as plt\n",
    "import pandas as pd\n",
    "import numpy as np\n",
    "import requests\n",
    "import time\n",
    "from scipy.stats import linregress\n",
    "import json\n",
    "import datetime\n",
    "\n",
    "# Import API key\n",
    "from api_keys_1 import weather_api_key\n",
    "\n",
    "# Incorporated citipy to determine city based on latitude and longitude\n",
    "from citipy import citipy\n",
    "\n",
    "# Output File (CSV)\n",
    "output_data_file = \"output_data/cities.csv\"\n",
    "\n",
    "# Range of latitudes and longitudes\n",
    "lat_range = (-90, 90)\n",
    "lng_range = (-180, 180)"
   ]
  },
  {
   "cell_type": "markdown",
   "metadata": {},
   "source": [
    "## Generate Cities List"
   ]
  },
  {
   "cell_type": "code",
   "execution_count": 2,
   "metadata": {},
   "outputs": [
    {
     "data": {
      "text/plain": [
       "635"
      ]
     },
     "execution_count": 2,
     "metadata": {},
     "output_type": "execute_result"
    }
   ],
   "source": [
    "# List for holding lat_lngs and cities\n",
    "lat_lngs = []\n",
    "cities = []\n",
    "\n",
    "# Create a set of random lat and lng combinations\n",
    "lats = np.random.uniform(lat_range[0], lat_range[1], size=1500)\n",
    "lngs = np.random.uniform(lng_range[0], lng_range[1], size=1500)\n",
    "lat_lngs = zip(lats, lngs)\n",
    "\n",
    "# Identify nearest city for each lat, lng combination\n",
    "for lat_lng in lat_lngs:\n",
    "    city = citipy.nearest_city(lat_lng[0], lat_lng[1]).city_name\n",
    "    \n",
    "    # If the city is unique, then add it to a our cities list\n",
    "    if city not in cities:\n",
    "        cities.append(city)\n",
    "\n",
    "# Print the city count to confirm sufficient count\n",
    "len(cities)"
   ]
  },
  {
   "cell_type": "code",
   "execution_count": 3,
   "metadata": {
    "scrolled": false
   },
   "outputs": [],
   "source": [
    "#cities"
   ]
  },
  {
   "cell_type": "code",
   "execution_count": 4,
   "metadata": {},
   "outputs": [],
   "source": [
    "original_cities = cities\n",
    "#cities =[\"London\", \"Boston\",\"Cape Town\", \"Sydney\", \"Rachel City\"]"
   ]
  },
  {
   "cell_type": "markdown",
   "metadata": {},
   "source": [
    "## Perform API Calls\n",
    "* Perform a weather check on each city using a series of successive API calls.\n",
    "* Include a print log of each city as it'sbeing processed (with the city number and city name).\n"
   ]
  },
  {
   "cell_type": "code",
   "execution_count": 5,
   "metadata": {},
   "outputs": [],
   "source": [
    "# Save config information.\n",
    "url = \"http://api.openweathermap.org/data/2.5/weather?\"\n",
    "units = \"imperial\"\n",
    "\n",
    "# Build partial query URL. PUT THIS IN FOR LOOP.\n",
    "query_url = url + \"appid=\"+ weather_api_key + \"&q=\" + city\n"
   ]
  },
  {
   "cell_type": "code",
   "execution_count": 6,
   "metadata": {},
   "outputs": [],
   "source": [
    "# #Looking at json print to see categories on test city, London\n",
    "# test_query_url = f\"{url}appid={weather_api_key}&units={units}&q={testcity}\"\n",
    "# testcity = \"London\"\n",
    "# weather_response = requests.get(test_query_url)\n",
    "# weather_json = weather_response.json()\n",
    "# print(json.dumps(weather_json, indent=2))"
   ]
  },
  {
   "cell_type": "code",
   "execution_count": 7,
   "metadata": {},
   "outputs": [
    {
     "name": "stdout",
     "output_type": "stream",
     "text": [
      "Beginning Data Retrieval\n",
      "------------------------\n",
      "Processing Record 1 of Set 1 | rikitea\n",
      "Processing Record 2 of Set 1 | jamestown\n",
      "Processing Record 3 of Set 1 | beyneu\n",
      "Processing Record 4 of Set 1 | ushuaia\n",
      "Processing Record 5 of Set 1 | devils lake\n",
      "Processing Record 6 of Set 1 | nizwa\n",
      "Processing Record 7 of Set 1 | vila velha\n",
      "Processing Record 8 of Set 1 | shingu\n",
      "Processing Record 9 of Set 1 | krasnyye tkachi\n",
      "Processing Record 10 of Set 1 | howard springs\n",
      "Processing Record 11 of Set 1 | georgetown\n",
      "Processing Record 12 of Set 1 | talnakh\n",
      "Processing Record 13 of Set 1 | ust-ilimsk\n",
      "Processing Record 14 of Set 1 | fairbanks\n",
      "Processing Record 15 of Set 1 | bluff\n",
      "Processing Record 16 of Set 1 | kodiak\n",
      "Processing Record 17 of Set 1 | dalby\n",
      "Processing Record 18 of Set 1 | gat\n",
      "Processing Record 19 of Set 1 | mataura\n",
      "City vaitupu not found. Skipping...\n",
      "City tungkang not found. Skipping...\n",
      "City nguiu not found. Skipping...\n",
      "Processing Record 20 of Set 1 | kieta\n",
      "Processing Record 21 of Set 1 | waipawa\n",
      "Processing Record 22 of Set 1 | cape town\n",
      "Processing Record 23 of Set 1 | salina cruz\n",
      "Processing Record 24 of Set 1 | thinadhoo\n",
      "Processing Record 25 of Set 1 | bredasdorp\n",
      "City grand river south east not found. Skipping...\n",
      "Processing Record 26 of Set 1 | hovd\n",
      "Processing Record 27 of Set 1 | portland\n",
      "Processing Record 28 of Set 1 | tiksi\n",
      "Processing Record 29 of Set 1 | bonavista\n",
      "City fevralsk not found. Skipping...\n",
      "Processing Record 30 of Set 1 | albany\n",
      "Processing Record 31 of Set 1 | busselton\n",
      "City mys shmidta not found. Skipping...\n",
      "Processing Record 32 of Set 1 | warwick\n",
      "Processing Record 33 of Set 1 | hilo\n",
      "City tuggurt not found. Skipping...\n",
      "Processing Record 34 of Set 1 | vaini\n",
      "Processing Record 35 of Set 1 | umm kaddadah\n",
      "Processing Record 36 of Set 1 | pokrovsk\n",
      "Processing Record 37 of Set 1 | buala\n",
      "Processing Record 38 of Set 1 | calatayud\n",
      "Processing Record 39 of Set 1 | yellowknife\n",
      "Processing Record 40 of Set 1 | hermanus\n",
      "Processing Record 41 of Set 1 | blanquefort\n",
      "Processing Record 42 of Set 1 | butaritari\n",
      "Processing Record 43 of Set 1 | fukue\n",
      "Processing Record 44 of Set 1 | kaitangata\n",
      "Processing Record 45 of Set 1 | moerai\n",
      "Processing Record 46 of Set 1 | san quintin\n",
      "Processing Record 47 of Set 1 | new norfolk\n",
      "Processing Record 48 of Set 1 | dhrangadhra\n",
      "Processing Record 49 of Set 1 | dikson\n",
      "Processing Record 50 of Set 1 | norman wells\n",
      "Processing Record 1 of Set 2 | port lincoln\n",
      "Processing Record 2 of Set 2 | tuktoyaktuk\n",
      "Processing Record 3 of Set 2 | labuhan\n",
      "Processing Record 4 of Set 2 | nantucket\n",
      "Processing Record 5 of Set 2 | debica\n",
      "Processing Record 6 of Set 2 | hobart\n",
      "Processing Record 7 of Set 2 | viransehir\n",
      "Processing Record 8 of Set 2 | saskylakh\n",
      "Processing Record 9 of Set 2 | qaanaaq\n",
      "Processing Record 10 of Set 2 | arraial do cabo\n",
      "Processing Record 11 of Set 2 | la asuncion\n",
      "Processing Record 12 of Set 2 | wageningen\n",
      "Processing Record 13 of Set 2 | kapaa\n",
      "Processing Record 14 of Set 2 | bambanglipuro\n",
      "Processing Record 15 of Set 2 | porto novo\n",
      "Processing Record 16 of Set 2 | lebu\n",
      "Processing Record 17 of Set 2 | plettenberg bay\n",
      "Processing Record 18 of Set 2 | mar del plata\n",
      "Processing Record 19 of Set 2 | shakawe\n",
      "Processing Record 20 of Set 2 | ribeira grande\n",
      "Processing Record 21 of Set 2 | provideniya\n",
      "City ondorhaan not found. Skipping...\n",
      "Processing Record 22 of Set 2 | vrangel\n",
      "Processing Record 23 of Set 2 | buchanan\n",
      "Processing Record 24 of Set 2 | bethel\n",
      "Processing Record 25 of Set 2 | atar\n",
      "Processing Record 26 of Set 2 | punta arenas\n",
      "Processing Record 27 of Set 2 | verkhoyansk\n",
      "City taolanaro not found. Skipping...\n",
      "Processing Record 28 of Set 2 | atuona\n",
      "Processing Record 29 of Set 2 | faanui\n",
      "Processing Record 30 of Set 2 | isangel\n",
      "Processing Record 31 of Set 2 | nikolskoye\n",
      "Processing Record 32 of Set 2 | cleveland\n",
      "Processing Record 33 of Set 2 | tacuarembo\n",
      "Processing Record 34 of Set 2 | nemuro\n",
      "Processing Record 35 of Set 2 | kamenka\n",
      "Processing Record 36 of Set 2 | torbay\n",
      "Processing Record 37 of Set 2 | klungkung\n",
      "Processing Record 38 of Set 2 | sao filipe\n",
      "Processing Record 39 of Set 2 | khatanga\n",
      "Processing Record 40 of Set 2 | yulara\n",
      "Processing Record 41 of Set 2 | gazojak\n",
      "Processing Record 42 of Set 2 | la rioja\n",
      "Processing Record 43 of Set 2 | douglas\n",
      "Processing Record 44 of Set 2 | east london\n",
      "Processing Record 45 of Set 2 | cidreira\n",
      "Processing Record 46 of Set 2 | slantsy\n",
      "Processing Record 47 of Set 2 | rudbar\n",
      "Processing Record 48 of Set 2 | raudeberg\n",
      "Processing Record 49 of Set 2 | ust-maya\n",
      "Processing Record 50 of Set 2 | bracebridge\n",
      "City nizhneyansk not found. Skipping...\n",
      "Processing Record 1 of Set 3 | tigil\n",
      "Processing Record 2 of Set 3 | zarubino\n",
      "Processing Record 3 of Set 3 | ilulissat\n",
      "Processing Record 4 of Set 3 | pevek\n",
      "Processing Record 5 of Set 3 | chililabombwe\n",
      "Processing Record 6 of Set 3 | matadi\n",
      "Processing Record 7 of Set 3 | sur\n",
      "Processing Record 8 of Set 3 | skjervoy\n",
      "City grand centre not found. Skipping...\n",
      "Processing Record 9 of Set 3 | castro\n",
      "City attawapiskat not found. Skipping...\n",
      "Processing Record 10 of Set 3 | jiuquan\n",
      "Processing Record 11 of Set 3 | dubbo\n",
      "Processing Record 12 of Set 3 | petauke\n",
      "Processing Record 13 of Set 3 | praia da vitoria\n",
      "Processing Record 14 of Set 3 | barrow\n",
      "Processing Record 15 of Set 3 | kolokani\n",
      "City nam tha not found. Skipping...\n",
      "Processing Record 16 of Set 3 | padang\n",
      "Processing Record 17 of Set 3 | bahia blanca\n",
      "Processing Record 18 of Set 3 | naze\n",
      "Processing Record 19 of Set 3 | carnarvon\n",
      "City sentyabrskiy not found. Skipping...\n",
      "Processing Record 20 of Set 3 | alice springs\n",
      "Processing Record 21 of Set 3 | kattivakkam\n",
      "Processing Record 22 of Set 3 | avarua\n",
      "Processing Record 23 of Set 3 | pereslavl-zalesskiy\n",
      "Processing Record 24 of Set 3 | namibe\n",
      "Processing Record 25 of Set 3 | port elizabeth\n",
      "Processing Record 26 of Set 3 | esperance\n",
      "Processing Record 27 of Set 3 | banepa\n",
      "Processing Record 28 of Set 3 | taguatinga\n",
      "Processing Record 29 of Set 3 | almaznyy\n",
      "Processing Record 30 of Set 3 | chuy\n",
      "Processing Record 31 of Set 3 | clearwater\n",
      "Processing Record 32 of Set 3 | sindor\n",
      "Processing Record 33 of Set 3 | puerto ayora\n",
      "Processing Record 34 of Set 3 | itarema\n",
      "Processing Record 35 of Set 3 | namie\n",
      "Processing Record 36 of Set 3 | hudson\n",
      "Processing Record 37 of Set 3 | quatre cocos\n",
      "Processing Record 38 of Set 3 | lorengau\n",
      "Processing Record 39 of Set 3 | malanje\n",
      "Processing Record 40 of Set 3 | kaoma\n",
      "Processing Record 41 of Set 3 | talcahuano\n",
      "Processing Record 42 of Set 3 | narsaq\n",
      "Processing Record 43 of Set 3 | mastic beach\n",
      "Processing Record 44 of Set 3 | coahuayana\n",
      "City barentsburg not found. Skipping...\n",
      "Processing Record 45 of Set 3 | suntar\n",
      "Processing Record 46 of Set 3 | san ramon\n",
      "Processing Record 47 of Set 3 | middle island\n",
      "Processing Record 48 of Set 3 | kaeo\n",
      "City umzimvubu not found. Skipping...\n",
      "Processing Record 49 of Set 3 | jesus maria\n",
      "City aflu not found. Skipping...\n",
      "Processing Record 50 of Set 3 | tanout\n",
      "Processing Record 1 of Set 4 | bereda\n",
      "Processing Record 2 of Set 4 | odweyne\n",
      "Processing Record 3 of Set 4 | port alfred\n",
      "Processing Record 4 of Set 4 | marawi\n",
      "City barawe not found. Skipping...\n",
      "Processing Record 5 of Set 4 | olinda\n",
      "Processing Record 6 of Set 4 | westport\n",
      "Processing Record 7 of Set 4 | lusambo\n",
      "City do rud not found. Skipping...\n",
      "Processing Record 8 of Set 4 | roma\n",
      "Processing Record 9 of Set 4 | hami\n",
      "Processing Record 10 of Set 4 | gardez\n",
      "Processing Record 11 of Set 4 | ryde\n",
      "Processing Record 12 of Set 4 | oranjestad\n",
      "Processing Record 13 of Set 4 | hassleholm\n",
      "Processing Record 14 of Set 4 | pisco\n",
      "Processing Record 15 of Set 4 | yuanping\n",
      "Processing Record 16 of Set 4 | yashalta\n",
      "Processing Record 17 of Set 4 | kloulklubed\n",
      "Processing Record 18 of Set 4 | emerald\n",
      "Processing Record 19 of Set 4 | faya\n",
      "Processing Record 20 of Set 4 | emiliano zapata\n",
      "Processing Record 21 of Set 4 | itoman\n",
      "Processing Record 22 of Set 4 | slave lake\n",
      "Processing Record 23 of Set 4 | ushtobe\n",
      "Processing Record 24 of Set 4 | opuwo\n",
      "Processing Record 25 of Set 4 | helena\n",
      "City illoqqortoormiut not found. Skipping...\n",
      "Processing Record 26 of Set 4 | mao\n",
      "Processing Record 27 of Set 4 | canto do buriti\n",
      "City warqla not found. Skipping...\n",
      "Processing Record 28 of Set 4 | saint-philippe\n",
      "Processing Record 29 of Set 4 | lavrentiya\n"
     ]
    },
    {
     "name": "stdout",
     "output_type": "stream",
     "text": [
      "Processing Record 30 of Set 4 | tiznit\n",
      "Processing Record 31 of Set 4 | kuala kedah\n",
      "Processing Record 32 of Set 4 | kenai\n",
      "Processing Record 33 of Set 4 | novopavlovka\n",
      "Processing Record 34 of Set 4 | wattegama\n",
      "Processing Record 35 of Set 4 | hay river\n",
      "Processing Record 36 of Set 4 | touros\n",
      "Processing Record 37 of Set 4 | okhotsk\n",
      "Processing Record 38 of Set 4 | banjar\n",
      "Processing Record 39 of Set 4 | minnedosa\n",
      "Processing Record 40 of Set 4 | burns lake\n",
      "Processing Record 41 of Set 4 | san carlos\n",
      "City kobojango not found. Skipping...\n",
      "Processing Record 42 of Set 4 | lewistown\n",
      "Processing Record 43 of Set 4 | aksu\n",
      "Processing Record 44 of Set 4 | kuala terengganu\n",
      "Processing Record 45 of Set 4 | calbuco\n",
      "Processing Record 46 of Set 4 | pacific grove\n",
      "Processing Record 47 of Set 4 | tiarei\n",
      "Processing Record 48 of Set 4 | trudovoye\n",
      "Processing Record 49 of Set 4 | mount isa\n",
      "Processing Record 50 of Set 4 | solnechnyy\n",
      "City labutta not found. Skipping...\n",
      "Processing Record 1 of Set 5 | nhulunbuy\n",
      "Processing Record 2 of Set 5 | yar-sale\n",
      "Processing Record 3 of Set 5 | belinskiy\n",
      "Processing Record 4 of Set 5 | kruisfontein\n",
      "City galiwinku not found. Skipping...\n",
      "Processing Record 5 of Set 5 | lompoc\n",
      "City ust-kamchatsk not found. Skipping...\n",
      "Processing Record 6 of Set 5 | chokurdakh\n",
      "Processing Record 7 of Set 5 | gritsovskiy\n",
      "Processing Record 8 of Set 5 | ballina\n",
      "Processing Record 9 of Set 5 | nanortalik\n",
      "Processing Record 10 of Set 5 | san luis obispo\n",
      "Processing Record 11 of Set 5 | morondava\n",
      "Processing Record 12 of Set 5 | maragogi\n",
      "Processing Record 13 of Set 5 | necochea\n",
      "City samalaeulu not found. Skipping...\n",
      "Processing Record 14 of Set 5 | andover\n",
      "Processing Record 15 of Set 5 | acapulco\n",
      "Processing Record 16 of Set 5 | ouegoa\n",
      "Processing Record 17 of Set 5 | vejprty\n",
      "Processing Record 18 of Set 5 | kavieng\n",
      "Processing Record 19 of Set 5 | maningrida\n",
      "Processing Record 20 of Set 5 | pobe\n",
      "Processing Record 21 of Set 5 | mount gambier\n",
      "Processing Record 22 of Set 5 | hithadhoo\n",
      "Processing Record 23 of Set 5 | russell\n",
      "City yanchukan not found. Skipping...\n",
      "Processing Record 24 of Set 5 | chateaudun\n",
      "Processing Record 25 of Set 5 | requena\n",
      "Processing Record 26 of Set 5 | garden city\n",
      "Processing Record 27 of Set 5 | tasiilaq\n",
      "Processing Record 28 of Set 5 | havre-saint-pierre\n",
      "Processing Record 29 of Set 5 | thunder bay\n",
      "Processing Record 30 of Set 5 | cayenne\n",
      "Processing Record 31 of Set 5 | conceicao da barra\n",
      "Processing Record 32 of Set 5 | bilibino\n",
      "Processing Record 33 of Set 5 | muros\n",
      "Processing Record 34 of Set 5 | sinnamary\n",
      "Processing Record 35 of Set 5 | conceicao do araguaia\n",
      "Processing Record 36 of Set 5 | inuvik\n",
      "City ciras not found. Skipping...\n",
      "Processing Record 37 of Set 5 | puri\n",
      "Processing Record 38 of Set 5 | ahipara\n",
      "Processing Record 39 of Set 5 | eitorf\n",
      "Processing Record 40 of Set 5 | cabo san lucas\n",
      "Processing Record 41 of Set 5 | egvekinot\n",
      "City amderma not found. Skipping...\n",
      "Processing Record 42 of Set 5 | san patricio\n",
      "Processing Record 43 of Set 5 | xifeng\n",
      "Processing Record 44 of Set 5 | abu dhabi\n",
      "Processing Record 45 of Set 5 | baraolt\n",
      "Processing Record 46 of Set 5 | saint anthony\n",
      "Processing Record 47 of Set 5 | paungde\n",
      "Processing Record 48 of Set 5 | dicabisagan\n",
      "Processing Record 49 of Set 5 | eureka\n",
      "Processing Record 50 of Set 5 | thompson\n",
      "Processing Record 1 of Set 6 | tonantins\n",
      "Processing Record 2 of Set 6 | maizuru\n",
      "Processing Record 3 of Set 6 | caravelas\n",
      "City utiroa not found. Skipping...\n",
      "Processing Record 4 of Set 6 | souillac\n",
      "Processing Record 5 of Set 6 | los llanos de aridane\n",
      "Processing Record 6 of Set 6 | lethem\n",
      "Processing Record 7 of Set 6 | chapais\n",
      "Processing Record 8 of Set 6 | karratha\n",
      "Processing Record 9 of Set 6 | omboue\n",
      "Processing Record 10 of Set 6 | kirovskiy\n",
      "Processing Record 11 of Set 6 | indiaroba\n",
      "Processing Record 12 of Set 6 | massakory\n",
      "Processing Record 13 of Set 6 | playas\n",
      "Processing Record 14 of Set 6 | lerwick\n",
      "Processing Record 15 of Set 6 | chuguyevka\n",
      "Processing Record 16 of Set 6 | mayo\n",
      "Processing Record 17 of Set 6 | saldanha\n",
      "City westpunt not found. Skipping...\n",
      "Processing Record 18 of Set 6 | matara\n",
      "Processing Record 19 of Set 6 | cap malheureux\n",
      "Processing Record 20 of Set 6 | qui nhon\n",
      "Processing Record 21 of Set 6 | bengkulu\n",
      "Processing Record 22 of Set 6 | rubizhne\n",
      "Processing Record 23 of Set 6 | santa marta\n",
      "Processing Record 24 of Set 6 | ponta do sol\n",
      "Processing Record 25 of Set 6 | benito juarez\n",
      "Processing Record 26 of Set 6 | havelock\n",
      "City katha not found. Skipping...\n",
      "Processing Record 27 of Set 6 | jind\n",
      "City rungata not found. Skipping...\n",
      "Processing Record 28 of Set 6 | taoudenni\n",
      "Processing Record 29 of Set 6 | sola\n",
      "Processing Record 30 of Set 6 | lyaskelya\n",
      "Processing Record 31 of Set 6 | northport\n",
      "Processing Record 32 of Set 6 | shashi\n",
      "Processing Record 33 of Set 6 | cumberland\n",
      "Processing Record 34 of Set 6 | khromtau\n",
      "Processing Record 35 of Set 6 | tabuk\n",
      "Processing Record 36 of Set 6 | vardo\n",
      "Processing Record 37 of Set 6 | bubaque\n",
      "Processing Record 38 of Set 6 | perevoz\n",
      "Processing Record 39 of Set 6 | mabama\n",
      "Processing Record 40 of Set 6 | cuamba\n",
      "Processing Record 41 of Set 6 | zabid\n",
      "Processing Record 42 of Set 6 | longyearbyen\n",
      "Processing Record 43 of Set 6 | boyolangu\n",
      "Processing Record 44 of Set 6 | champerico\n",
      "Processing Record 45 of Set 6 | ayan\n",
      "City tsihombe not found. Skipping...\n",
      "Processing Record 46 of Set 6 | kodinsk\n",
      "Processing Record 47 of Set 6 | olafsvik\n",
      "Processing Record 48 of Set 6 | severo-kurilsk\n",
      "City toungoo not found. Skipping...\n",
      "Processing Record 49 of Set 6 | akranes\n",
      "Processing Record 50 of Set 6 | devonport\n",
      "Processing Record 1 of Set 7 | khrebtovaya\n",
      "Processing Record 2 of Set 7 | sao joao da barra\n",
      "Processing Record 3 of Set 7 | itaituba\n",
      "Processing Record 4 of Set 7 | bilma\n",
      "Processing Record 5 of Set 7 | acarau\n",
      "Processing Record 6 of Set 7 | nome\n",
      "Processing Record 7 of Set 7 | linqiong\n",
      "Processing Record 8 of Set 7 | quelimane\n",
      "Processing Record 9 of Set 7 | beipiao\n",
      "Processing Record 10 of Set 7 | makakilo city\n",
      "Processing Record 11 of Set 7 | manggar\n",
      "City tumannyy not found. Skipping...\n",
      "Processing Record 12 of Set 7 | san juan\n",
      "Processing Record 13 of Set 7 | geraldton\n",
      "Processing Record 14 of Set 7 | palmer\n",
      "Processing Record 15 of Set 7 | oranjemund\n",
      "Processing Record 16 of Set 7 | kahului\n",
      "Processing Record 17 of Set 7 | alta floresta\n",
      "Processing Record 18 of Set 7 | kabo\n",
      "Processing Record 19 of Set 7 | aljezur\n",
      "Processing Record 20 of Set 7 | cardston\n",
      "Processing Record 21 of Set 7 | aswan\n",
      "Processing Record 22 of Set 7 | hualmay\n",
      "Processing Record 23 of Set 7 | bundaberg\n",
      "Processing Record 24 of Set 7 | mahebourg\n",
      "Processing Record 25 of Set 7 | novikovo\n",
      "Processing Record 26 of Set 7 | iskandar\n",
      "City gurskoye not found. Skipping...\n",
      "Processing Record 27 of Set 7 | beatrice\n",
      "Processing Record 28 of Set 7 | ishigaki\n",
      "City jiroft not found. Skipping...\n",
      "Processing Record 29 of Set 7 | paamiut\n",
      "Processing Record 30 of Set 7 | tautira\n",
      "Processing Record 31 of Set 7 | kalispell\n",
      "Processing Record 32 of Set 7 | puerto el triunfo\n",
      "Processing Record 33 of Set 7 | katsuura\n",
      "Processing Record 34 of Set 7 | hofn\n",
      "Processing Record 35 of Set 7 | lagoa\n",
      "City stamsund not found. Skipping...\n",
      "Processing Record 36 of Set 7 | pangnirtung\n",
      "City meyungs not found. Skipping...\n",
      "Processing Record 37 of Set 7 | pangody\n",
      "Processing Record 38 of Set 7 | constitucion\n",
      "Processing Record 39 of Set 7 | filiates\n",
      "Processing Record 40 of Set 7 | sitka\n",
      "Processing Record 41 of Set 7 | chulman\n",
      "Processing Record 42 of Set 7 | avinurme\n",
      "Processing Record 43 of Set 7 | valerianovsk\n",
      "Processing Record 44 of Set 7 | guerrero negro\n",
      "Processing Record 45 of Set 7 | monrovia\n",
      "Processing Record 46 of Set 7 | carutapera\n",
      "Processing Record 47 of Set 7 | port blair\n",
      "Processing Record 48 of Set 7 | chunskiy\n",
      "Processing Record 49 of Set 7 | tual\n",
      "Processing Record 50 of Set 7 | dunedin\n",
      "Processing Record 1 of Set 8 | frontino\n",
      "Processing Record 2 of Set 8 | shache\n",
      "Processing Record 3 of Set 8 | kaminoyama\n",
      "Processing Record 4 of Set 8 | codrington\n",
      "Processing Record 5 of Set 8 | sao paulo de olivenca\n",
      "Processing Record 6 of Set 8 | chara\n",
      "Processing Record 7 of Set 8 | mulki\n",
      "Processing Record 8 of Set 8 | marsh harbour\n",
      "City viligili not found. Skipping...\n",
      "Processing Record 9 of Set 8 | braine-le-chateau\n"
     ]
    },
    {
     "name": "stdout",
     "output_type": "stream",
     "text": [
      "Processing Record 10 of Set 8 | panguna\n",
      "Processing Record 11 of Set 8 | saint-augustin\n",
      "Processing Record 12 of Set 8 | sisimiut\n",
      "City sorvag not found. Skipping...\n",
      "Processing Record 13 of Set 8 | grand gaube\n",
      "Processing Record 14 of Set 8 | bambous virieux\n",
      "Processing Record 15 of Set 8 | hasaki\n",
      "Processing Record 16 of Set 8 | naousa\n",
      "Processing Record 17 of Set 8 | tahoua\n",
      "Processing Record 18 of Set 8 | orzhytsya\n",
      "Processing Record 19 of Set 8 | upernavik\n",
      "Processing Record 20 of Set 8 | pochutla\n",
      "Processing Record 21 of Set 8 | pasighat\n",
      "Processing Record 22 of Set 8 | luderitz\n",
      "Processing Record 23 of Set 8 | toora-khem\n",
      "Processing Record 24 of Set 8 | beringovskiy\n",
      "Processing Record 25 of Set 8 | monywa\n",
      "Processing Record 26 of Set 8 | ternate\n",
      "Processing Record 27 of Set 8 | togane\n",
      "Processing Record 28 of Set 8 | anchorage\n",
      "City belushya guba not found. Skipping...\n",
      "Processing Record 29 of Set 8 | magadan\n",
      "Processing Record 30 of Set 8 | berlevag\n",
      "Processing Record 31 of Set 8 | yarim\n",
      "Processing Record 32 of Set 8 | san jose acatempa\n",
      "Processing Record 33 of Set 8 | humaita\n",
      "Processing Record 34 of Set 8 | magomeni\n",
      "Processing Record 35 of Set 8 | taltal\n",
      "Processing Record 36 of Set 8 | saint george\n",
      "Processing Record 37 of Set 8 | moa\n",
      "Processing Record 38 of Set 8 | tutoia\n",
      "Processing Record 39 of Set 8 | hobyo\n",
      "Processing Record 40 of Set 8 | centralina\n",
      "Processing Record 41 of Set 8 | dodge city\n",
      "Processing Record 42 of Set 8 | leningradskiy\n",
      "Processing Record 43 of Set 8 | iqaluit\n",
      "Processing Record 44 of Set 8 | cadca\n",
      "City mrirt not found. Skipping...\n",
      "Processing Record 45 of Set 8 | badnawar\n",
      "Processing Record 46 of Set 8 | corbelia\n",
      "Processing Record 47 of Set 8 | meulaboh\n",
      "Processing Record 48 of Set 8 | fort nelson\n",
      "Processing Record 49 of Set 8 | natal\n",
      "Processing Record 50 of Set 8 | basco\n",
      "Processing Record 1 of Set 9 | moffat\n",
      "Processing Record 2 of Set 9 | sokoni\n",
      "Processing Record 3 of Set 9 | maua\n",
      "Processing Record 4 of Set 9 | lago da pedra\n",
      "Processing Record 5 of Set 9 | bongandanga\n",
      "Processing Record 6 of Set 9 | senneterre\n",
      "Processing Record 7 of Set 9 | panzhihua\n",
      "Processing Record 8 of Set 9 | te anau\n",
      "Processing Record 9 of Set 9 | tuatapere\n",
      "Processing Record 10 of Set 9 | george\n",
      "Processing Record 11 of Set 9 | muzhi\n",
      "Processing Record 12 of Set 9 | terrace bay\n",
      "Processing Record 13 of Set 9 | port hedland\n",
      "Processing Record 14 of Set 9 | tacuati\n",
      "Processing Record 15 of Set 9 | huilong\n",
      "Processing Record 16 of Set 9 | krasnyy yar\n",
      "Processing Record 17 of Set 9 | klaksvik\n",
      "Processing Record 18 of Set 9 | svetlopolyansk\n",
      "Processing Record 19 of Set 9 | korla\n",
      "Processing Record 20 of Set 9 | maceio\n",
      "Processing Record 21 of Set 9 | berga\n",
      "Processing Record 22 of Set 9 | northam\n",
      "Processing Record 23 of Set 9 | larap\n",
      "Processing Record 24 of Set 9 | poddorye\n",
      "Processing Record 25 of Set 9 | xingyi\n",
      "Processing Record 26 of Set 9 | airai\n",
      "Processing Record 27 of Set 9 | babaeski\n",
      "Processing Record 28 of Set 9 | vetluzhskiy\n",
      "Processing Record 29 of Set 9 | rurrenabaque\n",
      "Processing Record 30 of Set 9 | alingsas\n",
      "Processing Record 31 of Set 9 | coari\n",
      "Processing Record 32 of Set 9 | muscat\n",
      "Processing Record 33 of Set 9 | porosozero\n",
      "Processing Record 34 of Set 9 | anori\n",
      "Processing Record 35 of Set 9 | mecca\n",
      "Processing Record 36 of Set 9 | ferme-neuve\n",
      "Processing Record 37 of Set 9 | yining\n",
      "Processing Record 38 of Set 9 | margate\n",
      "Processing Record 39 of Set 9 | umm lajj\n",
      "Processing Record 40 of Set 9 | la ronge\n",
      "Processing Record 41 of Set 9 | novyy nekouz\n",
      "Processing Record 42 of Set 9 | yeppoon\n",
      "Processing Record 43 of Set 9 | poum\n",
      "Processing Record 44 of Set 9 | saposoa\n",
      "Processing Record 45 of Set 9 | russkaya polyana\n",
      "Processing Record 46 of Set 9 | ghanzi\n",
      "Processing Record 47 of Set 9 | saint-louis\n",
      "Processing Record 48 of Set 9 | the valley\n",
      "City yomitan not found. Skipping...\n",
      "Processing Record 49 of Set 9 | payo\n",
      "Processing Record 50 of Set 9 | huarmey\n",
      "Processing Record 1 of Set 10 | ganzhou\n",
      "Processing Record 2 of Set 10 | aldan\n",
      "Processing Record 3 of Set 10 | balkanabat\n",
      "City itzican not found. Skipping...\n",
      "Processing Record 4 of Set 10 | carpentras\n",
      "Processing Record 5 of Set 10 | avera\n",
      "Processing Record 6 of Set 10 | lokosovo\n",
      "Processing Record 7 of Set 10 | singarayakonda\n",
      "Processing Record 8 of Set 10 | belgrade\n",
      "Processing Record 9 of Set 10 | rio tercero\n",
      "Processing Record 10 of Set 10 | leiyang\n",
      "Processing Record 11 of Set 10 | kamaishi\n",
      "Processing Record 12 of Set 10 | srednekolymsk\n",
      "Processing Record 13 of Set 10 | el alto\n",
      "Processing Record 14 of Set 10 | dudinka\n",
      "Processing Record 15 of Set 10 | flinders\n",
      "Processing Record 16 of Set 10 | say\n",
      "Processing Record 17 of Set 10 | palermo\n",
      "Processing Record 18 of Set 10 | ambulu\n",
      "Processing Record 19 of Set 10 | puerto ayacucho\n",
      "Processing Record 20 of Set 10 | tecoanapa\n",
      "Processing Record 21 of Set 10 | chute-aux-outardes\n",
      "Processing Record 22 of Set 10 | dzerzhinsk\n",
      "Processing Record 23 of Set 10 | moron\n",
      "Processing Record 24 of Set 10 | pindi gheb\n",
      "Processing Record 25 of Set 10 | nuuk\n",
      "Processing Record 26 of Set 10 | pangkalanbuun\n",
      "Processing Record 27 of Set 10 | grindavik\n",
      "Processing Record 28 of Set 10 | cankuzo\n",
      "Processing Record 29 of Set 10 | tres arroyos\n",
      "Processing Record 30 of Set 10 | kutum\n",
      "Processing Record 31 of Set 10 | ariquemes\n",
      "Processing Record 32 of Set 10 | nouadhibou\n",
      "Processing Record 33 of Set 10 | vestmanna\n",
      "Processing Record 34 of Set 10 | constantine\n",
      "Processing Record 35 of Set 10 | marrakesh\n",
      "Processing Record 36 of Set 10 | haines junction\n",
      "Processing Record 37 of Set 10 | san cristobal\n",
      "City bolungarvik not found. Skipping...\n",
      "Processing Record 38 of Set 10 | kanganpur\n",
      "Processing Record 39 of Set 10 | weiser\n",
      "Processing Record 40 of Set 10 | evensk\n",
      "Processing Record 41 of Set 10 | salalah\n",
      "Processing Record 42 of Set 10 | ostrovnoy\n",
      "Processing Record 43 of Set 10 | ruteng\n",
      "Processing Record 44 of Set 10 | ayr\n",
      "Processing Record 45 of Set 10 | mingaora\n",
      "Processing Record 46 of Set 10 | ericeira\n",
      "Processing Record 47 of Set 10 | baruun-urt\n",
      "Processing Record 48 of Set 10 | vanimo\n",
      "Processing Record 49 of Set 10 | muyezerskiy\n",
      "Processing Record 50 of Set 10 | xichang\n",
      "Processing Record 1 of Set 11 | celestun\n",
      "Processing Record 2 of Set 11 | jalu\n",
      "City old road not found. Skipping...\n",
      "Processing Record 3 of Set 11 | mangrol\n",
      "Processing Record 4 of Set 11 | dubti\n",
      "Processing Record 5 of Set 11 | tafresh\n",
      "Processing Record 6 of Set 11 | merauke\n",
      "Processing Record 7 of Set 11 | baykit\n",
      "Processing Record 8 of Set 11 | gandorhun\n",
      "Processing Record 9 of Set 11 | kirakira\n",
      "Processing Record 10 of Set 11 | sumkino\n",
      "Processing Record 11 of Set 11 | eyl\n",
      "Processing Record 12 of Set 11 | neuquen\n",
      "Processing Record 13 of Set 11 | sawakin\n",
      "Processing Record 14 of Set 11 | mercedes\n",
      "Processing Record 15 of Set 11 | sibul\n",
      "Processing Record 16 of Set 11 | high level\n",
      "Processing Record 17 of Set 11 | sayyan\n",
      "Processing Record 18 of Set 11 | annecy-le-vieux\n",
      "Processing Record 19 of Set 11 | cockburn town\n",
      "Processing Record 20 of Set 11 | cherskiy\n",
      "Processing Record 21 of Set 11 | la peca\n",
      "Processing Record 22 of Set 11 | progreso\n",
      "City samusu not found. Skipping...\n",
      "Processing Record 23 of Set 11 | dire\n",
      "Processing Record 24 of Set 11 | herre\n",
      "Processing Record 25 of Set 11 | bonfim\n",
      "Processing Record 26 of Set 11 | esik\n",
      "Processing Record 27 of Set 11 | belaya gora\n",
      "Processing Record 28 of Set 11 | port-gentil\n",
      "Processing Record 29 of Set 11 | eenhana\n",
      "Processing Record 30 of Set 11 | rawson\n",
      "Processing Record 31 of Set 11 | banda aceh\n",
      "Processing Record 32 of Set 11 | nyimba\n",
      "Processing Record 33 of Set 11 | mabaruma\n",
      "Processing Record 34 of Set 11 | tema\n",
      "Processing Record 35 of Set 11 | kandrian\n",
      "Processing Record 36 of Set 11 | shimoda\n",
      "Processing Record 37 of Set 11 | ancud\n",
      "Processing Record 38 of Set 11 | ugra\n",
      "Processing Record 39 of Set 11 | tonj\n",
      "Processing Record 40 of Set 11 | mangai\n",
      "Processing Record 41 of Set 11 | watertown\n",
      "Processing Record 42 of Set 11 | hervey bay\n",
      "Processing Record 43 of Set 11 | moundsville\n",
      "City garm not found. Skipping...\n",
      "Processing Record 44 of Set 11 | chipinge\n",
      "Processing Record 45 of Set 11 | vagur\n",
      "Processing Record 46 of Set 11 | tombouctou\n",
      "Processing Record 47 of Set 11 | dangriga\n",
      "Processing Record 48 of Set 11 | aklavik\n",
      "Processing Record 49 of Set 11 | laurel\n"
     ]
    },
    {
     "name": "stdout",
     "output_type": "stream",
     "text": [
      "Processing Record 50 of Set 11 | lata\n",
      "Processing Record 1 of Set 12 | tezu\n",
      "Processing Record 2 of Set 12 | coihaique\n",
      "Processing Record 3 of Set 12 | ino\n",
      "Processing Record 4 of Set 12 | brae\n",
      "Processing Record 5 of Set 12 | dossor\n",
      "Processing Record 6 of Set 12 | lac du bonnet\n",
      "Processing Record 7 of Set 12 | plavinas\n",
      "Processing Record 8 of Set 12 | mandapeta\n",
      "Processing Record 9 of Set 12 | waingapu\n",
      "Processing Record 10 of Set 12 | kawalu\n",
      "Processing Record 11 of Set 12 | uvat\n",
      "Processing Record 12 of Set 12 | palana\n",
      "Processing Record 13 of Set 12 | soe\n",
      "Processing Record 14 of Set 12 | biskamzha\n",
      "City karamay not found. Skipping...\n",
      "Processing Record 15 of Set 12 | indian harbour beach\n",
      "Processing Record 16 of Set 12 | pamanukan\n",
      "Processing Record 17 of Set 12 | sistranda\n",
      "Processing Record 18 of Set 12 | kokologo\n",
      "Processing Record 19 of Set 12 | kalemie\n",
      "Processing Record 20 of Set 12 | road town\n",
      "Processing Record 21 of Set 12 | chenghai\n",
      "Processing Record 22 of Set 12 | eston\n",
      "Processing Record 23 of Set 12 | teya\n",
      "Processing Record 24 of Set 12 | luanda\n",
      "Processing Record 25 of Set 12 | jutai\n",
      "Processing Record 26 of Set 12 | marovoay\n",
      "Processing Record 27 of Set 12 | nisia floresta\n",
      "Processing Record 28 of Set 12 | vila\n",
      "Processing Record 29 of Set 12 | kem\n",
      "City halalo not found. Skipping...\n",
      "Processing Record 30 of Set 12 | santa maria\n",
      "Processing Record 31 of Set 12 | bria\n",
      "Processing Record 32 of Set 12 | finschhafen\n",
      "Processing Record 33 of Set 12 | trairi\n",
      "-----------------------\n",
      "Data Retrieval Complete\n",
      "-----------------------\n"
     ]
    }
   ],
   "source": [
    "#Lists to hold response information:\n",
    "\n",
    "cityname = []\n",
    "lat = []\n",
    "lng = []\n",
    "maxtemp = []\n",
    "humidity = []\n",
    "cloudiness = []\n",
    "windspeed = []\n",
    "country = []\n",
    "date = []\n",
    "\n",
    "#City and set counters initializing\n",
    "counter = 0\n",
    "setnumber = 1\n",
    "\n",
    "#Loop through the city list and perform data requests\n",
    "print(\"Beginning Data Retrieval\")\n",
    "print(\"------------------------\")\n",
    "for city in cities:\n",
    "    query_url = url + \"appid=\"+ weather_api_key + \"&q=\" + city + \"&units=\" +\"imperial\"\n",
    "    try:\n",
    "        response=requests.get(query_url).json()\n",
    "        cityname.append(response[\"name\"])\n",
    "        lat.append(response[\"coord\"][\"lat\"])\n",
    "        lng.append(response[\"coord\"][\"lon\"])\n",
    "        maxtemp.append(response[\"main\"][\"temp_max\"])\n",
    "        humidity.append(response[\"main\"][\"humidity\"])\n",
    "        cloudiness.append(response[\"clouds\"][\"all\"])\n",
    "        windspeed.append(response[\"wind\"][\"speed\"])\n",
    "        country.append(response[\"sys\"][\"country\"])\n",
    "        date.append(response[\"dt\"])\n",
    "        \n",
    "        #Including the counters within the for loop so the print statement updates\n",
    "        if counter == 50:\n",
    "            counter = 1\n",
    "            setnumber += 1\n",
    "\n",
    "        else:\n",
    "            counter += 1\n",
    "\n",
    "        \n",
    "        #Printing each record for every city\n",
    "        print(f\"Processing Record {counter} of Set {setnumber} | {city}\")\n",
    "        \n",
    "        time.sleep(1)\n",
    "    except:\n",
    "        print(f\"City {city} not found. Skipping...\")\n",
    "print(\"-----------------------\")\n",
    "print(\"Data Retrieval Complete\")\n",
    "print(\"-----------------------\")"
   ]
  },
  {
   "cell_type": "code",
   "execution_count": 8,
   "metadata": {},
   "outputs": [
    {
     "name": "stdout",
     "output_type": "stream",
     "text": [
      "583\n",
      "583\n",
      "583\n",
      "583\n",
      "583\n",
      "583\n",
      "583\n",
      "583\n",
      "583\n"
     ]
    }
   ],
   "source": [
    "#Checking array length for dataframe assembly\n",
    "print(len(cityname))\n",
    "print(len(lat))\n",
    "print(len(lng))\n",
    "print(len(maxtemp))\n",
    "print(len(humidity))\n",
    "print(len(cloudiness))\n",
    "print(len(windspeed))\n",
    "print(len(country))\n",
    "print(len(date))"
   ]
  },
  {
   "cell_type": "markdown",
   "metadata": {},
   "source": [
    "## Convert Raw Data to DataFrame\n",
    "* Save as csv"
   ]
  },
  {
   "cell_type": "code",
   "execution_count": 9,
   "metadata": {},
   "outputs": [],
   "source": [
    "#Create a data frame from the following dictionary:\n",
    "\n",
    "#Dictionary\n",
    "weather_dict = {\n",
    "    \"City\": cityname,\n",
    "    \"Lat\": lat,\n",
    "    \"Lng\": lng,\n",
    "    \"Max Temp\": maxtemp,\n",
    "    \"Humidity\": humidity,\n",
    "    \"Cloudiness\": cloudiness,\n",
    "    \"Wind Speed\": windspeed,\n",
    "    \"Country\": country,\n",
    "    \"Date\": date\n",
    "}\n",
    "weather_data = pd.DataFrame(weather_dict)\n",
    "\n",
    "#Saving as csv\n",
    "weather_data.to_csv(\"Weather CSV\")"
   ]
  },
  {
   "cell_type": "code",
   "execution_count": 10,
   "metadata": {},
   "outputs": [
    {
     "data": {
      "text/html": [
       "<div>\n",
       "<style scoped>\n",
       "    .dataframe tbody tr th:only-of-type {\n",
       "        vertical-align: middle;\n",
       "    }\n",
       "\n",
       "    .dataframe tbody tr th {\n",
       "        vertical-align: top;\n",
       "    }\n",
       "\n",
       "    .dataframe thead th {\n",
       "        text-align: right;\n",
       "    }\n",
       "</style>\n",
       "<table border=\"1\" class=\"dataframe\">\n",
       "  <thead>\n",
       "    <tr style=\"text-align: right;\">\n",
       "      <th></th>\n",
       "      <th>City</th>\n",
       "      <th>Lat</th>\n",
       "      <th>Lng</th>\n",
       "      <th>Max Temp</th>\n",
       "      <th>Humidity</th>\n",
       "      <th>Cloudiness</th>\n",
       "      <th>Wind Speed</th>\n",
       "      <th>Country</th>\n",
       "      <th>Date</th>\n",
       "    </tr>\n",
       "  </thead>\n",
       "  <tbody>\n",
       "    <tr>\n",
       "      <th>0</th>\n",
       "      <td>Rikitea</td>\n",
       "      <td>-23.12</td>\n",
       "      <td>-134.97</td>\n",
       "      <td>74.62</td>\n",
       "      <td>81</td>\n",
       "      <td>100</td>\n",
       "      <td>20.00</td>\n",
       "      <td>PF</td>\n",
       "      <td>1603079327</td>\n",
       "    </tr>\n",
       "    <tr>\n",
       "      <th>1</th>\n",
       "      <td>Jamestown</td>\n",
       "      <td>42.10</td>\n",
       "      <td>-79.24</td>\n",
       "      <td>55.00</td>\n",
       "      <td>62</td>\n",
       "      <td>90</td>\n",
       "      <td>10.29</td>\n",
       "      <td>US</td>\n",
       "      <td>1603079457</td>\n",
       "    </tr>\n",
       "    <tr>\n",
       "      <th>2</th>\n",
       "      <td>Beyneu</td>\n",
       "      <td>45.32</td>\n",
       "      <td>55.20</td>\n",
       "      <td>55.72</td>\n",
       "      <td>34</td>\n",
       "      <td>0</td>\n",
       "      <td>13.62</td>\n",
       "      <td>KZ</td>\n",
       "      <td>1603079594</td>\n",
       "    </tr>\n",
       "    <tr>\n",
       "      <th>3</th>\n",
       "      <td>Ushuaia</td>\n",
       "      <td>-54.80</td>\n",
       "      <td>-68.30</td>\n",
       "      <td>37.40</td>\n",
       "      <td>74</td>\n",
       "      <td>20</td>\n",
       "      <td>16.11</td>\n",
       "      <td>AR</td>\n",
       "      <td>1603079595</td>\n",
       "    </tr>\n",
       "    <tr>\n",
       "      <th>4</th>\n",
       "      <td>Devils Lake</td>\n",
       "      <td>48.11</td>\n",
       "      <td>-98.87</td>\n",
       "      <td>28.40</td>\n",
       "      <td>50</td>\n",
       "      <td>90</td>\n",
       "      <td>12.75</td>\n",
       "      <td>US</td>\n",
       "      <td>1603079409</td>\n",
       "    </tr>\n",
       "  </tbody>\n",
       "</table>\n",
       "</div>"
      ],
      "text/plain": [
       "          City    Lat     Lng  Max Temp  Humidity  Cloudiness  Wind Speed  \\\n",
       "0      Rikitea -23.12 -134.97     74.62        81         100       20.00   \n",
       "1    Jamestown  42.10  -79.24     55.00        62          90       10.29   \n",
       "2       Beyneu  45.32   55.20     55.72        34           0       13.62   \n",
       "3      Ushuaia -54.80  -68.30     37.40        74          20       16.11   \n",
       "4  Devils Lake  48.11  -98.87     28.40        50          90       12.75   \n",
       "\n",
       "  Country        Date  \n",
       "0      PF  1603079327  \n",
       "1      US  1603079457  \n",
       "2      KZ  1603079594  \n",
       "3      AR  1603079595  \n",
       "4      US  1603079409  "
      ]
     },
     "execution_count": 10,
     "metadata": {},
     "output_type": "execute_result"
    }
   ],
   "source": [
    "weather_data.head()"
   ]
  },
  {
   "cell_type": "markdown",
   "metadata": {},
   "source": [
    "## Plotting the Data\n",
    "* Use proper labeling of the plots using plot titles (including date of analysis) and axes labels.\n",
    "* Save the plotted figures as .pngs."
   ]
  },
  {
   "cell_type": "markdown",
   "metadata": {},
   "source": [
    "### Latitude vs. Temperature Plot"
   ]
  },
  {
   "cell_type": "code",
   "execution_count": 11,
   "metadata": {},
   "outputs": [
    {
     "name": "stdout",
     "output_type": "stream",
     "text": [
      "(10/18/2020)\n"
     ]
    },
    {
     "data": {
      "image/png": "[encoded data removed]",
      "text/plain": [
       "<Figure size 432x288 with 1 Axes>"
      ]
     },
     "metadata": {
      "needs_background": "light"
     },
     "output_type": "display_data"
    }
   ],
   "source": [
    "# Build a scatter plot for each data type\n",
    "plt.scatter(weather_data[\"Lat\"], weather_data[\"Max Temp\"], marker=\"o\")\n",
    "\n",
    "#Converting the unix so that it reads from the dataframe date and converts it to month/day/year\n",
    "\n",
    "todaysdate=datetime.datetime.fromtimestamp(int(date[1])).strftime('(%m/%d/%Y)')\n",
    "print(todaysdate)\n",
    "\n",
    "\n",
    "# Incorporate the other graph properties\n",
    "plt.title(\"City Latitude vs. Max Temperature \"+str(todaysdate))\n",
    "plt.ylabel(\"Max Temperature (F)\")\n",
    "plt.xlabel(\"Latitude\")\n",
    "plt.grid(True)\n",
    "\n",
    "# Save the figure\n",
    "plt.savefig(\"City Latitude vs Max Temperature.png\")\n",
    "\n",
    "# Show plot\n",
    "plt.show()"
   ]
  },
  {
   "cell_type": "code",
   "execution_count": 12,
   "metadata": {
    "scrolled": true
   },
   "outputs": [],
   "source": [
    "#Analysis of City Latitude vs Max Temperature plot:\n",
    "    #This scatter plot suggests that temperature generally increases as latitude approaches zero. The value of the maximum temperature generally increases if a city's distance is closer to the equator. \n",
    "    \n",
    "    \n",
    "    \n",
    "    "
   ]
  },
  {
   "cell_type": "markdown",
   "metadata": {},
   "source": [
    "### Latitude vs. Humidity Plot"
   ]
  },
  {
   "cell_type": "code",
   "execution_count": 13,
   "metadata": {},
   "outputs": [
    {
     "name": "stdout",
     "output_type": "stream",
     "text": [
      "(10/18/2020)\n"
     ]
    },
    {
     "data": {
      "image/png": "[encoded data removed]",
      "text/plain": [
       "<Figure size 432x288 with 1 Axes>"
      ]
     },
     "metadata": {
      "needs_background": "light"
     },
     "output_type": "display_data"
    }
   ],
   "source": [
    "# Build a scatter plot for each data type\n",
    "plt.scatter(weather_data[\"Lat\"], weather_data[\"Humidity\"], marker=\"o\")\n",
    "\n",
    "#Converting the unix so that it reads from the dataframe date and converts it to month/day/year\n",
    "\n",
    "todaysdate=datetime.datetime.fromtimestamp(int(date[1])).strftime('(%m/%d/%Y)')\n",
    "print(todaysdate)\n",
    "\n",
    "\n",
    "# Incorporate the other graph properties\n",
    "plt.title(\"City Latitude vs. Humidity \"+str(todaysdate))\n",
    "plt.ylabel(\"Humidity (%))\")\n",
    "plt.xlabel(\"Latitude\")\n",
    "plt.grid(True)\n",
    "\n",
    "# Save the figure\n",
    "plt.savefig(\"City Latitude vs Humidity.png\")\n",
    "\n",
    "# Show plot\n",
    "plt.show()"
   ]
  },
  {
   "cell_type": "code",
   "execution_count": 14,
   "metadata": {},
   "outputs": [],
   "source": [
    "#Analysis of City Latitude vs Humidity plot:\n",
    "    #There was not a clear, visual correlation betwen city latitude and humidity based on this scatter plot. There was a cluster of high humidity just below the equator, as well as a cluster of high humidity around the 60-70 degree latitude.\n",
    "    \n",
    "    \n",
    "    "
   ]
  },
  {
   "cell_type": "markdown",
   "metadata": {},
   "source": [
    "### Latitude vs. Cloudiness Plot"
   ]
  },
  {
   "cell_type": "code",
   "execution_count": 15,
   "metadata": {},
   "outputs": [
    {
     "name": "stdout",
     "output_type": "stream",
     "text": [
      "(10/18/2020)\n"
     ]
    },
    {
     "data": {
      "image/png": "[encoded data removed]",
      "text/plain": [
       "<Figure size 432x288 with 1 Axes>"
      ]
     },
     "metadata": {
      "needs_background": "light"
     },
     "output_type": "display_data"
    }
   ],
   "source": [
    "# Build a scatter plot for each data type\n",
    "plt.scatter(weather_data[\"Lat\"], weather_data[\"Cloudiness\"], marker=\"o\")\n",
    "\n",
    "#Converting the unix so that it reads from the dataframe date and converts it to month/day/year\n",
    "\n",
    "todaysdate=datetime.datetime.fromtimestamp(int(date[1])).strftime('(%m/%d/%Y)')\n",
    "print(todaysdate)\n",
    "\n",
    "\n",
    "# Incorporate the other graph properties\n",
    "plt.title(\"City Latitude vs. Cloudiness \"+str(todaysdate))\n",
    "plt.ylabel(\"Cloudiness (%)\")\n",
    "plt.xlabel(\"Latitude\")\n",
    "plt.grid(True)\n",
    "\n",
    "# Save the figure\n",
    "plt.savefig(\"City Latitude vs Cloudiness.png\")\n",
    "\n",
    "# Show plot\n",
    "plt.show()"
   ]
  },
  {
   "cell_type": "code",
   "execution_count": null,
   "metadata": {},
   "outputs": [],
   "source": [
    "#Analysis of City Latitude vs Cloudiness plot:\n",
    "    #There is no clear relationship between latitude and cloudiness. Even at a given latitude, the cloudiness data appears to be spread out."
   ]
  },
  {
   "cell_type": "markdown",
   "metadata": {},
   "source": [
    "### Latitude vs. Wind Speed Plot"
   ]
  },
  {
   "cell_type": "code",
   "execution_count": 16,
   "metadata": {
    "scrolled": true
   },
   "outputs": [
    {
     "name": "stdout",
     "output_type": "stream",
     "text": [
      "(10/18/2020)\n"
     ]
    },
    {
     "data": {
      "image/png": "[encoded data removed]",
      "text/plain": [
       "<Figure size 432x288 with 1 Axes>"
      ]
     },
     "metadata": {
      "needs_background": "light"
     },
     "output_type": "display_data"
    }
   ],
   "source": [
    "# Build a scatter plot for each data type\n",
    "plt.scatter(weather_data[\"Lat\"], weather_data[\"Wind Speed\"], marker=\"o\")\n",
    "\n",
    "#Converting the unix so that it reads from the dataframe date and converts it to month/day/year\n",
    "\n",
    "todaysdate=datetime.datetime.fromtimestamp(int(date[1])).strftime('(%m/%d/%Y)')\n",
    "print(todaysdate)\n",
    "\n",
    "\n",
    "# Incorporate the other graph properties\n",
    "plt.title(\"City Latitude vs. Wind Speed \"+str(todaysdate))\n",
    "plt.ylabel(\"Wind Speed\")\n",
    "plt.xlabel(\"Latitude\")\n",
    "plt.grid(True)\n",
    "\n",
    "# Save the figure\n",
    "plt.savefig(\"City Latitude vs Wind Speed.png\")\n",
    "\n",
    "# Show plot\n",
    "plt.show()"
   ]
  },
  {
   "cell_type": "code",
   "execution_count": null,
   "metadata": {},
   "outputs": [],
   "source": [
    "#Analysis of City Latitude vs Wind Speed plot:\n",
    "    #There is no clear relationship between latitude and wind speed. Wind speeds, however, are generally low. At any given latitude, the wind speed data is dispersed.\n",
    "    \n",
    "    \n",
    "    \n",
    "    \n",
    "    "
   ]
  },
  {
   "cell_type": "markdown",
   "metadata": {},
   "source": [
    "## Linear Regression"
   ]
  },
  {
   "cell_type": "markdown",
   "metadata": {},
   "source": [
    "### Write linear regression plot function (optional)"
   ]
  },
  {
   "cell_type": "code",
   "execution_count": 17,
   "metadata": {},
   "outputs": [
    {
     "data": {
      "text/html": [
       "<div>\n",
       "<style scoped>\n",
       "    .dataframe tbody tr th:only-of-type {\n",
       "        vertical-align: middle;\n",
       "    }\n",
       "\n",
       "    .dataframe tbody tr th {\n",
       "        vertical-align: top;\n",
       "    }\n",
       "\n",
       "    .dataframe thead th {\n",
       "        text-align: right;\n",
       "    }\n",
       "</style>\n",
       "<table border=\"1\" class=\"dataframe\">\n",
       "  <thead>\n",
       "    <tr style=\"text-align: right;\">\n",
       "      <th></th>\n",
       "      <th>City</th>\n",
       "      <th>Lat</th>\n",
       "      <th>Lng</th>\n",
       "      <th>Max Temp</th>\n",
       "      <th>Humidity</th>\n",
       "      <th>Cloudiness</th>\n",
       "      <th>Wind Speed</th>\n",
       "      <th>Country</th>\n",
       "      <th>Date</th>\n",
       "    </tr>\n",
       "  </thead>\n",
       "  <tbody>\n",
       "    <tr>\n",
       "      <th>0</th>\n",
       "      <td>Rikitea</td>\n",
       "      <td>-23.12</td>\n",
       "      <td>-134.97</td>\n",
       "      <td>74.62</td>\n",
       "      <td>81</td>\n",
       "      <td>100</td>\n",
       "      <td>20.00</td>\n",
       "      <td>PF</td>\n",
       "      <td>1603079327</td>\n",
       "    </tr>\n",
       "    <tr>\n",
       "      <th>3</th>\n",
       "      <td>Ushuaia</td>\n",
       "      <td>-54.80</td>\n",
       "      <td>-68.30</td>\n",
       "      <td>37.40</td>\n",
       "      <td>74</td>\n",
       "      <td>20</td>\n",
       "      <td>16.11</td>\n",
       "      <td>AR</td>\n",
       "      <td>1603079595</td>\n",
       "    </tr>\n",
       "    <tr>\n",
       "      <th>6</th>\n",
       "      <td>Vila Velha</td>\n",
       "      <td>-20.33</td>\n",
       "      <td>-40.29</td>\n",
       "      <td>68.00</td>\n",
       "      <td>100</td>\n",
       "      <td>90</td>\n",
       "      <td>4.70</td>\n",
       "      <td>BR</td>\n",
       "      <td>1603079450</td>\n",
       "    </tr>\n",
       "    <tr>\n",
       "      <th>9</th>\n",
       "      <td>Howard Springs</td>\n",
       "      <td>-12.50</td>\n",
       "      <td>131.05</td>\n",
       "      <td>90.00</td>\n",
       "      <td>55</td>\n",
       "      <td>20</td>\n",
       "      <td>10.29</td>\n",
       "      <td>AU</td>\n",
       "      <td>1603079601</td>\n",
       "    </tr>\n",
       "    <tr>\n",
       "      <th>14</th>\n",
       "      <td>Bluff</td>\n",
       "      <td>-46.60</td>\n",
       "      <td>168.33</td>\n",
       "      <td>53.01</td>\n",
       "      <td>75</td>\n",
       "      <td>92</td>\n",
       "      <td>11.99</td>\n",
       "      <td>NZ</td>\n",
       "      <td>1603079415</td>\n",
       "    </tr>\n",
       "    <tr>\n",
       "      <th>...</th>\n",
       "      <td>...</td>\n",
       "      <td>...</td>\n",
       "      <td>...</td>\n",
       "      <td>...</td>\n",
       "      <td>...</td>\n",
       "      <td>...</td>\n",
       "      <td>...</td>\n",
       "      <td>...</td>\n",
       "      <td>...</td>\n",
       "    </tr>\n",
       "    <tr>\n",
       "      <th>575</th>\n",
       "      <td>Marovoay</td>\n",
       "      <td>-16.10</td>\n",
       "      <td>46.63</td>\n",
       "      <td>73.40</td>\n",
       "      <td>64</td>\n",
       "      <td>20</td>\n",
       "      <td>6.93</td>\n",
       "      <td>MG</td>\n",
       "      <td>1603080234</td>\n",
       "    </tr>\n",
       "    <tr>\n",
       "      <th>576</th>\n",
       "      <td>Nísia Floresta</td>\n",
       "      <td>-6.09</td>\n",
       "      <td>-35.21</td>\n",
       "      <td>77.00</td>\n",
       "      <td>78</td>\n",
       "      <td>40</td>\n",
       "      <td>6.93</td>\n",
       "      <td>BR</td>\n",
       "      <td>1603080235</td>\n",
       "    </tr>\n",
       "    <tr>\n",
       "      <th>579</th>\n",
       "      <td>Santa Maria</td>\n",
       "      <td>-29.68</td>\n",
       "      <td>-53.81</td>\n",
       "      <td>65.14</td>\n",
       "      <td>73</td>\n",
       "      <td>0</td>\n",
       "      <td>4.47</td>\n",
       "      <td>BR</td>\n",
       "      <td>1603079974</td>\n",
       "    </tr>\n",
       "    <tr>\n",
       "      <th>581</th>\n",
       "      <td>Finschhafen</td>\n",
       "      <td>-6.60</td>\n",
       "      <td>147.87</td>\n",
       "      <td>84.78</td>\n",
       "      <td>66</td>\n",
       "      <td>95</td>\n",
       "      <td>4.63</td>\n",
       "      <td>PG</td>\n",
       "      <td>1603080241</td>\n",
       "    </tr>\n",
       "    <tr>\n",
       "      <th>582</th>\n",
       "      <td>Trairi</td>\n",
       "      <td>-3.28</td>\n",
       "      <td>-39.27</td>\n",
       "      <td>80.29</td>\n",
       "      <td>76</td>\n",
       "      <td>84</td>\n",
       "      <td>15.41</td>\n",
       "      <td>BR</td>\n",
       "      <td>1603080242</td>\n",
       "    </tr>\n",
       "  </tbody>\n",
       "</table>\n",
       "<p>189 rows × 9 columns</p>\n",
       "</div>"
      ],
      "text/plain": [
       "               City    Lat     Lng  Max Temp  Humidity  Cloudiness  \\\n",
       "0           Rikitea -23.12 -134.97     74.62        81         100   \n",
       "3           Ushuaia -54.80  -68.30     37.40        74          20   \n",
       "6        Vila Velha -20.33  -40.29     68.00       100          90   \n",
       "9    Howard Springs -12.50  131.05     90.00        55          20   \n",
       "14            Bluff -46.60  168.33     53.01        75          92   \n",
       "..              ...    ...     ...       ...       ...         ...   \n",
       "575        Marovoay -16.10   46.63     73.40        64          20   \n",
       "576  Nísia Floresta  -6.09  -35.21     77.00        78          40   \n",
       "579     Santa Maria -29.68  -53.81     65.14        73           0   \n",
       "581     Finschhafen  -6.60  147.87     84.78        66          95   \n",
       "582          Trairi  -3.28  -39.27     80.29        76          84   \n",
       "\n",
       "     Wind Speed Country        Date  \n",
       "0         20.00      PF  1603079327  \n",
       "3         16.11      AR  1603079595  \n",
       "6          4.70      BR  1603079450  \n",
       "9         10.29      AU  1603079601  \n",
       "14        11.99      NZ  1603079415  \n",
       "..          ...     ...         ...  \n",
       "575        6.93      MG  1603080234  \n",
       "576        6.93      BR  1603080235  \n",
       "579        4.47      BR  1603079974  \n",
       "581        4.63      PG  1603080241  \n",
       "582       15.41      BR  1603080242  \n",
       "\n",
       "[189 rows x 9 columns]"
      ]
     },
     "execution_count": 17,
     "metadata": {},
     "output_type": "execute_result"
    }
   ],
   "source": [
    "#Creating dataframe for southern hemisphere\n",
    "southerndf=weather_data.loc[weather_data[\"Lat\"]<0]\n",
    "southerndf\n"
   ]
  },
  {
   "cell_type": "code",
   "execution_count": 18,
   "metadata": {},
   "outputs": [
    {
     "data": {
      "text/html": [
       "<div>\n",
       "<style scoped>\n",
       "    .dataframe tbody tr th:only-of-type {\n",
       "        vertical-align: middle;\n",
       "    }\n",
       "\n",
       "    .dataframe tbody tr th {\n",
       "        vertical-align: top;\n",
       "    }\n",
       "\n",
       "    .dataframe thead th {\n",
       "        text-align: right;\n",
       "    }\n",
       "</style>\n",
       "<table border=\"1\" class=\"dataframe\">\n",
       "  <thead>\n",
       "    <tr style=\"text-align: right;\">\n",
       "      <th></th>\n",
       "      <th>City</th>\n",
       "      <th>Lat</th>\n",
       "      <th>Lng</th>\n",
       "      <th>Max Temp</th>\n",
       "      <th>Humidity</th>\n",
       "      <th>Cloudiness</th>\n",
       "      <th>Wind Speed</th>\n",
       "      <th>Country</th>\n",
       "      <th>Date</th>\n",
       "    </tr>\n",
       "  </thead>\n",
       "  <tbody>\n",
       "    <tr>\n",
       "      <th>1</th>\n",
       "      <td>Jamestown</td>\n",
       "      <td>42.10</td>\n",
       "      <td>-79.24</td>\n",
       "      <td>55.00</td>\n",
       "      <td>62</td>\n",
       "      <td>90</td>\n",
       "      <td>10.29</td>\n",
       "      <td>US</td>\n",
       "      <td>1603079457</td>\n",
       "    </tr>\n",
       "    <tr>\n",
       "      <th>2</th>\n",
       "      <td>Beyneu</td>\n",
       "      <td>45.32</td>\n",
       "      <td>55.20</td>\n",
       "      <td>55.72</td>\n",
       "      <td>34</td>\n",
       "      <td>0</td>\n",
       "      <td>13.62</td>\n",
       "      <td>KZ</td>\n",
       "      <td>1603079594</td>\n",
       "    </tr>\n",
       "    <tr>\n",
       "      <th>4</th>\n",
       "      <td>Devils Lake</td>\n",
       "      <td>48.11</td>\n",
       "      <td>-98.87</td>\n",
       "      <td>28.40</td>\n",
       "      <td>50</td>\n",
       "      <td>90</td>\n",
       "      <td>12.75</td>\n",
       "      <td>US</td>\n",
       "      <td>1603079409</td>\n",
       "    </tr>\n",
       "    <tr>\n",
       "      <th>5</th>\n",
       "      <td>Nizwá</td>\n",
       "      <td>22.93</td>\n",
       "      <td>57.53</td>\n",
       "      <td>83.50</td>\n",
       "      <td>11</td>\n",
       "      <td>7</td>\n",
       "      <td>4.18</td>\n",
       "      <td>OM</td>\n",
       "      <td>1603079442</td>\n",
       "    </tr>\n",
       "    <tr>\n",
       "      <th>7</th>\n",
       "      <td>Shingū</td>\n",
       "      <td>33.73</td>\n",
       "      <td>135.98</td>\n",
       "      <td>60.80</td>\n",
       "      <td>87</td>\n",
       "      <td>75</td>\n",
       "      <td>3.36</td>\n",
       "      <td>JP</td>\n",
       "      <td>1603079550</td>\n",
       "    </tr>\n",
       "    <tr>\n",
       "      <th>...</th>\n",
       "      <td>...</td>\n",
       "      <td>...</td>\n",
       "      <td>...</td>\n",
       "      <td>...</td>\n",
       "      <td>...</td>\n",
       "      <td>...</td>\n",
       "      <td>...</td>\n",
       "      <td>...</td>\n",
       "      <td>...</td>\n",
       "    </tr>\n",
       "    <tr>\n",
       "      <th>571</th>\n",
       "      <td>Eston</td>\n",
       "      <td>51.15</td>\n",
       "      <td>-108.75</td>\n",
       "      <td>21.99</td>\n",
       "      <td>57</td>\n",
       "      <td>90</td>\n",
       "      <td>4.70</td>\n",
       "      <td>CA</td>\n",
       "      <td>1603080006</td>\n",
       "    </tr>\n",
       "    <tr>\n",
       "      <th>572</th>\n",
       "      <td>Teya</td>\n",
       "      <td>60.38</td>\n",
       "      <td>92.63</td>\n",
       "      <td>26.94</td>\n",
       "      <td>91</td>\n",
       "      <td>100</td>\n",
       "      <td>14.97</td>\n",
       "      <td>RU</td>\n",
       "      <td>1603080231</td>\n",
       "    </tr>\n",
       "    <tr>\n",
       "      <th>577</th>\n",
       "      <td>Vila</td>\n",
       "      <td>42.03</td>\n",
       "      <td>-8.16</td>\n",
       "      <td>57.99</td>\n",
       "      <td>51</td>\n",
       "      <td>97</td>\n",
       "      <td>1.99</td>\n",
       "      <td>PT</td>\n",
       "      <td>1603080236</td>\n",
       "    </tr>\n",
       "    <tr>\n",
       "      <th>578</th>\n",
       "      <td>Kem'</td>\n",
       "      <td>64.96</td>\n",
       "      <td>34.58</td>\n",
       "      <td>34.39</td>\n",
       "      <td>96</td>\n",
       "      <td>100</td>\n",
       "      <td>15.88</td>\n",
       "      <td>RU</td>\n",
       "      <td>1603080237</td>\n",
       "    </tr>\n",
       "    <tr>\n",
       "      <th>580</th>\n",
       "      <td>Bria</td>\n",
       "      <td>6.54</td>\n",
       "      <td>21.99</td>\n",
       "      <td>67.80</td>\n",
       "      <td>94</td>\n",
       "      <td>100</td>\n",
       "      <td>2.26</td>\n",
       "      <td>CF</td>\n",
       "      <td>1603080239</td>\n",
       "    </tr>\n",
       "  </tbody>\n",
       "</table>\n",
       "<p>394 rows × 9 columns</p>\n",
       "</div>"
      ],
      "text/plain": [
       "            City    Lat     Lng  Max Temp  Humidity  Cloudiness  Wind Speed  \\\n",
       "1      Jamestown  42.10  -79.24     55.00        62          90       10.29   \n",
       "2         Beyneu  45.32   55.20     55.72        34           0       13.62   \n",
       "4    Devils Lake  48.11  -98.87     28.40        50          90       12.75   \n",
       "5          Nizwá  22.93   57.53     83.50        11           7        4.18   \n",
       "7         Shingū  33.73  135.98     60.80        87          75        3.36   \n",
       "..           ...    ...     ...       ...       ...         ...         ...   \n",
       "571        Eston  51.15 -108.75     21.99        57          90        4.70   \n",
       "572         Teya  60.38   92.63     26.94        91         100       14.97   \n",
       "577         Vila  42.03   -8.16     57.99        51          97        1.99   \n",
       "578         Kem'  64.96   34.58     34.39        96         100       15.88   \n",
       "580         Bria   6.54   21.99     67.80        94         100        2.26   \n",
       "\n",
       "    Country        Date  \n",
       "1        US  1603079457  \n",
       "2        KZ  1603079594  \n",
       "4        US  1603079409  \n",
       "5        OM  1603079442  \n",
       "7        JP  1603079550  \n",
       "..      ...         ...  \n",
       "571      CA  1603080006  \n",
       "572      RU  1603080231  \n",
       "577      PT  1603080236  \n",
       "578      RU  1603080237  \n",
       "580      CF  1603080239  \n",
       "\n",
       "[394 rows x 9 columns]"
      ]
     },
     "execution_count": 18,
     "metadata": {},
     "output_type": "execute_result"
    }
   ],
   "source": [
    "#Creating dataframe for northern hemisphere\n",
    "northerndf=weather_data.loc[weather_data[\"Lat\"]>=0]\n",
    "northerndf\n",
    "\n"
   ]
  },
  {
   "cell_type": "markdown",
   "metadata": {},
   "source": [
    "###  Northern Hemisphere - Max Temp vs. Latitude Linear Regression"
   ]
  },
  {
   "cell_type": "code",
   "execution_count": 28,
   "metadata": {},
   "outputs": [
    {
     "data": {
      "image/png": "[encoded data removed]",
      "text/plain": [
       "<Figure size 432x288 with 1 Axes>"
      ]
     },
     "metadata": {
      "needs_background": "light"
     },
     "output_type": "display_data"
    },
    {
     "name": "stdout",
     "output_type": "stream",
     "text": [
      "rvalue: -0.9000931619445832\n",
      "rquared: 0.8101677001793978\n"
     ]
    },
    {
     "data": {
      "text/plain": [
       "<Figure size 432x288 with 0 Axes>"
      ]
     },
     "metadata": {},
     "output_type": "display_data"
    }
   ],
   "source": [
    "#Northern Hemisphere: max temp vs latitude linear regression\n",
    "\n",
    "x_values = northerndf['Lat']\n",
    "y_values = northerndf['Max Temp']\n",
    "(slope, intercept, rvalue, pvalue, stderr) = linregress(x_values, y_values)\n",
    "regress_values = x_values * slope + intercept\n",
    "line_eq = \"y = \" + str(round(slope,2)) + \"x + \" + str(round(intercept,2))\n",
    "plt.scatter(x_values,y_values)\n",
    "plt.plot(x_values,regress_values,\"r-\")\n",
    "\n",
    "\n",
    "plt.annotate(line_eq,(20,40),fontsize=15,color=\"red\")\n",
    "plt.xlabel('Latitude')\n",
    "plt.ylabel('Max Temp (F)')\n",
    "plt.title(\"Northern Hemisphere - Max Temp vs. Latitude Linear Regression\")\n",
    "plt.xlim(0, 85)\n",
    "plt.ylim(30, 120)\n",
    "plt.show()\n",
    "\n",
    "print(\"rvalue: \" + str(rvalue))\n",
    "print(\"rquared: \" + str(rvalue**2))\n",
    "\n",
    "plt.savefig(\"Northern Hemisphere - Max Temp vs. Latitude Linear Regression.png\")\n",
    "\n",
    "\n",
    "\n"
   ]
  },
  {
   "cell_type": "code",
   "execution_count": null,
   "metadata": {},
   "outputs": [],
   "source": [
    "#Analysis: Northern Hemisphere - Max Temp vs. Latitude Linear Regression\n",
    "    #The r-value of -0.9 is close to -1, suggesting a strong negative correlation between max temperature and latitude.\n",
    "    #The high rsquared value of 0.81 suggests that the model fits the data well, with 81% of the data fitting the regression model.\n",
    "    \n",
    "    \n",
    "    "
   ]
  },
  {
   "cell_type": "markdown",
   "metadata": {},
   "source": [
    "###  Southern Hemisphere - Max Temp vs. Latitude Linear Regression"
   ]
  },
  {
   "cell_type": "code",
   "execution_count": 29,
   "metadata": {},
   "outputs": [
    {
     "data": {
      "image/png": "[encoded data removed]",
      "text/plain": [
       "<Figure size 432x288 with 1 Axes>"
      ]
     },
     "metadata": {
      "needs_background": "light"
     },
     "output_type": "display_data"
    },
    {
     "name": "stdout",
     "output_type": "stream",
     "text": [
      "rvalue: 0.6735734849654044\n",
      "rquared: 0.45370123964843984\n"
     ]
    },
    {
     "data": {
      "text/plain": [
       "<Figure size 432x288 with 0 Axes>"
      ]
     },
     "metadata": {},
     "output_type": "display_data"
    }
   ],
   "source": [
    "#Southern Hemisphere: max temp vs latitude linear regression\n",
    "\n",
    "x_values = southerndf['Lat']\n",
    "y_values = southerndf['Max Temp']\n",
    "(slope, intercept, rvalue, pvalue, stderr) = linregress(x_values, y_values)\n",
    "regress_values = x_values * slope + intercept\n",
    "line_eq = \"y = \" + str(round(slope,2)) + \"x + \" + str(round(intercept,2))\n",
    "plt.scatter(x_values,y_values)\n",
    "plt.plot(x_values,regress_values,\"r-\")\n",
    "\n",
    "\n",
    "plt.annotate(line_eq,(-40,90),fontsize=15,color=\"red\")\n",
    "plt.xlabel('Latitude')\n",
    "plt.ylabel('Max Temp (F)')\n",
    "plt.title(\"Southern Hemisphere - Max Temp vs. Latitude Linear Regression\")\n",
    "plt.xlim(-60, 0)\n",
    "plt.ylim(0, 110)\n",
    "plt.show()\n",
    "\n",
    "print(\"rvalue: \" + str(rvalue))\n",
    "print(\"rquared: \" + str(rvalue**2))\n",
    "\n",
    "plt.savefig(\"Southern Hemisphere - Max Temp vs. Latitude Linear Regression.png\")\n",
    "\n"
   ]
  },
  {
   "cell_type": "code",
   "execution_count": null,
   "metadata": {},
   "outputs": [],
   "source": [
    "#Analysis: Southern Hemisphere - Max Temp vs. Latitude Linear Regression\n",
    "    #The r-value of 0.67 is close to 1, suggesting a positive correlation between max temperature and latitude in the Southern Hemisphere.\n",
    "    #The rsquared value of 0.45 suggests that 45% of the data fits the regression model.\n",
    "    \n",
    "    "
   ]
  },
  {
   "cell_type": "markdown",
   "metadata": {},
   "source": [
    "###  Northern Hemisphere - Humidity (%) vs. Latitude Linear Regression"
   ]
  },
  {
   "cell_type": "code",
   "execution_count": 30,
   "metadata": {},
   "outputs": [
    {
     "data": {
      "image/png": "[encoded data removed]",
      "text/plain": [
       "<Figure size 432x288 with 1 Axes>"
      ]
     },
     "metadata": {
      "needs_background": "light"
     },
     "output_type": "display_data"
    },
    {
     "name": "stdout",
     "output_type": "stream",
     "text": [
      "rvalue: 0.2811205350152594\n",
      "rquared: 0.0790287552072657\n"
     ]
    },
    {
     "data": {
      "text/plain": [
       "<Figure size 432x288 with 0 Axes>"
      ]
     },
     "metadata": {},
     "output_type": "display_data"
    }
   ],
   "source": [
    "#Northern Hemisphere: humidity vs latitude linear regression\n",
    "\n",
    "x_values = northerndf['Lat']\n",
    "y_values = northerndf['Humidity']\n",
    "(slope, intercept, rvalue, pvalue, stderr) = linregress(x_values, y_values)\n",
    "regress_values = x_values * slope + intercept\n",
    "line_eq = \"y = \" + str(round(slope,2)) + \"x + \" + str(round(intercept,2))\n",
    "plt.scatter(x_values,y_values)\n",
    "plt.plot(x_values,regress_values,\"r-\")\n",
    "\n",
    "plt.annotate(line_eq,(40,20),fontsize=15,color=\"red\")\n",
    "plt.xlabel('Latitude')\n",
    "plt.ylabel('Humidity (%)')\n",
    "plt.title(\"Northern Hemisphere - Humidity (%) vs. Latitude Linear Regression\")\n",
    "plt.xlim(-5, 85)\n",
    "plt.ylim(0, 110)\n",
    "plt.show()\n",
    "\n",
    "print(\"rvalue: \" + str(rvalue))\n",
    "print(\"rquared: \" + str(rvalue**2))\n",
    "\n",
    "plt.savefig(\"Northern Hemisphere - Humidity (%) vs. Latitude Linear Regression.png\")\n",
    "\n",
    "\n"
   ]
  },
  {
   "cell_type": "code",
   "execution_count": null,
   "metadata": {},
   "outputs": [],
   "source": [
    "#Analysis: Northern Hemisphere - Humidity (%) vs. Latitude Linear Regression\n",
    "    #The r-value of 0.28 is not very close to one, suggesting a weakly positive correlation between humidity and latitude in the Northern Hemisphere.\n",
    "    #The rsquared value of implies that only 7% of the data fits the regression model.\n",
    "    "
   ]
  },
  {
   "cell_type": "markdown",
   "metadata": {},
   "source": [
    "###  Southern Hemisphere - Humidity (%) vs. Latitude Linear Regression"
   ]
  },
  {
   "cell_type": "code",
   "execution_count": 31,
   "metadata": {},
   "outputs": [
    {
     "data": {
      "image/png": "[encoded data removed]",
      "text/plain": [
       "<Figure size 432x288 with 1 Axes>"
      ]
     },
     "metadata": {
      "needs_background": "light"
     },
     "output_type": "display_data"
    },
    {
     "name": "stdout",
     "output_type": "stream",
     "text": [
      "rvalue: 0.08017354433274136\n",
      "rquared: 0.006427797210874045\n"
     ]
    },
    {
     "data": {
      "text/plain": [
       "<Figure size 432x288 with 0 Axes>"
      ]
     },
     "metadata": {},
     "output_type": "display_data"
    }
   ],
   "source": [
    "#Southern Hemisphere: humidity vs latitude linear regression\n",
    "\n",
    "x_values = southerndf['Lat']\n",
    "y_values = southerndf['Humidity']\n",
    "(slope, intercept, rvalue, pvalue, stderr) = linregress(x_values, y_values)\n",
    "regress_values = x_values * slope + intercept\n",
    "line_eq = \"y = \" + str(round(slope,2)) + \"x + \" + str(round(intercept,2))\n",
    "plt.scatter(x_values,y_values)\n",
    "plt.plot(x_values,regress_values,\"r-\")\n",
    "\n",
    "\n",
    "plt.annotate(line_eq,(-50,20),fontsize=15,color=\"red\")\n",
    "plt.xlabel('Latitude')\n",
    "plt.ylabel('Humidity (%)')\n",
    "plt.title(\"Southern Hemisphere - Humidity (%) vs. Latitude Linear Regression\")\n",
    "plt.xlim(-60, 0)\n",
    "plt.ylim(0, 110)\n",
    "plt.show()\n",
    "\n",
    "print(\"rvalue: \" + str(rvalue))\n",
    "print(\"rquared: \" + str(rvalue**2))\n",
    "\n",
    "plt.savefig(\"Southern Hemisphere - Humidity (%) vs. Latitude Linear Regression.png\")\n",
    "\n"
   ]
  },
  {
   "cell_type": "code",
   "execution_count": null,
   "metadata": {},
   "outputs": [],
   "source": [
    "#Analysis: Southern Hemisphere - Humidity (%) vs. Latitude Linear Regression\n",
    "    #The r-value of 0.08 is not very close to 1, suggesting an extremely weak positive correlation between humidity and latitude in the Southern Hemisphere.\n",
    "    #The rsquared value of implies that only .6% of the data fits the regression model.\n",
    "    #There is almost no correlation implied by this model.\n",
    "    "
   ]
  },
  {
   "cell_type": "markdown",
   "metadata": {},
   "source": [
    "###  Northern Hemisphere - Cloudiness (%) vs. Latitude Linear Regression"
   ]
  },
  {
   "cell_type": "code",
   "execution_count": 32,
   "metadata": {},
   "outputs": [
    {
     "data": {
      "image/png": "[encoded data removed]",
      "text/plain": [
       "<Figure size 432x288 with 1 Axes>"
      ]
     },
     "metadata": {
      "needs_background": "light"
     },
     "output_type": "display_data"
    },
    {
     "name": "stdout",
     "output_type": "stream",
     "text": [
      "rvalue: 0.19752117845182007\n",
      "rquared: 0.03901461593699575\n"
     ]
    },
    {
     "data": {
      "text/plain": [
       "<Figure size 432x288 with 0 Axes>"
      ]
     },
     "metadata": {},
     "output_type": "display_data"
    }
   ],
   "source": [
    "#Northern Hemisphere: cloudiness vs latitude linear regression\n",
    "\n",
    "x_values = northerndf['Lat']\n",
    "y_values = northerndf['Cloudiness']\n",
    "(slope, intercept, rvalue, pvalue, stderr) = linregress(x_values, y_values)\n",
    "regress_values = x_values * slope + intercept\n",
    "line_eq = \"y = \" + str(round(slope,2)) + \"x + \" + str(round(intercept,2))\n",
    "plt.scatter(x_values,y_values)\n",
    "plt.plot(x_values,regress_values,\"r-\")\n",
    "\n",
    "plt.annotate(line_eq,(30,20),fontsize=15,color=\"red\")\n",
    "plt.xlabel('Latitude')\n",
    "plt.ylabel('Cloudiness (%)')\n",
    "plt.title(\"Northern Hemisphere - Cloudiness (%) vs. Latitude Linear Regression\")\n",
    "plt.xlim(0, 85)\n",
    "plt.ylim(0, 110)\n",
    "plt.show()\n",
    "\n",
    "print(\"rvalue: \" + str(rvalue))\n",
    "print(\"rquared: \" + str(rvalue**2))\n",
    "\n",
    "plt.savefig(\"Northern Hemisphere - Cloudiness (%) vs. Latitude Linear Regression.png\")\n"
   ]
  },
  {
   "cell_type": "code",
   "execution_count": null,
   "metadata": {},
   "outputs": [],
   "source": [
    "#Analysis: Northern Hemisphere - Cloudiness (%) vs. Latitude Linear Regression\n",
    "    #The r-value of 0.19 is not very close to 1, suggesting a weakly positive correlation between cloudiness and latitude in the Northern Hemisphere.\n",
    "    #The rsquared value of implies that only 3% of the data fits the regression model.\n",
    "    "
   ]
  },
  {
   "cell_type": "markdown",
   "metadata": {},
   "source": [
    "###  Southern Hemisphere - Cloudiness (%) vs. Latitude Linear Regression"
   ]
  },
  {
   "cell_type": "code",
   "execution_count": 33,
   "metadata": {},
   "outputs": [
    {
     "data": {
      "image/png": "[encoded data removed]",
      "text/plain": [
       "<Figure size 432x288 with 1 Axes>"
      ]
     },
     "metadata": {
      "needs_background": "light"
     },
     "output_type": "display_data"
    },
    {
     "name": "stdout",
     "output_type": "stream",
     "text": [
      "rvalue: 0.0373160524965942\n",
      "rquared: 0.0013924877739285742\n"
     ]
    },
    {
     "data": {
      "text/plain": [
       "<Figure size 432x288 with 0 Axes>"
      ]
     },
     "metadata": {},
     "output_type": "display_data"
    }
   ],
   "source": [
    "#Southern Hemisphere: cloudiness vs latitude linear regression\n",
    "\n",
    "x_values = southerndf['Lat']\n",
    "y_values = southerndf['Cloudiness']\n",
    "(slope, intercept, rvalue, pvalue, stderr) = linregress(x_values, y_values)\n",
    "regress_values = x_values * slope + intercept\n",
    "line_eq = \"y = \" + str(round(slope,2)) + \"x + \" + str(round(intercept,2))\n",
    "plt.scatter(x_values,y_values)\n",
    "plt.plot(x_values,regress_values,\"r-\")\n",
    "\n",
    "\n",
    "plt.annotate(line_eq,(-30,30),fontsize=15,color=\"red\")\n",
    "plt.xlabel('Latitude')\n",
    "plt.ylabel('Cloudiness (%)')\n",
    "plt.title(\"Southern Hemisphere - Cloudiness (%) vs. Latitude Linear Regression\")\n",
    "plt.xlim(-60,0)\n",
    "plt.ylim(-5,110)\n",
    "plt.show()\n",
    "\n",
    "print(\"rvalue: \" + str(rvalue))\n",
    "print(\"rquared: \" + str(rvalue**2))\n",
    "\n",
    "plt.savefig(\"Southern Hemisphere - Cloudiness (%) vs. Latitude Linear Regression.png\")"
   ]
  },
  {
   "cell_type": "code",
   "execution_count": 36,
   "metadata": {},
   "outputs": [],
   "source": [
    "#Analysis: Southern Hemisphere - Cloudiness (%) vs. Latitude Linear Regression\n",
    "    #The r-value of 0.03 is far from 1, suggesting an extremely weak (almost no correlation) positive correlation between cloudiness and latitude in the Southern Hemisphere.\n",
    "    #The rsquared value of implies that only .1% of the data fits the regression model.\n",
    "    "
   ]
  },
  {
   "cell_type": "markdown",
   "metadata": {},
   "source": [
    "###  Northern Hemisphere - Wind Speed (mph) vs. Latitude Linear Regression"
   ]
  },
  {
   "cell_type": "code",
   "execution_count": 34,
   "metadata": {},
   "outputs": [
    {
     "data": {
      "image/png": "[encoded data removed]",
      "text/plain": [
       "<Figure size 432x288 with 1 Axes>"
      ]
     },
     "metadata": {
      "needs_background": "light"
     },
     "output_type": "display_data"
    },
    {
     "name": "stdout",
     "output_type": "stream",
     "text": [
      "rvalue: 0.19336351158283097\n",
      "rquared: 0.0373894476116436\n"
     ]
    },
    {
     "data": {
      "text/plain": [
       "<Figure size 432x288 with 0 Axes>"
      ]
     },
     "metadata": {},
     "output_type": "display_data"
    }
   ],
   "source": [
    "#Northern Hemisphere: wind speed vs latitude linear regression\n",
    "\n",
    "x_values = northerndf['Lat']\n",
    "y_values = northerndf['Wind Speed']\n",
    "(slope, intercept, rvalue, pvalue, stderr) = linregress(x_values, y_values)\n",
    "regress_values = x_values * slope + intercept\n",
    "line_eq = \"y = \" + str(round(slope,2)) + \"x + \" + str(round(intercept,2))\n",
    "plt.scatter(x_values,y_values)\n",
    "plt.plot(x_values,regress_values,\"r-\")\n",
    "\n",
    "plt.annotate(line_eq,(46,16),fontsize=15,color=\"red\")\n",
    "plt.xlabel('Latitude')\n",
    "plt.ylabel('Wind Speed')\n",
    "plt.title(\"Northern Hemisphere - Wind Speed (mph) vs. Latitude Linear Regression\")\n",
    "plt.xlim(0, 85)\n",
    "plt.ylim(0, 35)\n",
    "plt.show()\n",
    "\n",
    "\n",
    "print(\"rvalue: \" + str(rvalue))\n",
    "print(\"rquared: \" + str(rvalue**2))\n",
    "\n",
    "plt.savefig(\"Northern Hemisphere - Wind Speed (mph) vs. Latitude Linear Regression.png\")\n",
    "\n",
    "\n"
   ]
  },
  {
   "cell_type": "code",
   "execution_count": null,
   "metadata": {},
   "outputs": [],
   "source": [
    "#Analysis: Northern Hemisphere - Wind Speed vs. Latitude Linear Regression\n",
    "    #The r-value of 0.19 not close to 1, suggesting a weak positive correlation between wind speed and latitude in the Northern Hemisphere.\n",
    "    #The rsquared value of implies that only 3% of the data fits the regression model.\n",
    "    "
   ]
  },
  {
   "cell_type": "markdown",
   "metadata": {},
   "source": [
    "###  Southern Hemisphere - Wind Speed (mph) vs. Latitude Linear Regression"
   ]
  },
  {
   "cell_type": "code",
   "execution_count": 37,
   "metadata": {},
   "outputs": [
    {
     "data": {
      "image/png": "[encoded data removed]",
      "text/plain": [
       "<Figure size 432x288 with 1 Axes>"
      ]
     },
     "metadata": {
      "needs_background": "light"
     },
     "output_type": "display_data"
    },
    {
     "name": "stdout",
     "output_type": "stream",
     "text": [
      "rvalue: -0.16108188077745403\n",
      "rquared: 0.025947372314801914\n"
     ]
    },
    {
     "data": {
      "text/plain": [
       "<Figure size 432x288 with 0 Axes>"
      ]
     },
     "metadata": {},
     "output_type": "display_data"
    }
   ],
   "source": [
    "#Southern Hemisphere: wind speed vs latitude linear regression\n",
    "\n",
    "x_values = southerndf['Lat']\n",
    "y_values = southerndf['Wind Speed']\n",
    "(slope, intercept, rvalue, pvalue, stderr) = linregress(x_values, y_values)\n",
    "regress_values = x_values * slope + intercept\n",
    "line_eq = \"y = \" + str(round(slope,2)) + \"x + \" + str(round(intercept,2))\n",
    "plt.scatter(x_values,y_values)\n",
    "plt.plot(x_values,regress_values,\"r-\")\n",
    "\n",
    "\n",
    "plt.annotate(line_eq,(-50,20),fontsize=15,color=\"red\")\n",
    "plt.xlabel('Latitude')\n",
    "plt.ylabel('Wind Speed (mph)')\n",
    "plt.title(\"Southern Hemisphere - Wind Speed (mph) vs. Latitude Linear Regression\")\n",
    "plt.xlim(-60, 0)\n",
    "plt.ylim(0, 50)\n",
    "plt.show()\n",
    "\n",
    "print(\"rvalue: \" + str(rvalue))\n",
    "print(\"rquared: \" + str(rvalue**2))\n",
    "\n",
    "plt.savefig(\"Southern Hemisphere - Wind Speed (mph) vs. Latitude Linear Regression.png\")\n"
   ]
  },
  {
   "cell_type": "code",
   "execution_count": null,
   "metadata": {},
   "outputs": [],
   "source": [
    "#Analysis: Northern Hemisphere - Wind Speed vs. Latitude Linear Regression\n",
    "    #The r-value of -0.16 not close to -1, suggesting a weak negative correlation between wind speed and latitude in the Southern Hemisphere.\n",
    "    #The rsquared value of implies that only 2% of the data fits the regression model.\n",
    "    "
   ]
  },
  {
   "cell_type": "code",
   "execution_count": null,
   "metadata": {},
   "outputs": [],
   "source": []
  }
 ],
 "metadata": {
  "anaconda-cloud": {},
  "kernel_info": {
   "name": "python3"
  },
  "kernelspec": {
   "display_name": "Python 3",
   "language": "python",
   "name": "python3"
  },
  "language_info": {
   "codemirror_mode": {
    "name": "ipython",
    "version": 3
   },
   "file_extension": ".py",
   "mimetype": "text/x-python",
   "name": "python",
   "nbconvert_exporter": "python",
   "pygments_lexer": "ipython3",
   "version": "3.6.10"
  },
  "latex_envs": {
   "LaTeX_envs_menu_present": true,
   "autoclose": false,
   "autocomplete": true,
   "bibliofile": "biblio.bib",
   "cite_by": "apalike",
   "current_citInitial": 1,
   "eqLabelWithNumbers": true,
   "eqNumInitial": 1,
   "hotkeys": {
    "equation": "Ctrl-E",
    "itemize": "Ctrl-I"
   },
   "labels_anchors": false,
   "latex_user_defs": false,
   "report_style_numbering": false,
   "user_envs_cfg": false
  },
  "nteract": {
   "version": "0.12.3"
  },
  "toc": {
   "base_numbering": 1,
   "nav_menu": {},
   "number_sections": true,
   "sideBar": true,
   "skip_h1_title": false,
   "title_cell": "Table of Contents",
   "title_sidebar": "Contents",
   "toc_cell": false,
   "toc_position": {},
   "toc_section_display": true,
   "toc_window_display": false
  },
  "varInspector": {
   "cols": {
    "lenName": 16,
    "lenType": 16,
    "lenVar": 40
   },
   "kernels_config": {
    "python": {
     "delete_cmd_postfix": "",
     "delete_cmd_prefix": "del ",
     "library": "var_list.py",
     "varRefreshCmd": "print(var_dic_list())"
    },
    "r": {
     "delete_cmd_postfix": ") ",
     "delete_cmd_prefix": "rm(",
     "library": "var_list.r",
     "varRefreshCmd": "cat(var_dic_list()) "
    }
   },
   "types_to_exclude": [
    "module",
    "function",
    "builtin_function_or_method",
    "instance",
    "_Feature"
   ],
   "window_display": false
  }
 },
 "nbformat": 4,
 "nbformat_minor": 2
}
