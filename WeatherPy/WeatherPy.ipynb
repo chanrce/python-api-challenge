{
 "cells": [
  {
   "cell_type": "markdown",
   "metadata": {},
   "source": [
    "# WeatherPy\n",
    "----\n",
    "\n",
    "#### Note\n",
    "* Instructions have been included for each segment. You do not have to follow them exactly, but they are included to help you think through the steps."
   ]
  },
  {
   "cell_type": "code",
   "execution_count": 113,
   "metadata": {
    "scrolled": true
   },
   "outputs": [],
   "source": [
    "# Dependencies and Setup\n",
    "import matplotlib.pyplot as plt\n",
    "import pandas as pd\n",
    "import numpy as np\n",
    "import requests\n",
    "import time\n",
    "from scipy.stats import linregress\n",
    "import json\n",
    "import datetime\n",
    "\n",
    "# Import API key\n",
    "from api_keys_1 import weather_api_key\n",
    "\n",
    "# Incorporated citipy to determine city based on latitude and longitude\n",
    "from citipy import citipy\n",
    "\n",
    "# Output File (CSV)\n",
    "output_data_file = \"output_data/cities.csv\"\n",
    "\n",
    "# Range of latitudes and longitudes\n",
    "lat_range = (-90, 90)\n",
    "lng_range = (-180, 180)"
   ]
  },
  {
   "cell_type": "markdown",
   "metadata": {},
   "source": [
    "## Generate Cities List"
   ]
  },
  {
   "cell_type": "code",
   "execution_count": 29,
   "metadata": {},
   "outputs": [
    {
     "data": {
      "text/plain": [
       "615"
      ]
     },
     "execution_count": 29,
     "metadata": {},
     "output_type": "execute_result"
    }
   ],
   "source": [
    "# List for holding lat_lngs and cities\n",
    "lat_lngs = []\n",
    "cities = []\n",
    "\n",
    "# Create a set of random lat and lng combinations\n",
    "lats = np.random.uniform(lat_range[0], lat_range[1], size=1500)\n",
    "lngs = np.random.uniform(lng_range[0], lng_range[1], size=1500)\n",
    "lat_lngs = zip(lats, lngs)\n",
    "\n",
    "# Identify nearest city for each lat, lng combination\n",
    "for lat_lng in lat_lngs:\n",
    "    city = citipy.nearest_city(lat_lng[0], lat_lng[1]).city_name\n",
    "    \n",
    "    # If the city is unique, then add it to a our cities list\n",
    "    if city not in cities:\n",
    "        cities.append(city)\n",
    "\n",
    "# Print the city count to confirm sufficient count\n",
    "len(cities)"
   ]
  },
  {
   "cell_type": "code",
   "execution_count": 30,
   "metadata": {
    "scrolled": false
   },
   "outputs": [
    {
     "data": {
      "text/plain": [
       "['kochubey',\n",
       " 'apac',\n",
       " 'smithers',\n",
       " 'rikitea',\n",
       " 'egvekinot',\n",
       " 'saleaula',\n",
       " 'praia da vitoria',\n",
       " 'busselton',\n",
       " 'ponta do sol',\n",
       " 'kathu',\n",
       " 'samusu',\n",
       " 'buala',\n",
       " 'grand river south east',\n",
       " 'aklavik',\n",
       " 'port alfred',\n",
       " 'yar-sale',\n",
       " 'khani',\n",
       " 'kavieng',\n",
       " 'kazalinsk',\n",
       " 'barrow',\n",
       " 'nanticoke',\n",
       " 'bluff',\n",
       " 'cabo san lucas',\n",
       " 'ushuaia',\n",
       " 'bucerias',\n",
       " 'vao',\n",
       " 'safwah',\n",
       " 'tongzi',\n",
       " 'belushya guba',\n",
       " 'mataura',\n",
       " 'broken hill',\n",
       " 'albany',\n",
       " 'ninotsminda',\n",
       " 'baillif',\n",
       " 'bahia honda',\n",
       " 'falan',\n",
       " 'les cayes',\n",
       " 'kodiak',\n",
       " 'ondo',\n",
       " 'northport',\n",
       " 'dukhovshchina',\n",
       " 'mar del plata',\n",
       " 'martin',\n",
       " 'saint george',\n",
       " 'ugoofaaru',\n",
       " 'saint-philippe',\n",
       " 'sitka',\n",
       " 'saldanha',\n",
       " 'lompoc',\n",
       " 'hofn',\n",
       " 'illoqqortoormiut',\n",
       " 'haibowan',\n",
       " 'sentyabrskiy',\n",
       " 'mahebourg',\n",
       " 'trelew',\n",
       " 'yulara',\n",
       " 'hoi an',\n",
       " 'nalut',\n",
       " 'cuenca',\n",
       " 'taolanaro',\n",
       " 'dikson',\n",
       " 'zhanaozen',\n",
       " 'bairiki',\n",
       " 'port shepstone',\n",
       " 'komsomolskiy',\n",
       " 'kapaa',\n",
       " 'tuatapere',\n",
       " 'butaritari',\n",
       " 'sedalia',\n",
       " 'abay',\n",
       " 'phra phutthabat',\n",
       " 'san jose',\n",
       " 'jiuquan',\n",
       " 'blairmore',\n",
       " 'caririacu',\n",
       " 'grand-lahou',\n",
       " 'xining',\n",
       " 'bulgan',\n",
       " 'saiki',\n",
       " 'clyde river',\n",
       " 'amderma',\n",
       " 'namibe',\n",
       " 'havelock',\n",
       " 'vaini',\n",
       " 'barentsburg',\n",
       " 'tumannyy',\n",
       " 'nikolskoye',\n",
       " 'punta arenas',\n",
       " 'biak',\n",
       " 'thompson',\n",
       " 'sarakhs',\n",
       " 'longyearbyen',\n",
       " 'avarua',\n",
       " 'cape town',\n",
       " 'bambous virieux',\n",
       " 'ribeira grande',\n",
       " 'praya',\n",
       " 'high level',\n",
       " 'san andres',\n",
       " 'coquimbo',\n",
       " 'breisach',\n",
       " 'deputatskiy',\n",
       " 'abu samrah',\n",
       " 'mogadishu',\n",
       " 'torbay',\n",
       " 'provideniya',\n",
       " 'new norfolk',\n",
       " 'darlowo',\n",
       " 'olga',\n",
       " 'kahului',\n",
       " 'nizhneyansk',\n",
       " 'warmbad',\n",
       " 'brae',\n",
       " 'makakilo city',\n",
       " 'ancud',\n",
       " 'nacala',\n",
       " 'chokurdakh',\n",
       " 'klaksvik',\n",
       " 'itarantim',\n",
       " 'karamea',\n",
       " 'opuwo',\n",
       " 'kruisfontein',\n",
       " 'port lincoln',\n",
       " 'mana',\n",
       " 'kirakira',\n",
       " 'adrar',\n",
       " 'kindu',\n",
       " 'comodoro rivadavia',\n",
       " 'tsihombe',\n",
       " 'saskylakh',\n",
       " 'jamestown',\n",
       " 'bengkulu',\n",
       " 'kidal',\n",
       " 'georgetown',\n",
       " 'haines junction',\n",
       " 'atuona',\n",
       " 'chifeng',\n",
       " 'hermanus',\n",
       " 'sao felix do xingu',\n",
       " 'bredasdorp',\n",
       " 'victoria',\n",
       " 'kolga',\n",
       " 'pevek',\n",
       " 'castro',\n",
       " 'cherskiy',\n",
       " 'kintampo',\n",
       " 'gamba',\n",
       " 'sestri levante',\n",
       " 'portland',\n",
       " 'teknaf',\n",
       " 'east london',\n",
       " 'pafos',\n",
       " 'lockhart',\n",
       " 'armacao dos buzios',\n",
       " 'myrtle beach',\n",
       " 'altay',\n",
       " 'karasjok',\n",
       " 'floriano',\n",
       " 'rincon',\n",
       " 'mangan',\n",
       " 'lebu',\n",
       " 'fort nelson',\n",
       " 'kaitangata',\n",
       " 'saint combs',\n",
       " 'yenagoa',\n",
       " 'jashpurnagar',\n",
       " 'tiruvottiyur',\n",
       " 'nanortalik',\n",
       " 'amga',\n",
       " 'nong kung si',\n",
       " 'carnarvon',\n",
       " 'port-gentil',\n",
       " 'bolungarvik',\n",
       " 'leningradskiy',\n",
       " 'hobyo',\n",
       " 'yaviza',\n",
       " 'lagoa',\n",
       " 'saint-pierre',\n",
       " 'barra patuca',\n",
       " 'wolmaranstad',\n",
       " 'hobart',\n",
       " 'tuktoyaktuk',\n",
       " 'faanui',\n",
       " 'fairbanks',\n",
       " 'meghraj',\n",
       " 'vrsac',\n",
       " 'nuevo progreso',\n",
       " 'champerico',\n",
       " 'gwadar',\n",
       " 'ponta delgada',\n",
       " 'hithadhoo',\n",
       " 'porto novo',\n",
       " 'owando',\n",
       " 'timbiras',\n",
       " 'santa rosa',\n",
       " 'orel-izumrud',\n",
       " 'sola',\n",
       " 'sao joao da barra',\n",
       " 'korla',\n",
       " 'upernavik',\n",
       " 'puerto ayora',\n",
       " 'esperance',\n",
       " 'waki',\n",
       " 'ewa beach',\n",
       " 'vuktyl',\n",
       " 'bang rakam',\n",
       " 'chuy',\n",
       " 'orlik',\n",
       " 'taoudenni',\n",
       " 'san cristobal',\n",
       " 'linxia',\n",
       " 'mount isa',\n",
       " 'ostersund',\n",
       " 'ambon',\n",
       " 'carora',\n",
       " 'synya',\n",
       " 'bolgatanga',\n",
       " 'santa marinella',\n",
       " 'tasiilaq',\n",
       " 'yamada',\n",
       " 'airai',\n",
       " 'batagay-alyta',\n",
       " 'whitianga',\n",
       " 'berdigestyakh',\n",
       " 'constitucion',\n",
       " 'soyaux',\n",
       " 'bartica',\n",
       " 'sioux lookout',\n",
       " 'vila franca do campo',\n",
       " 'krasnoselkup',\n",
       " 'powell river',\n",
       " 'mount gambier',\n",
       " 'attawapiskat',\n",
       " 'ilulissat',\n",
       " 'krasnyy yar',\n",
       " 'jumla',\n",
       " 'henties bay',\n",
       " 'daugai',\n",
       " 'virovitica',\n",
       " 'tiksi',\n",
       " 'baghdad',\n",
       " 'khatanga',\n",
       " 'katsuura',\n",
       " 'pekan',\n",
       " 'hanzhong',\n",
       " 'ust-nera',\n",
       " 'mengcheng',\n",
       " 'timizart',\n",
       " 'talnakh',\n",
       " 'narsaq',\n",
       " 'sobolevo',\n",
       " 'chimbote',\n",
       " 'svetlaya',\n",
       " 'santa cruz',\n",
       " 'qaanaaq',\n",
       " 'flinders',\n",
       " 'kamenskoye',\n",
       " 'jalu',\n",
       " 'bathsheba',\n",
       " 'cozumel',\n",
       " 'serpa',\n",
       " 'salalah',\n",
       " 'antalaha',\n",
       " 'kashi',\n",
       " 'vila',\n",
       " 'ahipara',\n",
       " 'mentok',\n",
       " 'balashov',\n",
       " 'arraial do cabo',\n",
       " 'kaeo',\n",
       " 'gurskoye',\n",
       " 'samaniego',\n",
       " 'taksimo',\n",
       " 'broome',\n",
       " 'sao luis do quitunde',\n",
       " 'kapit',\n",
       " 'quatre cocos',\n",
       " 'tessalit',\n",
       " 'yarada',\n",
       " 'galatas',\n",
       " 'azimur',\n",
       " 'kurush',\n",
       " 'treinta y tres',\n",
       " 'bilaspur',\n",
       " 'norman wells',\n",
       " 'halalo',\n",
       " 'qaqortoq',\n",
       " 'yellowknife',\n",
       " 'lavrentiya',\n",
       " 'guanica',\n",
       " 'umm lajj',\n",
       " 'mount pleasant',\n",
       " 'plettenberg bay',\n",
       " 'port elizabeth',\n",
       " 'weligama',\n",
       " 'mys shmidta',\n",
       " 'noumea',\n",
       " 'nabire',\n",
       " 'nantucket',\n",
       " 'talaya',\n",
       " 'rawannawi',\n",
       " 'siocon',\n",
       " 'gijon',\n",
       " 'sechura',\n",
       " 'ascension',\n",
       " 'alekseyevsk',\n",
       " 'seydi',\n",
       " 'ngerengere',\n",
       " 'siria',\n",
       " 'whitecourt',\n",
       " 'iqaluit',\n",
       " 'winslow',\n",
       " 'chagda',\n",
       " 'jiwani',\n",
       " 'umea',\n",
       " 'de aar',\n",
       " 'hammerfest',\n",
       " 'wangqing',\n",
       " 'ciudad bolivar',\n",
       " 'campoverde',\n",
       " 'bethel',\n",
       " 'chiredzi',\n",
       " 'sao filipe',\n",
       " 'avera',\n",
       " 'grindavik',\n",
       " 'hilo',\n",
       " 'felidhoo',\n",
       " 'lashio',\n",
       " 'maimon',\n",
       " 'flin flon',\n",
       " 'anito',\n",
       " 'novyy urgal',\n",
       " 'codrington',\n",
       " 'berlin',\n",
       " 'tambovka',\n",
       " 'clemmons',\n",
       " 'belgrade',\n",
       " 'presidencia roque saenz pena',\n",
       " 'bardiyah',\n",
       " 'darya khan mari',\n",
       " 'meulaboh',\n",
       " 'teya',\n",
       " 'manaure',\n",
       " 'berlevag',\n",
       " 'sijunjung',\n",
       " 'hasaki',\n",
       " 'olinda',\n",
       " 'lata',\n",
       " 'nhulunbuy',\n",
       " 'seymchan',\n",
       " 'tirumullaivasal',\n",
       " 'denholm',\n",
       " 'troy',\n",
       " 'bandarbeyla',\n",
       " 'finnsnes',\n",
       " 'karkaralinsk',\n",
       " 'natal',\n",
       " 'san patricio',\n",
       " 'dingle',\n",
       " 'axim',\n",
       " 'kommunisticheskiy',\n",
       " 'severo-kurilsk',\n",
       " 'maningrida',\n",
       " 'gat',\n",
       " 'mongo',\n",
       " 'alofi',\n",
       " 'afua',\n",
       " 'inhambane',\n",
       " 'dyersburg',\n",
       " 'luderitz',\n",
       " 'puerto carreno',\n",
       " 'tayturka',\n",
       " 'marcona',\n",
       " 'cidreira',\n",
       " 'fortuna',\n",
       " 'kontagora',\n",
       " 'dunda',\n",
       " 'ust-ordynskiy',\n",
       " 'guamuchil',\n",
       " 'coihaique',\n",
       " 'luau',\n",
       " 'shimoda',\n",
       " 'oktyabrskoye',\n",
       " 'meadville',\n",
       " 'lac du bonnet',\n",
       " 'esso',\n",
       " 'surdulica',\n",
       " 'pisco',\n",
       " 'casper',\n",
       " 'khandyga',\n",
       " 'isangel',\n",
       " 'asau',\n",
       " 'pangnirtung',\n",
       " 'chardara',\n",
       " 'xianyang',\n",
       " 'boralday',\n",
       " 'henderson',\n",
       " 'hualmay',\n",
       " 'nilanga',\n",
       " 'palaikastron',\n",
       " 'abu dhabi',\n",
       " 'obera',\n",
       " 'ostrovnoy',\n",
       " 'kavaratti',\n",
       " 'shelburne',\n",
       " 'dekoa',\n",
       " 'beyneu',\n",
       " 'vrangel',\n",
       " 'daru',\n",
       " 'mosalsk',\n",
       " 'longhua',\n",
       " 'loksa',\n",
       " 'san jeronimo',\n",
       " 'kawana waters',\n",
       " 'paita',\n",
       " 'kokkola',\n",
       " 'camana',\n",
       " 'kulebaki',\n",
       " 'vestmannaeyjar',\n",
       " 'lalibela',\n",
       " 'bontang',\n",
       " 'alora',\n",
       " 'mnogovershinnyy',\n",
       " 'avesta',\n",
       " 'nova vicosa',\n",
       " 'qax',\n",
       " 'harper',\n",
       " 'kutum',\n",
       " 'naze',\n",
       " 'guerrero negro',\n",
       " 'balabac',\n",
       " 'naftah',\n",
       " 'eyl',\n",
       " 'petropavlovsk-kamchatskiy',\n",
       " 'usolye',\n",
       " 'miri',\n",
       " 'ngukurr',\n",
       " 'sidney',\n",
       " 'nelson bay',\n",
       " 'aldan',\n",
       " 'sena madureira',\n",
       " 'rassvet',\n",
       " 'college',\n",
       " 'gandu',\n",
       " 'san rafael',\n",
       " 'orikum',\n",
       " 'semnan',\n",
       " 'vacha',\n",
       " 'aracati',\n",
       " 'ayagoz',\n",
       " 'beyla',\n",
       " 'fangshan',\n",
       " 'labuhan',\n",
       " 'zakharovo',\n",
       " 'veraval',\n",
       " 'dalvik',\n",
       " 'tura',\n",
       " 'mantua',\n",
       " 'geraldton',\n",
       " 'shakawe',\n",
       " 'tarauaca',\n",
       " 'bandar',\n",
       " 'victoria point',\n",
       " 'umzimvubu',\n",
       " 'rungata',\n",
       " 'novopokrovka',\n",
       " 'pontes e lacerda',\n",
       " 'viedma',\n",
       " 'chabahar',\n",
       " 'anchorage',\n",
       " 'ranfurly',\n",
       " 'saraland',\n",
       " 'aden',\n",
       " 'luang prabang',\n",
       " 'tuensang',\n",
       " 'odienne',\n",
       " 'saint anthony',\n",
       " 'mayo',\n",
       " 'chapais',\n",
       " 'glodeanul sarat',\n",
       " 'evensk',\n",
       " 'nizhniy baskunchak',\n",
       " 'russell',\n",
       " 'barra do corda',\n",
       " 'villazon',\n",
       " 'knysna',\n",
       " 'yirol',\n",
       " 'port blair',\n",
       " 'manggar',\n",
       " 'pokhvistnevo',\n",
       " 'saint-louis',\n",
       " 'phalombe',\n",
       " 'dasoguz',\n",
       " 'krasnokamensk',\n",
       " 'mutsamudu',\n",
       " 'winnemucca',\n",
       " 'oconomowoc',\n",
       " 'jinchang',\n",
       " 'chengde',\n",
       " 'hambantota',\n",
       " 'la asuncion',\n",
       " 'san francisco',\n",
       " 'praia',\n",
       " 'timra',\n",
       " 'morwell',\n",
       " 'olafsvik',\n",
       " 'usinsk',\n",
       " 'grand gaube',\n",
       " 'konevo',\n",
       " 'omsukchan',\n",
       " 'ratnagiri',\n",
       " 'abu zabad',\n",
       " 'overyata',\n",
       " 'san quintin',\n",
       " 'honiara',\n",
       " 'sawakin',\n",
       " 'saint-augustin',\n",
       " 'ayia galini',\n",
       " 'tayu',\n",
       " 'marawi',\n",
       " 'esna',\n",
       " 'port hedland',\n",
       " 'maun',\n",
       " 'faratsiho',\n",
       " 'tadine',\n",
       " 'sinkat',\n",
       " 'peniche',\n",
       " 'harlingen',\n",
       " 'husavik',\n",
       " 'sotnikovskoye',\n",
       " 'mizdah',\n",
       " 'hella',\n",
       " 'yerbogachen',\n",
       " 'santa maria',\n",
       " 'aykhal',\n",
       " 'cumaribo',\n",
       " 'lorengau',\n",
       " 'kiama',\n",
       " 'lafia',\n",
       " 'montepuez',\n",
       " 'marigot',\n",
       " 'kautokeino',\n",
       " 'mikhaylovka',\n",
       " 'krasnorechenskiy',\n",
       " 'waipawa',\n",
       " 'hearst',\n",
       " 'urdzhar',\n",
       " 'caravelas',\n",
       " 'kaifeng',\n",
       " 'micheweni',\n",
       " 'kingsville',\n",
       " 'butembo',\n",
       " 'tilichiki',\n",
       " 'zhigansk',\n",
       " 'svolvaer',\n",
       " 'tomatlan',\n",
       " 'bafra',\n",
       " 'nefteyugansk',\n",
       " 'srednekolymsk',\n",
       " 'la ronge',\n",
       " 'zonguldak',\n",
       " 'eskilstuna',\n",
       " 'baraboo',\n",
       " 'san blas',\n",
       " 'tchaourou',\n",
       " 'darab',\n",
       " 'goderich',\n",
       " 'shahr-e babak',\n",
       " 'ponnani',\n",
       " 'vila velha',\n",
       " 'suntar',\n",
       " 'tono',\n",
       " 'olavarria',\n",
       " 'coahuayana',\n",
       " 'melito di porto salvo',\n",
       " 'khorixas',\n",
       " 'kholmogory',\n",
       " 'yei',\n",
       " 'paracuru',\n",
       " 'acopiara',\n",
       " 'faya',\n",
       " 'outlook',\n",
       " 'sangar',\n",
       " 'beckley',\n",
       " 'prosperidad',\n",
       " 'ekhabi',\n",
       " 'pyinmana',\n",
       " 'ilabaya',\n",
       " 'zhanjiang',\n",
       " 'alamogordo',\n",
       " 'novodmitriyevskaya',\n",
       " 'joshimath',\n",
       " 'sao jose da coroa grande',\n",
       " 'pochutla',\n",
       " 'upington',\n",
       " 'borogontsy',\n",
       " 'ballina',\n",
       " 'shingu',\n",
       " 'barkly west',\n",
       " 'bargal',\n",
       " 'mujiayingzi',\n",
       " 'terme',\n",
       " 'cockburn harbour',\n",
       " 'altamont',\n",
       " 'bam',\n",
       " 'farah',\n",
       " 'paramaribo',\n",
       " 'da nang',\n",
       " 'burnie',\n",
       " 'arona',\n",
       " 'mocambique',\n",
       " 'pemangkat',\n",
       " 'tecoanapa',\n",
       " 'muli',\n",
       " 'dergachi']"
      ]
     },
     "execution_count": 30,
     "metadata": {},
     "output_type": "execute_result"
    }
   ],
   "source": [
    "cities"
   ]
  },
  {
   "cell_type": "code",
   "execution_count": 186,
   "metadata": {},
   "outputs": [],
   "source": [
    "original_cities = cities\n",
    "cities =[\"London\", \"Boston\",\"Cape Town\", \"Sydney\", \"Rachel City\"]"
   ]
  },
  {
   "cell_type": "markdown",
   "metadata": {},
   "source": [
    "## Perform API Calls\n",
    "* Perform a weather check on each city using a series of successive API calls.\n",
    "* Include a print log of each city as it'sbeing processed (with the city number and city name).\n"
   ]
  },
  {
   "cell_type": "code",
   "execution_count": 153,
   "metadata": {},
   "outputs": [],
   "source": [
    "# Save config information.\n",
    "url = \"http://api.openweathermap.org/data/2.5/weather?\"\n",
    "units = \"imperial\"\n",
    "\n",
    "# Build partial query URL. PUT THIS IN FOR LOOP.\n",
    "query_url = url + \"appid=\"+ weather_api_key + \"&q=\" + city\n"
   ]
  },
  {
   "cell_type": "code",
   "execution_count": 154,
   "metadata": {},
   "outputs": [
    {
     "name": "stdout",
     "output_type": "stream",
     "text": [
      "{\n",
      "  \"coord\": {\n",
      "    \"lon\": -0.13,\n",
      "    \"lat\": 51.51\n",
      "  },\n",
      "  \"weather\": [\n",
      "    {\n",
      "      \"id\": 804,\n",
      "      \"main\": \"Clouds\",\n",
      "      \"description\": \"overcast clouds\",\n",
      "      \"icon\": \"04n\"\n",
      "    }\n",
      "  ],\n",
      "  \"base\": \"stations\",\n",
      "  \"main\": {\n",
      "    \"temp\": 49.64,\n",
      "    \"feels_like\": 44.89,\n",
      "    \"temp_min\": 48.99,\n",
      "    \"temp_max\": 51.8,\n",
      "    \"pressure\": 1025,\n",
      "    \"humidity\": 71\n",
      "  },\n",
      "  \"visibility\": 10000,\n",
      "  \"wind\": {\n",
      "    \"speed\": 4.7,\n",
      "    \"deg\": 0\n",
      "  },\n",
      "  \"clouds\": {\n",
      "    \"all\": 85\n",
      "  },\n",
      "  \"dt\": 1602786556,\n",
      "  \"sys\": {\n",
      "    \"type\": 1,\n",
      "    \"id\": 1414,\n",
      "    \"country\": \"GB\",\n",
      "    \"sunrise\": 1602743091,\n",
      "    \"sunset\": 1602781635\n",
      "  },\n",
      "  \"timezone\": 3600,\n",
      "  \"id\": 2643743,\n",
      "  \"name\": \"London\",\n",
      "  \"cod\": 200\n",
      "}\n"
     ]
    }
   ],
   "source": [
    "# #Looking at json print to see categories on test city, London\n",
    "test_query_url = f\"{url}appid={weather_api_key}&units={units}&q={testcity}\"\n",
    "testcity = \"London\"\n",
    "weather_response = requests.get(test_query_url)\n",
    "weather_json = weather_response.json()\n",
    "print(json.dumps(weather_json, indent=2))"
   ]
  },
  {
   "cell_type": "code",
   "execution_count": 187,
   "metadata": {},
   "outputs": [
    {
     "name": "stdout",
     "output_type": "stream",
     "text": [
      "Beginning Data Retrieval\n",
      "------------------------\n",
      "Processing Record 1 of Set 1 | London\n",
      "Processing Record 2 of Set 1 | Boston\n",
      "Processing Record 3 of Set 1 | Cape Town\n",
      "Processing Record 4 of Set 1 | Sydney\n",
      "City Rachel City not found. Skipping...\n",
      "-----------------------\n",
      "Data Retrieval Complete\n",
      "-----------------------\n"
     ]
    }
   ],
   "source": [
    "#Lists to hold response information:\n",
    "\n",
    "cityname = []\n",
    "lat = []\n",
    "lng = []\n",
    "maxtemp = []\n",
    "humidity = []\n",
    "cloudiness = []\n",
    "windspeed = []\n",
    "country = []\n",
    "date = []\n",
    "\n",
    "#City and set counters initializing\n",
    "counter = 0\n",
    "setnumber = 1\n",
    "\n",
    "#Loop through the city list and perform data requests\n",
    "print(\"Beginning Data Retrieval\")\n",
    "print(\"------------------------\")\n",
    "for city in cities:\n",
    "    query_url = url + \"appid=\"+ weather_api_key + \"&q=\" + city + \"&units=\" +\"imperial\"\n",
    "    try:\n",
    "        response=requests.get(query_url).json()\n",
    "        cityname.append(response[\"name\"])\n",
    "        lat.append(response[\"coord\"][\"lat\"])\n",
    "        lng.append(response[\"coord\"][\"lon\"])\n",
    "        maxtemp.append(response[\"main\"][\"temp_max\"])\n",
    "        humidity.append(response[\"main\"][\"humidity\"])\n",
    "        cloudiness.append(response[\"clouds\"][\"all\"])\n",
    "        windspeed.append(response[\"wind\"][\"speed\"])\n",
    "        country.append(response[\"sys\"][\"country\"])\n",
    "        date.append(response[\"dt\"])\n",
    "        \n",
    "        #Including the counters within the for loop so the print statement updates\n",
    "        if counter == 50:\n",
    "            counter = 1\n",
    "            setnumber += 1\n",
    "\n",
    "        else:\n",
    "            counter += 1\n",
    "\n",
    "        \n",
    "        #Printing each record for every city\n",
    "        print(f\"Processing Record {counter} of Set {setnumber} | {city}\")\n",
    "        \n",
    "        time.sleep(1)\n",
    "    except:\n",
    "        print(f\"City {city} not found. Skipping...\")\n",
    "print(\"-----------------------\")\n",
    "print(\"Data Retrieval Complete\")\n",
    "print(\"-----------------------\")"
   ]
  },
  {
   "cell_type": "code",
   "execution_count": 156,
   "metadata": {},
   "outputs": [
    {
     "name": "stdout",
     "output_type": "stream",
     "text": [
      "3\n",
      "3\n",
      "3\n",
      "3\n",
      "3\n",
      "3\n",
      "3\n",
      "3\n",
      "3\n"
     ]
    }
   ],
   "source": [
    "#Checking array length for dataframe assembly\n",
    "print(len(cityname))\n",
    "print(len(lat))\n",
    "print(len(lng))\n",
    "print(len(maxtemp))\n",
    "print(len(humidity))\n",
    "print(len(cloudiness))\n",
    "print(len(windspeed))\n",
    "print(len(country))\n",
    "print(len(date))"
   ]
  },
  {
   "cell_type": "code",
   "execution_count": null,
   "metadata": {},
   "outputs": [],
   "source": []
  },
  {
   "cell_type": "code",
   "execution_count": 13,
   "metadata": {
    "scrolled": true
   },
   "outputs": [
    {
     "name": "stdout",
     "output_type": "stream",
     "text": [
      "Beginning Data Retrieval     \n",
      "-----------------------------\n",
      "Processing Record 1 of Set 1 | butaritari\n",
      "Processing Record 2 of Set 1 | yerbogachen\n",
      "Processing Record 3 of Set 1 | cape town\n",
      "Processing Record 4 of Set 1 | touba\n",
      "Processing Record 5 of Set 1 | jamestown\n",
      "Processing Record 6 of Set 1 | rio grande\n",
      "Processing Record 7 of Set 1 | ibra\n",
      "Processing Record 8 of Set 1 | port elizabeth\n",
      "Processing Record 9 of Set 1 | tuktoyaktuk\n",
      "Processing Record 10 of Set 1 | avarua\n",
      "Processing Record 11 of Set 1 | nemuro\n",
      "Processing Record 12 of Set 1 | morgan city\n",
      "Processing Record 13 of Set 1 | hobart\n",
      "Processing Record 14 of Set 1 | kawalu\n",
      "Processing Record 15 of Set 1 | hami\n",
      "Processing Record 16 of Set 1 | ushuaia\n",
      "Processing Record 17 of Set 1 | katsuura\n",
      "Processing Record 18 of Set 1 | hjallerup\n",
      "Processing Record 19 of Set 1 | punta arenas\n",
      "Processing Record 20 of Set 1 | bengkulu\n",
      "Processing Record 21 of Set 1 | victoria\n",
      "Processing Record 22 of Set 1 | rangapara\n",
      "Processing Record 23 of Set 1 | hithadhoo\n",
      "Processing Record 24 of Set 1 | khatanga\n",
      "Processing Record 25 of Set 1 | saint-philippe\n",
      "Processing Record 26 of Set 1 | rikitea\n",
      "Processing Record 27 of Set 1 | ust-kamchatsk\n",
      "City not found. Skipping...\n",
      "Processing Record 28 of Set 1 | kota bahru\n",
      "Processing Record 29 of Set 1 | rocha\n",
      "Processing Record 30 of Set 1 | lebu\n",
      "Processing Record 31 of Set 1 | umm lajj\n",
      "Processing Record 32 of Set 1 | zvenyhorodka\n",
      "Processing Record 33 of Set 1 | mataura\n",
      "Processing Record 34 of Set 1 | albany\n",
      "Processing Record 35 of Set 1 | illoqqortoormiut\n",
      "City not found. Skipping...\n",
      "Processing Record 36 of Set 1 | east london\n",
      "Processing Record 37 of Set 1 | hermanus\n",
      "Processing Record 38 of Set 1 | bluff\n",
      "Processing Record 39 of Set 1 | ayan\n",
      "Processing Record 40 of Set 1 | cherskiy\n",
      "Processing Record 41 of Set 1 | mount isa\n",
      "Processing Record 42 of Set 1 | beringovskiy\n",
      "Processing Record 43 of Set 1 | shu\n",
      "Processing Record 44 of Set 1 | severo-kurilsk\n",
      "Processing Record 45 of Set 1 | busselton\n",
      "Processing Record 46 of Set 1 | tasiilaq\n",
      "Processing Record 47 of Set 1 | tarudant\n",
      "City not found. Skipping...\n",
      "Processing Record 48 of Set 1 | qaanaaq\n",
      "Processing Record 49 of Set 1 | bandarbeyla\n",
      "Processing Record 50 of Set 1 | isla vista\n",
      "Processing Record 0 of Set 2 | arroyo\n",
      "Processing Record 1 of Set 2 | grand river south east\n",
      "City not found. Skipping...\n",
      "Processing Record 2 of Set 2 | tura\n",
      "Processing Record 3 of Set 2 | nizhneyansk\n",
      "City not found. Skipping...\n",
      "Processing Record 4 of Set 2 | caimito\n",
      "Processing Record 5 of Set 2 | amalapuram\n",
      "Processing Record 6 of Set 2 | moree\n",
      "Processing Record 7 of Set 2 | chuy\n",
      "Processing Record 8 of Set 2 | san patricio\n",
      "Processing Record 9 of Set 2 | kiunga\n",
      "Processing Record 10 of Set 2 | antalaha\n",
      "Processing Record 11 of Set 2 | vaitupu\n",
      "City not found. Skipping...\n",
      "Processing Record 12 of Set 2 | barentsburg\n",
      "City not found. Skipping...\n",
      "Processing Record 13 of Set 2 | tsihombe\n",
      "City not found. Skipping...\n",
      "Processing Record 14 of Set 2 | eureka\n",
      "Processing Record 15 of Set 2 | ust-maya\n",
      "Processing Record 16 of Set 2 | barraute\n",
      "Processing Record 17 of Set 2 | castro\n",
      "Processing Record 18 of Set 2 | saint george\n",
      "Processing Record 19 of Set 2 | marcona\n",
      "City not found. Skipping...\n",
      "Processing Record 20 of Set 2 | farafangana\n",
      "Processing Record 21 of Set 2 | mporokoso\n",
      "Processing Record 22 of Set 2 | leningradskiy\n",
      "Processing Record 23 of Set 2 | hamilton\n",
      "Processing Record 24 of Set 2 | yumen\n",
      "Processing Record 25 of Set 2 | vao\n",
      "Processing Record 26 of Set 2 | saldanha\n",
      "Processing Record 27 of Set 2 | bolungarvik\n",
      "City not found. Skipping...\n",
      "Processing Record 28 of Set 2 | shenzhen\n",
      "Processing Record 29 of Set 2 | dingle\n",
      "Processing Record 30 of Set 2 | labuhan\n",
      "Processing Record 31 of Set 2 | isangel\n",
      "Processing Record 32 of Set 2 | salalah\n",
      "Processing Record 33 of Set 2 | zhangjiakou\n",
      "Processing Record 34 of Set 2 | olga\n",
      "Processing Record 35 of Set 2 | luganville\n",
      "Processing Record 36 of Set 2 | jinchang\n",
      "Processing Record 37 of Set 2 | lagoa\n",
      "Processing Record 38 of Set 2 | strezhevoy\n",
      "Processing Record 39 of Set 2 | bauchi\n",
      "Processing Record 40 of Set 2 | shimoda\n",
      "Processing Record 41 of Set 2 | kieta\n",
      "Processing Record 42 of Set 2 | tidore\n",
      "City not found. Skipping...\n",
      "Processing Record 43 of Set 2 | poum\n",
      "Processing Record 44 of Set 2 | san cristobal\n",
      "Processing Record 45 of Set 2 | vaini\n",
      "Processing Record 46 of Set 2 | pisco\n",
      "Processing Record 47 of Set 2 | kruisfontein\n",
      "Processing Record 48 of Set 2 | conde\n",
      "Processing Record 49 of Set 2 | sal rei\n",
      "Processing Record 0 of Set 3 | dikson\n",
      "Processing Record 1 of Set 3 | sentyabrskiy\n",
      "City not found. Skipping...\n",
      "Processing Record 2 of Set 3 | kapaa\n",
      "Processing Record 3 of Set 3 | samarinda\n",
      "Processing Record 4 of Set 3 | mwinilunga\n",
      "Processing Record 5 of Set 3 | chernyshkovskiy\n",
      "Processing Record 6 of Set 3 | takapau\n",
      "Processing Record 7 of Set 3 | hilo\n",
      "Processing Record 8 of Set 3 | kysyl-syr\n",
      "Processing Record 9 of Set 3 | butembo\n",
      "Processing Record 10 of Set 3 | narsaq\n",
      "Processing Record 11 of Set 3 | sao filipe\n",
      "Processing Record 12 of Set 3 | mahebourg\n",
      "Processing Record 13 of Set 3 | oktyabrskiy\n",
      "Processing Record 14 of Set 3 | malanje\n",
      "Processing Record 15 of Set 3 | topolog\n",
      "Processing Record 16 of Set 3 | bogorodskoye\n",
      "Processing Record 17 of Set 3 | thompson\n",
      "Processing Record 18 of Set 3 | georgetown\n",
      "Processing Record 19 of Set 3 | barrow\n",
      "Processing Record 20 of Set 3 | saint-paul\n",
      "Processing Record 21 of Set 3 | vanavara\n",
      "Processing Record 22 of Set 3 | mitsamiouli\n",
      "Processing Record 23 of Set 3 | mar del plata\n",
      "Processing Record 24 of Set 3 | port alfred\n",
      "Processing Record 25 of Set 3 | port lincoln\n",
      "Processing Record 26 of Set 3 | yuzhno-kurilsk\n",
      "Processing Record 27 of Set 3 | bethel\n",
      "Processing Record 28 of Set 3 | bredasdorp\n",
      "Processing Record 29 of Set 3 | pevek\n",
      "Processing Record 30 of Set 3 | yellowknife\n",
      "Processing Record 31 of Set 3 | flin flon\n",
      "Processing Record 32 of Set 3 | nikolskoye\n",
      "Processing Record 33 of Set 3 | buraydah\n",
      "Processing Record 34 of Set 3 | dauphin\n",
      "Processing Record 35 of Set 3 | estelle\n",
      "Processing Record 36 of Set 3 | shonguy\n",
      "Processing Record 37 of Set 3 | berlevag\n",
      "Processing Record 38 of Set 3 | boyuibe\n",
      "Processing Record 39 of Set 3 | airai\n",
      "Processing Record 40 of Set 3 | bambous virieux\n",
      "Processing Record 41 of Set 3 | kamenskoye\n",
      "City not found. Skipping...\n",
      "Processing Record 42 of Set 3 | ikalamavony\n",
      "Processing Record 43 of Set 3 | sur\n",
      "Processing Record 44 of Set 3 | arraial do cabo\n",
      "Processing Record 45 of Set 3 | coihueco\n",
      "Processing Record 46 of Set 3 | bubaque\n",
      "Processing Record 47 of Set 3 | codrington\n",
      "Processing Record 48 of Set 3 | new norfolk\n",
      "Processing Record 49 of Set 3 | laguna\n",
      "Processing Record 0 of Set 4 | port keats\n",
      "Processing Record 1 of Set 4 | cannington\n",
      "Processing Record 2 of Set 4 | hambantota\n",
      "Processing Record 3 of Set 4 | sorland\n",
      "Processing Record 4 of Set 4 | trelew\n",
      "Processing Record 5 of Set 4 | kumbhraj\n",
      "Processing Record 6 of Set 4 | san blas\n",
      "Processing Record 7 of Set 4 | haibowan\n",
      "City not found. Skipping...\n",
      "Processing Record 8 of Set 4 | buala\n",
      "Processing Record 9 of Set 4 | ocos\n",
      "Processing Record 10 of Set 4 | vestmannaeyjar\n",
      "Processing Record 11 of Set 4 | ponta do sol\n",
      "Processing Record 12 of Set 4 | taolanaro\n",
      "City not found. Skipping...\n",
      "Processing Record 13 of Set 4 | kalaleh\n",
      "Processing Record 14 of Set 4 | tornio\n",
      "Processing Record 15 of Set 4 | bar harbor\n",
      "Processing Record 16 of Set 4 | jiangyou\n",
      "Processing Record 17 of Set 4 | xingyi\n",
      "Processing Record 18 of Set 4 | ribeira grande\n",
      "Processing Record 19 of Set 4 | misratah\n",
      "Processing Record 20 of Set 4 | haines junction\n",
      "Processing Record 21 of Set 4 | petropavlovsk-kamchatskiy\n",
      "Processing Record 22 of Set 4 | cabo san lucas\n",
      "Processing Record 23 of Set 4 | elizabeth city\n",
      "Processing Record 24 of Set 4 | baiyin\n",
      "Processing Record 25 of Set 4 | matara\n",
      "Processing Record 26 of Set 4 | ambilobe\n",
      "Processing Record 27 of Set 4 | yelizovo\n",
      "Processing Record 28 of Set 4 | messina\n",
      "Processing Record 29 of Set 4 | bajo baudo\n",
      "City not found. Skipping...\n",
      "Processing Record 30 of Set 4 | puerto ayora\n",
      "Processing Record 31 of Set 4 | malindi\n",
      "Processing Record 32 of Set 4 | plettenberg bay\n",
      "Processing Record 33 of Set 4 | lorengau\n",
      "Processing Record 34 of Set 4 | hay river\n",
      "Processing Record 35 of Set 4 | kodiak\n"
     ]
    },
    {
     "name": "stdout",
     "output_type": "stream",
     "text": [
      "Processing Record 36 of Set 4 | chimbote\n",
      "Processing Record 37 of Set 4 | kanor\n",
      "Processing Record 38 of Set 4 | san pedro de uraba\n",
      "Processing Record 39 of Set 4 | taphan hin\n",
      "Processing Record 40 of Set 4 | upernavik\n",
      "Processing Record 41 of Set 4 | matagami\n",
      "Processing Record 42 of Set 4 | terme\n",
      "Processing Record 43 of Set 4 | coria\n",
      "Processing Record 44 of Set 4 | pallasovka\n",
      "Processing Record 45 of Set 4 | asyut\n",
      "Processing Record 46 of Set 4 | cockburn town\n",
      "Processing Record 47 of Set 4 | osypenko\n",
      "Processing Record 48 of Set 4 | sioux lookout\n",
      "Processing Record 49 of Set 4 | gotsu\n",
      "Processing Record 0 of Set 5 | abadan\n",
      "Processing Record 1 of Set 5 | lewistown\n",
      "Processing Record 2 of Set 5 | toftir\n",
      "City not found. Skipping...\n",
      "Processing Record 3 of Set 5 | fortuna\n",
      "Processing Record 4 of Set 5 | ostersund\n",
      "Processing Record 5 of Set 5 | calafell\n",
      "Processing Record 6 of Set 5 | panguna\n",
      "Processing Record 7 of Set 5 | nantucket\n",
      "Processing Record 8 of Set 5 | la ronge\n",
      "Processing Record 9 of Set 5 | harper\n",
      "Processing Record 10 of Set 5 | monte azul\n",
      "Processing Record 11 of Set 5 | binga\n",
      "Processing Record 12 of Set 5 | saskylakh\n",
      "Processing Record 13 of Set 5 | ushirombo\n",
      "Processing Record 14 of Set 5 | guerrero negro\n",
      "Processing Record 15 of Set 5 | sobradinho\n",
      "Processing Record 16 of Set 5 | saint-leu\n",
      "Processing Record 17 of Set 5 | rabo de peixe\n",
      "Processing Record 18 of Set 5 | cabedelo\n",
      "Processing Record 19 of Set 5 | esperance\n",
      "Processing Record 20 of Set 5 | grand gaube\n",
      "Processing Record 21 of Set 5 | kirakira\n",
      "Processing Record 22 of Set 5 | we\n",
      "City not found. Skipping...\n",
      "Processing Record 23 of Set 5 | vardo\n",
      "Processing Record 24 of Set 5 | mosetse\n",
      "Processing Record 25 of Set 5 | storforshei\n",
      "Processing Record 26 of Set 5 | nuuk\n",
      "Processing Record 27 of Set 5 | iqaluit\n",
      "Processing Record 28 of Set 5 | samusu\n",
      "City not found. Skipping...\n",
      "Processing Record 29 of Set 5 | lang suan\n",
      "Processing Record 30 of Set 5 | carnarvon\n",
      "Processing Record 31 of Set 5 | atuona\n",
      "Processing Record 32 of Set 5 | tiksi\n",
      "Processing Record 33 of Set 5 | kasempa\n",
      "Processing Record 34 of Set 5 | maldonado\n",
      "Processing Record 35 of Set 5 | ostrovnoy\n",
      "Processing Record 36 of Set 5 | amderma\n",
      "City not found. Skipping...\n",
      "Processing Record 37 of Set 5 | tacarigua\n",
      "Processing Record 38 of Set 5 | kahului\n",
      "Processing Record 39 of Set 5 | ilulissat\n",
      "Processing Record 40 of Set 5 | sitka\n",
      "Processing Record 41 of Set 5 | maryborough\n",
      "Processing Record 42 of Set 5 | belmonte\n",
      "Processing Record 43 of Set 5 | nalut\n",
      "Processing Record 44 of Set 5 | ginda\n",
      "Processing Record 45 of Set 5 | iquique\n",
      "Processing Record 46 of Set 5 | boa vista\n",
      "Processing Record 47 of Set 5 | hofn\n",
      "Processing Record 48 of Set 5 | fowa\n",
      "Processing Record 49 of Set 5 | coquimbo\n",
      "Processing Record 0 of Set 6 | rio gallegos\n",
      "Processing Record 1 of Set 6 | saint-pierre\n",
      "Processing Record 2 of Set 6 | hargeysa\n",
      "Processing Record 3 of Set 6 | ormara\n",
      "Processing Record 4 of Set 6 | husavik\n",
      "Processing Record 5 of Set 6 | nosy varika\n",
      "Processing Record 6 of Set 6 | lanzhou\n",
      "Processing Record 7 of Set 6 | umm kaddadah\n",
      "Processing Record 8 of Set 6 | muyezerskiy\n",
      "Processing Record 9 of Set 6 | boyolangu\n",
      "Processing Record 10 of Set 6 | tuatapere\n",
      "Processing Record 11 of Set 6 | yamada\n",
      "Processing Record 12 of Set 6 | makokou\n",
      "Processing Record 13 of Set 6 | ust-kuyga\n",
      "Processing Record 14 of Set 6 | teahupoo\n",
      "Processing Record 15 of Set 6 | yele\n",
      "Processing Record 16 of Set 6 | moose factory\n",
      "Processing Record 17 of Set 6 | baglung\n",
      "Processing Record 18 of Set 6 | cidreira\n",
      "Processing Record 19 of Set 6 | tairua\n",
      "Processing Record 20 of Set 6 | souillac\n",
      "Processing Record 21 of Set 6 | salta\n",
      "Processing Record 22 of Set 6 | belushya guba\n",
      "City not found. Skipping...\n",
      "Processing Record 23 of Set 6 | vung tau\n",
      "Processing Record 24 of Set 6 | ucluelet\n",
      "Processing Record 25 of Set 6 | aksarka\n",
      "Processing Record 26 of Set 6 | fairbanks\n",
      "Processing Record 27 of Set 6 | bonavista\n",
      "Processing Record 28 of Set 6 | kayerkan\n",
      "Processing Record 29 of Set 6 | chute-aux-outardes\n",
      "Processing Record 30 of Set 6 | leh\n",
      "Processing Record 31 of Set 6 | celestun\n",
      "Processing Record 32 of Set 6 | anderson\n",
      "Processing Record 33 of Set 6 | maldaeni\n",
      "Processing Record 34 of Set 6 | umzimvubu\n",
      "City not found. Skipping...\n",
      "Processing Record 35 of Set 6 | kaitong\n",
      "Processing Record 36 of Set 6 | kondopoga\n",
      "Processing Record 37 of Set 6 | tumannyy\n",
      "City not found. Skipping...\n",
      "Processing Record 38 of Set 6 | singkang\n",
      "Processing Record 39 of Set 6 | kyra\n",
      "Processing Record 40 of Set 6 | torbay\n",
      "Processing Record 41 of Set 6 | margate\n",
      "Processing Record 42 of Set 6 | faanui\n",
      "Processing Record 43 of Set 6 | hasaki\n",
      "Processing Record 44 of Set 6 | altay\n",
      "Processing Record 45 of Set 6 | akureyri\n",
      "Processing Record 46 of Set 6 | kurumkan\n",
      "Processing Record 47 of Set 6 | miracema do tocantins\n",
      "Processing Record 48 of Set 6 | ugoofaaru\n",
      "Processing Record 49 of Set 6 | ahipara\n",
      "Processing Record 0 of Set 7 | sorkjosen\n",
      "Processing Record 1 of Set 7 | talnakh\n",
      "Processing Record 2 of Set 7 | milkovo\n",
      "Processing Record 3 of Set 7 | vanimo\n",
      "Processing Record 4 of Set 7 | majene\n",
      "Processing Record 5 of Set 7 | alta floresta\n",
      "Processing Record 6 of Set 7 | kuche\n",
      "City not found. Skipping...\n",
      "Processing Record 7 of Set 7 | bluffton\n",
      "Processing Record 8 of Set 7 | lima\n",
      "Processing Record 9 of Set 7 | adrar\n",
      "Processing Record 10 of Set 7 | katangli\n",
      "Processing Record 11 of Set 7 | fort nelson\n",
      "Processing Record 12 of Set 7 | qinggang\n",
      "Processing Record 13 of Set 7 | aklavik\n",
      "Processing Record 14 of Set 7 | paracuru\n",
      "Processing Record 15 of Set 7 | bathsheba\n",
      "Processing Record 16 of Set 7 | pacifica\n",
      "Processing Record 17 of Set 7 | sept-iles\n",
      "Processing Record 18 of Set 7 | bereda\n",
      "Processing Record 19 of Set 7 | ancud\n",
      "Processing Record 20 of Set 7 | padang\n",
      "Processing Record 21 of Set 7 | honningsvag\n",
      "Processing Record 22 of Set 7 | pilar do sul\n",
      "Processing Record 23 of Set 7 | merauke\n",
      "Processing Record 24 of Set 7 | phonhong\n",
      "Processing Record 25 of Set 7 | zhuhai\n",
      "Processing Record 26 of Set 7 | havre-saint-pierre\n",
      "Processing Record 27 of Set 7 | san quintin\n",
      "Processing Record 28 of Set 7 | neiafu\n",
      "Processing Record 29 of Set 7 | labutta\n",
      "City not found. Skipping...\n",
      "Processing Record 30 of Set 7 | karaul\n",
      "City not found. Skipping...\n",
      "Processing Record 31 of Set 7 | weligama\n",
      "Processing Record 32 of Set 7 | gat\n",
      "Processing Record 33 of Set 7 | loiza\n",
      "Processing Record 34 of Set 7 | pacific grove\n",
      "Processing Record 35 of Set 7 | gawler\n",
      "Processing Record 36 of Set 7 | mount gambier\n",
      "Processing Record 37 of Set 7 | college\n",
      "Processing Record 38 of Set 7 | tomatlan\n",
      "Processing Record 39 of Set 7 | utiroa\n",
      "City not found. Skipping...\n",
      "Processing Record 40 of Set 7 | vostok\n",
      "Processing Record 41 of Set 7 | talaya\n",
      "Processing Record 42 of Set 7 | somanda\n",
      "Processing Record 43 of Set 7 | longyearbyen\n",
      "Processing Record 44 of Set 7 | zhigansk\n",
      "Processing Record 45 of Set 7 | thinadhoo\n",
      "Processing Record 46 of Set 7 | aripuana\n",
      "Processing Record 47 of Set 7 | brownsville\n",
      "Processing Record 48 of Set 7 | yenagoa\n",
      "Processing Record 49 of Set 7 | okhotsk\n",
      "Processing Record 0 of Set 8 | astara\n",
      "Processing Record 1 of Set 8 | lac-megantic\n",
      "Processing Record 2 of Set 8 | mutare\n",
      "Processing Record 3 of Set 8 | asau\n",
      "Processing Record 4 of Set 8 | acarau\n",
      "Processing Record 5 of Set 8 | praia\n",
      "Processing Record 6 of Set 8 | artyk\n",
      "City not found. Skipping...\n",
      "Processing Record 7 of Set 8 | balabac\n",
      "Processing Record 8 of Set 8 | porto novo\n",
      "Processing Record 9 of Set 8 | los llanos de aridane\n",
      "Processing Record 10 of Set 8 | shelburne\n",
      "Processing Record 11 of Set 8 | coihaique\n",
      "Processing Record 12 of Set 8 | montepuez\n",
      "Processing Record 13 of Set 8 | batagay\n",
      "Processing Record 14 of Set 8 | geraldton\n",
      "Processing Record 15 of Set 8 | port-cartier\n",
      "Processing Record 16 of Set 8 | tsumeb\n",
      "Processing Record 17 of Set 8 | meulaboh\n",
      "Processing Record 18 of Set 8 | korla\n",
      "Processing Record 19 of Set 8 | chapais\n",
      "Processing Record 20 of Set 8 | bozeman\n",
      "Processing Record 21 of Set 8 | muli\n",
      "Processing Record 22 of Set 8 | yar-sale\n",
      "Processing Record 23 of Set 8 | northam\n",
      "Processing Record 24 of Set 8 | barawe\n",
      "City not found. Skipping...\n",
      "Processing Record 25 of Set 8 | hervey bay\n",
      "Processing Record 26 of Set 8 | uchiza\n",
      "Processing Record 27 of Set 8 | mys shmidta\n"
     ]
    },
    {
     "name": "stdout",
     "output_type": "stream",
     "text": [
      "City not found. Skipping...\n",
      "Processing Record 28 of Set 8 | porto walter\n",
      "Processing Record 29 of Set 8 | horsham\n",
      "Processing Record 30 of Set 8 | maraa\n",
      "Processing Record 31 of Set 8 | vila franca do campo\n",
      "Processing Record 32 of Set 8 | garoua\n",
      "Processing Record 33 of Set 8 | kampot\n",
      "Processing Record 34 of Set 8 | marawi\n",
      "Processing Record 35 of Set 8 | egvekinot\n",
      "Processing Record 36 of Set 8 | liverpool\n",
      "Processing Record 37 of Set 8 | sanandaj\n",
      "Processing Record 38 of Set 8 | tabou\n",
      "Processing Record 39 of Set 8 | kavieng\n",
      "Processing Record 40 of Set 8 | cap malheureux\n",
      "Processing Record 41 of Set 8 | logan\n",
      "Processing Record 42 of Set 8 | klaksvik\n",
      "Processing Record 43 of Set 8 | sisimiut\n",
      "Processing Record 44 of Set 8 | whyalla\n",
      "Processing Record 45 of Set 8 | attawapiskat\n",
      "City not found. Skipping...\n",
      "Processing Record 46 of Set 8 | hailar\n",
      "Processing Record 47 of Set 8 | ajdabiya\n",
      "Processing Record 48 of Set 8 | saint-georges\n",
      "Processing Record 49 of Set 8 | hoopstad\n",
      "Processing Record 0 of Set 9 | emerald\n",
      "Processing Record 1 of Set 9 | flinders\n",
      "Processing Record 2 of Set 9 | fare\n",
      "Processing Record 3 of Set 9 | carballo\n",
      "Processing Record 4 of Set 9 | tan an\n",
      "Processing Record 5 of Set 9 | allapalli\n",
      "Processing Record 6 of Set 9 | santa maria\n",
      "Processing Record 7 of Set 9 | sesheke\n",
      "Processing Record 8 of Set 9 | tecoanapa\n",
      "Processing Record 9 of Set 9 | gaspe\n",
      "Processing Record 10 of Set 9 | carutapera\n",
      "Processing Record 11 of Set 9 | toba\n",
      "Processing Record 12 of Set 9 | neu wulmstorf\n",
      "Processing Record 13 of Set 9 | wakkanai\n",
      "Processing Record 14 of Set 9 | pierre\n",
      "Processing Record 15 of Set 9 | rungata\n",
      "City not found. Skipping...\n",
      "Processing Record 16 of Set 9 | arica\n",
      "Processing Record 17 of Set 9 | nsoko\n",
      "Processing Record 18 of Set 9 | krasnoarmeysk\n",
      "Processing Record 19 of Set 9 | juneau\n",
      "Processing Record 20 of Set 9 | chateauroux\n",
      "Processing Record 21 of Set 9 | kloulklubed\n",
      "Processing Record 22 of Set 9 | jiaozuo\n",
      "Processing Record 23 of Set 9 | tuburan\n",
      "Processing Record 24 of Set 9 | teknaf\n",
      "Processing Record 25 of Set 9 | makakilo city\n",
      "Processing Record 26 of Set 9 | sanski most\n",
      "Processing Record 27 of Set 9 | kaitangata\n",
      "Processing Record 28 of Set 9 | hengyang\n",
      "Processing Record 29 of Set 9 | talcahuano\n",
      "Processing Record 30 of Set 9 | arawa\n",
      "Processing Record 31 of Set 9 | mercedes\n",
      "Processing Record 32 of Set 9 | chengde\n",
      "Processing Record 33 of Set 9 | stokmarknes\n",
      "Processing Record 34 of Set 9 | kalpi\n",
      "Processing Record 35 of Set 9 | valdosta\n",
      "Processing Record 36 of Set 9 | chiampo\n",
      "Processing Record 37 of Set 9 | marsa matruh\n",
      "Processing Record 38 of Set 9 | nome\n",
      "Processing Record 39 of Set 9 | careva cuprija\n",
      "Processing Record 40 of Set 9 | port macquarie\n",
      "Processing Record 41 of Set 9 | lokosovo\n",
      "Processing Record 42 of Set 9 | rawson\n",
      "Processing Record 43 of Set 9 | skelleftea\n",
      "Processing Record 44 of Set 9 | nakasongola\n",
      "Processing Record 45 of Set 9 | lompoc\n",
      "Processing Record 46 of Set 9 | nizwa\n",
      "Processing Record 47 of Set 9 | sabang\n",
      "Processing Record 48 of Set 9 | noumea\n",
      "Processing Record 49 of Set 9 | ruteng\n",
      "Processing Record 0 of Set 10 | deputatskiy\n",
      "Processing Record 1 of Set 10 | sola\n",
      "Processing Record 2 of Set 10 | nikolayevka\n",
      "Processing Record 3 of Set 10 | tabas\n",
      "Processing Record 4 of Set 10 | qianan\n",
      "Processing Record 5 of Set 10 | vila velha\n",
      "Processing Record 6 of Set 10 | isperih\n",
      "Processing Record 7 of Set 10 | hamina\n",
      "Processing Record 8 of Set 10 | turukhansk\n",
      "Processing Record 9 of Set 10 | dodge city\n",
      "Processing Record 10 of Set 10 | espinosa\n",
      "Processing Record 11 of Set 10 | hayden\n",
      "Processing Record 12 of Set 10 | maniitsoq\n",
      "Processing Record 13 of Set 10 | camacha\n",
      "Processing Record 14 of Set 10 | vikramasingapuram\n",
      "Processing Record 15 of Set 10 | nanortalik\n",
      "Processing Record 16 of Set 10 | asmar\n",
      "Processing Record 17 of Set 10 | shingu\n",
      "Processing Record 18 of Set 10 | mattru\n",
      "Processing Record 19 of Set 10 | belgaum\n",
      "Processing Record 20 of Set 10 | taoudenni\n",
      "Processing Record 21 of Set 10 | lata\n",
      "Processing Record 22 of Set 10 | sao felix do xingu\n",
      "Processing Record 23 of Set 10 | rayachoti\n",
      "Processing Record 24 of Set 10 | sakakah\n",
      "Processing Record 25 of Set 10 | chokurdakh\n",
      "Processing Record 26 of Set 10 | konibodom\n",
      "Processing Record 27 of Set 10 | mabaruma\n",
      "Processing Record 28 of Set 10 | eyl\n",
      "Processing Record 29 of Set 10 | astoria\n",
      "Processing Record 30 of Set 10 | samarai\n",
      "Processing Record 31 of Set 10 | derzhavinsk\n",
      "Processing Record 32 of Set 10 | high level\n",
      "Processing Record 33 of Set 10 | opuwo\n",
      "Processing Record 34 of Set 10 | salinopolis\n",
      "Processing Record 35 of Set 10 | waipawa\n",
      "Processing Record 36 of Set 10 | aksu\n",
      "Processing Record 37 of Set 10 | saint paul\n",
      "Processing Record 38 of Set 10 | anadyr\n",
      "Processing Record 39 of Set 10 | inhambane\n",
      "Processing Record 40 of Set 10 | sakaiminato\n",
      "Processing Record 41 of Set 10 | santa cruz\n",
      "Processing Record 42 of Set 10 | russkaya polyana\n",
      "Processing Record 43 of Set 10 | beipiao\n",
      "Processing Record 44 of Set 10 | srednekolymsk\n",
      "Processing Record 45 of Set 10 | tripoli\n",
      "Processing Record 46 of Set 10 | swift current\n",
      "Processing Record 47 of Set 10 | quatre cocos\n",
      "Processing Record 48 of Set 10 | corbelia\n",
      "Processing Record 49 of Set 10 | roma\n",
      "Processing Record 0 of Set 11 | north bend\n",
      "Processing Record 1 of Set 11 | kiama\n",
      "Processing Record 2 of Set 11 | muroto\n",
      "Processing Record 3 of Set 11 | smidovich\n",
      "Processing Record 4 of Set 11 | conceicao do araguaia\n",
      "Processing Record 5 of Set 11 | ponta pora\n",
      "Processing Record 6 of Set 11 | bogatoye\n",
      "Processing Record 7 of Set 11 | muravlenko\n",
      "Processing Record 8 of Set 11 | avera\n",
      "Processing Record 9 of Set 11 | qiongshan\n",
      "Processing Record 10 of Set 11 | saint-augustin\n",
      "Processing Record 11 of Set 11 | yilan\n",
      "Processing Record 12 of Set 11 | port blair\n",
      "Processing Record 13 of Set 11 | shakawe\n",
      "Processing Record 14 of Set 11 | alghero\n",
      "Processing Record 15 of Set 11 | bud\n",
      "Processing Record 16 of Set 11 | kazalinsk\n",
      "City not found. Skipping...\n",
      "Processing Record 17 of Set 11 | karkaralinsk\n",
      "City not found. Skipping...\n",
      "Processing Record 18 of Set 11 | nouadhibou\n",
      "Processing Record 19 of Set 11 | palabuhanratu\n",
      "City not found. Skipping...\n",
      "Processing Record 20 of Set 11 | florianopolis\n",
      "Processing Record 21 of Set 11 | linjiang\n",
      "Processing Record 22 of Set 11 | krasnoselkup\n",
      "Processing Record 23 of Set 11 | maloy\n",
      "Processing Record 24 of Set 11 | itoman\n",
      "Processing Record 25 of Set 11 | aykhal\n",
      "Processing Record 26 of Set 11 | kalmeshwar\n",
      "Processing Record 27 of Set 11 | baracoa\n",
      "Processing Record 28 of Set 11 | gairo\n",
      "Processing Record 29 of Set 11 | seymchan\n",
      "Processing Record 30 of Set 11 | klaebu\n",
      "Processing Record 31 of Set 11 | beira\n",
      "Processing Record 32 of Set 11 | lebanon\n",
      "Processing Record 33 of Set 11 | cayenne\n",
      "Processing Record 34 of Set 11 | viedma\n",
      "Processing Record 35 of Set 11 | massape\n",
      "Processing Record 36 of Set 11 | arlit\n",
      "Processing Record 37 of Set 11 | soe\n",
      "Processing Record 38 of Set 11 | kempsey\n",
      "Processing Record 39 of Set 11 | saint-jean-port-joli\n",
      "Processing Record 40 of Set 11 | coahuayana\n",
      "Processing Record 41 of Set 11 | sao jose da coroa grande\n",
      "Processing Record 42 of Set 11 | kutum\n",
      "Processing Record 43 of Set 11 | las cruces\n",
      "Processing Record 44 of Set 11 | manta\n",
      "Processing Record 45 of Set 11 | mayumba\n",
      "Processing Record 46 of Set 11 | union\n",
      "Processing Record 47 of Set 11 | brae\n",
      "Processing Record 48 of Set 11 | otane\n",
      "Processing Record 49 of Set 11 | rio muerto\n",
      "Processing Record 0 of Set 12 | polunochnoye\n",
      "Processing Record 1 of Set 12 | artigas\n",
      "Processing Record 2 of Set 12 | lalibela\n",
      "Processing Record 3 of Set 12 | castelo branco\n",
      "Processing Record 4 of Set 12 | moron\n",
      "Processing Record 5 of Set 12 | naze\n",
      "Processing Record 6 of Set 12 | natal\n",
      "Processing Record 7 of Set 12 | ijaki\n",
      "City not found. Skipping...\n",
      "Processing Record 8 of Set 12 | walvis bay\n",
      "Processing Record 9 of Set 12 | tarbagatay\n",
      "Processing Record 10 of Set 12 | kamenka\n",
      "Processing Record 11 of Set 12 | qaqortoq\n",
      "Processing Record 12 of Set 12 | gorno-chuyskiy\n",
      "City not found. Skipping...\n",
      "Processing Record 13 of Set 12 | karratha\n",
      "Processing Record 14 of Set 12 | paita\n",
      "Processing Record 15 of Set 12 | aflu\n",
      "City not found. Skipping...\n",
      "Processing Record 16 of Set 12 | kaohsiung\n",
      "Processing Record 17 of Set 12 | shache\n",
      "Processing Record 18 of Set 12 | divnoye\n"
     ]
    },
    {
     "name": "stdout",
     "output_type": "stream",
     "text": [
      "Processing Record 19 of Set 12 | barra dos coqueiros\n",
      "Processing Record 20 of Set 12 | provideniya\n",
      "Processing Record 21 of Set 12 | norman wells\n",
      "Processing Record 22 of Set 12 | yuzhno-yeniseyskiy\n",
      "City not found. Skipping...\n",
      "Processing Record 23 of Set 12 | follonica\n",
      "Processing Record 24 of Set 12 | verkhoyansk\n",
      "Processing Record 25 of Set 12 | henties bay\n",
      "Processing Record 26 of Set 12 | kudahuvadhoo\n",
      "Processing Record 27 of Set 12 | bandundu\n",
      "Processing Record 28 of Set 12 | cascais\n",
      "Processing Record 29 of Set 12 | dickinson\n",
      "Processing Record 30 of Set 12 | san benito\n",
      "Processing Record 31 of Set 12 | kenai\n",
      "Processing Record 32 of Set 12 | rio pardo de minas\n",
      "Processing Record 33 of Set 12 | erzin\n",
      "Processing Record 34 of Set 12 | san carlos del zulia\n",
      "Processing Record 35 of Set 12 | kyshtovka\n",
      "Processing Record 36 of Set 12 | zima\n",
      "Processing Record 37 of Set 12 | khandbari\n",
      "Processing Record 38 of Set 12 | salyan\n",
      "Processing Record 39 of Set 12 | saint-joseph\n",
      "Processing Record 40 of Set 12 | tocopilla\n",
      "Processing Record 41 of Set 12 | ust-nera\n",
      "Processing Record 42 of Set 12 | yangambi\n",
      "Processing Record 43 of Set 12 | lolua\n",
      "City not found. Skipping...\n",
      "Processing Record 44 of Set 12 | shirakamut\n",
      "Processing Record 45 of Set 12 | berezovyy\n",
      "Processing Record 46 of Set 12 | dunedin\n",
      "Processing Record 47 of Set 12 | bonthe\n",
      "Processing Record 48 of Set 12 | sijunjung\n",
      "Processing Record 49 of Set 12 | wulanhaote\n",
      "City not found. Skipping...\n",
      "Processing Record 0 of Set 13 | atar\n",
      "Processing Record 1 of Set 13 | fayaoue\n",
      "Processing Record 2 of Set 13 | san lawrenz\n",
      "Processing Record 3 of Set 13 | lashio\n",
      "Processing Record 4 of Set 13 | shenjiamen\n",
      "Processing Record 5 of Set 13 | longonjo\n",
      "Processing Record 6 of Set 13 | erenhot\n",
      "Processing Record 7 of Set 13 | prior lake\n",
      "Processing Record 8 of Set 13 | sao gabriel da cachoeira\n",
      "Processing Record 9 of Set 13 | billings\n",
      "Processing Record 10 of Set 13 | kalmunai\n",
      "Processing Record 11 of Set 13 | meadow lake\n",
      "Processing Record 12 of Set 13 | littleton\n",
      "Processing Record 13 of Set 13 | soloneshnoye\n",
      "Processing Record 14 of Set 13 | pravia\n",
      "Processing Record 15 of Set 13 | portland\n",
      "Processing Record 16 of Set 13 | singleton\n",
      "Processing Record 17 of Set 13 | karasjok\n",
      "Processing Record 18 of Set 13 | yaan\n",
      "Processing Record 19 of Set 13 | palauig\n",
      "Processing Record 20 of Set 13 | pochutla\n",
      "Processing Record 21 of Set 13 | obluche\n",
      "City not found. Skipping...\n",
      "Processing Record 22 of Set 13 | macusani\n",
      "Processing Record 23 of Set 13 | kaffrine\n",
      "Processing Record 24 of Set 13 | diamantina\n",
      "Processing Record 25 of Set 13 | saleaula\n",
      "City not found. Skipping...\n",
      "Processing Record 26 of Set 13 | middlebury\n",
      "Processing Record 27 of Set 13 | anju\n",
      "Processing Record 28 of Set 13 | la rioja\n",
      "Processing Record 29 of Set 13 | alofi\n",
      "Processing Record 30 of Set 13 | louisbourg\n",
      "City not found. Skipping...\n",
      "Processing Record 31 of Set 13 | palu\n",
      "Processing Record 32 of Set 13 | kuusamo\n",
      "Processing Record 33 of Set 13 | cap-aux-meules\n",
      "Processing Record 34 of Set 13 | palencia\n",
      "Processing Record 35 of Set 13 | maues\n",
      "Processing Record 36 of Set 13 | lososina\n",
      "Processing Record 37 of Set 13 | gorontalo\n",
      "Processing Record 38 of Set 13 | antalya\n",
      "Processing Record 39 of Set 13 | port hueneme\n",
      "Processing Record 40 of Set 13 | puerto colombia\n",
      "Processing Record 41 of Set 13 | sapele\n",
      "Processing Record 42 of Set 13 | bend\n",
      "-----------------------------\n",
      "Data Retrieval Complete      \n",
      "-----------------------------\n"
     ]
    }
   ],
   "source": []
  },
  {
   "cell_type": "markdown",
   "metadata": {},
   "source": [
    "## Convert Raw Data to DataFrame\n",
    "* Save as csv"
   ]
  },
  {
   "cell_type": "code",
   "execution_count": 188,
   "metadata": {},
   "outputs": [],
   "source": [
    "#Create a data frame from the following dictionary:\n",
    "\n",
    "#Dictionary\n",
    "weather_dict = {\n",
    "    \"City\": cityname,\n",
    "    \"Lat\": lat,\n",
    "    \"Lng\": lng,\n",
    "    \"Max Temp\": maxtemp,\n",
    "    \"Humidity\": humidity,\n",
    "    \"Cloudiness\": cloudiness,\n",
    "    \"Wind Speed\": windspeed,\n",
    "    \"Country\": country,\n",
    "    \"Date\": date\n",
    "}\n",
    "weather_data = pd.DataFrame(weather_dict)\n",
    "\n",
    "#Saving as csv\n",
    "weather_data.to_csv(\"Weather CSV\")"
   ]
  },
  {
   "cell_type": "code",
   "execution_count": 189,
   "metadata": {},
   "outputs": [
    {
     "data": {
      "text/html": [
       "<div>\n",
       "<style scoped>\n",
       "    .dataframe tbody tr th:only-of-type {\n",
       "        vertical-align: middle;\n",
       "    }\n",
       "\n",
       "    .dataframe tbody tr th {\n",
       "        vertical-align: top;\n",
       "    }\n",
       "\n",
       "    .dataframe thead th {\n",
       "        text-align: right;\n",
       "    }\n",
       "</style>\n",
       "<table border=\"1\" class=\"dataframe\">\n",
       "  <thead>\n",
       "    <tr style=\"text-align: right;\">\n",
       "      <th></th>\n",
       "      <th>City</th>\n",
       "      <th>Lat</th>\n",
       "      <th>Lng</th>\n",
       "      <th>Max Temp</th>\n",
       "      <th>Humidity</th>\n",
       "      <th>Cloudiness</th>\n",
       "      <th>Wind Speed</th>\n",
       "      <th>Country</th>\n",
       "      <th>Date</th>\n",
       "    </tr>\n",
       "  </thead>\n",
       "  <tbody>\n",
       "    <tr>\n",
       "      <th>0</th>\n",
       "      <td>London</td>\n",
       "      <td>51.51</td>\n",
       "      <td>-0.13</td>\n",
       "      <td>50.00</td>\n",
       "      <td>76</td>\n",
       "      <td>91</td>\n",
       "      <td>5.82</td>\n",
       "      <td>GB</td>\n",
       "      <td>1602794019</td>\n",
       "    </tr>\n",
       "    <tr>\n",
       "      <th>1</th>\n",
       "      <td>Boston</td>\n",
       "      <td>42.36</td>\n",
       "      <td>-71.06</td>\n",
       "      <td>72.00</td>\n",
       "      <td>46</td>\n",
       "      <td>40</td>\n",
       "      <td>25.28</td>\n",
       "      <td>US</td>\n",
       "      <td>1602793883</td>\n",
       "    </tr>\n",
       "    <tr>\n",
       "      <th>2</th>\n",
       "      <td>Cape Town</td>\n",
       "      <td>-33.93</td>\n",
       "      <td>18.42</td>\n",
       "      <td>61.00</td>\n",
       "      <td>77</td>\n",
       "      <td>75</td>\n",
       "      <td>16.11</td>\n",
       "      <td>ZA</td>\n",
       "      <td>1602794440</td>\n",
       "    </tr>\n",
       "    <tr>\n",
       "      <th>3</th>\n",
       "      <td>Sydney</td>\n",
       "      <td>-33.87</td>\n",
       "      <td>151.21</td>\n",
       "      <td>64.99</td>\n",
       "      <td>88</td>\n",
       "      <td>75</td>\n",
       "      <td>31.09</td>\n",
       "      <td>AU</td>\n",
       "      <td>1602794341</td>\n",
       "    </tr>\n",
       "  </tbody>\n",
       "</table>\n",
       "</div>"
      ],
      "text/plain": [
       "        City    Lat     Lng  Max Temp  Humidity  Cloudiness  Wind Speed  \\\n",
       "0     London  51.51   -0.13     50.00        76          91        5.82   \n",
       "1     Boston  42.36  -71.06     72.00        46          40       25.28   \n",
       "2  Cape Town -33.93   18.42     61.00        77          75       16.11   \n",
       "3     Sydney -33.87  151.21     64.99        88          75       31.09   \n",
       "\n",
       "  Country        Date  \n",
       "0      GB  1602794019  \n",
       "1      US  1602793883  \n",
       "2      ZA  1602794440  \n",
       "3      AU  1602794341  "
      ]
     },
     "execution_count": 189,
     "metadata": {},
     "output_type": "execute_result"
    }
   ],
   "source": [
    "weather_data.head()"
   ]
  },
  {
   "cell_type": "code",
   "execution_count": 15,
   "metadata": {},
   "outputs": [
    {
     "data": {
      "text/html": [
       "<div>\n",
       "<style scoped>\n",
       "    .dataframe tbody tr th:only-of-type {\n",
       "        vertical-align: middle;\n",
       "    }\n",
       "\n",
       "    .dataframe tbody tr th {\n",
       "        vertical-align: top;\n",
       "    }\n",
       "\n",
       "    .dataframe thead th {\n",
       "        text-align: right;\n",
       "    }\n",
       "</style>\n",
       "<table border=\"1\" class=\"dataframe\">\n",
       "  <thead>\n",
       "    <tr style=\"text-align: right;\">\n",
       "      <th></th>\n",
       "      <th>City</th>\n",
       "      <th>Lat</th>\n",
       "      <th>Lng</th>\n",
       "      <th>Max Temp</th>\n",
       "      <th>Humidity</th>\n",
       "      <th>Cloudiness</th>\n",
       "      <th>Wind Speed</th>\n",
       "      <th>Country</th>\n",
       "      <th>Date</th>\n",
       "    </tr>\n",
       "  </thead>\n",
       "  <tbody>\n",
       "    <tr>\n",
       "      <td>0</td>\n",
       "      <td>butaritari</td>\n",
       "      <td>3.07</td>\n",
       "      <td>172.79</td>\n",
       "      <td>83.32</td>\n",
       "      <td>74</td>\n",
       "      <td>84</td>\n",
       "      <td>10.42</td>\n",
       "      <td>KI</td>\n",
       "      <td>1593605283</td>\n",
       "    </tr>\n",
       "    <tr>\n",
       "      <td>1</td>\n",
       "      <td>yerbogachen</td>\n",
       "      <td>61.28</td>\n",
       "      <td>108.01</td>\n",
       "      <td>79.52</td>\n",
       "      <td>58</td>\n",
       "      <td>20</td>\n",
       "      <td>7.70</td>\n",
       "      <td>RU</td>\n",
       "      <td>1593605121</td>\n",
       "    </tr>\n",
       "    <tr>\n",
       "      <td>2</td>\n",
       "      <td>cape town</td>\n",
       "      <td>-33.93</td>\n",
       "      <td>18.42</td>\n",
       "      <td>73.00</td>\n",
       "      <td>77</td>\n",
       "      <td>27</td>\n",
       "      <td>4.70</td>\n",
       "      <td>ZA</td>\n",
       "      <td>1593605039</td>\n",
       "    </tr>\n",
       "    <tr>\n",
       "      <td>3</td>\n",
       "      <td>touba</td>\n",
       "      <td>8.28</td>\n",
       "      <td>-7.68</td>\n",
       "      <td>79.97</td>\n",
       "      <td>75</td>\n",
       "      <td>82</td>\n",
       "      <td>3.58</td>\n",
       "      <td>CI</td>\n",
       "      <td>1593605284</td>\n",
       "    </tr>\n",
       "    <tr>\n",
       "      <td>4</td>\n",
       "      <td>jamestown</td>\n",
       "      <td>42.10</td>\n",
       "      <td>-79.24</td>\n",
       "      <td>64.00</td>\n",
       "      <td>88</td>\n",
       "      <td>1</td>\n",
       "      <td>6.93</td>\n",
       "      <td>US</td>\n",
       "      <td>1593605284</td>\n",
       "    </tr>\n",
       "  </tbody>\n",
       "</table>\n",
       "</div>"
      ],
      "text/plain": [
       "          City    Lat     Lng  Max Temp  Humidity  Cloudiness  Wind Speed  \\\n",
       "0   butaritari   3.07  172.79     83.32        74          84       10.42   \n",
       "1  yerbogachen  61.28  108.01     79.52        58          20        7.70   \n",
       "2    cape town -33.93   18.42     73.00        77          27        4.70   \n",
       "3        touba   8.28   -7.68     79.97        75          82        3.58   \n",
       "4    jamestown  42.10  -79.24     64.00        88           1        6.93   \n",
       "\n",
       "  Country        Date  \n",
       "0      KI  1593605283  \n",
       "1      RU  1593605121  \n",
       "2      ZA  1593605039  \n",
       "3      CI  1593605284  \n",
       "4      US  1593605284  "
      ]
     },
     "execution_count": 15,
     "metadata": {},
     "output_type": "execute_result"
    }
   ],
   "source": []
  },
  {
   "cell_type": "markdown",
   "metadata": {},
   "source": [
    "## Plotting the Data\n",
    "* Use proper labeling of the plots using plot titles (including date of analysis) and axes labels.\n",
    "* Save the plotted figures as .pngs."
   ]
  },
  {
   "cell_type": "markdown",
   "metadata": {},
   "source": [
    "### Latitude vs. Temperature Plot"
   ]
  },
  {
   "cell_type": "code",
   "execution_count": 131,
   "metadata": {},
   "outputs": [
    {
     "name": "stdout",
     "output_type": "stream",
     "text": [
      "(10/15/2020)\n"
     ]
    },
    {
     "data": {
      "image/png": "[encoded data removed]",
      "text/plain": [
       "<Figure size 432x288 with 1 Axes>"
      ]
     },
     "metadata": {
      "needs_background": "light"
     },
     "output_type": "display_data"
    }
   ],
   "source": [
    "# Build a scatter plot for each data type\n",
    "plt.scatter(weather_data[\"Lat\"], weather_data[\"Max Temp\"], marker=\"o\")\n",
    "\n",
    "#Converting the unix so that it reads from the dataframe date and converts it to month/day/year\n",
    "\n",
    "todaysdate=datetime.datetime.fromtimestamp(int(date[1])).strftime('(%m/%d/%Y)')\n",
    "print(todaysdate)\n",
    "\n",
    "\n",
    "# Incorporate the other graph properties\n",
    "plt.title(\"City Latitude vs. Max Temperature \"+str(todaysdate))\n",
    "plt.ylabel(\"Max Temperature (F)\")\n",
    "plt.xlabel(\"Latitude\")\n",
    "plt.grid(True)\n",
    "\n",
    "# Save the figure\n",
    "plt.savefig(\"City Latitude vs Max Temperature.png\")\n",
    "\n",
    "# Show plot\n",
    "plt.show()"
   ]
  },
  {
   "cell_type": "code",
   "execution_count": 10,
   "metadata": {
    "scrolled": true
   },
   "outputs": [
    {
     "data": {
      "image/png": "[encoded data removed]",
      "text/plain": [
       "<Figure size 432x288 with 1 Axes>"
      ]
     },
     "metadata": {
      "needs_background": "light"
     },
     "output_type": "display_data"
    }
   ],
   "source": []
  },
  {
   "cell_type": "markdown",
   "metadata": {},
   "source": [
    "### Latitude vs. Humidity Plot"
   ]
  },
  {
   "cell_type": "code",
   "execution_count": 133,
   "metadata": {},
   "outputs": [
    {
     "name": "stdout",
     "output_type": "stream",
     "text": [
      "(10/15/2020)\n"
     ]
    },
    {
     "data": {
      "image/png": "[encoded data removed]",
      "text/plain": [
       "<Figure size 432x288 with 1 Axes>"
      ]
     },
     "metadata": {
      "needs_background": "light"
     },
     "output_type": "display_data"
    }
   ],
   "source": [
    "# Build a scatter plot for each data type\n",
    "plt.scatter(weather_data[\"Lat\"], weather_data[\"Humidity\"], marker=\"o\")\n",
    "\n",
    "#Converting the unix so that it reads from the dataframe date and converts it to month/day/year\n",
    "\n",
    "todaysdate=datetime.datetime.fromtimestamp(int(date[1])).strftime('(%m/%d/%Y)')\n",
    "print(todaysdate)\n",
    "\n",
    "\n",
    "# Incorporate the other graph properties\n",
    "plt.title(\"City Latitude vs. Humidity \"+str(todaysdate))\n",
    "plt.ylabel(\"Humidity (%))\")\n",
    "plt.xlabel(\"Latitude\")\n",
    "plt.grid(True)\n",
    "\n",
    "# Save the figure\n",
    "plt.savefig(\"City Latitude vs Humidity.png\")\n",
    "\n",
    "# Show plot\n",
    "plt.show()"
   ]
  },
  {
   "cell_type": "code",
   "execution_count": 11,
   "metadata": {},
   "outputs": [
    {
     "data": {
      "image/png": "[encoded data removed]",
      "text/plain": [
       "<Figure size 432x288 with 1 Axes>"
      ]
     },
     "metadata": {
      "needs_background": "light"
     },
     "output_type": "display_data"
    }
   ],
   "source": []
  },
  {
   "cell_type": "markdown",
   "metadata": {},
   "source": [
    "### Latitude vs. Cloudiness Plot"
   ]
  },
  {
   "cell_type": "code",
   "execution_count": 134,
   "metadata": {},
   "outputs": [
    {
     "name": "stdout",
     "output_type": "stream",
     "text": [
      "(10/15/2020)\n"
     ]
    },
    {
     "data": {
      "image/png": "[encoded data removed]",
      "text/plain": [
       "<Figure size 432x288 with 1 Axes>"
      ]
     },
     "metadata": {
      "needs_background": "light"
     },
     "output_type": "display_data"
    }
   ],
   "source": [
    "# Build a scatter plot for each data type\n",
    "plt.scatter(weather_data[\"Lat\"], weather_data[\"Cloudiness\"], marker=\"o\")\n",
    "\n",
    "#Converting the unix so that it reads from the dataframe date and converts it to month/day/year\n",
    "\n",
    "todaysdate=datetime.datetime.fromtimestamp(int(date[1])).strftime('(%m/%d/%Y)')\n",
    "print(todaysdate)\n",
    "\n",
    "\n",
    "# Incorporate the other graph properties\n",
    "plt.title(\"City Latitude vs. Cloudiness \"+str(todaysdate))\n",
    "plt.ylabel(\"Cloudiness (%))\")\n",
    "plt.xlabel(\"Latitude\")\n",
    "plt.grid(True)\n",
    "\n",
    "# Save the figure\n",
    "plt.savefig(\"City Latitude vs Cloudiness.png\")\n",
    "\n",
    "# Show plot\n",
    "plt.show()"
   ]
  },
  {
   "cell_type": "markdown",
   "metadata": {},
   "source": [
    "### Latitude vs. Wind Speed Plot"
   ]
  },
  {
   "cell_type": "code",
   "execution_count": 135,
   "metadata": {
    "scrolled": true
   },
   "outputs": [
    {
     "name": "stdout",
     "output_type": "stream",
     "text": [
      "(10/15/2020)\n"
     ]
    },
    {
     "data": {
      "image/png": "[encoded data removed]",
      "text/plain": [
       "<Figure size 432x288 with 1 Axes>"
      ]
     },
     "metadata": {
      "needs_background": "light"
     },
     "output_type": "display_data"
    }
   ],
   "source": [
    "# Build a scatter plot for each data type\n",
    "plt.scatter(weather_data[\"Lat\"], weather_data[\"Wind Speed\"], marker=\"o\")\n",
    "\n",
    "#Converting the unix so that it reads from the dataframe date and converts it to month/day/year\n",
    "\n",
    "todaysdate=datetime.datetime.fromtimestamp(int(date[1])).strftime('(%m/%d/%Y)')\n",
    "print(todaysdate)\n",
    "\n",
    "\n",
    "# Incorporate the other graph properties\n",
    "plt.title(\"City Latitude vs. Wind Speed \"+str(todaysdate))\n",
    "plt.ylabel(\"Wind Speed\")\n",
    "plt.xlabel(\"Latitude\")\n",
    "plt.grid(True)\n",
    "\n",
    "# Save the figure\n",
    "plt.savefig(\"City Latitude vs Wind Speed.png\")\n",
    "\n",
    "# Show plot\n",
    "plt.show()"
   ]
  },
  {
   "cell_type": "code",
   "execution_count": 13,
   "metadata": {},
   "outputs": [
    {
     "data": {
      "image/png": "[encoded data removed]",
      "text/plain": [
       "<Figure size 432x288 with 1 Axes>"
      ]
     },
     "metadata": {
      "needs_background": "light"
     },
     "output_type": "display_data"
    }
   ],
   "source": []
  },
  {
   "cell_type": "markdown",
   "metadata": {},
   "source": [
    "## Linear Regression"
   ]
  },
  {
   "cell_type": "markdown",
   "metadata": {},
   "source": [
    "### Write linear regression plot function (optional)"
   ]
  },
  {
   "cell_type": "code",
   "execution_count": 190,
   "metadata": {},
   "outputs": [
    {
     "data": {
      "text/html": [
       "<div>\n",
       "<style scoped>\n",
       "    .dataframe tbody tr th:only-of-type {\n",
       "        vertical-align: middle;\n",
       "    }\n",
       "\n",
       "    .dataframe tbody tr th {\n",
       "        vertical-align: top;\n",
       "    }\n",
       "\n",
       "    .dataframe thead th {\n",
       "        text-align: right;\n",
       "    }\n",
       "</style>\n",
       "<table border=\"1\" class=\"dataframe\">\n",
       "  <thead>\n",
       "    <tr style=\"text-align: right;\">\n",
       "      <th></th>\n",
       "      <th>City</th>\n",
       "      <th>Lat</th>\n",
       "      <th>Lng</th>\n",
       "      <th>Max Temp</th>\n",
       "      <th>Humidity</th>\n",
       "      <th>Cloudiness</th>\n",
       "      <th>Wind Speed</th>\n",
       "      <th>Country</th>\n",
       "      <th>Date</th>\n",
       "    </tr>\n",
       "  </thead>\n",
       "  <tbody>\n",
       "    <tr>\n",
       "      <th>2</th>\n",
       "      <td>Cape Town</td>\n",
       "      <td>-33.93</td>\n",
       "      <td>18.42</td>\n",
       "      <td>61.00</td>\n",
       "      <td>77</td>\n",
       "      <td>75</td>\n",
       "      <td>16.11</td>\n",
       "      <td>ZA</td>\n",
       "      <td>1602794440</td>\n",
       "    </tr>\n",
       "    <tr>\n",
       "      <th>3</th>\n",
       "      <td>Sydney</td>\n",
       "      <td>-33.87</td>\n",
       "      <td>151.21</td>\n",
       "      <td>64.99</td>\n",
       "      <td>88</td>\n",
       "      <td>75</td>\n",
       "      <td>31.09</td>\n",
       "      <td>AU</td>\n",
       "      <td>1602794341</td>\n",
       "    </tr>\n",
       "  </tbody>\n",
       "</table>\n",
       "</div>"
      ],
      "text/plain": [
       "        City    Lat     Lng  Max Temp  Humidity  Cloudiness  Wind Speed  \\\n",
       "2  Cape Town -33.93   18.42     61.00        77          75       16.11   \n",
       "3     Sydney -33.87  151.21     64.99        88          75       31.09   \n",
       "\n",
       "  Country        Date  \n",
       "2      ZA  1602794440  \n",
       "3      AU  1602794341  "
      ]
     },
     "execution_count": 190,
     "metadata": {},
     "output_type": "execute_result"
    }
   ],
   "source": [
    "#Creating dataframe for southern hemisphere\n",
    "southerndf=weather_data.loc[weather_data[\"Lat\"]<0]\n",
    "southerndf\n"
   ]
  },
  {
   "cell_type": "code",
   "execution_count": 162,
   "metadata": {},
   "outputs": [
    {
     "data": {
      "text/html": [
       "<div>\n",
       "<style scoped>\n",
       "    .dataframe tbody tr th:only-of-type {\n",
       "        vertical-align: middle;\n",
       "    }\n",
       "\n",
       "    .dataframe tbody tr th {\n",
       "        vertical-align: top;\n",
       "    }\n",
       "\n",
       "    .dataframe thead th {\n",
       "        text-align: right;\n",
       "    }\n",
       "</style>\n",
       "<table border=\"1\" class=\"dataframe\">\n",
       "  <thead>\n",
       "    <tr style=\"text-align: right;\">\n",
       "      <th></th>\n",
       "      <th>City</th>\n",
       "      <th>Lat</th>\n",
       "      <th>Lng</th>\n",
       "      <th>Max Temp</th>\n",
       "      <th>Humidity</th>\n",
       "      <th>Cloudiness</th>\n",
       "      <th>Wind Speed</th>\n",
       "      <th>Country</th>\n",
       "      <th>Date</th>\n",
       "    </tr>\n",
       "  </thead>\n",
       "  <tbody>\n",
       "    <tr>\n",
       "      <th>0</th>\n",
       "      <td>London</td>\n",
       "      <td>51.51</td>\n",
       "      <td>-0.13</td>\n",
       "      <td>51.80</td>\n",
       "      <td>71</td>\n",
       "      <td>85</td>\n",
       "      <td>4.7</td>\n",
       "      <td>GB</td>\n",
       "      <td>1602786556</td>\n",
       "    </tr>\n",
       "    <tr>\n",
       "      <th>1</th>\n",
       "      <td>Boston</td>\n",
       "      <td>42.36</td>\n",
       "      <td>-71.06</td>\n",
       "      <td>73.99</td>\n",
       "      <td>43</td>\n",
       "      <td>40</td>\n",
       "      <td>20.8</td>\n",
       "      <td>US</td>\n",
       "      <td>1602786578</td>\n",
       "    </tr>\n",
       "  </tbody>\n",
       "</table>\n",
       "</div>"
      ],
      "text/plain": [
       "     City    Lat    Lng  Max Temp  Humidity  Cloudiness  Wind Speed Country  \\\n",
       "0  London  51.51  -0.13     51.80        71          85         4.7      GB   \n",
       "1  Boston  42.36 -71.06     73.99        43          40        20.8      US   \n",
       "\n",
       "         Date  \n",
       "0  1602786556  \n",
       "1  1602786578  "
      ]
     },
     "execution_count": 162,
     "metadata": {},
     "output_type": "execute_result"
    }
   ],
   "source": [
    "#Creating dataframe for northern hemisphere\n",
    "northerndf=weather_data.loc[weather_data[\"Lat\"]>=0]\n",
    "northerndf\n",
    "\n"
   ]
  },
  {
   "cell_type": "markdown",
   "metadata": {},
   "source": [
    "###  Northern Hemisphere - Max Temp vs. Latitude Linear Regression"
   ]
  },
  {
   "cell_type": "code",
   "execution_count": 196,
   "metadata": {},
   "outputs": [
    {
     "data": {
      "image/png": "[encoded data removed]",
      "text/plain": [
       "<Figure size 432x288 with 1 Axes>"
      ]
     },
     "metadata": {
      "needs_background": "light"
     },
     "output_type": "display_data"
    },
    {
     "name": "stdout",
     "output_type": "stream",
     "text": [
      "rvalue: -1.0\n"
     ]
    }
   ],
   "source": [
    "#Northern Hemisphere: max temp vs latitude linear regression\n",
    "\n",
    "x_values = northerndf['Lat']\n",
    "y_values = northerndf['Max Temp']\n",
    "(slope, intercept, rvalue, pvalue, stderr) = linregress(x_values, y_values)\n",
    "regress_values = x_values * slope + intercept\n",
    "line_eq = \"y = \" + str(round(slope,2)) + \"x + \" + str(round(intercept,2))\n",
    "plt.scatter(x_values,y_values)\n",
    "plt.plot(x_values,regress_values,\"r-\")\n",
    "\n",
    "\n",
    "plt.annotate(line_eq,(20,40),fontsize=15,color=\"red\")\n",
    "plt.xlabel('Latitude')\n",
    "plt.ylabel('Max Temp (F)')\n",
    "plt.title(\"Northern Hemisphere - Max Temp vs. Latitude Linear Regression\")\n",
    "plt.xlim(0, 85)\n",
    "plt.ylim(30, 120)\n",
    "plt.show()\n",
    "\n",
    "print(\"rvalue: \" + str(rvalue))\n",
    "\n",
    "\n",
    "\n",
    "\n"
   ]
  },
  {
   "cell_type": "code",
   "execution_count": 25,
   "metadata": {},
   "outputs": [
    {
     "name": "stdout",
     "output_type": "stream",
     "text": [
      "The r-value is: 0.46937863826630627\n"
     ]
    },
    {
     "data": {
      "image/png": "[encoded data removed]",
      "text/plain": [
       "<Figure size 432x288 with 1 Axes>"
      ]
     },
     "metadata": {
      "needs_background": "light"
     },
     "output_type": "display_data"
    }
   ],
   "source": []
  },
  {
   "cell_type": "markdown",
   "metadata": {},
   "source": [
    "###  Southern Hemisphere - Max Temp vs. Latitude Linear Regression"
   ]
  },
  {
   "cell_type": "code",
   "execution_count": 195,
   "metadata": {},
   "outputs": [
    {
     "data": {
      "image/png": "[encoded data removed]",
      "text/plain": [
       "<Figure size 432x288 with 1 Axes>"
      ]
     },
     "metadata": {
      "needs_background": "light"
     },
     "output_type": "display_data"
    },
    {
     "name": "stdout",
     "output_type": "stream",
     "text": [
      "rvalue: 1.0\n"
     ]
    }
   ],
   "source": [
    "#Southern Hemisphere: max temp vs latitude linear regression\n",
    "\n",
    "x_values = southerndf['Lat']\n",
    "y_values = southerndf['Max Temp']\n",
    "(slope, intercept, rvalue, pvalue, stderr) = linregress(x_values, y_values)\n",
    "regress_values = x_values * slope + intercept\n",
    "line_eq = \"y = \" + str(round(slope,2)) + \"x + \" + str(round(intercept,2))\n",
    "plt.scatter(x_values,y_values)\n",
    "plt.plot(x_values,regress_values,\"r-\")\n",
    "\n",
    "\n",
    "plt.annotate(line_eq,(-40,90),fontsize=15,color=\"red\")\n",
    "plt.xlabel('Latitude')\n",
    "plt.ylabel('Max Temp (F)')\n",
    "plt.title(\"Southern Hemisphere - Max Temp vs. Latitude Linear Regression\")\n",
    "plt.xlim(-60, 0)\n",
    "plt.ylim(0, 110)\n",
    "plt.show()\n",
    "\n",
    "print(\"rvalue: \" + str(rvalue))\n"
   ]
  },
  {
   "cell_type": "code",
   "execution_count": 26,
   "metadata": {},
   "outputs": [
    {
     "name": "stdout",
     "output_type": "stream",
     "text": [
      "The r-value is: 0.6082708688906918\n"
     ]
    },
    {
     "data": {
      "image/png": "[encoded data removed]",
      "text/plain": [
       "<Figure size 432x288 with 1 Axes>"
      ]
     },
     "metadata": {
      "needs_background": "light"
     },
     "output_type": "display_data"
    }
   ],
   "source": []
  },
  {
   "cell_type": "markdown",
   "metadata": {},
   "source": [
    "###  Northern Hemisphere - Humidity (%) vs. Latitude Linear Regression"
   ]
  },
  {
   "cell_type": "code",
   "execution_count": 202,
   "metadata": {},
   "outputs": [
    {
     "data": {
      "image/png": "[encoded data removed]",
      "text/plain": [
       "<Figure size 432x288 with 1 Axes>"
      ]
     },
     "metadata": {
      "needs_background": "light"
     },
     "output_type": "display_data"
    },
    {
     "name": "stdout",
     "output_type": "stream",
     "text": [
      "rvalue: 1.0\n"
     ]
    }
   ],
   "source": [
    "#Northern Hemisphere: humidity vs latitude linear regression\n",
    "\n",
    "x_values = northerndf['Lat']\n",
    "y_values = northerndf['Humidity']\n",
    "(slope, intercept, rvalue, pvalue, stderr) = linregress(x_values, y_values)\n",
    "regress_values = x_values * slope + intercept\n",
    "line_eq = \"y = \" + str(round(slope,2)) + \"x + \" + str(round(intercept,2))\n",
    "plt.scatter(x_values,y_values)\n",
    "plt.plot(x_values,regress_values,\"r-\")\n",
    "\n",
    "plt.annotate(line_eq,(40,20),fontsize=15,color=\"red\")\n",
    "plt.xlabel('Latitude')\n",
    "plt.ylabel('Humidity (%)')\n",
    "plt.title(\"Northern Hemisphere - Humidity (%) vs. Latitude Linear Regression\")\n",
    "plt.xlim(-5, 85)\n",
    "plt.ylim(0, 110)\n",
    "plt.show()\n",
    "\n",
    "print(\"rvalue: \" + str(rvalue))"
   ]
  },
  {
   "cell_type": "code",
   "execution_count": 27,
   "metadata": {},
   "outputs": [
    {
     "name": "stdout",
     "output_type": "stream",
     "text": [
      "The r-value is: 0.000543987878808455\n"
     ]
    },
    {
     "data": {
      "image/png": "[encoded data removed]",
      "text/plain": [
       "<Figure size 432x288 with 1 Axes>"
      ]
     },
     "metadata": {
      "needs_background": "light"
     },
     "output_type": "display_data"
    }
   ],
   "source": []
  },
  {
   "cell_type": "markdown",
   "metadata": {},
   "source": [
    "###  Southern Hemisphere - Humidity (%) vs. Latitude Linear Regression"
   ]
  },
  {
   "cell_type": "code",
   "execution_count": 203,
   "metadata": {},
   "outputs": [
    {
     "data": {
      "image/png": "[encoded data removed]",
      "text/plain": [
       "<Figure size 432x288 with 1 Axes>"
      ]
     },
     "metadata": {
      "needs_background": "light"
     },
     "output_type": "display_data"
    },
    {
     "name": "stdout",
     "output_type": "stream",
     "text": [
      "rvalue: 1.0\n"
     ]
    }
   ],
   "source": [
    "#Southern Hemisphere: humidity vs latitude linear regression\n",
    "\n",
    "x_values = southerndf['Lat']\n",
    "y_values = southerndf['Humidity']\n",
    "(slope, intercept, rvalue, pvalue, stderr) = linregress(x_values, y_values)\n",
    "regress_values = x_values * slope + intercept\n",
    "line_eq = \"y = \" + str(round(slope,2)) + \"x + \" + str(round(intercept,2))\n",
    "plt.scatter(x_values,y_values)\n",
    "plt.plot(x_values,regress_values,\"r-\")\n",
    "\n",
    "\n",
    "plt.annotate(line_eq,(-50,20),fontsize=15,color=\"red\")\n",
    "plt.xlabel('Latitude')\n",
    "plt.ylabel('Humidity (%)')\n",
    "plt.title(\"Southern Hemisphere - Humidity (%) vs. Latitude Linear Regression\")\n",
    "plt.xlim(-60, 0)\n",
    "plt.ylim(0, 110)\n",
    "plt.show()\n",
    "\n",
    "print(\"rvalue: \" + str(rvalue))\n"
   ]
  },
  {
   "cell_type": "code",
   "execution_count": 28,
   "metadata": {},
   "outputs": [
    {
     "name": "stdout",
     "output_type": "stream",
     "text": [
      "The r-value is: 0.014985174297345524\n"
     ]
    },
    {
     "data": {
      "image/png": "[encoded data removed]",
      "text/plain": [
       "<Figure size 432x288 with 1 Axes>"
      ]
     },
     "metadata": {
      "needs_background": "light"
     },
     "output_type": "display_data"
    }
   ],
   "source": []
  },
  {
   "cell_type": "markdown",
   "metadata": {},
   "source": [
    "###  Northern Hemisphere - Cloudiness (%) vs. Latitude Linear Regression"
   ]
  },
  {
   "cell_type": "code",
   "execution_count": 184,
   "metadata": {},
   "outputs": [
    {
     "data": {
      "image/png": "[encoded data removed]",
      "text/plain": [
       "<Figure size 432x288 with 1 Axes>"
      ]
     },
     "metadata": {
      "needs_background": "light"
     },
     "output_type": "display_data"
    },
    {
     "name": "stdout",
     "output_type": "stream",
     "text": [
      "rvalue: 1.0\n"
     ]
    }
   ],
   "source": [
    "#Northern Hemisphere: cloudiness vs latitude linear regression\n",
    "\n",
    "x_values = northerndf['Lat']\n",
    "y_values = northerndf['Cloudiness']\n",
    "(slope, intercept, rvalue, pvalue, stderr) = linregress(x_values, y_values)\n",
    "regress_values = x_values * slope + intercept\n",
    "line_eq = \"y = \" + str(round(slope,2)) + \"x + \" + str(round(intercept,2))\n",
    "plt.scatter(x_values,y_values)\n",
    "plt.plot(x_values,regress_values,\"r-\")\n",
    "\n",
    "plt.annotate(line_eq,(30,20),fontsize=15,color=\"red\")\n",
    "plt.xlabel('Latitude')\n",
    "plt.ylabel('Cloudiness (%)')\n",
    "plt.title(\"Northern Hemisphere - Cloudiness (%) vs. Latitude Linear Regression\")\n",
    "plt.xlim(0, 85)\n",
    "plt.ylim(0, 110)\n",
    "plt.show()\n",
    "\n",
    "print(\"rvalue: \" + str(rvalue))\n"
   ]
  },
  {
   "cell_type": "code",
   "execution_count": 29,
   "metadata": {},
   "outputs": [
    {
     "name": "stdout",
     "output_type": "stream",
     "text": [
      "The r-value is: 0.0020898727664228514\n"
     ]
    },
    {
     "data": {
      "image/png": "[encoded data removed]",
      "text/plain": [
       "<Figure size 432x288 with 1 Axes>"
      ]
     },
     "metadata": {
      "needs_background": "light"
     },
     "output_type": "display_data"
    }
   ],
   "source": []
  },
  {
   "cell_type": "markdown",
   "metadata": {},
   "source": [
    "###  Southern Hemisphere - Cloudiness (%) vs. Latitude Linear Regression"
   ]
  },
  {
   "cell_type": "code",
   "execution_count": 204,
   "metadata": {},
   "outputs": [
    {
     "data": {
      "image/png": "[encoded data removed]",
      "text/plain": [
       "<Figure size 432x288 with 1 Axes>"
      ]
     },
     "metadata": {
      "needs_background": "light"
     },
     "output_type": "display_data"
    },
    {
     "name": "stdout",
     "output_type": "stream",
     "text": [
      "rvalue: 0.0\n"
     ]
    }
   ],
   "source": [
    "#Southern Hemisphere: cloudiness vs latitude linear regression\n",
    "\n",
    "x_values = southerndf['Lat']\n",
    "y_values = southerndf['Cloudiness']\n",
    "(slope, intercept, rvalue, pvalue, stderr) = linregress(x_values, y_values)\n",
    "regress_values = x_values * slope + intercept\n",
    "line_eq = \"y = \" + str(round(slope,2)) + \"x + \" + str(round(intercept,2))\n",
    "plt.scatter(x_values,y_values)\n",
    "plt.plot(x_values,regress_values,\"r-\")\n",
    "\n",
    "\n",
    "plt.annotate(line_eq,(-30,30),fontsize=15,color=\"red\")\n",
    "plt.xlabel('Latitude')\n",
    "plt.ylabel('Cloudiness (%)')\n",
    "plt.title(\"Southern Hemisphere - Cloudiness (%) vs. Latitude Linear Regression\")\n",
    "plt.xlim(-60,0)\n",
    "plt.ylim(-5,110)\n",
    "plt.show()\n",
    "\n",
    "print(\"rvalue: \" + str(rvalue))\n"
   ]
  },
  {
   "cell_type": "code",
   "execution_count": 30,
   "metadata": {},
   "outputs": [
    {
     "name": "stdout",
     "output_type": "stream",
     "text": [
      "The r-value is: 0.0035263772085582894\n"
     ]
    },
    {
     "data": {
      "image/png": "[encoded data removed]",
      "text/plain": [
       "<Figure size 432x288 with 1 Axes>"
      ]
     },
     "metadata": {
      "needs_background": "light"
     },
     "output_type": "display_data"
    }
   ],
   "source": []
  },
  {
   "cell_type": "markdown",
   "metadata": {},
   "source": [
    "###  Northern Hemisphere - Wind Speed (mph) vs. Latitude Linear Regression"
   ]
  },
  {
   "cell_type": "code",
   "execution_count": 175,
   "metadata": {},
   "outputs": [
    {
     "data": {
      "image/png": "[encoded data removed]",
      "text/plain": [
       "<Figure size 432x288 with 1 Axes>"
      ]
     },
     "metadata": {
      "needs_background": "light"
     },
     "output_type": "display_data"
    }
   ],
   "source": [
    "#Northern Hemisphere: wind speed vs latitude linear regression\n",
    "\n",
    "x_values = northerndf['Lat']\n",
    "y_values = northerndf['Wind Speed']\n",
    "(slope, intercept, rvalue, pvalue, stderr) = linregress(x_values, y_values)\n",
    "regress_values = x_values * slope + intercept\n",
    "line_eq = \"y = \" + str(round(slope,2)) + \"x + \" + str(round(intercept,2))\n",
    "plt.scatter(x_values,y_values)\n",
    "plt.plot(x_values,regress_values,\"r-\")\n",
    "\n",
    "plt.annotate(line_eq,(46,16),fontsize=15,color=\"red\")\n",
    "plt.xlabel('Latitude')\n",
    "plt.ylabel('Wind Speed')\n",
    "plt.title(\"Northern Hemisphere - Wind Speed (mph) vs. Latitude Linear Regression\")\n",
    "plt.xlim(0, 85)\n",
    "plt.ylim(0, 35)\n",
    "plt.show()\n"
   ]
  },
  {
   "cell_type": "code",
   "execution_count": 31,
   "metadata": {},
   "outputs": [
    {
     "name": "stdout",
     "output_type": "stream",
     "text": [
      "The r-value is: 0.04019723576144484\n"
     ]
    },
    {
     "data": {
      "image/png": "[encoded data removed]",
      "text/plain": [
       "<Figure size 432x288 with 1 Axes>"
      ]
     },
     "metadata": {
      "needs_background": "light"
     },
     "output_type": "display_data"
    }
   ],
   "source": []
  },
  {
   "cell_type": "markdown",
   "metadata": {},
   "source": [
    "###  Southern Hemisphere - Wind Speed (mph) vs. Latitude Linear Regression"
   ]
  },
  {
   "cell_type": "code",
   "execution_count": 205,
   "metadata": {},
   "outputs": [
    {
     "data": {
      "image/png": "[encoded data removed]",
      "text/plain": [
       "<Figure size 432x288 with 1 Axes>"
      ]
     },
     "metadata": {
      "needs_background": "light"
     },
     "output_type": "display_data"
    },
    {
     "name": "stdout",
     "output_type": "stream",
     "text": [
      "rvalue: 1.0\n"
     ]
    }
   ],
   "source": [
    "#Southern Hemisphere: wind speed vs latitude linear regression\n",
    "\n",
    "x_values = southerndf['Lat']\n",
    "y_values = southerndf['Wind Speed']\n",
    "(slope, intercept, rvalue, pvalue, stderr) = linregress(x_values, y_values)\n",
    "regress_values = x_values * slope + intercept\n",
    "line_eq = \"y = \" + str(round(slope,2)) + \"x + \" + str(round(intercept,2))\n",
    "plt.scatter(x_values,y_values)\n",
    "plt.plot(x_values,regress_values,\"r-\")\n",
    "\n",
    "\n",
    "plt.annotate(line_eq,(-50,20),fontsize=15,color=\"red\")\n",
    "plt.xlabel('Latitude')\n",
    "plt.ylabel('Wind Speed (mph)')\n",
    "plt.title(\"Southern Hemisphere - Wind Speed (mph) vs. Latitude Linear Regression\")\n",
    "plt.xlim(-60, 0)\n",
    "plt.ylim(0, 50)\n",
    "plt.show()\n",
    "\n",
    "print(\"rvalue: \" + str(rvalue))\n"
   ]
  },
  {
   "cell_type": "code",
   "execution_count": 32,
   "metadata": {},
   "outputs": [
    {
     "name": "stdout",
     "output_type": "stream",
     "text": [
      "The r-value is: 0.017128274759839232\n"
     ]
    },
    {
     "data": {
      "image/png": "[encoded data removed]",
      "text/plain": [
       "<Figure size 432x288 with 1 Axes>"
      ]
     },
     "metadata": {
      "needs_background": "light"
     },
     "output_type": "display_data"
    }
   ],
   "source": []
  },
  {
   "cell_type": "code",
   "execution_count": null,
   "metadata": {},
   "outputs": [],
   "source": []
  }
 ],
 "metadata": {
  "anaconda-cloud": {},
  "kernel_info": {
   "name": "python3"
  },
  "kernelspec": {
   "display_name": "Python 3",
   "language": "python",
   "name": "python3"
  },
  "language_info": {
   "codemirror_mode": {
    "name": "ipython",
    "version": 3
   },
   "file_extension": ".py",
   "mimetype": "text/x-python",
   "name": "python",
   "nbconvert_exporter": "python",
   "pygments_lexer": "ipython3",
   "version": "3.6.10"
  },
  "latex_envs": {
   "LaTeX_envs_menu_present": true,
   "autoclose": false,
   "autocomplete": true,
   "bibliofile": "biblio.bib",
   "cite_by": "apalike",
   "current_citInitial": 1,
   "eqLabelWithNumbers": true,
   "eqNumInitial": 1,
   "hotkeys": {
    "equation": "Ctrl-E",
    "itemize": "Ctrl-I"
   },
   "labels_anchors": false,
   "latex_user_defs": false,
   "report_style_numbering": false,
   "user_envs_cfg": false
  },
  "nteract": {
   "version": "0.12.3"
  },
  "toc": {
   "base_numbering": 1,
   "nav_menu": {},
   "number_sections": true,
   "sideBar": true,
   "skip_h1_title": false,
   "title_cell": "Table of Contents",
   "title_sidebar": "Contents",
   "toc_cell": false,
   "toc_position": {},
   "toc_section_display": true,
   "toc_window_display": false
  },
  "varInspector": {
   "cols": {
    "lenName": 16,
    "lenType": 16,
    "lenVar": 40
   },
   "kernels_config": {
    "python": {
     "delete_cmd_postfix": "",
     "delete_cmd_prefix": "del ",
     "library": "var_list.py",
     "varRefreshCmd": "print(var_dic_list())"
    },
    "r": {
     "delete_cmd_postfix": ") ",
     "delete_cmd_prefix": "rm(",
     "library": "var_list.r",
     "varRefreshCmd": "cat(var_dic_list()) "
    }
   },
   "types_to_exclude": [
    "module",
    "function",
    "builtin_function_or_method",
    "instance",
    "_Feature"
   ],
   "window_display": false
  }
 },
 "nbformat": 4,
 "nbformat_minor": 2
}
