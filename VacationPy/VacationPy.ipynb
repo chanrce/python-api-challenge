{
 "cells": [
  {
   "cell_type": "markdown",
   "metadata": {},
   "source": [
    "# VacationPy\n",
    "----\n",
    "\n",
    "#### Note\n",
    "* Keep an eye on your API usage. Use https://developers.google.com/maps/reporting/gmp-reporting as reference for how to monitor your usage and billing.\n",
    "\n",
    "* Instructions have been included for each segment. You do not have to follow them exactly, but they are included to help you think through the steps."
   ]
  },
  {
   "cell_type": "code",
   "execution_count": 7,
   "metadata": {},
   "outputs": [],
   "source": [
    "# Dependencies and Setup\n",
    "import matplotlib.pyplot as plt\n",
    "import pandas as pd\n",
    "import numpy as np\n",
    "import requests\n",
    "import gmaps\n",
    "import os\n",
    "\n",
    "# Import API key\n",
    "from api_keys_2 import g_key\n",
    "\n",
    "#configure gmaps\n",
    "gmaps.configure(api_key=g_key)"
   ]
  },
  {
   "cell_type": "markdown",
   "metadata": {},
   "source": [
    "### Store Part I results into DataFrame\n",
    "* Load the csv exported in Part I to a DataFrame"
   ]
  },
  {
   "cell_type": "code",
   "execution_count": 8,
   "metadata": {},
   "outputs": [
    {
     "data": {
      "text/html": [
       "<div>\n",
       "<style scoped>\n",
       "    .dataframe tbody tr th:only-of-type {\n",
       "        vertical-align: middle;\n",
       "    }\n",
       "\n",
       "    .dataframe tbody tr th {\n",
       "        vertical-align: top;\n",
       "    }\n",
       "\n",
       "    .dataframe thead th {\n",
       "        text-align: right;\n",
       "    }\n",
       "</style>\n",
       "<table border=\"1\" class=\"dataframe\">\n",
       "  <thead>\n",
       "    <tr style=\"text-align: right;\">\n",
       "      <th></th>\n",
       "      <th>Unnamed: 0</th>\n",
       "      <th>City</th>\n",
       "      <th>Lat</th>\n",
       "      <th>Lng</th>\n",
       "      <th>Max Temp</th>\n",
       "      <th>Humidity</th>\n",
       "      <th>Cloudiness</th>\n",
       "      <th>Wind Speed</th>\n",
       "      <th>Country</th>\n",
       "      <th>Date</th>\n",
       "    </tr>\n",
       "  </thead>\n",
       "  <tbody>\n",
       "    <tr>\n",
       "      <th>0</th>\n",
       "      <td>0</td>\n",
       "      <td>Mahébourg</td>\n",
       "      <td>-20.41</td>\n",
       "      <td>57.70</td>\n",
       "      <td>75.20</td>\n",
       "      <td>73</td>\n",
       "      <td>40</td>\n",
       "      <td>5.82</td>\n",
       "      <td>MU</td>\n",
       "      <td>1602862136</td>\n",
       "    </tr>\n",
       "    <tr>\n",
       "      <th>1</th>\n",
       "      <td>1</td>\n",
       "      <td>Tasiilaq</td>\n",
       "      <td>65.61</td>\n",
       "      <td>-37.64</td>\n",
       "      <td>42.80</td>\n",
       "      <td>93</td>\n",
       "      <td>75</td>\n",
       "      <td>3.36</td>\n",
       "      <td>GL</td>\n",
       "      <td>1602862403</td>\n",
       "    </tr>\n",
       "    <tr>\n",
       "      <th>2</th>\n",
       "      <td>2</td>\n",
       "      <td>Bluff</td>\n",
       "      <td>-46.60</td>\n",
       "      <td>168.33</td>\n",
       "      <td>41.16</td>\n",
       "      <td>69</td>\n",
       "      <td>20</td>\n",
       "      <td>1.28</td>\n",
       "      <td>NZ</td>\n",
       "      <td>1602862404</td>\n",
       "    </tr>\n",
       "    <tr>\n",
       "      <th>3</th>\n",
       "      <td>3</td>\n",
       "      <td>Geraldton</td>\n",
       "      <td>-28.77</td>\n",
       "      <td>114.60</td>\n",
       "      <td>64.40</td>\n",
       "      <td>72</td>\n",
       "      <td>15</td>\n",
       "      <td>17.22</td>\n",
       "      <td>AU</td>\n",
       "      <td>1602862405</td>\n",
       "    </tr>\n",
       "    <tr>\n",
       "      <th>4</th>\n",
       "      <td>4</td>\n",
       "      <td>Mataura</td>\n",
       "      <td>-46.19</td>\n",
       "      <td>168.86</td>\n",
       "      <td>33.39</td>\n",
       "      <td>94</td>\n",
       "      <td>33</td>\n",
       "      <td>1.95</td>\n",
       "      <td>NZ</td>\n",
       "      <td>1602862406</td>\n",
       "    </tr>\n",
       "  </tbody>\n",
       "</table>\n",
       "</div>"
      ],
      "text/plain": [
       "   Unnamed: 0       City    Lat     Lng  Max Temp  Humidity  Cloudiness  \\\n",
       "0           0  Mahébourg -20.41   57.70     75.20        73          40   \n",
       "1           1   Tasiilaq  65.61  -37.64     42.80        93          75   \n",
       "2           2      Bluff -46.60  168.33     41.16        69          20   \n",
       "3           3  Geraldton -28.77  114.60     64.40        72          15   \n",
       "4           4    Mataura -46.19  168.86     33.39        94          33   \n",
       "\n",
       "   Wind Speed Country        Date  \n",
       "0        5.82      MU  1602862136  \n",
       "1        3.36      GL  1602862403  \n",
       "2        1.28      NZ  1602862404  \n",
       "3       17.22      AU  1602862405  \n",
       "4        1.95      NZ  1602862406  "
      ]
     },
     "execution_count": 8,
     "metadata": {},
     "output_type": "execute_result"
    }
   ],
   "source": [
    "#Reading from csv into dataframe using pandas\n",
    "#####MAKE SURE TO GRAB THIS CSV FROM OTHER FOLDER USING RELATIVE PATHS\n",
    "weatherdataframe = pd.read_csv(\"../WeatherPy/Weather CSV\")\n",
    "weatherdataframe.head()\n"
   ]
  },
  {
   "cell_type": "markdown",
   "metadata": {},
   "source": [
    "### Humidity Heatmap\n",
    "* Configure gmaps.\n",
    "* Use the Lat and Lng as locations and Humidity as the weight.\n",
    "* Add Heatmap layer to map."
   ]
  },
  {
   "cell_type": "code",
   "execution_count": 9,
   "metadata": {},
   "outputs": [],
   "source": [
    "#Store latitude and longitude in locations:\n",
    "locations = weatherdataframe[[\"Lat\", \"Lng\"]]\n",
    "\n",
    "#Store humidity values. Fill NaN values and convert to float.\n",
    "\n",
    "humidity = weatherdataframe[\"Humidity\"].astype(float)\n",
    "\n"
   ]
  },
  {
   "cell_type": "code",
   "execution_count": 14,
   "metadata": {},
   "outputs": [
    {
     "data": {
      "application/vnd.jupyter.widget-view+json": {
       "model_id": "9d687ae7bbb04d0bb5a74cb109a0e1f7",
       "version_major": 2,
       "version_minor": 0
      },
      "text/plain": [
       "Figure(layout=FigureLayout(height='420px'))"
      ]
     },
     "metadata": {},
     "output_type": "display_data"
    }
   ],
   "source": [
    "#Plot the heatmap\n",
    "fig = gmaps.figure()\n",
    "\n",
    "#Create heat layer\n",
    "heat_layer = gmaps.heatmap_layer(locations, weights = humidity, dissipating=False, max_intensity = 10, point_radius = 1)\n",
    "\n",
    "#Add the layer to the map\n",
    "fig.add_layer(heat_layer)\n",
    "\n",
    "#Display figure\n",
    "fig\n",
    "\n",
    "\n"
   ]
  },
  {
   "cell_type": "code",
   "execution_count": null,
   "metadata": {},
   "outputs": [],
   "source": []
  },
  {
   "cell_type": "markdown",
   "metadata": {},
   "source": [
    "### Create new DataFrame fitting weather criteria\n",
    "* Narrow down the cities to fit weather conditions.\n",
    "* Drop any rows will null values."
   ]
  },
  {
   "cell_type": "code",
   "execution_count": 21,
   "metadata": {},
   "outputs": [],
   "source": [
    "#Narrowed dataframe to find ideal weather condition: Temp\n",
    "idealtemp_df = weatherdataframe.loc[(weatherdataframe[\"Max Temp\"]<80) & (weatherdataframe[\"Max Temp\"]>70)]"
   ]
  },
  {
   "cell_type": "code",
   "execution_count": 22,
   "metadata": {},
   "outputs": [],
   "source": [
    "#Narrowed dataframe to find ideal weather condition: Wind Speed\n",
    "idealwind_df = weatherdataframe.loc[weatherdataframe[\"Wind Speed\"]<10]"
   ]
  },
  {
   "cell_type": "code",
   "execution_count": 26,
   "metadata": {},
   "outputs": [],
   "source": [
    "#Narrowed dataframe to find ideal weather condition: Zero Cloudiness\n",
    "idealwind_df = weatherdataframe.loc[weatherdataframe[\"Cloudiness\"]==0]"
   ]
  },
  {
   "cell_type": "code",
   "execution_count": 29,
   "metadata": {},
   "outputs": [
    {
     "data": {
      "text/html": [
       "<div>\n",
       "<style scoped>\n",
       "    .dataframe tbody tr th:only-of-type {\n",
       "        vertical-align: middle;\n",
       "    }\n",
       "\n",
       "    .dataframe tbody tr th {\n",
       "        vertical-align: top;\n",
       "    }\n",
       "\n",
       "    .dataframe thead th {\n",
       "        text-align: right;\n",
       "    }\n",
       "</style>\n",
       "<table border=\"1\" class=\"dataframe\">\n",
       "  <thead>\n",
       "    <tr style=\"text-align: right;\">\n",
       "      <th></th>\n",
       "      <th>Unnamed: 0</th>\n",
       "      <th>City</th>\n",
       "      <th>Lat</th>\n",
       "      <th>Lng</th>\n",
       "      <th>Max Temp</th>\n",
       "      <th>Humidity</th>\n",
       "      <th>Cloudiness</th>\n",
       "      <th>Wind Speed</th>\n",
       "      <th>Country</th>\n",
       "      <th>Date</th>\n",
       "    </tr>\n",
       "  </thead>\n",
       "  <tbody>\n",
       "    <tr>\n",
       "      <th>41</th>\n",
       "      <td>41</td>\n",
       "      <td>Marzuq</td>\n",
       "      <td>14.40</td>\n",
       "      <td>46.47</td>\n",
       "      <td>74.75</td>\n",
       "      <td>20</td>\n",
       "      <td>0</td>\n",
       "      <td>4.81</td>\n",
       "      <td>YE</td>\n",
       "      <td>1602862446</td>\n",
       "    </tr>\n",
       "    <tr>\n",
       "      <th>50</th>\n",
       "      <td>50</td>\n",
       "      <td>Mercedes</td>\n",
       "      <td>-34.65</td>\n",
       "      <td>-59.43</td>\n",
       "      <td>78.01</td>\n",
       "      <td>63</td>\n",
       "      <td>0</td>\n",
       "      <td>8.01</td>\n",
       "      <td>AR</td>\n",
       "      <td>1602862424</td>\n",
       "    </tr>\n",
       "    <tr>\n",
       "      <th>55</th>\n",
       "      <td>55</td>\n",
       "      <td>Cape Town</td>\n",
       "      <td>-33.93</td>\n",
       "      <td>18.42</td>\n",
       "      <td>78.01</td>\n",
       "      <td>29</td>\n",
       "      <td>0</td>\n",
       "      <td>8.05</td>\n",
       "      <td>ZA</td>\n",
       "      <td>1602862461</td>\n",
       "    </tr>\n",
       "    <tr>\n",
       "      <th>85</th>\n",
       "      <td>85</td>\n",
       "      <td>Along</td>\n",
       "      <td>28.17</td>\n",
       "      <td>94.77</td>\n",
       "      <td>70.79</td>\n",
       "      <td>85</td>\n",
       "      <td>0</td>\n",
       "      <td>1.79</td>\n",
       "      <td>IN</td>\n",
       "      <td>1602862495</td>\n",
       "    </tr>\n",
       "    <tr>\n",
       "      <th>313</th>\n",
       "      <td>313</td>\n",
       "      <td>Abu Kamal</td>\n",
       "      <td>34.45</td>\n",
       "      <td>40.92</td>\n",
       "      <td>76.10</td>\n",
       "      <td>23</td>\n",
       "      <td>0</td>\n",
       "      <td>6.06</td>\n",
       "      <td>SY</td>\n",
       "      <td>1602862749</td>\n",
       "    </tr>\n",
       "    <tr>\n",
       "      <th>319</th>\n",
       "      <td>319</td>\n",
       "      <td>Saldanha</td>\n",
       "      <td>-33.01</td>\n",
       "      <td>17.94</td>\n",
       "      <td>77.00</td>\n",
       "      <td>33</td>\n",
       "      <td>0</td>\n",
       "      <td>9.17</td>\n",
       "      <td>ZA</td>\n",
       "      <td>1602862756</td>\n",
       "    </tr>\n",
       "    <tr>\n",
       "      <th>350</th>\n",
       "      <td>350</td>\n",
       "      <td>General Roca</td>\n",
       "      <td>-39.03</td>\n",
       "      <td>-67.58</td>\n",
       "      <td>78.80</td>\n",
       "      <td>39</td>\n",
       "      <td>0</td>\n",
       "      <td>8.05</td>\n",
       "      <td>AR</td>\n",
       "      <td>1602862791</td>\n",
       "    </tr>\n",
       "    <tr>\n",
       "      <th>441</th>\n",
       "      <td>441</td>\n",
       "      <td>Alice Springs</td>\n",
       "      <td>-23.70</td>\n",
       "      <td>133.88</td>\n",
       "      <td>75.20</td>\n",
       "      <td>31</td>\n",
       "      <td>0</td>\n",
       "      <td>4.70</td>\n",
       "      <td>AU</td>\n",
       "      <td>1602862825</td>\n",
       "    </tr>\n",
       "  </tbody>\n",
       "</table>\n",
       "</div>"
      ],
      "text/plain": [
       "     Unnamed: 0           City    Lat     Lng  Max Temp  Humidity  Cloudiness  \\\n",
       "41           41         Marzuq  14.40   46.47     74.75        20           0   \n",
       "50           50       Mercedes -34.65  -59.43     78.01        63           0   \n",
       "55           55      Cape Town -33.93   18.42     78.01        29           0   \n",
       "85           85          Along  28.17   94.77     70.79        85           0   \n",
       "313         313      Abu Kamal  34.45   40.92     76.10        23           0   \n",
       "319         319       Saldanha -33.01   17.94     77.00        33           0   \n",
       "350         350   General Roca -39.03  -67.58     78.80        39           0   \n",
       "441         441  Alice Springs -23.70  133.88     75.20        31           0   \n",
       "\n",
       "     Wind Speed Country        Date  \n",
       "41         4.81      YE  1602862446  \n",
       "50         8.01      AR  1602862424  \n",
       "55         8.05      ZA  1602862461  \n",
       "85         1.79      IN  1602862495  \n",
       "313        6.06      SY  1602862749  \n",
       "319        9.17      ZA  1602862756  \n",
       "350        8.05      AR  1602862791  \n",
       "441        4.70      AU  1602862825  "
      ]
     },
     "execution_count": 29,
     "metadata": {},
     "output_type": "execute_result"
    }
   ],
   "source": [
    "#Combined all conditions into a single dataframe:\n",
    "\n",
    "allconditions_df= weatherdataframe.loc[(weatherdataframe[\"Max Temp\"]<80) & (weatherdataframe[\"Max Temp\"]>70) & (weatherdataframe[\"Wind Speed\"]<10) & (weatherdataframe[\"Cloudiness\"]==0)]\n",
    "\n",
    "allconditions_df\n",
    "\n",
    "\n",
    "\n",
    "\n",
    "\n"
   ]
  },
  {
   "cell_type": "code",
   "execution_count": 31,
   "metadata": {},
   "outputs": [
    {
     "data": {
      "text/plain": [
       "Unnamed: 0    8\n",
       "City          8\n",
       "Lat           8\n",
       "Lng           8\n",
       "Max Temp      8\n",
       "Humidity      8\n",
       "Cloudiness    8\n",
       "Wind Speed    8\n",
       "Country       8\n",
       "Date          8\n",
       "dtype: int64"
      ]
     },
     "execution_count": 31,
     "metadata": {},
     "output_type": "execute_result"
    }
   ],
   "source": [
    "allconditions_df.count()"
   ]
  },
  {
   "cell_type": "code",
   "execution_count": null,
   "metadata": {},
   "outputs": [],
   "source": []
  },
  {
   "cell_type": "code",
   "execution_count": null,
   "metadata": {},
   "outputs": [],
   "source": []
  },
  {
   "cell_type": "markdown",
   "metadata": {},
   "source": [
    "### Hotel Map\n",
    "* Store into variable named `hotel_df`.\n",
    "* Add a \"Hotel Name\" column to the DataFrame.\n",
    "* Set parameters to search for hotels with 5000 meters.\n",
    "* Hit the Google Places API for each city's coordinates.\n",
    "* Store the first Hotel result into the DataFrame.\n",
    "* Plot markers on top of the heatmap."
   ]
  },
  {
   "cell_type": "code",
   "execution_count": null,
   "metadata": {},
   "outputs": [],
   "source": []
  },
  {
   "cell_type": "code",
   "execution_count": null,
   "metadata": {},
   "outputs": [],
   "source": []
  },
  {
   "cell_type": "code",
   "execution_count": null,
   "metadata": {},
   "outputs": [],
   "source": [
    "# NOTE: Do not change any of the code in this cell\n",
    "\n",
    "# Using the template add the hotel marks to the heatmap\n",
    "info_box_template = \"\"\"\n",
    "<dl>\n",
    "<dt>Name</dt><dd>{Hotel Name}</dd>\n",
    "<dt>City</dt><dd>{City}</dd>\n",
    "<dt>Country</dt><dd>{Country}</dd>\n",
    "</dl>\n",
    "\"\"\"\n",
    "# Store the DataFrame Row\n",
    "# NOTE: be sure to update with your DataFrame name\n",
    "hotel_info = [info_box_template.format(**row) for index, row in hotel_df.iterrows()]\n",
    "locations = hotel_df[[\"Lat\", \"Lng\"]]"
   ]
  },
  {
   "cell_type": "code",
   "execution_count": null,
   "metadata": {},
   "outputs": [],
   "source": [
    "# Add marker layer ontop of heat map\n",
    "\n",
    "\n",
    "# Display figure\n"
   ]
  },
  {
   "cell_type": "code",
   "execution_count": null,
   "metadata": {},
   "outputs": [],
   "source": []
  }
 ],
 "metadata": {
  "kernelspec": {
   "display_name": "Python 3",
   "language": "python",
   "name": "python3"
  },
  "language_info": {
   "codemirror_mode": {
    "name": "ipython",
    "version": 3
   },
   "file_extension": ".py",
   "mimetype": "text/x-python",
   "name": "python",
   "nbconvert_exporter": "python",
   "pygments_lexer": "ipython3",
   "version": "3.6.10"
  },
  "latex_envs": {
   "LaTeX_envs_menu_present": true,
   "autoclose": false,
   "autocomplete": true,
   "bibliofile": "biblio.bib",
   "cite_by": "apalike",
   "current_citInitial": 1,
   "eqLabelWithNumbers": true,
   "eqNumInitial": 1,
   "hotkeys": {
    "equation": "Ctrl-E",
    "itemize": "Ctrl-I"
   },
   "labels_anchors": false,
   "latex_user_defs": false,
   "report_style_numbering": false,
   "user_envs_cfg": false
  }
 },
 "nbformat": 4,
 "nbformat_minor": 4
}
